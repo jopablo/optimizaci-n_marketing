{
 "cells": [
  {
   "cell_type": "markdown",
   "metadata": {},
   "source": [
    "# ¡Hola Pablo! 😊\n",
    "\n",
    "Mi nombre es **Alejandro Castellanos** y hoy tengo el placer de ser el revisor de tu proyecto.\n",
    "\n",
    "Voy a revisar todo tu código con detalle, buscando tanto los puntos fuertes como aquellos en los que podrías mejorar. Te dejaré comentarios a lo largo del notebook, destacando lo que has hecho bien y sugiriendo ajustes donde sea necesario. Si encuentro algún error, no te preocupes, te lo haré saber de forma clara y te daré información útil para que puedas corregirlo en la próxima. Si en algún punto tienes comentarios, siéntete libre de dejarlos también. Al final del notebook, te dejaré un comentario general con mi valoración del proyecto. **¡Mi objetivo es que sigas aprendiendo y mejorando con cada paso!**\n",
    "\n",
    "\n",
    "Encontrarás mis comentarios dentro de cajas verdes, amarillas o rojas, es muy importante que no muevas, modifiques o borres mis comentarios, con el fin de tener un seguimiento adecuado de tu proceso.:\n",
    "\n",
    "\n",
    "<div class=\"alert alert-block alert-success\">\n",
    "<b>Comentario del revisor</b> <a class=“tocSkip”></a>\n",
    "Si todo está perfecto.\n",
    "</div>\n",
    "\n",
    "<div class=\"alert alert-block alert-warning\">\n",
    "<b>Comentario del revisor</b> <a class=“tocSkip”></a>\n",
    "Si tu código está bien pero se puede mejorar o hay algún detalle que le hace falta.\n",
    "</div>\n",
    "\n",
    "<div class=\"alert alert-block alert-danger\">\n",
    "<b>Comentario del revisor</b> <a class=“tocSkip”></a>\n",
    "Si de pronto hace falta algo o existe algún problema con tu código o conclusiones.\n",
    "</div>\n",
    "\n",
    "Puedes responderme de esta forma:\n",
    "<div class=\"alert alert-block alert-info\">\n",
    "<b>Respuesta del estudiante</b> <a class=“tocSkip”></a>\n",
    "</div>"
   ]
  },
  {
   "cell_type": "markdown",
   "metadata": {},
   "source": [
    "# ANALISIS DE NEGOCIO"
   ]
  },
  {
   "cell_type": "markdown",
   "metadata": {},
   "source": [
    "En el presente proyecto lo que se pretende realizar es es ayudar a **optimizar los gastos de marketing.** A continuación, se investiga lo siguiente: \n",
    "- Cómo los clientes usan el servicio;\n",
    "- Cuándo empiezan a comprar;\n",
    "- Cuánto dinero aporta cada cliente a la compañía;\n",
    "- Cuándo los ingresos cubren el costo de adquisición de los clientes."
   ]
  },
  {
   "cell_type": "code",
   "execution_count": 1,
   "metadata": {},
   "outputs": [],
   "source": [
    "import pandas as pd\n",
    "import numpy as np\n",
    "import matplotlib.pyplot as plt"
   ]
  },
  {
   "cell_type": "code",
   "execution_count": 2,
   "metadata": {},
   "outputs": [],
   "source": [
    "visits = pd.read_csv('/datasets/visits_log_us.csv')\n",
    "orders = pd.read_csv('/datasets/orders_log_us.csv') \n",
    "costs = pd.read_csv('/datasets/costs_us.csv') "
   ]
  },
  {
   "cell_type": "markdown",
   "metadata": {},
   "source": [
    "<div class=\"alert alert-block alert-success\">\n",
    "<b>Comentario del revisor (1ra Iteración)</b> <a class=“tocSkip”></a>\n",
    "    \n",
    "Bien Pablo, has importado las librerías necesarias y los datasets del proyecto.\n",
    "\n",
    "</div>"
   ]
  },
  {
   "cell_type": "markdown",
   "metadata": {},
   "source": [
    "## Preprocesamiento de datos:\n",
    "Después de importar las librerías correspondientes y definir los *dataframes* (df) iniciales, comenzamos con la etapa de preprocesamiento, donde lo primero que se realiza es renombrar las columnas para que todas estén en minúsculas y sin espacios. Se comprueban los tipos de datos para convertirlos en el tipo que queremos, verificamos que no tengamos filas duplicadas ni valores nulos, y a partir de ahí se continúa con el análisis."
   ]
  },
  {
   "cell_type": "code",
   "execution_count": 3,
   "metadata": {},
   "outputs": [],
   "source": [
    "visits.columns = visits.columns.str.lower().str.replace(' ', '_')\n",
    "orders.columns = orders.columns.str.lower().str.replace(' ', '_')\n",
    "costs.columns = costs.columns.str.lower().str.replace(' ', '_')"
   ]
  },
  {
   "cell_type": "code",
   "execution_count": 4,
   "metadata": {},
   "outputs": [
    {
     "data": {
      "text/html": [
       "<div>\n",
       "<style scoped>\n",
       "    .dataframe tbody tr th:only-of-type {\n",
       "        vertical-align: middle;\n",
       "    }\n",
       "\n",
       "    .dataframe tbody tr th {\n",
       "        vertical-align: top;\n",
       "    }\n",
       "\n",
       "    .dataframe thead th {\n",
       "        text-align: right;\n",
       "    }\n",
       "</style>\n",
       "<table border=\"1\" class=\"dataframe\">\n",
       "  <thead>\n",
       "    <tr style=\"text-align: right;\">\n",
       "      <th></th>\n",
       "      <th>device</th>\n",
       "      <th>end_ts</th>\n",
       "      <th>source_id</th>\n",
       "      <th>start_ts</th>\n",
       "      <th>uid</th>\n",
       "    </tr>\n",
       "  </thead>\n",
       "  <tbody>\n",
       "    <tr>\n",
       "      <th>0</th>\n",
       "      <td>touch</td>\n",
       "      <td>2017-12-20 17:38:00</td>\n",
       "      <td>4</td>\n",
       "      <td>2017-12-20 17:20:00</td>\n",
       "      <td>16879256277535980062</td>\n",
       "    </tr>\n",
       "    <tr>\n",
       "      <th>1</th>\n",
       "      <td>desktop</td>\n",
       "      <td>2018-02-19 17:21:00</td>\n",
       "      <td>2</td>\n",
       "      <td>2018-02-19 16:53:00</td>\n",
       "      <td>104060357244891740</td>\n",
       "    </tr>\n",
       "  </tbody>\n",
       "</table>\n",
       "</div>"
      ],
      "text/plain": [
       "    device               end_ts  source_id             start_ts  \\\n",
       "0    touch  2017-12-20 17:38:00          4  2017-12-20 17:20:00   \n",
       "1  desktop  2018-02-19 17:21:00          2  2018-02-19 16:53:00   \n",
       "\n",
       "                    uid  \n",
       "0  16879256277535980062  \n",
       "1    104060357244891740  "
      ]
     },
     "execution_count": 4,
     "metadata": {},
     "output_type": "execute_result"
    }
   ],
   "source": [
    "visits.head(2)"
   ]
  },
  {
   "cell_type": "code",
   "execution_count": 5,
   "metadata": {},
   "outputs": [
    {
     "data": {
      "text/html": [
       "<div>\n",
       "<style scoped>\n",
       "    .dataframe tbody tr th:only-of-type {\n",
       "        vertical-align: middle;\n",
       "    }\n",
       "\n",
       "    .dataframe tbody tr th {\n",
       "        vertical-align: top;\n",
       "    }\n",
       "\n",
       "    .dataframe thead th {\n",
       "        text-align: right;\n",
       "    }\n",
       "</style>\n",
       "<table border=\"1\" class=\"dataframe\">\n",
       "  <thead>\n",
       "    <tr style=\"text-align: right;\">\n",
       "      <th></th>\n",
       "      <th>buy_ts</th>\n",
       "      <th>revenue</th>\n",
       "      <th>uid</th>\n",
       "    </tr>\n",
       "  </thead>\n",
       "  <tbody>\n",
       "    <tr>\n",
       "      <th>0</th>\n",
       "      <td>2017-06-01 00:10:00</td>\n",
       "      <td>17.00</td>\n",
       "      <td>10329302124590727494</td>\n",
       "    </tr>\n",
       "    <tr>\n",
       "      <th>1</th>\n",
       "      <td>2017-06-01 00:25:00</td>\n",
       "      <td>0.55</td>\n",
       "      <td>11627257723692907447</td>\n",
       "    </tr>\n",
       "  </tbody>\n",
       "</table>\n",
       "</div>"
      ],
      "text/plain": [
       "                buy_ts  revenue                   uid\n",
       "0  2017-06-01 00:10:00    17.00  10329302124590727494\n",
       "1  2017-06-01 00:25:00     0.55  11627257723692907447"
      ]
     },
     "execution_count": 5,
     "metadata": {},
     "output_type": "execute_result"
    }
   ],
   "source": [
    "orders.head(2)"
   ]
  },
  {
   "cell_type": "code",
   "execution_count": 6,
   "metadata": {},
   "outputs": [
    {
     "data": {
      "text/html": [
       "<div>\n",
       "<style scoped>\n",
       "    .dataframe tbody tr th:only-of-type {\n",
       "        vertical-align: middle;\n",
       "    }\n",
       "\n",
       "    .dataframe tbody tr th {\n",
       "        vertical-align: top;\n",
       "    }\n",
       "\n",
       "    .dataframe thead th {\n",
       "        text-align: right;\n",
       "    }\n",
       "</style>\n",
       "<table border=\"1\" class=\"dataframe\">\n",
       "  <thead>\n",
       "    <tr style=\"text-align: right;\">\n",
       "      <th></th>\n",
       "      <th>source_id</th>\n",
       "      <th>dt</th>\n",
       "      <th>costs</th>\n",
       "    </tr>\n",
       "  </thead>\n",
       "  <tbody>\n",
       "    <tr>\n",
       "      <th>0</th>\n",
       "      <td>1</td>\n",
       "      <td>2017-06-01</td>\n",
       "      <td>75.20</td>\n",
       "    </tr>\n",
       "    <tr>\n",
       "      <th>1</th>\n",
       "      <td>1</td>\n",
       "      <td>2017-06-02</td>\n",
       "      <td>62.25</td>\n",
       "    </tr>\n",
       "  </tbody>\n",
       "</table>\n",
       "</div>"
      ],
      "text/plain": [
       "   source_id          dt  costs\n",
       "0          1  2017-06-01  75.20\n",
       "1          1  2017-06-02  62.25"
      ]
     },
     "execution_count": 6,
     "metadata": {},
     "output_type": "execute_result"
    }
   ],
   "source": [
    "costs.head(2)"
   ]
  },
  {
   "cell_type": "markdown",
   "metadata": {},
   "source": [
    "<div class=\"alert alert-block alert-success\">\n",
    "<b>Comentario del revisor (1ra Iteración)</b> <a class=“tocSkip”></a>\n",
    "    \n",
    "Buen trabajo ajustando el nombre de las columnas\n",
    "</div>"
   ]
  },
  {
   "cell_type": "code",
   "execution_count": 7,
   "metadata": {},
   "outputs": [
    {
     "data": {
      "text/plain": [
       "(device       object\n",
       " end_ts       object\n",
       " source_id     int64\n",
       " start_ts     object\n",
       " uid          uint64\n",
       " dtype: object,\n",
       " source_id      int64\n",
       " dt            object\n",
       " costs        float64\n",
       " dtype: object,\n",
       " buy_ts      object\n",
       " revenue    float64\n",
       " uid         uint64\n",
       " dtype: object)"
      ]
     },
     "execution_count": 7,
     "metadata": {},
     "output_type": "execute_result"
    }
   ],
   "source": [
    "visits.dtypes, costs.dtypes, orders.dtypes"
   ]
  },
  {
   "cell_type": "code",
   "execution_count": 8,
   "metadata": {},
   "outputs": [],
   "source": [
    "visits['end_ts'] = pd.to_datetime(visits['end_ts'])\n",
    "visits['start_ts'] = pd.to_datetime(visits['start_ts'])\n",
    "costs['dt'] = pd.to_datetime(costs['dt'])\n",
    "orders['buy_ts'] = pd.to_datetime(orders['buy_ts'])"
   ]
  },
  {
   "cell_type": "code",
   "execution_count": 9,
   "metadata": {},
   "outputs": [
    {
     "data": {
      "text/plain": [
       "(device       0\n",
       " end_ts       0\n",
       " source_id    0\n",
       " start_ts     0\n",
       " uid          0\n",
       " dtype: int64,\n",
       " source_id    0\n",
       " dt           0\n",
       " costs        0\n",
       " dtype: int64,\n",
       " buy_ts     0\n",
       " revenue    0\n",
       " uid        0\n",
       " dtype: int64)"
      ]
     },
     "execution_count": 9,
     "metadata": {},
     "output_type": "execute_result"
    }
   ],
   "source": [
    "visits.isna().sum(), costs.isna().sum(), orders.isna().sum()"
   ]
  },
  {
   "cell_type": "code",
   "execution_count": 10,
   "metadata": {},
   "outputs": [
    {
     "data": {
      "text/plain": [
       "(0, 0, 0)"
      ]
     },
     "execution_count": 10,
     "metadata": {},
     "output_type": "execute_result"
    }
   ],
   "source": [
    "visits.duplicated().sum(), costs.duplicated().sum(), orders.duplicated().sum()"
   ]
  },
  {
   "cell_type": "code",
   "execution_count": 11,
   "metadata": {},
   "outputs": [],
   "source": [
    "visits['day'] = visits['start_ts'].dt.to_period('D').dt.start_time\n",
    "visits['week'] = visits['start_ts'].dt.to_period('W').dt.start_time\n",
    "visits['month'] = visits['start_ts'].dt.to_period('M').dt.start_time\n",
    "\n",
    "costs['day'] = costs['dt'].dt.to_period('D').dt.start_time\n",
    "costs['week'] = costs['dt'].dt.to_period('W').dt.start_time\n",
    "costs['month'] = costs['dt'].dt.to_period('M').dt.start_time\n",
    "\n",
    "orders['day'] = orders['buy_ts'].dt.to_period('D').dt.start_time\n",
    "orders['week'] = orders['buy_ts'].dt.to_period('W').dt.start_time\n",
    "orders['month'] = orders['buy_ts'].dt.to_period('M').dt.start_time"
   ]
  },
  {
   "cell_type": "markdown",
   "metadata": {},
   "source": [
    "<div class=\"alert alert-block alert-success\">\n",
    "<b>Comentario del revisor (1ra Iteración)</b> <a class=“tocSkip”></a>\n",
    "    \n",
    "Pablo, excelente trabajo covirtiendo el tipo de datos, comprobando los datos duplicados y faltantes. Además incluir la información de inicio del registro para día, semana y mes, es una gran estrategía.\n",
    "</div>"
   ]
  },
  {
   "cell_type": "markdown",
   "metadata": {},
   "source": [
    "## Visitas\n",
    "Informe y cálculo de metricas:\n",
    "\n",
    "**¿Cuántas personas lo usan cada día, semana y mes?**"
   ]
  },
  {
   "cell_type": "code",
   "execution_count": 12,
   "metadata": {},
   "outputs": [
    {
     "data": {
      "text/html": [
       "<div>\n",
       "<style scoped>\n",
       "    .dataframe tbody tr th:only-of-type {\n",
       "        vertical-align: middle;\n",
       "    }\n",
       "\n",
       "    .dataframe tbody tr th {\n",
       "        vertical-align: top;\n",
       "    }\n",
       "\n",
       "    .dataframe thead th {\n",
       "        text-align: right;\n",
       "    }\n",
       "</style>\n",
       "<table border=\"1\" class=\"dataframe\">\n",
       "  <thead>\n",
       "    <tr style=\"text-align: right;\">\n",
       "      <th></th>\n",
       "      <th>device</th>\n",
       "      <th>end_ts</th>\n",
       "      <th>source_id</th>\n",
       "      <th>start_ts</th>\n",
       "      <th>uid</th>\n",
       "      <th>day</th>\n",
       "      <th>week</th>\n",
       "      <th>month</th>\n",
       "    </tr>\n",
       "  </thead>\n",
       "  <tbody>\n",
       "    <tr>\n",
       "      <th>0</th>\n",
       "      <td>touch</td>\n",
       "      <td>2017-12-20 17:38:00</td>\n",
       "      <td>4</td>\n",
       "      <td>2017-12-20 17:20:00</td>\n",
       "      <td>16879256277535980062</td>\n",
       "      <td>2017-12-20</td>\n",
       "      <td>2017-12-18</td>\n",
       "      <td>2017-12-01</td>\n",
       "    </tr>\n",
       "    <tr>\n",
       "      <th>1</th>\n",
       "      <td>desktop</td>\n",
       "      <td>2018-02-19 17:21:00</td>\n",
       "      <td>2</td>\n",
       "      <td>2018-02-19 16:53:00</td>\n",
       "      <td>104060357244891740</td>\n",
       "      <td>2018-02-19</td>\n",
       "      <td>2018-02-19</td>\n",
       "      <td>2018-02-01</td>\n",
       "    </tr>\n",
       "  </tbody>\n",
       "</table>\n",
       "</div>"
      ],
      "text/plain": [
       "    device              end_ts  source_id            start_ts  \\\n",
       "0    touch 2017-12-20 17:38:00          4 2017-12-20 17:20:00   \n",
       "1  desktop 2018-02-19 17:21:00          2 2018-02-19 16:53:00   \n",
       "\n",
       "                    uid        day       week      month  \n",
       "0  16879256277535980062 2017-12-20 2017-12-18 2017-12-01  \n",
       "1    104060357244891740 2018-02-19 2018-02-19 2018-02-01  "
      ]
     },
     "execution_count": 12,
     "metadata": {},
     "output_type": "execute_result"
    }
   ],
   "source": [
    "visits.head(2)"
   ]
  },
  {
   "cell_type": "code",
   "execution_count": 13,
   "metadata": {},
   "outputs": [
    {
     "name": "stdout",
     "output_type": "stream",
     "text": [
      "            sessions_per_day  visits_per_day\n",
      "day                                         \n",
      "2017-06-01               664             605\n",
      "2017-06-02               658             608\n"
     ]
    }
   ],
   "source": [
    "sessions_and_visits_per_day = visits.groupby('day').agg(\n",
    "    sessions_per_day=('start_ts', 'count'),   \n",
    "    visits_per_day=('uid', 'nunique')\n",
    ")\n",
    "print(sessions_and_visits_per_day.head(2))"
   ]
  },
  {
   "cell_type": "code",
   "execution_count": 14,
   "metadata": {},
   "outputs": [
    {
     "data": {
      "image/png": "[encoded data removed]",
      "text/plain": [
       "<Figure size 640x480 with 1 Axes>"
      ]
     },
     "metadata": {},
     "output_type": "display_data"
    }
   ],
   "source": [
    "plt.plot(sessions_and_visits_per_day['visits_per_day'])\n",
    "plt.xlabel('time')\n",
    "plt.ylabel('users')\n",
    "plt.title(\"Visits per day\")\n",
    "plt.show()"
   ]
  },
  {
   "cell_type": "code",
   "execution_count": 15,
   "metadata": {},
   "outputs": [
    {
     "data": {
      "text/plain": [
       "count     364.000000\n",
       "mean      907.991758\n",
       "std       370.513838\n",
       "min         1.000000\n",
       "25%       594.000000\n",
       "50%       921.000000\n",
       "75%      1173.000000\n",
       "max      3319.000000\n",
       "Name: visits_per_day, dtype: float64"
      ]
     },
     "execution_count": 15,
     "metadata": {},
     "output_type": "execute_result"
    }
   ],
   "source": [
    "sessions_and_visits_per_day['visits_per_day'].describe()"
   ]
  },
  {
   "cell_type": "code",
   "execution_count": 16,
   "metadata": {},
   "outputs": [
    {
     "data": {
      "image/png": "[encoded data removed]",
      "text/plain": [
       "<Figure size 640x480 with 1 Axes>"
      ]
     },
     "metadata": {},
     "output_type": "display_data"
    }
   ],
   "source": [
    "visits_per_week = visits.groupby('week')['uid'].nunique()\n",
    "plt.plot(visits_per_week, color='orange')\n",
    "plt.xlabel('time')\n",
    "plt.ylabel('users')\n",
    "plt.title(\"Visits per week\")\n",
    "plt.show()"
   ]
  },
  {
   "cell_type": "code",
   "execution_count": 17,
   "metadata": {},
   "outputs": [
    {
     "data": {
      "image/png": "[encoded data removed]",
      "text/plain": [
       "<Figure size 640x480 with 1 Axes>"
      ]
     },
     "metadata": {},
     "output_type": "display_data"
    }
   ],
   "source": [
    "visits_per_month = visits.groupby('month')['uid'].nunique()\n",
    "plt.plot(visits_per_month, color='green')\n",
    "plt.xlabel('time')\n",
    "plt.ylabel('users')\n",
    "plt.title(\"Visits per month\")\n",
    "plt.show()"
   ]
  },
  {
   "cell_type": "markdown",
   "metadata": {},
   "source": [
    "Después de analizar las gráficas anteriores, podemos deducir lo siguiente: \n",
    "- En la gráfica de visitas por día, se observa que a pesar de que a lo largo del estudio se presenta una ligera tendencia simetrica, donde se tiene el promedio y la mediana de 900 visitas por día, sin embargo, en el mes de diciembre hay un dato atipico donde hubo 3319 visitas, por lo que sería conveniente investigar que fue lo que paso precisamente ese día. \n",
    "- En la gráfica de visitas por semana, se oberva que al inicio del estudio las visitas por semanas eran bajas a comparacion de los ultimos meses de 2017 y de los primeros meses de 2018 y es intereante como empiezan a dismunir también esas visitas conforme avanza el 2018.\n",
    "- En la gráfica de visitas por mes, se oberva claramente la tendencia a la alta que se tiene en los ultimos meses de 2017 como se mencionaba anteriormente, conforme avanza el 2018, las visitas van disminuyendo. "
   ]
  },
  {
   "cell_type": "markdown",
   "metadata": {},
   "source": [
    "<div class=\"alert alert-block alert-warning\">\n",
    "<b>Comentario del revisor (1ra Iteración)</b> <a class=“tocSkip”></a>\n",
    "    \n",
    "Magnífico, has representado de manera correcta la información sobre *¿Cuántas personas lo usan cada día, semana y mes?*\n",
    "    \n",
    "Las gráficas, aunque son correctas, deben tener un formato adecuado para entender mucho más fácil la información, te recomiendo incluir un **título para cada gráfica además de los nombres de los ejes X y Y**. Adicionalmente, es importante incluir tus **apreciaciones sobre la información que obtienes en cada visualización**\n",
    "</div>"
   ]
  },
  {
   "cell_type": "markdown",
   "metadata": {},
   "source": [
    "**¿Cuántas sesiones hay por día?** (Un usuario puede tener más de una sesión)."
   ]
  },
  {
   "cell_type": "code",
   "execution_count": 18,
   "metadata": {},
   "outputs": [
    {
     "data": {
      "image/png": "[encoded data removed]",
      "text/plain": [
       "<Figure size 640x480 with 1 Axes>"
      ]
     },
     "metadata": {},
     "output_type": "display_data"
    }
   ],
   "source": [
    "plt.plot(sessions_and_visits_per_day['sessions_per_day'], color='red')\n",
    "plt.xlabel('time')\n",
    "plt.ylabel('users')\n",
    "plt.title(\"Sessions per day\")\n",
    "plt.show()"
   ]
  },
  {
   "cell_type": "code",
   "execution_count": 19,
   "metadata": {},
   "outputs": [
    {
     "data": {
      "text/plain": [
       "1.082169644003972"
      ]
     },
     "execution_count": 19,
     "metadata": {},
     "output_type": "execute_result"
    }
   ],
   "source": [
    "sessions_and_visits_per_day['sessions_per_user'] = sessions_and_visits_per_day['sessions_per_day']/sessions_and_visits_per_day['visits_per_day']\n",
    "sessions_and_visits_per_day['sessions_per_user'].mean()"
   ]
  },
  {
   "cell_type": "code",
   "execution_count": 20,
   "metadata": {},
   "outputs": [
    {
     "data": {
      "text/plain": [
       "count     364.000000\n",
       "mean      987.362637\n",
       "std       418.994796\n",
       "min         1.000000\n",
       "25%       635.500000\n",
       "50%      1003.000000\n",
       "75%      1280.000000\n",
       "max      4042.000000\n",
       "Name: sessions_per_day, dtype: float64"
      ]
     },
     "execution_count": 20,
     "metadata": {},
     "output_type": "execute_result"
    }
   ],
   "source": [
    "sessions_and_visits_per_day['sessions_per_day'].describe()"
   ]
  },
  {
   "cell_type": "code",
   "execution_count": 21,
   "metadata": {},
   "outputs": [
    {
     "data": {
      "text/plain": [
       "<AxesSubplot:>"
      ]
     },
     "execution_count": 21,
     "metadata": {},
     "output_type": "execute_result"
    },
    {
     "data": {
      "image/png": "[encoded data removed]",
      "text/plain": [
       "<Figure size 640x480 with 1 Axes>"
      ]
     },
     "metadata": {},
     "output_type": "display_data"
    }
   ],
   "source": [
    "sessions_and_visits_per_day['sessions_per_day'].plot(kind='box')"
   ]
  },
  {
   "cell_type": "markdown",
   "metadata": {},
   "source": [
    "Después de revisar los datos anteriores, podemos decir que hay una simetría de los datos aunque tengamos 2 valores atipicos podemos tomar la mediana de 1003 sesiones por día. Es preciso señalar que las sesiones pueden llegar a ser más debido a que un usuario puede tener más de una sesión por día. "
   ]
  },
  {
   "cell_type": "markdown",
   "metadata": {},
   "source": [
    "**¿Cuál es la duración de cada sesión?**"
   ]
  },
  {
   "cell_type": "code",
   "execution_count": 22,
   "metadata": {},
   "outputs": [
    {
     "data": {
      "text/plain": [
       "count    359400.000000\n",
       "mean        643.506489\n",
       "std        1016.334786\n",
       "min           0.000000\n",
       "25%         120.000000\n",
       "50%         300.000000\n",
       "75%         840.000000\n",
       "99%        4500.000000\n",
       "max       84480.000000\n",
       "Name: session_duration, dtype: float64"
      ]
     },
     "execution_count": 22,
     "metadata": {},
     "output_type": "execute_result"
    }
   ],
   "source": [
    "visits['session_duration'] = (visits['end_ts'] - visits['start_ts']).dt.seconds\n",
    "visits['session_duration'].describe(percentiles=[.25,.5,.75, .99])"
   ]
  },
  {
   "cell_type": "code",
   "execution_count": 23,
   "metadata": {},
   "outputs": [
    {
     "data": {
      "text/plain": [
       "<AxesSubplot:>"
      ]
     },
     "execution_count": 23,
     "metadata": {},
     "output_type": "execute_result"
    },
    {
     "data": {
      "image/png": "[encoded data removed]",
      "text/plain": [
       "<Figure size 640x480 with 1 Axes>"
      ]
     },
     "metadata": {},
     "output_type": "display_data"
    }
   ],
   "source": [
    "visits['session_duration'].plot(kind='box')"
   ]
  },
  {
   "cell_type": "code",
   "execution_count": 24,
   "metadata": {},
   "outputs": [
    {
     "data": {
      "image/png": "[encoded data removed]",
      "text/plain": [
       "<Figure size 640x480 with 1 Axes>"
      ]
     },
     "metadata": {},
     "output_type": "display_data"
    }
   ],
   "source": [
    "visits.query('session_duration < 4000')['session_duration'].hist(bins=40)\n",
    "plt.xlabel('Time (seconds)')\n",
    "plt.ylabel('Sessions')\n",
    "plt.title(\"Sessions duration\")\n",
    "plt.show()"
   ]
  },
  {
   "cell_type": "markdown",
   "metadata": {},
   "source": [
    "Por lo anterior mostrado, se ve claramente que el 50% de las sesiones duran 300 segundos o menos."
   ]
  },
  {
   "cell_type": "markdown",
   "metadata": {},
   "source": [
    "<div class=\"alert alert-block alert-warning\">\n",
    "<b>Comentario del revisor (1ra Iteración)</b> <a class=“tocSkip”></a>\n",
    "    \n",
    "El comentario anterior aplica tambien para esta gráfica que muestra la *¿Cuál es la duración de cada sesión?*.\n",
    "    \n",
    "**También te recomiendo separar cada sección de acuerdo con la pregunta a la que estás dando respuesta**, con el fin de que sea más fácil identificar cada respuesta.\n",
    "</div>"
   ]
  },
  {
   "cell_type": "markdown",
   "metadata": {},
   "source": [
    "**¿Con qué frecuencia los usuarios regresan?** Para contestar esta pregunta, se tienen que hacer pasos previamente como se muestra a continuación, donde se crea un nuevo *df* el cual servira como base para distintos calculos "
   ]
  },
  {
   "cell_type": "code",
   "execution_count": 25,
   "metadata": {},
   "outputs": [
    {
     "data": {
      "text/html": [
       "<div>\n",
       "<style scoped>\n",
       "    .dataframe tbody tr th:only-of-type {\n",
       "        vertical-align: middle;\n",
       "    }\n",
       "\n",
       "    .dataframe tbody tr th {\n",
       "        vertical-align: top;\n",
       "    }\n",
       "\n",
       "    .dataframe thead th {\n",
       "        text-align: right;\n",
       "    }\n",
       "</style>\n",
       "<table border=\"1\" class=\"dataframe\">\n",
       "  <thead>\n",
       "    <tr style=\"text-align: right;\">\n",
       "      <th></th>\n",
       "      <th>device</th>\n",
       "      <th>end_ts</th>\n",
       "      <th>source_id</th>\n",
       "      <th>first_visit_at</th>\n",
       "      <th>uid</th>\n",
       "      <th>day</th>\n",
       "      <th>week</th>\n",
       "      <th>first_month</th>\n",
       "      <th>session_duration</th>\n",
       "    </tr>\n",
       "  </thead>\n",
       "  <tbody>\n",
       "    <tr>\n",
       "      <th>308527</th>\n",
       "      <td>desktop</td>\n",
       "      <td>2017-06-01 00:02:00</td>\n",
       "      <td>5</td>\n",
       "      <td>2017-06-01 00:01:00</td>\n",
       "      <td>13890188992670018146</td>\n",
       "      <td>2017-06-01</td>\n",
       "      <td>2017-05-29</td>\n",
       "      <td>2017-06-01</td>\n",
       "      <td>60</td>\n",
       "    </tr>\n",
       "    <tr>\n",
       "      <th>260646</th>\n",
       "      <td>desktop</td>\n",
       "      <td>2017-06-01 00:02:00</td>\n",
       "      <td>3</td>\n",
       "      <td>2017-06-01 00:02:00</td>\n",
       "      <td>16152015161748786004</td>\n",
       "      <td>2017-06-01</td>\n",
       "      <td>2017-05-29</td>\n",
       "      <td>2017-06-01</td>\n",
       "      <td>0</td>\n",
       "    </tr>\n",
       "    <tr>\n",
       "      <th>245715</th>\n",
       "      <td>desktop</td>\n",
       "      <td>2017-06-01 00:16:00</td>\n",
       "      <td>3</td>\n",
       "      <td>2017-06-01 00:02:00</td>\n",
       "      <td>16706502037388497502</td>\n",
       "      <td>2017-06-01</td>\n",
       "      <td>2017-05-29</td>\n",
       "      <td>2017-06-01</td>\n",
       "      <td>840</td>\n",
       "    </tr>\n",
       "    <tr>\n",
       "      <th>235930</th>\n",
       "      <td>desktop</td>\n",
       "      <td>2017-06-01 00:04:00</td>\n",
       "      <td>3</td>\n",
       "      <td>2017-06-01 00:04:00</td>\n",
       "      <td>8842918131297115663</td>\n",
       "      <td>2017-06-01</td>\n",
       "      <td>2017-05-29</td>\n",
       "      <td>2017-06-01</td>\n",
       "      <td>0</td>\n",
       "    </tr>\n",
       "    <tr>\n",
       "      <th>11727</th>\n",
       "      <td>desktop</td>\n",
       "      <td>2017-06-01 00:11:00</td>\n",
       "      <td>1</td>\n",
       "      <td>2017-06-01 00:09:00</td>\n",
       "      <td>10329302124590727494</td>\n",
       "      <td>2017-06-01</td>\n",
       "      <td>2017-05-29</td>\n",
       "      <td>2017-06-01</td>\n",
       "      <td>120</td>\n",
       "    </tr>\n",
       "  </tbody>\n",
       "</table>\n",
       "</div>"
      ],
      "text/plain": [
       "         device              end_ts  source_id      first_visit_at  \\\n",
       "308527  desktop 2017-06-01 00:02:00          5 2017-06-01 00:01:00   \n",
       "260646  desktop 2017-06-01 00:02:00          3 2017-06-01 00:02:00   \n",
       "245715  desktop 2017-06-01 00:16:00          3 2017-06-01 00:02:00   \n",
       "235930  desktop 2017-06-01 00:04:00          3 2017-06-01 00:04:00   \n",
       "11727   desktop 2017-06-01 00:11:00          1 2017-06-01 00:09:00   \n",
       "\n",
       "                         uid        day       week first_month  \\\n",
       "308527  13890188992670018146 2017-06-01 2017-05-29  2017-06-01   \n",
       "260646  16152015161748786004 2017-06-01 2017-05-29  2017-06-01   \n",
       "245715  16706502037388497502 2017-06-01 2017-05-29  2017-06-01   \n",
       "235930   8842918131297115663 2017-06-01 2017-05-29  2017-06-01   \n",
       "11727   10329302124590727494 2017-06-01 2017-05-29  2017-06-01   \n",
       "\n",
       "        session_duration  \n",
       "308527                60  \n",
       "260646                 0  \n",
       "245715               840  \n",
       "235930                 0  \n",
       "11727                120  "
      ]
     },
     "execution_count": 25,
     "metadata": {},
     "output_type": "execute_result"
    }
   ],
   "source": [
    "first_visits = (\n",
    "    visits\n",
    "    .sort_values(by='start_ts')\n",
    "    .groupby('uid')\n",
    "    .head(1)\n",
    "    .rename(columns={'month':'first_month',\n",
    "                    'start_ts':'first_visit_at'})\n",
    ")\n",
    "first_visits.head()"
   ]
  },
  {
   "cell_type": "code",
   "execution_count": 26,
   "metadata": {},
   "outputs": [
    {
     "data": {
      "text/html": [
       "<div>\n",
       "<style scoped>\n",
       "    .dataframe tbody tr th:only-of-type {\n",
       "        vertical-align: middle;\n",
       "    }\n",
       "\n",
       "    .dataframe tbody tr th {\n",
       "        vertical-align: top;\n",
       "    }\n",
       "\n",
       "    .dataframe thead th {\n",
       "        text-align: right;\n",
       "    }\n",
       "</style>\n",
       "<table border=\"1\" class=\"dataframe\">\n",
       "  <thead>\n",
       "    <tr style=\"text-align: right;\">\n",
       "      <th></th>\n",
       "      <th>device</th>\n",
       "      <th>end_ts</th>\n",
       "      <th>source_id</th>\n",
       "      <th>start_ts</th>\n",
       "      <th>uid</th>\n",
       "      <th>day</th>\n",
       "      <th>week</th>\n",
       "      <th>month</th>\n",
       "      <th>session_duration</th>\n",
       "      <th>first_month</th>\n",
       "      <th>month_age</th>\n",
       "    </tr>\n",
       "  </thead>\n",
       "  <tbody>\n",
       "    <tr>\n",
       "      <th>0</th>\n",
       "      <td>touch</td>\n",
       "      <td>2017-12-20 17:38:00</td>\n",
       "      <td>4</td>\n",
       "      <td>2017-12-20 17:20:00</td>\n",
       "      <td>16879256277535980062</td>\n",
       "      <td>2017-12-20</td>\n",
       "      <td>2017-12-18</td>\n",
       "      <td>2017-12-01</td>\n",
       "      <td>1080</td>\n",
       "      <td>2017-12-01</td>\n",
       "      <td>0</td>\n",
       "    </tr>\n",
       "    <tr>\n",
       "      <th>1</th>\n",
       "      <td>desktop</td>\n",
       "      <td>2018-02-19 17:21:00</td>\n",
       "      <td>2</td>\n",
       "      <td>2018-02-19 16:53:00</td>\n",
       "      <td>104060357244891740</td>\n",
       "      <td>2018-02-19</td>\n",
       "      <td>2018-02-19</td>\n",
       "      <td>2018-02-01</td>\n",
       "      <td>1680</td>\n",
       "      <td>2018-02-01</td>\n",
       "      <td>0</td>\n",
       "    </tr>\n",
       "    <tr>\n",
       "      <th>2</th>\n",
       "      <td>touch</td>\n",
       "      <td>2017-07-01 01:54:00</td>\n",
       "      <td>5</td>\n",
       "      <td>2017-07-01 01:54:00</td>\n",
       "      <td>7459035603376831527</td>\n",
       "      <td>2017-07-01</td>\n",
       "      <td>2017-06-26</td>\n",
       "      <td>2017-07-01</td>\n",
       "      <td>0</td>\n",
       "      <td>2017-07-01</td>\n",
       "      <td>0</td>\n",
       "    </tr>\n",
       "    <tr>\n",
       "      <th>3</th>\n",
       "      <td>desktop</td>\n",
       "      <td>2018-05-20 11:23:00</td>\n",
       "      <td>9</td>\n",
       "      <td>2018-05-20 10:59:00</td>\n",
       "      <td>16174680259334210214</td>\n",
       "      <td>2018-05-20</td>\n",
       "      <td>2018-05-14</td>\n",
       "      <td>2018-05-01</td>\n",
       "      <td>1440</td>\n",
       "      <td>2018-03-01</td>\n",
       "      <td>2</td>\n",
       "    </tr>\n",
       "    <tr>\n",
       "      <th>4</th>\n",
       "      <td>desktop</td>\n",
       "      <td>2018-03-09 20:33:00</td>\n",
       "      <td>4</td>\n",
       "      <td>2018-03-09 20:05:00</td>\n",
       "      <td>16174680259334210214</td>\n",
       "      <td>2018-03-09</td>\n",
       "      <td>2018-03-05</td>\n",
       "      <td>2018-03-01</td>\n",
       "      <td>1680</td>\n",
       "      <td>2018-03-01</td>\n",
       "      <td>0</td>\n",
       "    </tr>\n",
       "  </tbody>\n",
       "</table>\n",
       "</div>"
      ],
      "text/plain": [
       "    device              end_ts  source_id            start_ts  \\\n",
       "0    touch 2017-12-20 17:38:00          4 2017-12-20 17:20:00   \n",
       "1  desktop 2018-02-19 17:21:00          2 2018-02-19 16:53:00   \n",
       "2    touch 2017-07-01 01:54:00          5 2017-07-01 01:54:00   \n",
       "3  desktop 2018-05-20 11:23:00          9 2018-05-20 10:59:00   \n",
       "4  desktop 2018-03-09 20:33:00          4 2018-03-09 20:05:00   \n",
       "\n",
       "                    uid        day       week      month  session_duration  \\\n",
       "0  16879256277535980062 2017-12-20 2017-12-18 2017-12-01              1080   \n",
       "1    104060357244891740 2018-02-19 2018-02-19 2018-02-01              1680   \n",
       "2   7459035603376831527 2017-07-01 2017-06-26 2017-07-01                 0   \n",
       "3  16174680259334210214 2018-05-20 2018-05-14 2018-05-01              1440   \n",
       "4  16174680259334210214 2018-03-09 2018-03-05 2018-03-01              1680   \n",
       "\n",
       "  first_month  month_age  \n",
       "0  2017-12-01          0  \n",
       "1  2018-02-01          0  \n",
       "2  2017-07-01          0  \n",
       "3  2018-03-01          2  \n",
       "4  2018-03-01          0  "
      ]
     },
     "execution_count": 26,
     "metadata": {},
     "output_type": "execute_result"
    }
   ],
   "source": [
    "visits_with_cohort = pd.merge(\n",
    "    visits,\n",
    "    first_visits[['uid','first_month']],\n",
    "    on='uid'\n",
    ")\n",
    "#visits_with_cohort['month_age'] = (visits_with_cohort['month'] - visits_with_cohort['first_month']) / np.timedelta64(1, 'M')\n",
    "visits_with_cohort['month_age'] = visits_with_cohort['month'].dt.month - visits_with_cohort['first_month'].dt.month\n",
    "visits_with_cohort['month_age'] += 12*(visits_with_cohort['month'].dt.year - visits_with_cohort['first_month'].dt.year) \n",
    "\n",
    "visits_with_cohort.head()"
   ]
  },
  {
   "cell_type": "code",
   "execution_count": 27,
   "metadata": {},
   "outputs": [
    {
     "data": {
      "text/plain": [
       "0     267858\n",
       "1      23294\n",
       "2      14833\n",
       "3      11961\n",
       "4       9977\n",
       "5       8497\n",
       "6       6834\n",
       "7       5290\n",
       "8       4009\n",
       "9       3036\n",
       "10      2193\n",
       "11      1618\n",
       "Name: month_age, dtype: int64"
      ]
     },
     "execution_count": 27,
     "metadata": {},
     "output_type": "execute_result"
    }
   ],
   "source": [
    "visits_with_cohort['month_age'].value_counts()"
   ]
  },
  {
   "cell_type": "code",
   "execution_count": 28,
   "metadata": {},
   "outputs": [
    {
     "data": {
      "text/html": [
       "<div>\n",
       "<style scoped>\n",
       "    .dataframe tbody tr th:only-of-type {\n",
       "        vertical-align: middle;\n",
       "    }\n",
       "\n",
       "    .dataframe tbody tr th {\n",
       "        vertical-align: top;\n",
       "    }\n",
       "\n",
       "    .dataframe thead th {\n",
       "        text-align: right;\n",
       "    }\n",
       "</style>\n",
       "<table border=\"1\" class=\"dataframe\">\n",
       "  <thead>\n",
       "    <tr style=\"text-align: right;\">\n",
       "      <th>month_age</th>\n",
       "      <th>0</th>\n",
       "      <th>1</th>\n",
       "      <th>2</th>\n",
       "      <th>3</th>\n",
       "      <th>4</th>\n",
       "      <th>5</th>\n",
       "      <th>6</th>\n",
       "      <th>7</th>\n",
       "      <th>8</th>\n",
       "      <th>9</th>\n",
       "      <th>10</th>\n",
       "      <th>11</th>\n",
       "    </tr>\n",
       "    <tr>\n",
       "      <th>first_month</th>\n",
       "      <th></th>\n",
       "      <th></th>\n",
       "      <th></th>\n",
       "      <th></th>\n",
       "      <th></th>\n",
       "      <th></th>\n",
       "      <th></th>\n",
       "      <th></th>\n",
       "      <th></th>\n",
       "      <th></th>\n",
       "      <th></th>\n",
       "      <th></th>\n",
       "    </tr>\n",
       "  </thead>\n",
       "  <tbody>\n",
       "    <tr>\n",
       "      <th>2017-06-01</th>\n",
       "      <td>13259.0</td>\n",
       "      <td>1043.0</td>\n",
       "      <td>713.0</td>\n",
       "      <td>814.0</td>\n",
       "      <td>909.0</td>\n",
       "      <td>947.0</td>\n",
       "      <td>809.0</td>\n",
       "      <td>766.0</td>\n",
       "      <td>694.0</td>\n",
       "      <td>674.0</td>\n",
       "      <td>539.0</td>\n",
       "      <td>596.0</td>\n",
       "    </tr>\n",
       "    <tr>\n",
       "      <th>2017-07-01</th>\n",
       "      <td>13140.0</td>\n",
       "      <td>737.0</td>\n",
       "      <td>674.0</td>\n",
       "      <td>738.0</td>\n",
       "      <td>765.0</td>\n",
       "      <td>633.0</td>\n",
       "      <td>596.0</td>\n",
       "      <td>601.0</td>\n",
       "      <td>510.0</td>\n",
       "      <td>376.0</td>\n",
       "      <td>361.0</td>\n",
       "      <td></td>\n",
       "    </tr>\n",
       "    <tr>\n",
       "      <th>2017-08-01</th>\n",
       "      <td>10181.0</td>\n",
       "      <td>783.0</td>\n",
       "      <td>640.0</td>\n",
       "      <td>639.0</td>\n",
       "      <td>510.0</td>\n",
       "      <td>448.0</td>\n",
       "      <td>370.0</td>\n",
       "      <td>402.0</td>\n",
       "      <td>284.0</td>\n",
       "      <td>265.0</td>\n",
       "      <td></td>\n",
       "      <td></td>\n",
       "    </tr>\n",
       "    <tr>\n",
       "      <th>2017-09-01</th>\n",
       "      <td>16704.0</td>\n",
       "      <td>1428.0</td>\n",
       "      <td>1156.0</td>\n",
       "      <td>847.0</td>\n",
       "      <td>658.0</td>\n",
       "      <td>632.0</td>\n",
       "      <td>599.0</td>\n",
       "      <td>404.0</td>\n",
       "      <td>381.0</td>\n",
       "      <td></td>\n",
       "      <td></td>\n",
       "      <td></td>\n",
       "    </tr>\n",
       "    <tr>\n",
       "      <th>2017-10-01</th>\n",
       "      <td>25977.0</td>\n",
       "      <td>2042.0</td>\n",
       "      <td>1357.0</td>\n",
       "      <td>1012.0</td>\n",
       "      <td>890.0</td>\n",
       "      <td>837.0</td>\n",
       "      <td>555.0</td>\n",
       "      <td>529.0</td>\n",
       "      <td></td>\n",
       "      <td></td>\n",
       "      <td></td>\n",
       "      <td></td>\n",
       "    </tr>\n",
       "    <tr>\n",
       "      <th>2017-11-01</th>\n",
       "      <td>27248.0</td>\n",
       "      <td>2133.0</td>\n",
       "      <td>1202.0</td>\n",
       "      <td>1054.0</td>\n",
       "      <td>919.0</td>\n",
       "      <td>638.0</td>\n",
       "      <td>594.0</td>\n",
       "      <td></td>\n",
       "      <td></td>\n",
       "      <td></td>\n",
       "      <td></td>\n",
       "      <td></td>\n",
       "    </tr>\n",
       "    <tr>\n",
       "      <th>2017-12-01</th>\n",
       "      <td>25268.0</td>\n",
       "      <td>1410.0</td>\n",
       "      <td>960.0</td>\n",
       "      <td>786.0</td>\n",
       "      <td>512.0</td>\n",
       "      <td>481.0</td>\n",
       "      <td></td>\n",
       "      <td></td>\n",
       "      <td></td>\n",
       "      <td></td>\n",
       "      <td></td>\n",
       "      <td></td>\n",
       "    </tr>\n",
       "    <tr>\n",
       "      <th>2018-01-01</th>\n",
       "      <td>22624.0</td>\n",
       "      <td>1351.0</td>\n",
       "      <td>890.0</td>\n",
       "      <td>565.0</td>\n",
       "      <td>458.0</td>\n",
       "      <td></td>\n",
       "      <td></td>\n",
       "      <td></td>\n",
       "      <td></td>\n",
       "      <td></td>\n",
       "      <td></td>\n",
       "      <td></td>\n",
       "    </tr>\n",
       "    <tr>\n",
       "      <th>2018-02-01</th>\n",
       "      <td>22197.0</td>\n",
       "      <td>1267.0</td>\n",
       "      <td>565.0</td>\n",
       "      <td>446.0</td>\n",
       "      <td></td>\n",
       "      <td></td>\n",
       "      <td></td>\n",
       "      <td></td>\n",
       "      <td></td>\n",
       "      <td></td>\n",
       "      <td></td>\n",
       "      <td></td>\n",
       "    </tr>\n",
       "    <tr>\n",
       "      <th>2018-03-01</th>\n",
       "      <td>20589.0</td>\n",
       "      <td>861.0</td>\n",
       "      <td>557.0</td>\n",
       "      <td></td>\n",
       "      <td></td>\n",
       "      <td></td>\n",
       "      <td></td>\n",
       "      <td></td>\n",
       "      <td></td>\n",
       "      <td></td>\n",
       "      <td></td>\n",
       "      <td></td>\n",
       "    </tr>\n",
       "    <tr>\n",
       "      <th>2018-04-01</th>\n",
       "      <td>15709.0</td>\n",
       "      <td>760.0</td>\n",
       "      <td></td>\n",
       "      <td></td>\n",
       "      <td></td>\n",
       "      <td></td>\n",
       "      <td></td>\n",
       "      <td></td>\n",
       "      <td></td>\n",
       "      <td></td>\n",
       "      <td></td>\n",
       "      <td></td>\n",
       "    </tr>\n",
       "    <tr>\n",
       "      <th>2018-05-01</th>\n",
       "      <td>15273.0</td>\n",
       "      <td></td>\n",
       "      <td></td>\n",
       "      <td></td>\n",
       "      <td></td>\n",
       "      <td></td>\n",
       "      <td></td>\n",
       "      <td></td>\n",
       "      <td></td>\n",
       "      <td></td>\n",
       "      <td></td>\n",
       "      <td></td>\n",
       "    </tr>\n",
       "  </tbody>\n",
       "</table>\n",
       "</div>"
      ],
      "text/plain": [
       "month_age         0       1       2       3      4      5      6      7   \\\n",
       "first_month                                                                \n",
       "2017-06-01   13259.0  1043.0   713.0   814.0  909.0  947.0  809.0  766.0   \n",
       "2017-07-01   13140.0   737.0   674.0   738.0  765.0  633.0  596.0  601.0   \n",
       "2017-08-01   10181.0   783.0   640.0   639.0  510.0  448.0  370.0  402.0   \n",
       "2017-09-01   16704.0  1428.0  1156.0   847.0  658.0  632.0  599.0  404.0   \n",
       "2017-10-01   25977.0  2042.0  1357.0  1012.0  890.0  837.0  555.0  529.0   \n",
       "2017-11-01   27248.0  2133.0  1202.0  1054.0  919.0  638.0  594.0          \n",
       "2017-12-01   25268.0  1410.0   960.0   786.0  512.0  481.0                 \n",
       "2018-01-01   22624.0  1351.0   890.0   565.0  458.0                        \n",
       "2018-02-01   22197.0  1267.0   565.0   446.0                               \n",
       "2018-03-01   20589.0   861.0   557.0                                       \n",
       "2018-04-01   15709.0   760.0                                               \n",
       "2018-05-01   15273.0                                                       \n",
       "\n",
       "month_age       8      9      10     11  \n",
       "first_month                              \n",
       "2017-06-01   694.0  674.0  539.0  596.0  \n",
       "2017-07-01   510.0  376.0  361.0         \n",
       "2017-08-01   284.0  265.0                \n",
       "2017-09-01   381.0                       \n",
       "2017-10-01                               \n",
       "2017-11-01                               \n",
       "2017-12-01                               \n",
       "2018-01-01                               \n",
       "2018-02-01                               \n",
       "2018-03-01                               \n",
       "2018-04-01                               \n",
       "2018-05-01                               "
      ]
     },
     "execution_count": 28,
     "metadata": {},
     "output_type": "execute_result"
    }
   ],
   "source": [
    "visits_retention = visits_with_cohort.pivot_table(\n",
    "    index='first_month',\n",
    "    columns='month_age',\n",
    "    values='uid',\n",
    "    aggfunc='nunique'\n",
    ")\n",
    "visits_retention.fillna('')"
   ]
  },
  {
   "cell_type": "code",
   "execution_count": 29,
   "metadata": {},
   "outputs": [],
   "source": [
    "visits_retention_rate = visits_retention.copy()\n",
    "\n",
    "for col in visits_retention_rate.columns:\n",
    "    visits_retention_rate[col] = visits_retention_rate[col] / visits_retention[0]"
   ]
  },
  {
   "cell_type": "code",
   "execution_count": 30,
   "metadata": {},
   "outputs": [
    {
     "name": "stderr",
     "output_type": "stream",
     "text": [
      "/opt/conda/envs/python3/lib/python3.9/site-packages/pandas/io/formats/style.py:1264: RuntimeWarning: All-NaN slice encountered\n",
      "  smin = np.nanmin(s.to_numpy()) if vmin is None else vmin\n",
      "/opt/conda/envs/python3/lib/python3.9/site-packages/pandas/io/formats/style.py:1265: RuntimeWarning: All-NaN slice encountered\n",
      "  smax = np.nanmax(s.to_numpy()) if vmax is None else vmax\n"
     ]
    },
    {
     "data": {
      "text/html": [
       "<style  type=\"text/css\" >\n",
       "#T_2669f_row0_col1,#T_2669f_row1_col4,#T_2669f_row2_col1,#T_2669f_row3_col1,#T_2669f_row4_col1,#T_2669f_row5_col1,#T_2669f_row6_col1,#T_2669f_row7_col1,#T_2669f_row8_col1,#T_2669f_row9_col1{\n",
       "            background-color:  #023858;\n",
       "            color:  #f1f1f1;\n",
       "        }#T_2669f_row0_col2{\n",
       "            background-color:  #b0c2de;\n",
       "            color:  #000000;\n",
       "        }#T_2669f_row0_col3{\n",
       "            background-color:  #5ea0ca;\n",
       "            color:  #000000;\n",
       "        }#T_2669f_row0_col4{\n",
       "            background-color:  #0c74b2;\n",
       "            color:  #f1f1f1;\n",
       "        }#T_2669f_row0_col5{\n",
       "            background-color:  #05659f;\n",
       "            color:  #f1f1f1;\n",
       "        }#T_2669f_row0_col6{\n",
       "            background-color:  #62a2cb;\n",
       "            color:  #000000;\n",
       "        }#T_2669f_row0_col7{\n",
       "            background-color:  #88b1d4;\n",
       "            color:  #000000;\n",
       "        }#T_2669f_row0_col8{\n",
       "            background-color:  #bdc8e1;\n",
       "            color:  #000000;\n",
       "        }#T_2669f_row0_col9{\n",
       "            background-color:  #cacee5;\n",
       "            color:  #000000;\n",
       "        }#T_2669f_row0_col10,#T_2669f_row1_col10,#T_2669f_row2_col9,#T_2669f_row3_col8,#T_2669f_row4_col7,#T_2669f_row5_col6,#T_2669f_row6_col5,#T_2669f_row7_col4,#T_2669f_row8_col3,#T_2669f_row9_col2,#T_2669f_row10_col1,#T_2669f_row10_col2,#T_2669f_row10_col3,#T_2669f_row10_col4,#T_2669f_row10_col5,#T_2669f_row10_col6,#T_2669f_row10_col7,#T_2669f_row10_col8,#T_2669f_row10_col9,#T_2669f_row10_col10,#T_2669f_row10_col11{\n",
       "            background-color:  #fff7fb;\n",
       "            color:  #000000;\n",
       "        }#T_2669f_row0_col11{\n",
       "            background-color:  #eee9f3;\n",
       "            color:  #000000;\n",
       "        }#T_2669f_row1_col1,#T_2669f_row1_col3{\n",
       "            background-color:  #034a74;\n",
       "            color:  #f1f1f1;\n",
       "        }#T_2669f_row1_col2{\n",
       "            background-color:  #056ba9;\n",
       "            color:  #f1f1f1;\n",
       "        }#T_2669f_row1_col5{\n",
       "            background-color:  #2383ba;\n",
       "            color:  #000000;\n",
       "        }#T_2669f_row1_col6{\n",
       "            background-color:  #4c99c5;\n",
       "            color:  #000000;\n",
       "        }#T_2669f_row1_col7{\n",
       "            background-color:  #4496c3;\n",
       "            color:  #000000;\n",
       "        }#T_2669f_row1_col8{\n",
       "            background-color:  #a8bedc;\n",
       "            color:  #000000;\n",
       "        }#T_2669f_row1_col9,#T_2669f_row2_col8{\n",
       "            background-color:  #faf2f8;\n",
       "            color:  #000000;\n",
       "        }#T_2669f_row1_col11,#T_2669f_row2_col10,#T_2669f_row2_col11,#T_2669f_row3_col9,#T_2669f_row3_col10,#T_2669f_row3_col11,#T_2669f_row4_col8,#T_2669f_row4_col9,#T_2669f_row4_col10,#T_2669f_row4_col11,#T_2669f_row5_col7,#T_2669f_row5_col8,#T_2669f_row5_col9,#T_2669f_row5_col10,#T_2669f_row5_col11,#T_2669f_row6_col6,#T_2669f_row6_col7,#T_2669f_row6_col8,#T_2669f_row6_col9,#T_2669f_row6_col10,#T_2669f_row6_col11,#T_2669f_row7_col5,#T_2669f_row7_col6,#T_2669f_row7_col7,#T_2669f_row7_col8,#T_2669f_row7_col9,#T_2669f_row7_col10,#T_2669f_row7_col11,#T_2669f_row8_col4,#T_2669f_row8_col5,#T_2669f_row8_col6,#T_2669f_row8_col7,#T_2669f_row8_col8,#T_2669f_row8_col9,#T_2669f_row8_col10,#T_2669f_row8_col11,#T_2669f_row9_col3,#T_2669f_row9_col4,#T_2669f_row9_col5,#T_2669f_row9_col6,#T_2669f_row9_col7,#T_2669f_row9_col8,#T_2669f_row9_col9,#T_2669f_row9_col10,#T_2669f_row9_col11,#T_2669f_row11_col1,#T_2669f_row11_col2,#T_2669f_row11_col3,#T_2669f_row11_col4,#T_2669f_row11_col5,#T_2669f_row11_col6,#T_2669f_row11_col7,#T_2669f_row11_col8,#T_2669f_row11_col9,#T_2669f_row11_col10,#T_2669f_row11_col11{\n",
       "            background-color:  #000000;\n",
       "            color:  #f1f1f1;\n",
       "        }#T_2669f_row2_col2{\n",
       "            background-color:  #0f76b3;\n",
       "            color:  #f1f1f1;\n",
       "        }#T_2669f_row2_col3{\n",
       "            background-color:  #1077b4;\n",
       "            color:  #f1f1f1;\n",
       "        }#T_2669f_row2_col4{\n",
       "            background-color:  #7eadd1;\n",
       "            color:  #000000;\n",
       "        }#T_2669f_row2_col5{\n",
       "            background-color:  #adc1dd;\n",
       "            color:  #000000;\n",
       "        }#T_2669f_row2_col6{\n",
       "            background-color:  #dbdaeb;\n",
       "            color:  #000000;\n",
       "        }#T_2669f_row2_col7,#T_2669f_row3_col4{\n",
       "            background-color:  #cccfe5;\n",
       "            color:  #000000;\n",
       "        }#T_2669f_row3_col2{\n",
       "            background-color:  #0872b1;\n",
       "            color:  #f1f1f1;\n",
       "        }#T_2669f_row3_col3{\n",
       "            background-color:  #8bb2d4;\n",
       "            color:  #000000;\n",
       "        }#T_2669f_row3_col5,#T_2669f_row4_col4{\n",
       "            background-color:  #d2d3e7;\n",
       "            color:  #000000;\n",
       "        }#T_2669f_row3_col6,#T_2669f_row5_col4{\n",
       "            background-color:  #d9d8ea;\n",
       "            color:  #000000;\n",
       "        }#T_2669f_row3_col7{\n",
       "            background-color:  #fcf4fa;\n",
       "            color:  #000000;\n",
       "        }#T_2669f_row4_col2{\n",
       "            background-color:  #5c9fc9;\n",
       "            color:  #000000;\n",
       "        }#T_2669f_row4_col3{\n",
       "            background-color:  #b9c6e0;\n",
       "            color:  #000000;\n",
       "        }#T_2669f_row4_col5{\n",
       "            background-color:  #dad9ea;\n",
       "            color:  #000000;\n",
       "        }#T_2669f_row4_col6{\n",
       "            background-color:  #fdf5fa;\n",
       "            color:  #000000;\n",
       "        }#T_2669f_row5_col2{\n",
       "            background-color:  #9ebad9;\n",
       "            color:  #000000;\n",
       "        }#T_2669f_row5_col3{\n",
       "            background-color:  #c0c9e2;\n",
       "            color:  #000000;\n",
       "        }#T_2669f_row5_col5{\n",
       "            background-color:  #fbf3f9;\n",
       "            color:  #000000;\n",
       "        }#T_2669f_row6_col2{\n",
       "            background-color:  #6da6cd;\n",
       "            color:  #000000;\n",
       "        }#T_2669f_row6_col3{\n",
       "            background-color:  #b5c4df;\n",
       "            color:  #000000;\n",
       "        }#T_2669f_row6_col4{\n",
       "            background-color:  #faf3f9;\n",
       "            color:  #000000;\n",
       "        }#T_2669f_row7_col2{\n",
       "            background-color:  #7bacd1;\n",
       "            color:  #000000;\n",
       "        }#T_2669f_row7_col3{\n",
       "            background-color:  #ede8f3;\n",
       "            color:  #000000;\n",
       "        }#T_2669f_row8_col2{\n",
       "            background-color:  #e7e3f0;\n",
       "            color:  #000000;\n",
       "        }</style><table id=\"T_2669f_\" ><thead>    <tr>        <th class=\"index_name level0\" >month_age</th>        <th class=\"col_heading level0 col0\" >0</th>        <th class=\"col_heading level0 col1\" >1</th>        <th class=\"col_heading level0 col2\" >2</th>        <th class=\"col_heading level0 col3\" >3</th>        <th class=\"col_heading level0 col4\" >4</th>        <th class=\"col_heading level0 col5\" >5</th>        <th class=\"col_heading level0 col6\" >6</th>        <th class=\"col_heading level0 col7\" >7</th>        <th class=\"col_heading level0 col8\" >8</th>        <th class=\"col_heading level0 col9\" >9</th>        <th class=\"col_heading level0 col10\" >10</th>        <th class=\"col_heading level0 col11\" >11</th>    </tr>    <tr>        <th class=\"index_name level0\" >first_month</th>        <th class=\"blank\" ></th>        <th class=\"blank\" ></th>        <th class=\"blank\" ></th>        <th class=\"blank\" ></th>        <th class=\"blank\" ></th>        <th class=\"blank\" ></th>        <th class=\"blank\" ></th>        <th class=\"blank\" ></th>        <th class=\"blank\" ></th>        <th class=\"blank\" ></th>        <th class=\"blank\" ></th>        <th class=\"blank\" ></th>    </tr></thead><tbody>\n",
       "                <tr>\n",
       "                        <th id=\"T_2669f_level0_row0\" class=\"row_heading level0 row0\" >2017-06-01 00:00:00</th>\n",
       "                        <td id=\"T_2669f_row0_col0\" class=\"data row0 col0\" >1</td>\n",
       "                        <td id=\"T_2669f_row0_col1\" class=\"data row0 col1\" >7.87%</td>\n",
       "                        <td id=\"T_2669f_row0_col2\" class=\"data row0 col2\" >5.38%</td>\n",
       "                        <td id=\"T_2669f_row0_col3\" class=\"data row0 col3\" >6.14%</td>\n",
       "                        <td id=\"T_2669f_row0_col4\" class=\"data row0 col4\" >6.86%</td>\n",
       "                        <td id=\"T_2669f_row0_col5\" class=\"data row0 col5\" >7.14%</td>\n",
       "                        <td id=\"T_2669f_row0_col6\" class=\"data row0 col6\" >6.10%</td>\n",
       "                        <td id=\"T_2669f_row0_col7\" class=\"data row0 col7\" >5.78%</td>\n",
       "                        <td id=\"T_2669f_row0_col8\" class=\"data row0 col8\" >5.23%</td>\n",
       "                        <td id=\"T_2669f_row0_col9\" class=\"data row0 col9\" >5.08%</td>\n",
       "                        <td id=\"T_2669f_row0_col10\" class=\"data row0 col10\" >4.07%</td>\n",
       "                        <td id=\"T_2669f_row0_col11\" class=\"data row0 col11\" >4.50%</td>\n",
       "            </tr>\n",
       "            <tr>\n",
       "                        <th id=\"T_2669f_level0_row1\" class=\"row_heading level0 row1\" >2017-07-01 00:00:00</th>\n",
       "                        <td id=\"T_2669f_row1_col0\" class=\"data row1 col0\" >1</td>\n",
       "                        <td id=\"T_2669f_row1_col1\" class=\"data row1 col1\" >5.61%</td>\n",
       "                        <td id=\"T_2669f_row1_col2\" class=\"data row1 col2\" >5.13%</td>\n",
       "                        <td id=\"T_2669f_row1_col3\" class=\"data row1 col3\" >5.62%</td>\n",
       "                        <td id=\"T_2669f_row1_col4\" class=\"data row1 col4\" >5.82%</td>\n",
       "                        <td id=\"T_2669f_row1_col5\" class=\"data row1 col5\" >4.82%</td>\n",
       "                        <td id=\"T_2669f_row1_col6\" class=\"data row1 col6\" >4.54%</td>\n",
       "                        <td id=\"T_2669f_row1_col7\" class=\"data row1 col7\" >4.57%</td>\n",
       "                        <td id=\"T_2669f_row1_col8\" class=\"data row1 col8\" >3.88%</td>\n",
       "                        <td id=\"T_2669f_row1_col9\" class=\"data row1 col9\" >2.86%</td>\n",
       "                        <td id=\"T_2669f_row1_col10\" class=\"data row1 col10\" >2.75%</td>\n",
       "                        <td id=\"T_2669f_row1_col11\" class=\"data row1 col11\" >nan%</td>\n",
       "            </tr>\n",
       "            <tr>\n",
       "                        <th id=\"T_2669f_level0_row2\" class=\"row_heading level0 row2\" >2017-08-01 00:00:00</th>\n",
       "                        <td id=\"T_2669f_row2_col0\" class=\"data row2 col0\" >1</td>\n",
       "                        <td id=\"T_2669f_row2_col1\" class=\"data row2 col1\" >7.69%</td>\n",
       "                        <td id=\"T_2669f_row2_col2\" class=\"data row2 col2\" >6.29%</td>\n",
       "                        <td id=\"T_2669f_row2_col3\" class=\"data row2 col3\" >6.28%</td>\n",
       "                        <td id=\"T_2669f_row2_col4\" class=\"data row2 col4\" >5.01%</td>\n",
       "                        <td id=\"T_2669f_row2_col5\" class=\"data row2 col5\" >4.40%</td>\n",
       "                        <td id=\"T_2669f_row2_col6\" class=\"data row2 col6\" >3.63%</td>\n",
       "                        <td id=\"T_2669f_row2_col7\" class=\"data row2 col7\" >3.95%</td>\n",
       "                        <td id=\"T_2669f_row2_col8\" class=\"data row2 col8\" >2.79%</td>\n",
       "                        <td id=\"T_2669f_row2_col9\" class=\"data row2 col9\" >2.60%</td>\n",
       "                        <td id=\"T_2669f_row2_col10\" class=\"data row2 col10\" >nan%</td>\n",
       "                        <td id=\"T_2669f_row2_col11\" class=\"data row2 col11\" >nan%</td>\n",
       "            </tr>\n",
       "            <tr>\n",
       "                        <th id=\"T_2669f_level0_row3\" class=\"row_heading level0 row3\" >2017-09-01 00:00:00</th>\n",
       "                        <td id=\"T_2669f_row3_col0\" class=\"data row3 col0\" >1</td>\n",
       "                        <td id=\"T_2669f_row3_col1\" class=\"data row3 col1\" >8.55%</td>\n",
       "                        <td id=\"T_2669f_row3_col2\" class=\"data row3 col2\" >6.92%</td>\n",
       "                        <td id=\"T_2669f_row3_col3\" class=\"data row3 col3\" >5.07%</td>\n",
       "                        <td id=\"T_2669f_row3_col4\" class=\"data row3 col4\" >3.94%</td>\n",
       "                        <td id=\"T_2669f_row3_col5\" class=\"data row3 col5\" >3.78%</td>\n",
       "                        <td id=\"T_2669f_row3_col6\" class=\"data row3 col6\" >3.59%</td>\n",
       "                        <td id=\"T_2669f_row3_col7\" class=\"data row3 col7\" >2.42%</td>\n",
       "                        <td id=\"T_2669f_row3_col8\" class=\"data row3 col8\" >2.28%</td>\n",
       "                        <td id=\"T_2669f_row3_col9\" class=\"data row3 col9\" >nan%</td>\n",
       "                        <td id=\"T_2669f_row3_col10\" class=\"data row3 col10\" >nan%</td>\n",
       "                        <td id=\"T_2669f_row3_col11\" class=\"data row3 col11\" >nan%</td>\n",
       "            </tr>\n",
       "            <tr>\n",
       "                        <th id=\"T_2669f_level0_row4\" class=\"row_heading level0 row4\" >2017-10-01 00:00:00</th>\n",
       "                        <td id=\"T_2669f_row4_col0\" class=\"data row4 col0\" >1</td>\n",
       "                        <td id=\"T_2669f_row4_col1\" class=\"data row4 col1\" >7.86%</td>\n",
       "                        <td id=\"T_2669f_row4_col2\" class=\"data row4 col2\" >5.22%</td>\n",
       "                        <td id=\"T_2669f_row4_col3\" class=\"data row4 col3\" >3.90%</td>\n",
       "                        <td id=\"T_2669f_row4_col4\" class=\"data row4 col4\" >3.43%</td>\n",
       "                        <td id=\"T_2669f_row4_col5\" class=\"data row4 col5\" >3.22%</td>\n",
       "                        <td id=\"T_2669f_row4_col6\" class=\"data row4 col6\" >2.14%</td>\n",
       "                        <td id=\"T_2669f_row4_col7\" class=\"data row4 col7\" >2.04%</td>\n",
       "                        <td id=\"T_2669f_row4_col8\" class=\"data row4 col8\" >nan%</td>\n",
       "                        <td id=\"T_2669f_row4_col9\" class=\"data row4 col9\" >nan%</td>\n",
       "                        <td id=\"T_2669f_row4_col10\" class=\"data row4 col10\" >nan%</td>\n",
       "                        <td id=\"T_2669f_row4_col11\" class=\"data row4 col11\" >nan%</td>\n",
       "            </tr>\n",
       "            <tr>\n",
       "                        <th id=\"T_2669f_level0_row5\" class=\"row_heading level0 row5\" >2017-11-01 00:00:00</th>\n",
       "                        <td id=\"T_2669f_row5_col0\" class=\"data row5 col0\" >1</td>\n",
       "                        <td id=\"T_2669f_row5_col1\" class=\"data row5 col1\" >7.83%</td>\n",
       "                        <td id=\"T_2669f_row5_col2\" class=\"data row5 col2\" >4.41%</td>\n",
       "                        <td id=\"T_2669f_row5_col3\" class=\"data row5 col3\" >3.87%</td>\n",
       "                        <td id=\"T_2669f_row5_col4\" class=\"data row5 col4\" >3.37%</td>\n",
       "                        <td id=\"T_2669f_row5_col5\" class=\"data row5 col5\" >2.34%</td>\n",
       "                        <td id=\"T_2669f_row5_col6\" class=\"data row5 col6\" >2.18%</td>\n",
       "                        <td id=\"T_2669f_row5_col7\" class=\"data row5 col7\" >nan%</td>\n",
       "                        <td id=\"T_2669f_row5_col8\" class=\"data row5 col8\" >nan%</td>\n",
       "                        <td id=\"T_2669f_row5_col9\" class=\"data row5 col9\" >nan%</td>\n",
       "                        <td id=\"T_2669f_row5_col10\" class=\"data row5 col10\" >nan%</td>\n",
       "                        <td id=\"T_2669f_row5_col11\" class=\"data row5 col11\" >nan%</td>\n",
       "            </tr>\n",
       "            <tr>\n",
       "                        <th id=\"T_2669f_level0_row6\" class=\"row_heading level0 row6\" >2017-12-01 00:00:00</th>\n",
       "                        <td id=\"T_2669f_row6_col0\" class=\"data row6 col0\" >1</td>\n",
       "                        <td id=\"T_2669f_row6_col1\" class=\"data row6 col1\" >5.58%</td>\n",
       "                        <td id=\"T_2669f_row6_col2\" class=\"data row6 col2\" >3.80%</td>\n",
       "                        <td id=\"T_2669f_row6_col3\" class=\"data row6 col3\" >3.11%</td>\n",
       "                        <td id=\"T_2669f_row6_col4\" class=\"data row6 col4\" >2.03%</td>\n",
       "                        <td id=\"T_2669f_row6_col5\" class=\"data row6 col5\" >1.90%</td>\n",
       "                        <td id=\"T_2669f_row6_col6\" class=\"data row6 col6\" >nan%</td>\n",
       "                        <td id=\"T_2669f_row6_col7\" class=\"data row6 col7\" >nan%</td>\n",
       "                        <td id=\"T_2669f_row6_col8\" class=\"data row6 col8\" >nan%</td>\n",
       "                        <td id=\"T_2669f_row6_col9\" class=\"data row6 col9\" >nan%</td>\n",
       "                        <td id=\"T_2669f_row6_col10\" class=\"data row6 col10\" >nan%</td>\n",
       "                        <td id=\"T_2669f_row6_col11\" class=\"data row6 col11\" >nan%</td>\n",
       "            </tr>\n",
       "            <tr>\n",
       "                        <th id=\"T_2669f_level0_row7\" class=\"row_heading level0 row7\" >2018-01-01 00:00:00</th>\n",
       "                        <td id=\"T_2669f_row7_col0\" class=\"data row7 col0\" >1</td>\n",
       "                        <td id=\"T_2669f_row7_col1\" class=\"data row7 col1\" >5.97%</td>\n",
       "                        <td id=\"T_2669f_row7_col2\" class=\"data row7 col2\" >3.93%</td>\n",
       "                        <td id=\"T_2669f_row7_col3\" class=\"data row7 col3\" >2.50%</td>\n",
       "                        <td id=\"T_2669f_row7_col4\" class=\"data row7 col4\" >2.02%</td>\n",
       "                        <td id=\"T_2669f_row7_col5\" class=\"data row7 col5\" >nan%</td>\n",
       "                        <td id=\"T_2669f_row7_col6\" class=\"data row7 col6\" >nan%</td>\n",
       "                        <td id=\"T_2669f_row7_col7\" class=\"data row7 col7\" >nan%</td>\n",
       "                        <td id=\"T_2669f_row7_col8\" class=\"data row7 col8\" >nan%</td>\n",
       "                        <td id=\"T_2669f_row7_col9\" class=\"data row7 col9\" >nan%</td>\n",
       "                        <td id=\"T_2669f_row7_col10\" class=\"data row7 col10\" >nan%</td>\n",
       "                        <td id=\"T_2669f_row7_col11\" class=\"data row7 col11\" >nan%</td>\n",
       "            </tr>\n",
       "            <tr>\n",
       "                        <th id=\"T_2669f_level0_row8\" class=\"row_heading level0 row8\" >2018-02-01 00:00:00</th>\n",
       "                        <td id=\"T_2669f_row8_col0\" class=\"data row8 col0\" >1</td>\n",
       "                        <td id=\"T_2669f_row8_col1\" class=\"data row8 col1\" >5.71%</td>\n",
       "                        <td id=\"T_2669f_row8_col2\" class=\"data row8 col2\" >2.55%</td>\n",
       "                        <td id=\"T_2669f_row8_col3\" class=\"data row8 col3\" >2.01%</td>\n",
       "                        <td id=\"T_2669f_row8_col4\" class=\"data row8 col4\" >nan%</td>\n",
       "                        <td id=\"T_2669f_row8_col5\" class=\"data row8 col5\" >nan%</td>\n",
       "                        <td id=\"T_2669f_row8_col6\" class=\"data row8 col6\" >nan%</td>\n",
       "                        <td id=\"T_2669f_row8_col7\" class=\"data row8 col7\" >nan%</td>\n",
       "                        <td id=\"T_2669f_row8_col8\" class=\"data row8 col8\" >nan%</td>\n",
       "                        <td id=\"T_2669f_row8_col9\" class=\"data row8 col9\" >nan%</td>\n",
       "                        <td id=\"T_2669f_row8_col10\" class=\"data row8 col10\" >nan%</td>\n",
       "                        <td id=\"T_2669f_row8_col11\" class=\"data row8 col11\" >nan%</td>\n",
       "            </tr>\n",
       "            <tr>\n",
       "                        <th id=\"T_2669f_level0_row9\" class=\"row_heading level0 row9\" >2018-03-01 00:00:00</th>\n",
       "                        <td id=\"T_2669f_row9_col0\" class=\"data row9 col0\" >1</td>\n",
       "                        <td id=\"T_2669f_row9_col1\" class=\"data row9 col1\" >4.18%</td>\n",
       "                        <td id=\"T_2669f_row9_col2\" class=\"data row9 col2\" >2.71%</td>\n",
       "                        <td id=\"T_2669f_row9_col3\" class=\"data row9 col3\" >nan%</td>\n",
       "                        <td id=\"T_2669f_row9_col4\" class=\"data row9 col4\" >nan%</td>\n",
       "                        <td id=\"T_2669f_row9_col5\" class=\"data row9 col5\" >nan%</td>\n",
       "                        <td id=\"T_2669f_row9_col6\" class=\"data row9 col6\" >nan%</td>\n",
       "                        <td id=\"T_2669f_row9_col7\" class=\"data row9 col7\" >nan%</td>\n",
       "                        <td id=\"T_2669f_row9_col8\" class=\"data row9 col8\" >nan%</td>\n",
       "                        <td id=\"T_2669f_row9_col9\" class=\"data row9 col9\" >nan%</td>\n",
       "                        <td id=\"T_2669f_row9_col10\" class=\"data row9 col10\" >nan%</td>\n",
       "                        <td id=\"T_2669f_row9_col11\" class=\"data row9 col11\" >nan%</td>\n",
       "            </tr>\n",
       "            <tr>\n",
       "                        <th id=\"T_2669f_level0_row10\" class=\"row_heading level0 row10\" >2018-04-01 00:00:00</th>\n",
       "                        <td id=\"T_2669f_row10_col0\" class=\"data row10 col0\" >1</td>\n",
       "                        <td id=\"T_2669f_row10_col1\" class=\"data row10 col1\" >4.84%</td>\n",
       "                        <td id=\"T_2669f_row10_col2\" class=\"data row10 col2\" >nan%</td>\n",
       "                        <td id=\"T_2669f_row10_col3\" class=\"data row10 col3\" >nan%</td>\n",
       "                        <td id=\"T_2669f_row10_col4\" class=\"data row10 col4\" >nan%</td>\n",
       "                        <td id=\"T_2669f_row10_col5\" class=\"data row10 col5\" >nan%</td>\n",
       "                        <td id=\"T_2669f_row10_col6\" class=\"data row10 col6\" >nan%</td>\n",
       "                        <td id=\"T_2669f_row10_col7\" class=\"data row10 col7\" >nan%</td>\n",
       "                        <td id=\"T_2669f_row10_col8\" class=\"data row10 col8\" >nan%</td>\n",
       "                        <td id=\"T_2669f_row10_col9\" class=\"data row10 col9\" >nan%</td>\n",
       "                        <td id=\"T_2669f_row10_col10\" class=\"data row10 col10\" >nan%</td>\n",
       "                        <td id=\"T_2669f_row10_col11\" class=\"data row10 col11\" >nan%</td>\n",
       "            </tr>\n",
       "            <tr>\n",
       "                        <th id=\"T_2669f_level0_row11\" class=\"row_heading level0 row11\" >2018-05-01 00:00:00</th>\n",
       "                        <td id=\"T_2669f_row11_col0\" class=\"data row11 col0\" >1</td>\n",
       "                        <td id=\"T_2669f_row11_col1\" class=\"data row11 col1\" >nan%</td>\n",
       "                        <td id=\"T_2669f_row11_col2\" class=\"data row11 col2\" >nan%</td>\n",
       "                        <td id=\"T_2669f_row11_col3\" class=\"data row11 col3\" >nan%</td>\n",
       "                        <td id=\"T_2669f_row11_col4\" class=\"data row11 col4\" >nan%</td>\n",
       "                        <td id=\"T_2669f_row11_col5\" class=\"data row11 col5\" >nan%</td>\n",
       "                        <td id=\"T_2669f_row11_col6\" class=\"data row11 col6\" >nan%</td>\n",
       "                        <td id=\"T_2669f_row11_col7\" class=\"data row11 col7\" >nan%</td>\n",
       "                        <td id=\"T_2669f_row11_col8\" class=\"data row11 col8\" >nan%</td>\n",
       "                        <td id=\"T_2669f_row11_col9\" class=\"data row11 col9\" >nan%</td>\n",
       "                        <td id=\"T_2669f_row11_col10\" class=\"data row11 col10\" >nan%</td>\n",
       "                        <td id=\"T_2669f_row11_col11\" class=\"data row11 col11\" >nan%</td>\n",
       "            </tr>\n",
       "    </tbody></table>"
      ],
      "text/plain": [
       "<pandas.io.formats.style.Styler at 0x7fc9ff6223d0>"
      ]
     },
     "execution_count": 30,
     "metadata": {},
     "output_type": "execute_result"
    }
   ],
   "source": [
    "format_frame = {col: \"{:.2%}\" for col in range(1, 12, 1)}\n",
    "format_frame[0] = \"{:.0f}\"\n",
    "(\n",
    "    visits_retention_rate\n",
    "    .style\n",
    "    .background_gradient(\n",
    "        axis=1, subset=[col for col in range(1, 12)]\n",
    "    ).format(format_frame)\n",
    "    \n",
    ")"
   ]
  },
  {
   "cell_type": "code",
   "execution_count": 31,
   "metadata": {},
   "outputs": [
    {
     "data": {
      "text/plain": [
       "0.06516659710392834"
      ]
     },
     "execution_count": 31,
     "metadata": {},
     "output_type": "execute_result"
    }
   ],
   "source": [
    "visits_retention_rate[1].mean()"
   ]
  },
  {
   "cell_type": "code",
   "execution_count": 32,
   "metadata": {},
   "outputs": [
    {
     "data": {
      "text/plain": [
       "0.04167273087332413"
      ]
     },
     "execution_count": 32,
     "metadata": {},
     "output_type": "execute_result"
    }
   ],
   "source": [
    "visits_retention_rate.iloc[:,1:].mean().mean()"
   ]
  },
  {
   "cell_type": "markdown",
   "metadata": {},
   "source": [
    "Con el resultado anterior se muestra el promedio de una tasa de retención global del 4.16%, la cual responde a la pregunta de con que frecuencia los usuarios regresan. Y a continuación se observa graficamente dichas tasas de retención con el tiempo."
   ]
  },
  {
   "cell_type": "code",
   "execution_count": 33,
   "metadata": {},
   "outputs": [
    {
     "data": {
      "text/plain": [
       "<AxesSubplot:xlabel='month_age'>"
      ]
     },
     "execution_count": 33,
     "metadata": {},
     "output_type": "execute_result"
    },
    {
     "data": {
      "image/png": "[encoded data removed]",
      "text/plain": [
       "<Figure size 640x480 with 1 Axes>"
      ]
     },
     "metadata": {},
     "output_type": "display_data"
    }
   ],
   "source": [
    "visits_retention_rate.iloc[:,1:].mean().plot(kind='line')"
   ]
  },
  {
   "cell_type": "markdown",
   "metadata": {},
   "source": [
    "<div class=\"alert alert-block alert-success\">\n",
    "<b>Comentario del revisor (1ra Iteración)</b> <a class=“tocSkip”></a>\n",
    "    \n",
    "Excelente Trabajo dando respuesta a la pregunta *¿Con qué frecuencia los usuarios regresan?*. Es evidente tu dominio de la función `pivot_table` y de la creación del *heat map*\n",
    "</div>\n",
    "\n",
    "<div class=\"alert alert-block alert-danger\">\n",
    "<b>Comentario del revisor (1ra Iteración)</b> <a class=“tocSkip”></a>\n",
    "\n",
    "    \n",
    "Hiciste un gran trabajo dando rspuesta a la mayoría de preguntas con respescto a las visitas de los usuarios. Sin embargo, te faltó responder la siguiente pregunta. **¿Cuántas sesiones hay por día? (Un usuario puede tener más de una sesión).**\n",
    "    \n",
    "Recuerda separar cada sección del código de acuerdo con su respectiva pregunta, para darle más claridad al notebook.\n",
    "\n",
    "</div>\n",
    "\n",
    "\n"
   ]
  },
  {
   "cell_type": "markdown",
   "metadata": {},
   "source": [
    "<div class=\"alert alert-block alert-info\">\n",
    "<b>Respuesta del estudiante</b> <a class=“tocSkip”></a>\n",
    "    Se contesto esta obervación arriba y se anotaron los comentarios correspondientes.\n",
    "</div> "
   ]
  },
  {
   "cell_type": "markdown",
   "metadata": {},
   "source": [
    "<div class=\"alert alert-block alert-success\">\n",
    "<b>Comentario del revisor (2da Iteración)</b> <a class=“tocSkip”></a>\n",
    "\n",
    "Buen trabajo con los ajustes  Pablo\n",
    "\n",
    "</div>\n"
   ]
  },
  {
   "cell_type": "markdown",
   "metadata": {},
   "source": [
    "## Ventas:\n",
    "\n",
    "**¿Cuándo empieza la gente a comprar?** (En el análisis de KPI, generalmente nos interesa saber el tiempo que transcurre entre el registro y la conversión, es decir, cuando el usuario se convierte en cliente. Por ejemplo, si el registro y la primera compra ocurren el mismo día, el usuario podría caer en la categoría Conversion 0d. Si la primera compra ocurre al día siguiente, será Conversion 1d. Puedes usar cualquier enfoque que te permita comparar las conversiones de diferentes cohortes para que puedas determinar qué cohorte o canal de marketing es más efectivo.)"
   ]
  },
  {
   "cell_type": "code",
   "execution_count": 34,
   "metadata": {},
   "outputs": [
    {
     "data": {
      "text/plain": [
       "Index(['buy_ts', 'revenue', 'uid', 'day', 'week', 'month'], dtype='object')"
      ]
     },
     "execution_count": 34,
     "metadata": {},
     "output_type": "execute_result"
    }
   ],
   "source": [
    "orders.columns"
   ]
  },
  {
   "cell_type": "code",
   "execution_count": 35,
   "metadata": {},
   "outputs": [
    {
     "data": {
      "text/html": [
       "<div>\n",
       "<style scoped>\n",
       "    .dataframe tbody tr th:only-of-type {\n",
       "        vertical-align: middle;\n",
       "    }\n",
       "\n",
       "    .dataframe tbody tr th {\n",
       "        vertical-align: top;\n",
       "    }\n",
       "\n",
       "    .dataframe thead th {\n",
       "        text-align: right;\n",
       "    }\n",
       "</style>\n",
       "<table border=\"1\" class=\"dataframe\">\n",
       "  <thead>\n",
       "    <tr style=\"text-align: right;\">\n",
       "      <th></th>\n",
       "      <th>first_order_at</th>\n",
       "      <th>revenue</th>\n",
       "      <th>uid</th>\n",
       "      <th>day</th>\n",
       "      <th>week</th>\n",
       "      <th>first_order_month</th>\n",
       "    </tr>\n",
       "  </thead>\n",
       "  <tbody>\n",
       "    <tr>\n",
       "      <th>0</th>\n",
       "      <td>2017-06-01 00:10:00</td>\n",
       "      <td>17.00</td>\n",
       "      <td>10329302124590727494</td>\n",
       "      <td>2017-06-01</td>\n",
       "      <td>2017-05-29</td>\n",
       "      <td>2017-06-01</td>\n",
       "    </tr>\n",
       "    <tr>\n",
       "      <th>1</th>\n",
       "      <td>2017-06-01 00:25:00</td>\n",
       "      <td>0.55</td>\n",
       "      <td>11627257723692907447</td>\n",
       "      <td>2017-06-01</td>\n",
       "      <td>2017-05-29</td>\n",
       "      <td>2017-06-01</td>\n",
       "    </tr>\n",
       "    <tr>\n",
       "      <th>2</th>\n",
       "      <td>2017-06-01 00:27:00</td>\n",
       "      <td>0.37</td>\n",
       "      <td>17903680561304213844</td>\n",
       "      <td>2017-06-01</td>\n",
       "      <td>2017-05-29</td>\n",
       "      <td>2017-06-01</td>\n",
       "    </tr>\n",
       "    <tr>\n",
       "      <th>3</th>\n",
       "      <td>2017-06-01 00:29:00</td>\n",
       "      <td>0.55</td>\n",
       "      <td>16109239769442553005</td>\n",
       "      <td>2017-06-01</td>\n",
       "      <td>2017-05-29</td>\n",
       "      <td>2017-06-01</td>\n",
       "    </tr>\n",
       "    <tr>\n",
       "      <th>4</th>\n",
       "      <td>2017-06-01 07:58:00</td>\n",
       "      <td>0.37</td>\n",
       "      <td>14200605875248379450</td>\n",
       "      <td>2017-06-01</td>\n",
       "      <td>2017-05-29</td>\n",
       "      <td>2017-06-01</td>\n",
       "    </tr>\n",
       "  </tbody>\n",
       "</table>\n",
       "</div>"
      ],
      "text/plain": [
       "       first_order_at  revenue                   uid        day       week  \\\n",
       "0 2017-06-01 00:10:00    17.00  10329302124590727494 2017-06-01 2017-05-29   \n",
       "1 2017-06-01 00:25:00     0.55  11627257723692907447 2017-06-01 2017-05-29   \n",
       "2 2017-06-01 00:27:00     0.37  17903680561304213844 2017-06-01 2017-05-29   \n",
       "3 2017-06-01 00:29:00     0.55  16109239769442553005 2017-06-01 2017-05-29   \n",
       "4 2017-06-01 07:58:00     0.37  14200605875248379450 2017-06-01 2017-05-29   \n",
       "\n",
       "  first_order_month  \n",
       "0        2017-06-01  \n",
       "1        2017-06-01  \n",
       "2        2017-06-01  \n",
       "3        2017-06-01  \n",
       "4        2017-06-01  "
      ]
     },
     "execution_count": 35,
     "metadata": {},
     "output_type": "execute_result"
    }
   ],
   "source": [
    "first_orders = (\n",
    "    orders\n",
    "    .sort_values(by='buy_ts')\n",
    "    .groupby('uid')\n",
    "    .head(1)\n",
    "    .rename(columns={'month':'first_order_month',\n",
    "                    'buy_ts':'first_order_at'})\n",
    ")\n",
    "first_orders.head()"
   ]
  },
  {
   "cell_type": "code",
   "execution_count": 36,
   "metadata": {},
   "outputs": [
    {
     "data": {
      "text/plain": [
       "Index(['device', 'end_ts', 'source_id', 'first_visit_at', 'uid', 'day', 'week',\n",
       "       'first_month', 'session_duration'],\n",
       "      dtype='object')"
      ]
     },
     "execution_count": 36,
     "metadata": {},
     "output_type": "execute_result"
    }
   ],
   "source": [
    "first_visits.columns"
   ]
  },
  {
   "cell_type": "code",
   "execution_count": 37,
   "metadata": {},
   "outputs": [
    {
     "data": {
      "text/html": [
       "<div>\n",
       "<style scoped>\n",
       "    .dataframe tbody tr th:only-of-type {\n",
       "        vertical-align: middle;\n",
       "    }\n",
       "\n",
       "    .dataframe tbody tr th {\n",
       "        vertical-align: top;\n",
       "    }\n",
       "\n",
       "    .dataframe thead th {\n",
       "        text-align: right;\n",
       "    }\n",
       "</style>\n",
       "<table border=\"1\" class=\"dataframe\">\n",
       "  <thead>\n",
       "    <tr style=\"text-align: right;\">\n",
       "      <th></th>\n",
       "      <th>uid</th>\n",
       "      <th>first_order_month</th>\n",
       "      <th>first_order_at</th>\n",
       "      <th>first_visit_at</th>\n",
       "      <th>first_month</th>\n",
       "      <th>source_id</th>\n",
       "      <th>time_to_order</th>\n",
       "    </tr>\n",
       "  </thead>\n",
       "  <tbody>\n",
       "    <tr>\n",
       "      <th>0</th>\n",
       "      <td>10329302124590727494</td>\n",
       "      <td>2017-06-01</td>\n",
       "      <td>2017-06-01 00:10:00</td>\n",
       "      <td>2017-06-01 00:09:00</td>\n",
       "      <td>2017-06-01</td>\n",
       "      <td>1</td>\n",
       "      <td>0.016667</td>\n",
       "    </tr>\n",
       "    <tr>\n",
       "      <th>1</th>\n",
       "      <td>11627257723692907447</td>\n",
       "      <td>2017-06-01</td>\n",
       "      <td>2017-06-01 00:25:00</td>\n",
       "      <td>2017-06-01 00:14:00</td>\n",
       "      <td>2017-06-01</td>\n",
       "      <td>2</td>\n",
       "      <td>0.183333</td>\n",
       "    </tr>\n",
       "  </tbody>\n",
       "</table>\n",
       "</div>"
      ],
      "text/plain": [
       "                    uid first_order_month      first_order_at  \\\n",
       "0  10329302124590727494        2017-06-01 2017-06-01 00:10:00   \n",
       "1  11627257723692907447        2017-06-01 2017-06-01 00:25:00   \n",
       "\n",
       "       first_visit_at first_month  source_id  time_to_order  \n",
       "0 2017-06-01 00:09:00  2017-06-01          1       0.016667  \n",
       "1 2017-06-01 00:14:00  2017-06-01          2       0.183333  "
      ]
     },
     "execution_count": 37,
     "metadata": {},
     "output_type": "execute_result"
    }
   ],
   "source": [
    "coversion_timestamps = pd.merge(\n",
    "    first_orders[['uid', 'first_order_month', 'first_order_at']],\n",
    "    first_visits[['uid', 'first_visit_at', 'first_month', 'source_id']]\n",
    ")\n",
    "coversion_timestamps['time_to_order'] = coversion_timestamps['first_order_at'] - coversion_timestamps['first_visit_at']\n",
    "coversion_timestamps['time_to_order'] /= np.timedelta64(1, 'h')\n",
    "coversion_timestamps.head(2)"
   ]
  },
  {
   "cell_type": "code",
   "execution_count": 38,
   "metadata": {},
   "outputs": [
    {
     "data": {
      "text/plain": [
       "count    36523.000000\n",
       "mean       405.669597\n",
       "std       1129.746245\n",
       "min          0.000000\n",
       "25%          0.066667\n",
       "50%          0.266667\n",
       "75%         48.283333\n",
       "max       8719.066667\n",
       "Name: time_to_order, dtype: float64"
      ]
     },
     "execution_count": 38,
     "metadata": {},
     "output_type": "execute_result"
    }
   ],
   "source": [
    "coversion_timestamps['time_to_order'].describe()"
   ]
  },
  {
   "cell_type": "markdown",
   "metadata": {},
   "source": [
    "En los pasos anteriores, se crea primero first_orders para juntarlo con first_visits, esto con la finalidad de saber en primera instancia en que momento empiezan o hacen su primera compra después de su primera visita y después se hizo el cálculo para obtener el time_to_order"
   ]
  },
  {
   "cell_type": "code",
   "execution_count": 39,
   "metadata": {},
   "outputs": [
    {
     "name": "stdout",
     "output_type": "stream",
     "text": [
      "Conversion 0d: 72.182%\n",
      "Conversion 1d: 74.950%\n",
      "Conversion 2d: 76.492%\n",
      "Conversion 3d: 77.680%\n",
      "Conversion 7d: 80.018%\n",
      "Conversion 14d: 82.822%\n",
      "Conversion 28d: 86.053%\n",
      "Conversion 50d: 89.201%\n",
      "Conversion 100: 93.566%\n"
     ]
    }
   ],
   "source": [
    "conversion_hours = {\n",
    "    '0d': 24,\n",
    "    '1d': 48,\n",
    "    '2d': 72,\n",
    "    '3d': 96,\n",
    "    '7d': 168,\n",
    "    '14d': 336,\n",
    "    '28d': 672,\n",
    "    '50d': 1224,\n",
    "    '100': 2424\n",
    "}\n",
    "\n",
    "total_users = len(coversion_timestamps)\n",
    "\n",
    "for label, hours in conversion_hours.items():\n",
    "    conversion_rate = sum(coversion_timestamps['time_to_order'] < hours) / total_users\n",
    "    \n",
    "    print(f\"Conversion {label}: {conversion_rate:.3%}\")"
   ]
  },
  {
   "cell_type": "code",
   "execution_count": 40,
   "metadata": {},
   "outputs": [
    {
     "data": {
      "image/png": "[encoded data removed]",
      "text/plain": [
       "<Figure size 640x480 with 1 Axes>"
      ]
     },
     "metadata": {},
     "output_type": "display_data"
    }
   ],
   "source": [
    "coversion_timestamps['time_to_order'].hist(bins=5)\n",
    "plt.xlabel('Time (hours)')\n",
    "plt.ylabel('Users')\n",
    "plt.title(\"Time to order\")\n",
    "plt.show()"
   ]
  },
  {
   "cell_type": "markdown",
   "metadata": {},
   "source": [
    "<div class=\"alert alert-block alert-danger\">\n",
    "<b>Comentario del revisor (1ra Iteración)</b> <a class=“tocSkip”></a>\n",
    "    \n",
    "Aunque tu lógica para responder la pregunta *¿Cuándo empieza la gente a comprar?*, es adecuada la gráfica que obtienes no es del todo correcta, además no es claro que representa cada eje. Por esa razón es importante colocar los nombres de X y Y, además del título. \n",
    "    \n",
    "Por otro lado, podrias hacer el calculo de tiempo entre la primera visita y la primera compra, no en horas `(np.timedelta64(1, 'h'))`, sino directamente en días, para esto puedes usar la siguiente expresión:\n",
    "      \n",
    "    np.timedelta64(1,'D')).astype('int')     \n",
    "</div>"
   ]
  },
  {
   "cell_type": "markdown",
   "metadata": {},
   "source": [
    "<div class=\"alert alert-block alert-info\">\n",
    "<b>Respuesta del estudiante</b> <a class=“tocSkip”></a>\n",
    "    Respecto a los comentarios se realizó un .describe() para observar el comportamiento de los datos y al principio se dejo en horas porque en días quedaba muy extenso como se muestra en el metodo describe(), ya se colocaron los datos necesarios del histograma y es que si lo hago directamente en días, como quedaría el bucle? o la grafica también no tendría sentido? o hay que cambiar de tipo de gráfica? \n",
    "</div> "
   ]
  },
  {
   "cell_type": "markdown",
   "metadata": {},
   "source": [
    "<div class=\"alert alert-block alert-warning\">\n",
    "<b>Comentario del revisor (2da Iteración)</b> <a class=“tocSkip”></a>\n",
    "    \n",
    "En el contexto del proyecto, la información por días es más valiosa, pero en general el comportamiento de la distribución de los datos será similar, donde la mayoría de compras se hacen en los primeros días.\n",
    "    \n",
    "    \n",
    "</div>"
   ]
  },
  {
   "cell_type": "markdown",
   "metadata": {},
   "source": [
    "**¿Cuántos pedidos hacen durante un período de tiempo dado?**\n"
   ]
  },
  {
   "cell_type": "code",
   "execution_count": 41,
   "metadata": {},
   "outputs": [
    {
     "data": {
      "text/plain": [
       "count    364.000000\n",
       "mean     138.502747\n",
       "std       76.858480\n",
       "min        1.000000\n",
       "25%       82.750000\n",
       "50%      136.000000\n",
       "75%      177.000000\n",
       "max      814.000000\n",
       "Name: uid, dtype: float64"
      ]
     },
     "execution_count": 41,
     "metadata": {},
     "output_type": "execute_result"
    }
   ],
   "source": [
    "orders_per_day = orders.groupby('day')['uid'].count()\n",
    "orders_per_day.describe()"
   ]
  },
  {
   "cell_type": "code",
   "execution_count": 42,
   "metadata": {},
   "outputs": [
    {
     "data": {
      "text/plain": [
       "<AxesSubplot:>"
      ]
     },
     "execution_count": 42,
     "metadata": {},
     "output_type": "execute_result"
    },
    {
     "data": {
      "image/png": "[encoded data removed]",
      "text/plain": [
       "<Figure size 640x480 with 1 Axes>"
      ]
     },
     "metadata": {},
     "output_type": "display_data"
    }
   ],
   "source": [
    "orders_per_day.plot(kind='box')"
   ]
  },
  {
   "cell_type": "markdown",
   "metadata": {},
   "source": [
    "De acuerdo al gráfico anterior y la descripción de los datos podemos decir que La media y la mediana son similares, lo que sugiere simetría en la mayoría de los datos y que por lo tanto decir que hay 138 pedidos es correcto a pesar de tener algunos datos sesgados."
   ]
  },
  {
   "cell_type": "code",
   "execution_count": 43,
   "metadata": {},
   "outputs": [
    {
     "data": {
      "text/plain": [
       "count      53.000000\n",
       "mean      951.226415\n",
       "std       396.439958\n",
       "min       314.000000\n",
       "25%       636.000000\n",
       "50%       991.000000\n",
       "75%      1257.000000\n",
       "max      1894.000000\n",
       "Name: uid, dtype: float64"
      ]
     },
     "execution_count": 43,
     "metadata": {},
     "output_type": "execute_result"
    }
   ],
   "source": [
    "orders_per_week = orders.groupby('week')['uid'].count()\n",
    "orders_per_week.describe()"
   ]
  },
  {
   "cell_type": "code",
   "execution_count": 44,
   "metadata": {},
   "outputs": [
    {
     "data": {
      "text/plain": [
       "<AxesSubplot:>"
      ]
     },
     "execution_count": 44,
     "metadata": {},
     "output_type": "execute_result"
    },
    {
     "data": {
      "image/png": "[encoded data removed]",
      "text/plain": [
       "<Figure size 640x480 with 1 Axes>"
      ]
     },
     "metadata": {},
     "output_type": "display_data"
    }
   ],
   "source": [
    "orders_per_week.plot(kind='box')"
   ]
  },
  {
   "cell_type": "markdown",
   "metadata": {},
   "source": [
    "En promedio hay 951 ordenes por semana, debido a la simetria de los datos "
   ]
  },
  {
   "cell_type": "code",
   "execution_count": 45,
   "metadata": {},
   "outputs": [
    {
     "data": {
      "text/plain": [
       "count      13.000000\n",
       "mean     3878.076923\n",
       "std      1858.113401\n",
       "min         1.000000\n",
       "25%      2363.000000\n",
       "50%      4346.000000\n",
       "75%      5326.000000\n",
       "max      6218.000000\n",
       "Name: uid, dtype: float64"
      ]
     },
     "execution_count": 45,
     "metadata": {},
     "output_type": "execute_result"
    }
   ],
   "source": [
    "orders_per_month = orders.groupby('month')['uid'].count()\n",
    "orders_per_month.describe()"
   ]
  },
  {
   "cell_type": "code",
   "execution_count": 46,
   "metadata": {},
   "outputs": [
    {
     "data": {
      "text/plain": [
       "<AxesSubplot:>"
      ]
     },
     "execution_count": 46,
     "metadata": {},
     "output_type": "execute_result"
    },
    {
     "data": {
      "image/png": "[encoded data removed]",
      "text/plain": [
       "<Figure size 640x480 with 1 Axes>"
      ]
     },
     "metadata": {},
     "output_type": "display_data"
    }
   ],
   "source": [
    "orders_per_month.plot(kind='box')"
   ]
  },
  {
   "cell_type": "markdown",
   "metadata": {},
   "source": [
    "En promedio hay 3878 ordenes por mes, debido a la simetria de los datos"
   ]
  },
  {
   "cell_type": "markdown",
   "metadata": {},
   "source": [
    "**¿Cuál es el tamaño promedio de compra?**"
   ]
  },
  {
   "cell_type": "code",
   "execution_count": 47,
   "metadata": {},
   "outputs": [
    {
     "data": {
      "image/png": "[encoded data removed]",
      "text/plain": [
       "<Figure size 640x480 with 1 Axes>"
      ]
     },
     "metadata": {},
     "output_type": "display_data"
    }
   ],
   "source": [
    "orders_size_per_day = orders['revenue'].plot(kind='box',ylim=(0, 25))"
   ]
  },
  {
   "cell_type": "code",
   "execution_count": 48,
   "metadata": {},
   "outputs": [
    {
     "data": {
      "text/plain": [
       "count    50415.000000\n",
       "mean         4.999647\n",
       "std         21.818359\n",
       "min          0.000000\n",
       "25%          1.220000\n",
       "50%          2.500000\n",
       "75%          4.890000\n",
       "max       2633.280000\n",
       "Name: revenue, dtype: float64"
      ]
     },
     "execution_count": 48,
     "metadata": {},
     "output_type": "execute_result"
    }
   ],
   "source": [
    "orders['revenue'].describe()"
   ]
  },
  {
   "cell_type": "markdown",
   "metadata": {},
   "source": [
    "Se puede concluir que los datos están sesgados hacia la derecha. Esto significa que la media puede no ser el mejor indicador del \"tamaño típico\" de compra, ya que está siendo afectada por valores extremadamente altos. Para tener una mejor idea del tamaño promedio de compra, sería más adecuado utilizar la mediana en lugar de la media, la mediana de **2.50** probablemente sea una mejor representación del tamaño \"típico\" de las compras."
   ]
  },
  {
   "cell_type": "markdown",
   "metadata": {},
   "source": [
    "**¿Cuánto dinero traen? (LTV)**"
   ]
  },
  {
   "cell_type": "code",
   "execution_count": 49,
   "metadata": {},
   "outputs": [
    {
     "data": {
      "text/html": [
       "<div>\n",
       "<style scoped>\n",
       "    .dataframe tbody tr th:only-of-type {\n",
       "        vertical-align: middle;\n",
       "    }\n",
       "\n",
       "    .dataframe tbody tr th {\n",
       "        vertical-align: top;\n",
       "    }\n",
       "\n",
       "    .dataframe thead th {\n",
       "        text-align: right;\n",
       "    }\n",
       "</style>\n",
       "<table border=\"1\" class=\"dataframe\">\n",
       "  <thead>\n",
       "    <tr style=\"text-align: right;\">\n",
       "      <th></th>\n",
       "      <th>uid</th>\n",
       "      <th>month</th>\n",
       "      <th>revenue</th>\n",
       "    </tr>\n",
       "  </thead>\n",
       "  <tbody>\n",
       "    <tr>\n",
       "      <th>0</th>\n",
       "      <td>313578113262317</td>\n",
       "      <td>2018-01-01</td>\n",
       "      <td>0.55</td>\n",
       "    </tr>\n",
       "    <tr>\n",
       "      <th>1</th>\n",
       "      <td>1575281904278712</td>\n",
       "      <td>2017-06-01</td>\n",
       "      <td>3.05</td>\n",
       "    </tr>\n",
       "    <tr>\n",
       "      <th>2</th>\n",
       "      <td>2429014661409475</td>\n",
       "      <td>2017-10-01</td>\n",
       "      <td>73.33</td>\n",
       "    </tr>\n",
       "    <tr>\n",
       "      <th>3</th>\n",
       "      <td>2464366381792757</td>\n",
       "      <td>2018-01-01</td>\n",
       "      <td>2.44</td>\n",
       "    </tr>\n",
       "    <tr>\n",
       "      <th>4</th>\n",
       "      <td>2551852515556206</td>\n",
       "      <td>2017-11-01</td>\n",
       "      <td>10.99</td>\n",
       "    </tr>\n",
       "  </tbody>\n",
       "</table>\n",
       "</div>"
      ],
      "text/plain": [
       "                uid      month  revenue\n",
       "0   313578113262317 2018-01-01     0.55\n",
       "1  1575281904278712 2017-06-01     3.05\n",
       "2  2429014661409475 2017-10-01    73.33\n",
       "3  2464366381792757 2018-01-01     2.44\n",
       "4  2551852515556206 2017-11-01    10.99"
      ]
     },
     "execution_count": 49,
     "metadata": {},
     "output_type": "execute_result"
    }
   ],
   "source": [
    "revenue_by_user_per_month = (\n",
    "    orders\n",
    "    .groupby(['uid', 'month'])['revenue']\n",
    "    .sum()\n",
    "    .reset_index()\n",
    ")\n",
    "revenue_by_user_per_month.head()"
   ]
  },
  {
   "cell_type": "markdown",
   "metadata": {},
   "source": [
    "Para calcular el ltv se pretende realizar por pasos, lo primero que se calculó fue el revenue por usuario al mes, "
   ]
  },
  {
   "cell_type": "markdown",
   "metadata": {},
   "source": [
    "<div class=\"alert alert-block alert-warning\">\n",
    "<b>Comentario del revisor (1ra Iteración)</b> <a class=“tocSkip”></a>\n",
    "    \n",
    "Pablo no es del todo claro qué parte del código corresponde a *¿Cuántos pedidos hacen durante un período de tiempo dado?* y qué parte corresponde a *¿Cuál es el tamaño promedio de compra?*. Debes separar cada sección por su respectiva pregunta e incluir un análisis que permita dar una respuesta puntual a cada pregunta.\n",
    "    \n",
    "\n",
    "</div>"
   ]
  },
  {
   "cell_type": "code",
   "execution_count": 50,
   "metadata": {},
   "outputs": [
    {
     "data": {
      "text/html": [
       "<div>\n",
       "<style scoped>\n",
       "    .dataframe tbody tr th:only-of-type {\n",
       "        vertical-align: middle;\n",
       "    }\n",
       "\n",
       "    .dataframe tbody tr th {\n",
       "        vertical-align: top;\n",
       "    }\n",
       "\n",
       "    .dataframe thead th {\n",
       "        text-align: right;\n",
       "    }\n",
       "</style>\n",
       "<table border=\"1\" class=\"dataframe\">\n",
       "  <thead>\n",
       "    <tr style=\"text-align: right;\">\n",
       "      <th>month_age</th>\n",
       "      <th>0</th>\n",
       "      <th>1</th>\n",
       "      <th>2</th>\n",
       "      <th>3</th>\n",
       "      <th>4</th>\n",
       "      <th>5</th>\n",
       "      <th>6</th>\n",
       "      <th>7</th>\n",
       "      <th>8</th>\n",
       "      <th>9</th>\n",
       "      <th>10</th>\n",
       "      <th>11</th>\n",
       "    </tr>\n",
       "    <tr>\n",
       "      <th>first_order_month</th>\n",
       "      <th></th>\n",
       "      <th></th>\n",
       "      <th></th>\n",
       "      <th></th>\n",
       "      <th></th>\n",
       "      <th></th>\n",
       "      <th></th>\n",
       "      <th></th>\n",
       "      <th></th>\n",
       "      <th></th>\n",
       "      <th></th>\n",
       "      <th></th>\n",
       "    </tr>\n",
       "  </thead>\n",
       "  <tbody>\n",
       "    <tr>\n",
       "      <th>2017-06-01</th>\n",
       "      <td>4.724414</td>\n",
       "      <td>16.09541</td>\n",
       "      <td>17.7068</td>\n",
       "      <td>35.764815</td>\n",
       "      <td>23.506591</td>\n",
       "      <td>22.207761</td>\n",
       "      <td>31.011935</td>\n",
       "      <td>25.033191</td>\n",
       "      <td>19.29569</td>\n",
       "      <td>27.233556</td>\n",
       "      <td>25.681333</td>\n",
       "      <td>9.804151</td>\n",
       "    </tr>\n",
       "    <tr>\n",
       "      <th>2017-07-01</th>\n",
       "      <td>6.010218</td>\n",
       "      <td>12.396346</td>\n",
       "      <td>21.035965</td>\n",
       "      <td>10.786094</td>\n",
       "      <td>6.938163</td>\n",
       "      <td>7.896842</td>\n",
       "      <td>6.421111</td>\n",
       "      <td>6.992821</td>\n",
       "      <td>7.382143</td>\n",
       "      <td>12.861818</td>\n",
       "      <td>11.513846</td>\n",
       "      <td></td>\n",
       "    </tr>\n",
       "    <tr>\n",
       "      <th>2017-08-01</th>\n",
       "      <td>5.276518</td>\n",
       "      <td>11.148793</td>\n",
       "      <td>11.851321</td>\n",
       "      <td>12.182955</td>\n",
       "      <td>16.92125</td>\n",
       "      <td>12.139063</td>\n",
       "      <td>9.620333</td>\n",
       "      <td>12.610455</td>\n",
       "      <td>21.07</td>\n",
       "      <td>8.307419</td>\n",
       "      <td></td>\n",
       "      <td></td>\n",
       "    </tr>\n",
       "    <tr>\n",
       "      <th>2017-09-01</th>\n",
       "      <td>5.644529</td>\n",
       "      <td>22.188385</td>\n",
       "      <td>13.4452</td>\n",
       "      <td>138.669189</td>\n",
       "      <td>19.881538</td>\n",
       "      <td>26.095</td>\n",
       "      <td>27.437121</td>\n",
       "      <td>16.961351</td>\n",
       "      <td>11.044651</td>\n",
       "      <td></td>\n",
       "      <td></td>\n",
       "      <td></td>\n",
       "    </tr>\n",
       "    <tr>\n",
       "      <th>2017-10-01</th>\n",
       "      <td>5.003733</td>\n",
       "      <td>11.287427</td>\n",
       "      <td>6.753252</td>\n",
       "      <td>7.413152</td>\n",
       "      <td>7.072796</td>\n",
       "      <td>7.255139</td>\n",
       "      <td>6.573214</td>\n",
       "      <td>7.479701</td>\n",
       "      <td></td>\n",
       "      <td></td>\n",
       "      <td></td>\n",
       "      <td></td>\n",
       "    </tr>\n",
       "    <tr>\n",
       "      <th>2017-11-01</th>\n",
       "      <td>5.154683</td>\n",
       "      <td>7.339054</td>\n",
       "      <td>6.786583</td>\n",
       "      <td>12.51066</td>\n",
       "      <td>7.457284</td>\n",
       "      <td>4.580833</td>\n",
       "      <td>7.564839</td>\n",
       "      <td></td>\n",
       "      <td></td>\n",
       "      <td></td>\n",
       "      <td></td>\n",
       "      <td></td>\n",
       "    </tr>\n",
       "    <tr>\n",
       "      <th>2017-12-01</th>\n",
       "      <td>4.738191</td>\n",
       "      <td>7.816575</td>\n",
       "      <td>39.366019</td>\n",
       "      <td>48.135052</td>\n",
       "      <td>27.4314</td>\n",
       "      <td>23.518413</td>\n",
       "      <td></td>\n",
       "      <td></td>\n",
       "      <td></td>\n",
       "      <td></td>\n",
       "      <td></td>\n",
       "      <td></td>\n",
       "    </tr>\n",
       "    <tr>\n",
       "      <th>2018-01-01</th>\n",
       "      <td>4.135636</td>\n",
       "      <td>8.721228</td>\n",
       "      <td>12.365542</td>\n",
       "      <td>11.199767</td>\n",
       "      <td>4.699556</td>\n",
       "      <td></td>\n",
       "      <td></td>\n",
       "      <td></td>\n",
       "      <td></td>\n",
       "      <td></td>\n",
       "      <td></td>\n",
       "      <td></td>\n",
       "    </tr>\n",
       "    <tr>\n",
       "      <th>2018-02-01</th>\n",
       "      <td>4.156987</td>\n",
       "      <td>8.61</td>\n",
       "      <td>4.942414</td>\n",
       "      <td>6.941026</td>\n",
       "      <td></td>\n",
       "      <td></td>\n",
       "      <td></td>\n",
       "      <td></td>\n",
       "      <td></td>\n",
       "      <td></td>\n",
       "      <td></td>\n",
       "      <td></td>\n",
       "    </tr>\n",
       "    <tr>\n",
       "      <th>2018-03-01</th>\n",
       "      <td>4.838803</td>\n",
       "      <td>11.811667</td>\n",
       "      <td>19.221897</td>\n",
       "      <td></td>\n",
       "      <td></td>\n",
       "      <td></td>\n",
       "      <td></td>\n",
       "      <td></td>\n",
       "      <td></td>\n",
       "      <td></td>\n",
       "      <td></td>\n",
       "      <td></td>\n",
       "    </tr>\n",
       "    <tr>\n",
       "      <th>2018-04-01</th>\n",
       "      <td>4.657597</td>\n",
       "      <td>17.535072</td>\n",
       "      <td></td>\n",
       "      <td></td>\n",
       "      <td></td>\n",
       "      <td></td>\n",
       "      <td></td>\n",
       "      <td></td>\n",
       "      <td></td>\n",
       "      <td></td>\n",
       "      <td></td>\n",
       "      <td></td>\n",
       "    </tr>\n",
       "    <tr>\n",
       "      <th>2018-05-01</th>\n",
       "      <td>4.660562</td>\n",
       "      <td></td>\n",
       "      <td></td>\n",
       "      <td></td>\n",
       "      <td></td>\n",
       "      <td></td>\n",
       "      <td></td>\n",
       "      <td></td>\n",
       "      <td></td>\n",
       "      <td></td>\n",
       "      <td></td>\n",
       "      <td></td>\n",
       "    </tr>\n",
       "    <tr>\n",
       "      <th>2018-06-01</th>\n",
       "      <td>3.420000</td>\n",
       "      <td></td>\n",
       "      <td></td>\n",
       "      <td></td>\n",
       "      <td></td>\n",
       "      <td></td>\n",
       "      <td></td>\n",
       "      <td></td>\n",
       "      <td></td>\n",
       "      <td></td>\n",
       "      <td></td>\n",
       "      <td></td>\n",
       "    </tr>\n",
       "  </tbody>\n",
       "</table>\n",
       "</div>"
      ],
      "text/plain": [
       "month_age                0          1          2           3          4   \\\n",
       "first_order_month                                                          \n",
       "2017-06-01         4.724414   16.09541    17.7068   35.764815  23.506591   \n",
       "2017-07-01         6.010218  12.396346  21.035965   10.786094   6.938163   \n",
       "2017-08-01         5.276518  11.148793  11.851321   12.182955   16.92125   \n",
       "2017-09-01         5.644529  22.188385    13.4452  138.669189  19.881538   \n",
       "2017-10-01         5.003733  11.287427   6.753252    7.413152   7.072796   \n",
       "2017-11-01         5.154683   7.339054   6.786583    12.51066   7.457284   \n",
       "2017-12-01         4.738191   7.816575  39.366019   48.135052    27.4314   \n",
       "2018-01-01         4.135636   8.721228  12.365542   11.199767   4.699556   \n",
       "2018-02-01         4.156987       8.61   4.942414    6.941026              \n",
       "2018-03-01         4.838803  11.811667  19.221897                          \n",
       "2018-04-01         4.657597  17.535072                                     \n",
       "2018-05-01         4.660562                                                \n",
       "2018-06-01         3.420000                                                \n",
       "\n",
       "month_age                 5          6          7          8          9   \\\n",
       "first_order_month                                                          \n",
       "2017-06-01         22.207761  31.011935  25.033191   19.29569  27.233556   \n",
       "2017-07-01          7.896842   6.421111   6.992821   7.382143  12.861818   \n",
       "2017-08-01         12.139063   9.620333  12.610455      21.07   8.307419   \n",
       "2017-09-01            26.095  27.437121  16.961351  11.044651              \n",
       "2017-10-01          7.255139   6.573214   7.479701                         \n",
       "2017-11-01          4.580833   7.564839                                    \n",
       "2017-12-01         23.518413                                               \n",
       "2018-01-01                                                                 \n",
       "2018-02-01                                                                 \n",
       "2018-03-01                                                                 \n",
       "2018-04-01                                                                 \n",
       "2018-05-01                                                                 \n",
       "2018-06-01                                                                 \n",
       "\n",
       "month_age                 10        11  \n",
       "first_order_month                       \n",
       "2017-06-01         25.681333  9.804151  \n",
       "2017-07-01         11.513846            \n",
       "2017-08-01                              \n",
       "2017-09-01                              \n",
       "2017-10-01                              \n",
       "2017-11-01                              \n",
       "2017-12-01                              \n",
       "2018-01-01                              \n",
       "2018-02-01                              \n",
       "2018-03-01                              \n",
       "2018-04-01                              \n",
       "2018-05-01                              \n",
       "2018-06-01                              "
      ]
     },
     "execution_count": 50,
     "metadata": {},
     "output_type": "execute_result"
    }
   ],
   "source": [
    "revenues_with_cohort = pd.merge(\n",
    "    revenue_by_user_per_month,\n",
    "    first_visits[['uid','source_id']],\n",
    "    on='uid'\n",
    ").merge(\n",
    "    first_orders[['uid', 'first_order_month', 'first_order_at']],\n",
    "    on='uid'\n",
    ") \n",
    "#visits_with_cohort['month_age'] = (visits_with_cohort['month'] - visits_with_cohort['first_month']) / np.timedelta64(1, 'M')\n",
    "\n",
    "revenues_with_cohort['month_age'] = revenues_with_cohort['month'].dt.month - revenues_with_cohort['first_order_month'].dt.month\n",
    "revenues_with_cohort['month_age'] += 12*(revenues_with_cohort['month'].dt.year - revenues_with_cohort['first_order_month'].dt.year)\n",
    "\n",
    "ltv_table = revenues_with_cohort.pivot_table(\n",
    "    index='first_order_month',\n",
    "    columns='month_age',\n",
    "    values='revenue',\n",
    "    aggfunc='mean'\n",
    ")\n",
    "ltv_table.fillna('')"
   ]
  },
  {
   "cell_type": "code",
   "execution_count": 51,
   "metadata": {},
   "outputs": [
    {
     "name": "stdout",
     "output_type": "stream",
     "text": [
      "180.8016925238521\n"
     ]
    }
   ],
   "source": [
    "ltv_global = ltv_table.mean().sum()\n",
    "print(ltv_global)"
   ]
  },
  {
   "cell_type": "markdown",
   "metadata": {},
   "source": [
    "<div class=\"alert alert-block alert-success\">\n",
    "<b>Comentario del revisor (1ra Iteración)</b> <a class=“tocSkip”></a>\n",
    "    \n",
    "Excelente trabajo calculando el LTV, la tabla que estás mostrando es completamente correcta.\n",
    "</div>"
   ]
  },
  {
   "cell_type": "markdown",
   "metadata": {},
   "source": [
    "## Marketing\n",
    " **¿Cuánto dinero se gastó?  (Total/por fuente de adquisición/a lo largo del tiempo)**"
   ]
  },
  {
   "cell_type": "code",
   "execution_count": 52,
   "metadata": {},
   "outputs": [
    {
     "data": {
      "text/html": [
       "<div>\n",
       "<style scoped>\n",
       "    .dataframe tbody tr th:only-of-type {\n",
       "        vertical-align: middle;\n",
       "    }\n",
       "\n",
       "    .dataframe tbody tr th {\n",
       "        vertical-align: top;\n",
       "    }\n",
       "\n",
       "    .dataframe thead th {\n",
       "        text-align: right;\n",
       "    }\n",
       "</style>\n",
       "<table border=\"1\" class=\"dataframe\">\n",
       "  <thead>\n",
       "    <tr style=\"text-align: right;\">\n",
       "      <th></th>\n",
       "      <th>source_id</th>\n",
       "      <th>dt</th>\n",
       "      <th>costs</th>\n",
       "      <th>day</th>\n",
       "      <th>week</th>\n",
       "      <th>month</th>\n",
       "    </tr>\n",
       "  </thead>\n",
       "  <tbody>\n",
       "    <tr>\n",
       "      <th>0</th>\n",
       "      <td>1</td>\n",
       "      <td>2017-06-01</td>\n",
       "      <td>75.20</td>\n",
       "      <td>2017-06-01</td>\n",
       "      <td>2017-05-29</td>\n",
       "      <td>2017-06-01</td>\n",
       "    </tr>\n",
       "    <tr>\n",
       "      <th>1</th>\n",
       "      <td>1</td>\n",
       "      <td>2017-06-02</td>\n",
       "      <td>62.25</td>\n",
       "      <td>2017-06-02</td>\n",
       "      <td>2017-05-29</td>\n",
       "      <td>2017-06-01</td>\n",
       "    </tr>\n",
       "  </tbody>\n",
       "</table>\n",
       "</div>"
      ],
      "text/plain": [
       "   source_id         dt  costs        day       week      month\n",
       "0          1 2017-06-01  75.20 2017-06-01 2017-05-29 2017-06-01\n",
       "1          1 2017-06-02  62.25 2017-06-02 2017-05-29 2017-06-01"
      ]
     },
     "execution_count": 52,
     "metadata": {},
     "output_type": "execute_result"
    }
   ],
   "source": [
    "costs.head(2)"
   ]
  },
  {
   "cell_type": "code",
   "execution_count": 53,
   "metadata": {},
   "outputs": [
    {
     "name": "stdout",
     "output_type": "stream",
     "text": [
      "329131.62\n"
     ]
    }
   ],
   "source": [
    "total_costs = costs['costs'].sum()\n",
    "print(total_costs)"
   ]
  },
  {
   "cell_type": "markdown",
   "metadata": {},
   "source": [
    "**El costo total que se invirtió en Marketing fue de $329,131.62**"
   ]
  },
  {
   "cell_type": "code",
   "execution_count": 54,
   "metadata": {},
   "outputs": [
    {
     "name": "stdout",
     "output_type": "stream",
     "text": [
      "Gasto por fuente de adquisición:\n",
      "   source_id      costs\n",
      "0          1   20833.27\n",
      "1          2   42806.04\n",
      "2          3  141321.63\n",
      "3          4   61073.60\n",
      "4          5   51757.10\n",
      "5          9    5517.49\n",
      "6         10    5822.49\n"
     ]
    }
   ],
   "source": [
    "costs_by_source = (\n",
    "    costs\n",
    "    .groupby('source_id')['costs']\n",
    "    .sum()\n",
    "    .reset_index()\n",
    ")\n",
    "print(\"Gasto por fuente de adquisición:\")\n",
    "print(costs_by_source)"
   ]
  },
  {
   "cell_type": "code",
   "execution_count": 55,
   "metadata": {},
   "outputs": [
    {
     "data": {
      "image/png": "[encoded data removed]",
      "text/plain": [
       "<Figure size 640x480 with 1 Axes>"
      ]
     },
     "metadata": {},
     "output_type": "display_data"
    }
   ],
   "source": [
    "plt.bar(costs_by_source['source_id'], costs_by_source['costs'],color='lightblue')\n",
    "plt.xlabel('Source ID')\n",
    "plt.ylabel('costs')\n",
    "plt.title('Costs by source')\n",
    "plt.show()"
   ]
  },
  {
   "cell_type": "markdown",
   "metadata": {},
   "source": [
    "En la tabla anterior se visualiza los costos totales por source_id"
   ]
  },
  {
   "cell_type": "code",
   "execution_count": 56,
   "metadata": {},
   "outputs": [
    {
     "name": "stdout",
     "output_type": "stream",
     "text": [
      "Gasto mensual:\n",
      "        month     costs\n",
      "0  2017-06-01  18015.00\n",
      "1  2017-07-01  18240.59\n",
      "2  2017-08-01  14790.54\n",
      "3  2017-09-01  24368.91\n",
      "4  2017-10-01  36322.88\n",
      "5  2017-11-01  37907.88\n",
      "6  2017-12-01  38315.35\n",
      "7  2018-01-01  33518.52\n",
      "8  2018-02-01  32723.03\n",
      "9  2018-03-01  30415.27\n",
      "10 2018-04-01  22289.38\n",
      "11 2018-05-01  22224.27\n"
     ]
    }
   ],
   "source": [
    "monthly_costs = costs.groupby('month')['costs'].sum().reset_index()\n",
    "print(\"Gasto mensual:\")\n",
    "print(monthly_costs)"
   ]
  },
  {
   "cell_type": "code",
   "execution_count": 57,
   "metadata": {},
   "outputs": [
    {
     "data": {
      "image/png": "[encoded data removed]",
      "text/plain": [
       "<Figure size 1000x600 with 1 Axes>"
      ]
     },
     "metadata": {},
     "output_type": "display_data"
    }
   ],
   "source": [
    "plt.figure(figsize=(10,6))\n",
    "plt.plot(monthly_costs['month'], monthly_costs['costs'], marker='o')\n",
    "plt.title('Monthly costs')\n",
    "plt.xlabel('Month')\n",
    "plt.ylabel('Costs ($)')\n",
    "plt.grid(True)\n",
    "plt.show()"
   ]
  },
  {
   "cell_type": "markdown",
   "metadata": {},
   "source": [
    "En la gráfica anterior se muestra el gasto en marketing de manera mensual, que corresponde de igual manera a los datos en visits y orders en las fechas de aumento en los ultimos meses de 2017"
   ]
  },
  {
   "cell_type": "markdown",
   "metadata": {},
   "source": [
    "Para contestar a la pregunta de ¿Cuál fue el costo de adquisición de clientes de cada una de las fuentes? se tienen que realizar los pasos que se presentan a continuación, empezando por los costos mensuales: \n"
   ]
  },
  {
   "cell_type": "code",
   "execution_count": 58,
   "metadata": {},
   "outputs": [
    {
     "data": {
      "text/html": [
       "<div>\n",
       "<style scoped>\n",
       "    .dataframe tbody tr th:only-of-type {\n",
       "        vertical-align: middle;\n",
       "    }\n",
       "\n",
       "    .dataframe tbody tr th {\n",
       "        vertical-align: top;\n",
       "    }\n",
       "\n",
       "    .dataframe thead th {\n",
       "        text-align: right;\n",
       "    }\n",
       "</style>\n",
       "<table border=\"1\" class=\"dataframe\">\n",
       "  <thead>\n",
       "    <tr style=\"text-align: right;\">\n",
       "      <th></th>\n",
       "      <th>month</th>\n",
       "      <th>source_id</th>\n",
       "      <th>costs</th>\n",
       "    </tr>\n",
       "  </thead>\n",
       "  <tbody>\n",
       "    <tr>\n",
       "      <th>0</th>\n",
       "      <td>2017-06-01</td>\n",
       "      <td>1</td>\n",
       "      <td>1125.61</td>\n",
       "    </tr>\n",
       "    <tr>\n",
       "      <th>1</th>\n",
       "      <td>2017-06-01</td>\n",
       "      <td>2</td>\n",
       "      <td>2427.38</td>\n",
       "    </tr>\n",
       "  </tbody>\n",
       "</table>\n",
       "</div>"
      ],
      "text/plain": [
       "       month  source_id    costs\n",
       "0 2017-06-01          1  1125.61\n",
       "1 2017-06-01          2  2427.38"
      ]
     },
     "execution_count": 58,
     "metadata": {},
     "output_type": "execute_result"
    }
   ],
   "source": [
    "monthly_costs = (\n",
    "    costs\n",
    "    .groupby(['month', 'source_id'])['costs']\n",
    "    .sum()\n",
    "    .reset_index()\n",
    ")\n",
    "monthly_costs.head(2)"
   ]
  },
  {
   "cell_type": "code",
   "execution_count": 59,
   "metadata": {},
   "outputs": [
    {
     "data": {
      "text/html": [
       "<div>\n",
       "<style scoped>\n",
       "    .dataframe tbody tr th:only-of-type {\n",
       "        vertical-align: middle;\n",
       "    }\n",
       "\n",
       "    .dataframe tbody tr th {\n",
       "        vertical-align: top;\n",
       "    }\n",
       "\n",
       "    .dataframe thead th {\n",
       "        text-align: right;\n",
       "    }\n",
       "</style>\n",
       "<table border=\"1\" class=\"dataframe\">\n",
       "  <thead>\n",
       "    <tr style=\"text-align: right;\">\n",
       "      <th></th>\n",
       "      <th>first_order_at</th>\n",
       "      <th>revenue</th>\n",
       "      <th>uid</th>\n",
       "      <th>day</th>\n",
       "      <th>week</th>\n",
       "      <th>first_order_month</th>\n",
       "      <th>source_id</th>\n",
       "    </tr>\n",
       "  </thead>\n",
       "  <tbody>\n",
       "    <tr>\n",
       "      <th>0</th>\n",
       "      <td>2017-06-01 00:10:00</td>\n",
       "      <td>17.00</td>\n",
       "      <td>10329302124590727494</td>\n",
       "      <td>2017-06-01</td>\n",
       "      <td>2017-05-29</td>\n",
       "      <td>2017-06-01</td>\n",
       "      <td>1</td>\n",
       "    </tr>\n",
       "    <tr>\n",
       "      <th>1</th>\n",
       "      <td>2017-06-01 00:25:00</td>\n",
       "      <td>0.55</td>\n",
       "      <td>11627257723692907447</td>\n",
       "      <td>2017-06-01</td>\n",
       "      <td>2017-05-29</td>\n",
       "      <td>2017-06-01</td>\n",
       "      <td>2</td>\n",
       "    </tr>\n",
       "  </tbody>\n",
       "</table>\n",
       "</div>"
      ],
      "text/plain": [
       "       first_order_at  revenue                   uid        day       week  \\\n",
       "0 2017-06-01 00:10:00    17.00  10329302124590727494 2017-06-01 2017-05-29   \n",
       "1 2017-06-01 00:25:00     0.55  11627257723692907447 2017-06-01 2017-05-29   \n",
       "\n",
       "  first_order_month  source_id  \n",
       "0        2017-06-01          1  \n",
       "1        2017-06-01          2  "
      ]
     },
     "execution_count": 59,
     "metadata": {},
     "output_type": "execute_result"
    }
   ],
   "source": [
    "first_orders_with_source = pd.merge(\n",
    "    first_orders,\n",
    "    first_visits[['uid','source_id']],\n",
    "    on='uid'\n",
    ")\n",
    "first_orders_with_source.head(2)"
   ]
  },
  {
   "cell_type": "code",
   "execution_count": 60,
   "metadata": {},
   "outputs": [
    {
     "data": {
      "text/html": [
       "<div>\n",
       "<style scoped>\n",
       "    .dataframe tbody tr th:only-of-type {\n",
       "        vertical-align: middle;\n",
       "    }\n",
       "\n",
       "    .dataframe tbody tr th {\n",
       "        vertical-align: top;\n",
       "    }\n",
       "\n",
       "    .dataframe thead th {\n",
       "        text-align: right;\n",
       "    }\n",
       "</style>\n",
       "<table border=\"1\" class=\"dataframe\">\n",
       "  <thead>\n",
       "    <tr style=\"text-align: right;\">\n",
       "      <th></th>\n",
       "      <th>source_id</th>\n",
       "      <th>month</th>\n",
       "      <th>new_users</th>\n",
       "    </tr>\n",
       "  </thead>\n",
       "  <tbody>\n",
       "    <tr>\n",
       "      <th>0</th>\n",
       "      <td>1</td>\n",
       "      <td>2017-06-01</td>\n",
       "      <td>190</td>\n",
       "    </tr>\n",
       "    <tr>\n",
       "      <th>1</th>\n",
       "      <td>1</td>\n",
       "      <td>2017-07-01</td>\n",
       "      <td>160</td>\n",
       "    </tr>\n",
       "  </tbody>\n",
       "</table>\n",
       "</div>"
      ],
      "text/plain": [
       "   source_id      month  new_users\n",
       "0          1 2017-06-01        190\n",
       "1          1 2017-07-01        160"
      ]
     },
     "execution_count": 60,
     "metadata": {},
     "output_type": "execute_result"
    }
   ],
   "source": [
    "monthly_adquisition = (\n",
    "    first_orders_with_source\n",
    "    .groupby(['source_id','first_order_month'])['uid']\n",
    "    .nunique()\n",
    "    .reset_index()\n",
    "    .rename(columns={'uid':'new_users','first_order_month':'month'})\n",
    ")\n",
    "monthly_adquisition.head(2)"
   ]
  },
  {
   "cell_type": "markdown",
   "metadata": {},
   "source": [
    "Con el merge que se hizo en un paso anterior nos sirve de base para calcular la adquisión de nuevos clientes por fuente que nos servirá para contestar la pregunta que se esta buscando, es decir, combinando la adquisión con los costos, obtendremos el costo de adquisión de clientes por mes"
   ]
  },
  {
   "cell_type": "markdown",
   "metadata": {},
   "source": [
    "**¿Cuál fue el costo de adquisición de clientes de cada una de las fuentes?**\n"
   ]
  },
  {
   "cell_type": "code",
   "execution_count": 61,
   "metadata": {},
   "outputs": [
    {
     "name": "stdout",
     "output_type": "stream",
     "text": [
      "   source_id        cac\n",
      "0          1   7.212107\n",
      "1          2  12.504068\n",
      "2          3  13.802743\n",
      "3          4   6.439374\n",
      "4          5   7.451938\n",
      "5          9   5.413892\n",
      "6         10   4.867125\n"
     ]
    }
   ],
   "source": [
    "monthly_cac = pd.merge(\n",
    "    monthly_adquisition,\n",
    "    monthly_costs,\n",
    "    on=['month','source_id']\n",
    ")\n",
    "monthly_cac['cac'] = monthly_cac['costs'] / monthly_cac['new_users']\n",
    "\n",
    "cac_table = monthly_cac.groupby('source_id')['cac'].mean().reset_index()\n",
    "print(cac_table)"
   ]
  },
  {
   "cell_type": "markdown",
   "metadata": {},
   "source": [
    "Se presenta un promedio de los costos de adquisición por cliente por fuente y a continuación se muestra una gráfica de la variación de los cac a lo largo de los meses por fuente de adquisición."
   ]
  },
  {
   "cell_type": "code",
   "execution_count": 62,
   "metadata": {},
   "outputs": [
    {
     "data": {
      "image/png": "[encoded data removed]",
      "text/plain": [
       "<Figure size 1000x600 with 1 Axes>"
      ]
     },
     "metadata": {},
     "output_type": "display_data"
    }
   ],
   "source": [
    "plt.figure(figsize=(10,6))\n",
    "for source in monthly_cac['source_id'].unique():\n",
    "    source_data = monthly_cac[monthly_cac['source_id'] == source]\n",
    "    plt.plot(source_data['month'], source_data['cac'], marker='o', label=f'Source {source}')\n",
    "\n",
    "plt.title('CAC Mensual por Fuente de Adquisición')\n",
    "plt.xlabel('Mes')\n",
    "plt.ylabel('CAC ($)')\n",
    "plt.legend(title=\"Fuente de Adquisición\")\n",
    "plt.grid(True)\n",
    "plt.show()"
   ]
  },
  {
   "cell_type": "markdown",
   "metadata": {},
   "source": [
    "La presente gráfica nos ayuda a visualizar como es que varía por mes el costo de adquisición de clientes, cabe resaltar que las fuentes 2 y 3 son las que representan un promedio más elevado del cac, por lo que sería interesante revisar si esas son las que aportan más clientes a comparacoón con las demás."
   ]
  },
  {
   "cell_type": "code",
   "execution_count": 63,
   "metadata": {},
   "outputs": [
    {
     "data": {
      "text/html": [
       "<div>\n",
       "<style scoped>\n",
       "    .dataframe tbody tr th:only-of-type {\n",
       "        vertical-align: middle;\n",
       "    }\n",
       "\n",
       "    .dataframe tbody tr th {\n",
       "        vertical-align: top;\n",
       "    }\n",
       "\n",
       "    .dataframe thead th {\n",
       "        text-align: right;\n",
       "    }\n",
       "</style>\n",
       "<table border=\"1\" class=\"dataframe\">\n",
       "  <thead>\n",
       "    <tr style=\"text-align: right;\">\n",
       "      <th></th>\n",
       "      <th>uid</th>\n",
       "      <th>month</th>\n",
       "      <th>revenue</th>\n",
       "      <th>source_id</th>\n",
       "      <th>first_order_month</th>\n",
       "      <th>first_order_at</th>\n",
       "      <th>month_age</th>\n",
       "    </tr>\n",
       "  </thead>\n",
       "  <tbody>\n",
       "    <tr>\n",
       "      <th>0</th>\n",
       "      <td>313578113262317</td>\n",
       "      <td>2018-01-01</td>\n",
       "      <td>0.55</td>\n",
       "      <td>2</td>\n",
       "      <td>2018-01-01</td>\n",
       "      <td>2018-01-03 21:51:00</td>\n",
       "      <td>0</td>\n",
       "    </tr>\n",
       "    <tr>\n",
       "      <th>1</th>\n",
       "      <td>1575281904278712</td>\n",
       "      <td>2017-06-01</td>\n",
       "      <td>3.05</td>\n",
       "      <td>10</td>\n",
       "      <td>2017-06-01</td>\n",
       "      <td>2017-06-03 10:13:00</td>\n",
       "      <td>0</td>\n",
       "    </tr>\n",
       "  </tbody>\n",
       "</table>\n",
       "</div>"
      ],
      "text/plain": [
       "                uid      month  revenue  source_id first_order_month  \\\n",
       "0   313578113262317 2018-01-01     0.55          2        2018-01-01   \n",
       "1  1575281904278712 2017-06-01     3.05         10        2017-06-01   \n",
       "\n",
       "       first_order_at  month_age  \n",
       "0 2018-01-03 21:51:00          0  \n",
       "1 2017-06-03 10:13:00          0  "
      ]
     },
     "execution_count": 63,
     "metadata": {},
     "output_type": "execute_result"
    }
   ],
   "source": [
    "revenues_with_cohort.head(2)"
   ]
  },
  {
   "cell_type": "markdown",
   "metadata": {},
   "source": [
    "<div class=\"alert alert-block alert-success\">\n",
    "<b>Comentario del revisor (2da Iteración)</b> <a class=“tocSkip”></a>\n",
    "    \n",
    "Muy buen trabajo con los ajustes, ahora has encontrado información más valiosa para el contexto del proyecto.\n",
    "</div>\n",
    "\n"
   ]
  },
  {
   "cell_type": "markdown",
   "metadata": {},
   "source": [
    "**¿Cuán rentables eran las inversiones? (ROMI)**"
   ]
  },
  {
   "cell_type": "code",
   "execution_count": 64,
   "metadata": {},
   "outputs": [
    {
     "data": {
      "text/html": [
       "<div>\n",
       "<style scoped>\n",
       "    .dataframe tbody tr th:only-of-type {\n",
       "        vertical-align: middle;\n",
       "    }\n",
       "\n",
       "    .dataframe tbody tr th {\n",
       "        vertical-align: top;\n",
       "    }\n",
       "\n",
       "    .dataframe thead th {\n",
       "        text-align: right;\n",
       "    }\n",
       "</style>\n",
       "<table border=\"1\" class=\"dataframe\">\n",
       "  <thead>\n",
       "    <tr style=\"text-align: right;\">\n",
       "      <th></th>\n",
       "      <th>uid</th>\n",
       "      <th>month</th>\n",
       "      <th>revenue</th>\n",
       "      <th>source_id</th>\n",
       "      <th>first_order_month</th>\n",
       "      <th>first_order_at</th>\n",
       "      <th>month_age</th>\n",
       "      <th>new_users</th>\n",
       "      <th>costs</th>\n",
       "      <th>cac</th>\n",
       "    </tr>\n",
       "  </thead>\n",
       "  <tbody>\n",
       "    <tr>\n",
       "      <th>0</th>\n",
       "      <td>313578113262317</td>\n",
       "      <td>2018-01-01</td>\n",
       "      <td>0.55</td>\n",
       "      <td>2</td>\n",
       "      <td>2018-01-01</td>\n",
       "      <td>2018-01-03 21:51:00</td>\n",
       "      <td>0</td>\n",
       "      <td>292</td>\n",
       "      <td>4157.74</td>\n",
       "      <td>14.238836</td>\n",
       "    </tr>\n",
       "    <tr>\n",
       "      <th>1</th>\n",
       "      <td>57885047520933118</td>\n",
       "      <td>2018-01-01</td>\n",
       "      <td>2.56</td>\n",
       "      <td>2</td>\n",
       "      <td>2018-01-01</td>\n",
       "      <td>2018-01-31 17:31:00</td>\n",
       "      <td>0</td>\n",
       "      <td>292</td>\n",
       "      <td>4157.74</td>\n",
       "      <td>14.238836</td>\n",
       "    </tr>\n",
       "    <tr>\n",
       "      <th>2</th>\n",
       "      <td>109028781533433288</td>\n",
       "      <td>2018-01-01</td>\n",
       "      <td>7.94</td>\n",
       "      <td>2</td>\n",
       "      <td>2018-01-01</td>\n",
       "      <td>2018-01-16 23:24:00</td>\n",
       "      <td>0</td>\n",
       "      <td>292</td>\n",
       "      <td>4157.74</td>\n",
       "      <td>14.238836</td>\n",
       "    </tr>\n",
       "    <tr>\n",
       "      <th>3</th>\n",
       "      <td>214813444283416986</td>\n",
       "      <td>2018-01-01</td>\n",
       "      <td>6.11</td>\n",
       "      <td>2</td>\n",
       "      <td>2018-01-01</td>\n",
       "      <td>2018-01-23 00:14:00</td>\n",
       "      <td>0</td>\n",
       "      <td>292</td>\n",
       "      <td>4157.74</td>\n",
       "      <td>14.238836</td>\n",
       "    </tr>\n",
       "    <tr>\n",
       "      <th>4</th>\n",
       "      <td>239481632267640520</td>\n",
       "      <td>2018-01-01</td>\n",
       "      <td>4.28</td>\n",
       "      <td>2</td>\n",
       "      <td>2018-01-01</td>\n",
       "      <td>2018-01-22 12:48:00</td>\n",
       "      <td>0</td>\n",
       "      <td>292</td>\n",
       "      <td>4157.74</td>\n",
       "      <td>14.238836</td>\n",
       "    </tr>\n",
       "  </tbody>\n",
       "</table>\n",
       "</div>"
      ],
      "text/plain": [
       "                  uid      month  revenue  source_id first_order_month  \\\n",
       "0     313578113262317 2018-01-01     0.55          2        2018-01-01   \n",
       "1   57885047520933118 2018-01-01     2.56          2        2018-01-01   \n",
       "2  109028781533433288 2018-01-01     7.94          2        2018-01-01   \n",
       "3  214813444283416986 2018-01-01     6.11          2        2018-01-01   \n",
       "4  239481632267640520 2018-01-01     4.28          2        2018-01-01   \n",
       "\n",
       "       first_order_at  month_age  new_users    costs        cac  \n",
       "0 2018-01-03 21:51:00          0        292  4157.74  14.238836  \n",
       "1 2018-01-31 17:31:00          0        292  4157.74  14.238836  \n",
       "2 2018-01-16 23:24:00          0        292  4157.74  14.238836  \n",
       "3 2018-01-23 00:14:00          0        292  4157.74  14.238836  \n",
       "4 2018-01-22 12:48:00          0        292  4157.74  14.238836  "
      ]
     },
     "execution_count": 64,
     "metadata": {},
     "output_type": "execute_result"
    }
   ],
   "source": [
    "report_ = pd.merge(\n",
    "    revenues_with_cohort,\n",
    "    monthly_cac,            \n",
    "    on=['source_id', 'month']  \n",
    ")\n",
    "report_.head()"
   ]
  },
  {
   "cell_type": "code",
   "execution_count": 65,
   "metadata": {},
   "outputs": [
    {
     "name": "stdout",
     "output_type": "stream",
     "text": [
      "month_age            0     1     2      3      4      5      6      7      8   \\\n",
      "first_order_month                                                               \n",
      "2017-06-01         0.59  2.74  4.87   9.28   12.6  16.03  20.28  22.89  25.11   \n",
      "2017-07-01         0.70  1.98  5.08   6.47   7.32   8.34   9.07   9.87  10.96   \n",
      "2017-08-01         0.59  2.05  3.84   5.43   7.59    9.1  10.35  12.18  14.88   \n",
      "2017-09-01         0.65  3.04  4.53  22.73  24.68  27.99  31.69   33.6  35.24   \n",
      "2017-10-01         0.69  1.84  2.65   3.46   4.27   5.33   6.17   7.29          \n",
      "2017-11-01         0.69   1.7  2.43   4.11   5.19   5.71   6.99                 \n",
      "2017-12-01         0.59  1.31  4.19   8.55  10.59   14.2                        \n",
      "2018-01-01         0.48  1.43  2.75   4.06   4.73                               \n",
      "2018-02-01         0.54  1.57  2.03   3.03                                      \n",
      "2018-03-01         0.68  2.04  4.74                                             \n",
      "2018-04-01         0.55   2.5                                                   \n",
      "2018-05-01         0.71                                                         \n",
      "\n",
      "month_age             9      10     11  \n",
      "first_order_month                       \n",
      "2017-06-01         28.87  32.08  33.63  \n",
      "2017-07-01          12.5  14.26         \n",
      "2017-08-01         16.17                \n",
      "2017-09-01                              \n",
      "2017-10-01                              \n",
      "2017-11-01                              \n",
      "2017-12-01                              \n",
      "2018-01-01                              \n",
      "2018-02-01                              \n",
      "2018-03-01                              \n",
      "2018-04-01                              \n",
      "2018-05-01                              \n"
     ]
    }
   ],
   "source": [
    "report_['romi'] = report_['revenue'] / report_['cac']\n",
    "\n",
    "output = report_.pivot_table(\n",
    "    index='first_order_month',        \n",
    "    columns='month_age',       \n",
    "    values='romi',         \n",
    "    aggfunc='mean'         \n",
    ")\n",
    "output = output.cumsum(axis=1).round(2).fillna('')\n",
    "\n",
    "print(output)"
   ]
  },
  {
   "cell_type": "code",
   "execution_count": 66,
   "metadata": {},
   "outputs": [
    {
     "data": {
      "text/html": [
       "<div>\n",
       "<style scoped>\n",
       "    .dataframe tbody tr th:only-of-type {\n",
       "        vertical-align: middle;\n",
       "    }\n",
       "\n",
       "    .dataframe tbody tr th {\n",
       "        vertical-align: top;\n",
       "    }\n",
       "\n",
       "    .dataframe thead th {\n",
       "        text-align: right;\n",
       "    }\n",
       "</style>\n",
       "<table border=\"1\" class=\"dataframe\">\n",
       "  <thead>\n",
       "    <tr style=\"text-align: right;\">\n",
       "      <th></th>\n",
       "      <th>uid</th>\n",
       "      <th>month</th>\n",
       "      <th>revenue</th>\n",
       "      <th>source_id</th>\n",
       "      <th>first_order_month</th>\n",
       "      <th>first_order_at</th>\n",
       "      <th>month_age</th>\n",
       "      <th>new_users</th>\n",
       "      <th>costs</th>\n",
       "      <th>cac</th>\n",
       "      <th>romi</th>\n",
       "    </tr>\n",
       "  </thead>\n",
       "  <tbody>\n",
       "    <tr>\n",
       "      <th>0</th>\n",
       "      <td>313578113262317</td>\n",
       "      <td>2018-01-01</td>\n",
       "      <td>0.55</td>\n",
       "      <td>2</td>\n",
       "      <td>2018-01-01</td>\n",
       "      <td>2018-01-03 21:51:00</td>\n",
       "      <td>0</td>\n",
       "      <td>292</td>\n",
       "      <td>4157.74</td>\n",
       "      <td>14.238836</td>\n",
       "      <td>0.038627</td>\n",
       "    </tr>\n",
       "    <tr>\n",
       "      <th>1</th>\n",
       "      <td>57885047520933118</td>\n",
       "      <td>2018-01-01</td>\n",
       "      <td>2.56</td>\n",
       "      <td>2</td>\n",
       "      <td>2018-01-01</td>\n",
       "      <td>2018-01-31 17:31:00</td>\n",
       "      <td>0</td>\n",
       "      <td>292</td>\n",
       "      <td>4157.74</td>\n",
       "      <td>14.238836</td>\n",
       "      <td>0.179790</td>\n",
       "    </tr>\n",
       "    <tr>\n",
       "      <th>2</th>\n",
       "      <td>109028781533433288</td>\n",
       "      <td>2018-01-01</td>\n",
       "      <td>7.94</td>\n",
       "      <td>2</td>\n",
       "      <td>2018-01-01</td>\n",
       "      <td>2018-01-16 23:24:00</td>\n",
       "      <td>0</td>\n",
       "      <td>292</td>\n",
       "      <td>4157.74</td>\n",
       "      <td>14.238836</td>\n",
       "      <td>0.557630</td>\n",
       "    </tr>\n",
       "    <tr>\n",
       "      <th>3</th>\n",
       "      <td>214813444283416986</td>\n",
       "      <td>2018-01-01</td>\n",
       "      <td>6.11</td>\n",
       "      <td>2</td>\n",
       "      <td>2018-01-01</td>\n",
       "      <td>2018-01-23 00:14:00</td>\n",
       "      <td>0</td>\n",
       "      <td>292</td>\n",
       "      <td>4157.74</td>\n",
       "      <td>14.238836</td>\n",
       "      <td>0.429108</td>\n",
       "    </tr>\n",
       "    <tr>\n",
       "      <th>4</th>\n",
       "      <td>239481632267640520</td>\n",
       "      <td>2018-01-01</td>\n",
       "      <td>4.28</td>\n",
       "      <td>2</td>\n",
       "      <td>2018-01-01</td>\n",
       "      <td>2018-01-22 12:48:00</td>\n",
       "      <td>0</td>\n",
       "      <td>292</td>\n",
       "      <td>4157.74</td>\n",
       "      <td>14.238836</td>\n",
       "      <td>0.300586</td>\n",
       "    </tr>\n",
       "  </tbody>\n",
       "</table>\n",
       "</div>"
      ],
      "text/plain": [
       "                  uid      month  revenue  source_id first_order_month  \\\n",
       "0     313578113262317 2018-01-01     0.55          2        2018-01-01   \n",
       "1   57885047520933118 2018-01-01     2.56          2        2018-01-01   \n",
       "2  109028781533433288 2018-01-01     7.94          2        2018-01-01   \n",
       "3  214813444283416986 2018-01-01     6.11          2        2018-01-01   \n",
       "4  239481632267640520 2018-01-01     4.28          2        2018-01-01   \n",
       "\n",
       "       first_order_at  month_age  new_users    costs        cac      romi  \n",
       "0 2018-01-03 21:51:00          0        292  4157.74  14.238836  0.038627  \n",
       "1 2018-01-31 17:31:00          0        292  4157.74  14.238836  0.179790  \n",
       "2 2018-01-16 23:24:00          0        292  4157.74  14.238836  0.557630  \n",
       "3 2018-01-23 00:14:00          0        292  4157.74  14.238836  0.429108  \n",
       "4 2018-01-22 12:48:00          0        292  4157.74  14.238836  0.300586  "
      ]
     },
     "execution_count": 66,
     "metadata": {},
     "output_type": "execute_result"
    }
   ],
   "source": [
    "report_.head()"
   ]
  },
  {
   "cell_type": "markdown",
   "metadata": {},
   "source": [
    "Podemos observar que todos los meses existió un ROMI positivo lo que significa que la campaña está generando más ingresos que lo que costó. Podriamos considerar lo siguiente:\n",
    "\n",
    "- Reinvertir en las campañas más efectivas: Identifica las estrategias que están generando el mejor retorno y destina más recursos a esas áreas.\n",
    "\n",
    "- Explorar nuevas oportunidades: Con un margen positivo, puedes experimentar con nuevas tácticas de marketing, nuevos canales o segmentos de mercado.\n",
    "\n",
    "- Optimizar el presupuesto: Evalúa si hay áreas donde podrías reducir costos sin sacrificar el rendimiento, mejorando aún más el ROMI. "
   ]
  },
  {
   "cell_type": "markdown",
   "metadata": {},
   "source": [
    "A continuación se calcula el romi por fuente: "
   ]
  },
  {
   "cell_type": "code",
   "execution_count": 67,
   "metadata": {},
   "outputs": [
    {
     "data": {
      "text/html": [
       "<div>\n",
       "<style scoped>\n",
       "    .dataframe tbody tr th:only-of-type {\n",
       "        vertical-align: middle;\n",
       "    }\n",
       "\n",
       "    .dataframe tbody tr th {\n",
       "        vertical-align: top;\n",
       "    }\n",
       "\n",
       "    .dataframe thead th {\n",
       "        text-align: right;\n",
       "    }\n",
       "</style>\n",
       "<table border=\"1\" class=\"dataframe\">\n",
       "  <thead>\n",
       "    <tr style=\"text-align: right;\">\n",
       "      <th></th>\n",
       "      <th>source_id</th>\n",
       "      <th>month</th>\n",
       "      <th>new_users</th>\n",
       "      <th>costs</th>\n",
       "      <th>cac</th>\n",
       "    </tr>\n",
       "  </thead>\n",
       "  <tbody>\n",
       "    <tr>\n",
       "      <th>72</th>\n",
       "      <td>10</td>\n",
       "      <td>2017-06-01</td>\n",
       "      <td>95</td>\n",
       "      <td>314.22</td>\n",
       "      <td>3.307579</td>\n",
       "    </tr>\n",
       "    <tr>\n",
       "      <th>73</th>\n",
       "      <td>10</td>\n",
       "      <td>2017-07-01</td>\n",
       "      <td>51</td>\n",
       "      <td>329.82</td>\n",
       "      <td>6.467059</td>\n",
       "    </tr>\n",
       "    <tr>\n",
       "      <th>74</th>\n",
       "      <td>10</td>\n",
       "      <td>2017-08-01</td>\n",
       "      <td>37</td>\n",
       "      <td>232.57</td>\n",
       "      <td>6.285676</td>\n",
       "    </tr>\n",
       "    <tr>\n",
       "      <th>75</th>\n",
       "      <td>10</td>\n",
       "      <td>2017-09-01</td>\n",
       "      <td>86</td>\n",
       "      <td>460.67</td>\n",
       "      <td>5.356628</td>\n",
       "    </tr>\n",
       "    <tr>\n",
       "      <th>76</th>\n",
       "      <td>10</td>\n",
       "      <td>2017-10-01</td>\n",
       "      <td>209</td>\n",
       "      <td>627.24</td>\n",
       "      <td>3.001148</td>\n",
       "    </tr>\n",
       "  </tbody>\n",
       "</table>\n",
       "</div>"
      ],
      "text/plain": [
       "    source_id      month  new_users   costs       cac\n",
       "72         10 2017-06-01         95  314.22  3.307579\n",
       "73         10 2017-07-01         51  329.82  6.467059\n",
       "74         10 2017-08-01         37  232.57  6.285676\n",
       "75         10 2017-09-01         86  460.67  5.356628\n",
       "76         10 2017-10-01        209  627.24  3.001148"
      ]
     },
     "execution_count": 67,
     "metadata": {},
     "output_type": "execute_result"
    }
   ],
   "source": [
    "source_data.head()"
   ]
  },
  {
   "cell_type": "code",
   "execution_count": 68,
   "metadata": {},
   "outputs": [
    {
     "data": {
      "text/plain": [
       "array([ 2, 10,  3,  5,  4,  1,  9])"
      ]
     },
     "execution_count": 68,
     "metadata": {},
     "output_type": "execute_result"
    }
   ],
   "source": [
    "report_['source_id'].unique()"
   ]
  },
  {
   "cell_type": "code",
   "execution_count": 69,
   "metadata": {
    "scrolled": false
   },
   "outputs": [
    {
     "name": "stdout",
     "output_type": "stream",
     "text": [
      "ROMI para source_id: 2\n",
      "month_age            0     1      2      3      4      5      6      7   \\\n",
      "first_order_month                                                         \n",
      "2017-06-01         0.43  1.72   2.26   4.65   6.25    7.0   8.62  11.07   \n",
      "2017-07-01         0.75   2.1   2.23    2.6   3.17   3.67   4.54   4.75   \n",
      "2017-08-01         0.39  1.24   1.47   2.05   2.87   3.05    3.3   3.99   \n",
      "2017-09-01         0.61  7.29   9.01  10.23  12.96  14.14  18.96  21.29   \n",
      "2017-10-01         0.63  2.62   3.75   4.75    5.6   6.35    6.7   8.23   \n",
      "2017-11-01         0.53  1.66   2.77   5.04    6.1    6.5   7.38          \n",
      "2017-12-01         0.69  2.65  19.28  43.38  50.77  69.51                 \n",
      "2018-01-01         0.31  1.46   4.35   5.19   6.66                        \n",
      "2018-02-01         0.35  1.71   2.44   4.08                               \n",
      "2018-03-01         0.45  1.75   9.77                                      \n",
      "2018-04-01         0.40  2.26                                             \n",
      "2018-05-01         1.05                                                   \n",
      "\n",
      "month_age             8      9      10     11  \n",
      "first_order_month                              \n",
      "2017-06-01         12.94  14.58  16.61  17.81  \n",
      "2017-07-01          5.08   5.64   7.95         \n",
      "2017-08-01          4.27   5.07                \n",
      "2017-09-01         23.96                       \n",
      "2017-10-01                                     \n",
      "2017-11-01                                     \n",
      "2017-12-01                                     \n",
      "2018-01-01                                     \n",
      "2018-02-01                                     \n",
      "2018-03-01                                     \n",
      "2018-04-01                                     \n",
      "2018-05-01                                     \n",
      "\n",
      "==================================================\n",
      "\n",
      "ROMI para source_id: 10\n",
      "month_age             0     1     2     3     4     5     6     7     8     9\n",
      "first_order_month                                                            \n",
      "2017-06-01         0.73  1.59                                       1.8      \n",
      "2017-07-01         0.54  0.66        1.93                          2.06      \n",
      "2017-08-01         0.80  1.18  3.22                          4.03        5.09\n",
      "2017-09-01         0.42  1.34  1.63  2.35  2.53              2.77  3.45      \n",
      "2017-10-01         0.87  1.81  1.95  2.22  3.24  3.96  4.53  5.68            \n",
      "2017-11-01         0.75  0.92   1.2  2.21  3.79  4.67  5.22                  \n",
      "2017-12-01         0.50  2.24                    3.79                        \n",
      "2018-01-01         0.46  0.64  2.91                                          \n",
      "2018-02-01         0.63  1.64  1.78                                          \n",
      "2018-03-01         1.21  1.91  2.58                                          \n",
      "2018-04-01         0.67                                                      \n",
      "2018-05-01         1.15                                                      \n",
      "\n",
      "==================================================\n",
      "\n",
      "ROMI para source_id: 3\n",
      "month_age            0     1     2     3     4     5     6     7     8     9   \\\n",
      "first_order_month                                                               \n",
      "2017-06-01         0.36  0.73   1.2  2.93  3.32   4.3  4.71  4.84  5.07  5.56   \n",
      "2017-07-01         0.41  0.84  1.15  2.07  2.32  2.65  2.83  3.23  3.54  3.82   \n",
      "2017-08-01         0.28  0.65  1.54  1.97  2.71  2.87  3.05  3.31  3.66  3.92   \n",
      "2017-09-01         0.44  0.81  1.56  1.96  3.04  3.55  3.87  4.16  4.81         \n",
      "2017-10-01         0.35  1.12  1.46  1.76  2.18  2.71  2.84  3.22               \n",
      "2017-11-01         0.32  0.55  0.75  1.17  1.39  1.64  1.89                     \n",
      "2017-12-01         0.34  0.65  1.22  1.68  2.16   2.5                           \n",
      "2018-01-01         0.28  0.71  1.03  1.41  1.89                                 \n",
      "2018-02-01         0.29  1.15   1.5  1.96                                       \n",
      "2018-03-01         0.32  0.62  3.59                                             \n",
      "2018-04-01         0.30  5.21                                                   \n",
      "2018-05-01         0.35                                                         \n",
      "\n",
      "month_age            10    11  \n",
      "first_order_month              \n",
      "2017-06-01         5.76  5.89  \n",
      "2017-07-01          4.1        \n",
      "2017-08-01                     \n",
      "2017-09-01                     \n",
      "2017-10-01                     \n",
      "2017-11-01                     \n",
      "2017-12-01                     \n",
      "2018-01-01                     \n",
      "2018-02-01                     \n",
      "2018-03-01                     \n",
      "2018-04-01                     \n",
      "2018-05-01                     \n",
      "\n",
      "==================================================\n",
      "\n",
      "ROMI para source_id: 5\n",
      "month_age            0     1     2      3      4      5      6      7      8   \\\n",
      "first_order_month                                                               \n",
      "2017-06-01         0.73  4.22  8.28  14.69  17.47  19.04  28.17   32.6  35.46   \n",
      "2017-07-01         0.75  3.93   7.2   8.97   9.47  10.47   10.8  11.69  12.45   \n",
      "2017-08-01         0.83  4.29  8.37  10.92   17.3  23.61   26.7  27.99  31.49   \n",
      "2017-09-01         0.95  2.05  3.58  77.12  83.83  97.07  99.48  103.1  103.4   \n",
      "2017-10-01         0.83  1.46  2.29   2.97   3.76   4.66   5.94   7.41          \n",
      "2017-11-01         0.50  1.05  1.69   2.16   3.26   3.75   5.02                 \n",
      "2017-12-01         0.66  1.07  1.56   1.97   2.33   2.47                        \n",
      "2018-01-01         0.51  2.82   5.0   6.23   6.63                               \n",
      "2018-02-01         0.58  0.98  1.53   1.76                                      \n",
      "2018-03-01         0.56  0.96  1.37                                             \n",
      "2018-04-01         0.51  0.93                                                   \n",
      "2018-05-01         0.57                                                         \n",
      "\n",
      "month_age             9      10     11  \n",
      "first_order_month                       \n",
      "2017-06-01         40.16  41.39  42.26  \n",
      "2017-07-01         13.18  14.61         \n",
      "2017-08-01         34.35                \n",
      "2017-09-01                              \n",
      "2017-10-01                              \n",
      "2017-11-01                              \n",
      "2017-12-01                              \n",
      "2018-01-01                              \n",
      "2018-02-01                              \n",
      "2018-03-01                              \n",
      "2018-04-01                              \n",
      "2018-05-01                              \n",
      "\n",
      "==================================================\n",
      "\n",
      "ROMI para source_id: 4\n",
      "month_age            0     1     2     3      4      5      6      7      8   \\\n",
      "first_order_month                                                              \n",
      "2017-06-01         0.56  0.91  1.83  4.53  11.19  30.37  42.13  44.57   46.3   \n",
      "2017-07-01         0.81  1.21   1.8  2.88   3.59   4.23   4.95   6.08    7.1   \n",
      "2017-08-01         0.53  1.12  2.02  3.43   4.23   5.48   6.39   7.84   9.06   \n",
      "2017-09-01         0.54  2.61  5.14  7.48   7.88   9.47   22.9  25.34  25.99   \n",
      "2017-10-01         0.80  1.67  2.58  3.37   4.73   5.71   6.65   7.61          \n",
      "2017-11-01         1.12  2.85  3.42  6.14   8.11   8.78  12.09                 \n",
      "2017-12-01         0.75  1.37  2.19  3.08   3.93   5.25                        \n",
      "2018-01-01         0.67  1.47  2.39  3.29   3.66                               \n",
      "2018-02-01         0.79  1.39  1.75  2.24                                      \n",
      "2018-03-01         0.83  1.53  2.84                                            \n",
      "2018-04-01         0.78  1.77                                                  \n",
      "2018-05-01         0.90                                                        \n",
      "\n",
      "month_age             9      10     11  \n",
      "first_order_month                       \n",
      "2017-06-01         51.76  59.94  60.68  \n",
      "2017-07-01          8.74   9.45         \n",
      "2017-08-01          9.79                \n",
      "2017-09-01                              \n",
      "2017-10-01                              \n",
      "2017-11-01                              \n",
      "2017-12-01                              \n",
      "2018-01-01                              \n",
      "2018-02-01                              \n",
      "2018-03-01                              \n",
      "2018-04-01                              \n",
      "2018-05-01                              \n",
      "\n",
      "==================================================\n",
      "\n",
      "ROMI para source_id: 1\n",
      "month_age            0     1      2      3      4      5      6      7   \\\n",
      "first_order_month                                                         \n",
      "2017-06-01         1.22  5.09  10.07  22.07  31.99  35.43  43.14  47.88   \n",
      "2017-07-01         1.09  5.25  19.64  26.72  29.38  33.45  35.01  37.58   \n",
      "2017-08-01         0.89  2.93   7.12  10.01  12.39  14.03  17.22  24.65   \n",
      "2017-09-01         0.91  4.91   6.21   9.17   9.65   10.1  10.58  15.28   \n",
      "2017-10-01         0.88  3.39   4.69   7.57   8.01   8.56  11.36  13.92   \n",
      "2017-11-01         0.98  2.53   4.95   7.96   9.27  10.43  10.97          \n",
      "2017-12-01         0.65  1.51   2.84   3.84   4.24   5.54                 \n",
      "2018-01-01         0.63  1.08   2.78   9.03   9.99                        \n",
      "2018-02-01         0.58  3.99   4.61   6.99                               \n",
      "2018-03-01         1.39  8.73  12.37                                      \n",
      "2018-04-01         0.63  1.95                                             \n",
      "2018-05-01         0.86                                                   \n",
      "\n",
      "month_age             8      9      10     11  \n",
      "first_order_month                              \n",
      "2017-06-01         54.62  61.32  64.13  69.34  \n",
      "2017-07-01         40.13  47.22  53.31         \n",
      "2017-08-01          33.0  37.82                \n",
      "2017-09-01         19.68                       \n",
      "2017-10-01                                     \n",
      "2017-11-01                                     \n",
      "2017-12-01                                     \n",
      "2018-01-01                                     \n",
      "2018-02-01                                     \n",
      "2018-03-01                                     \n",
      "2018-04-01                                     \n",
      "2018-05-01                                     \n",
      "\n",
      "==================================================\n",
      "\n",
      "ROMI para source_id: 9\n",
      "month_age            0     1     2     3     4      5      6      7      8   \\\n",
      "first_order_month                                                             \n",
      "2017-06-01         0.85  1.69  4.96   6.4  7.02   8.09   9.42   9.83  10.62   \n",
      "2017-07-01         0.77  1.17  2.02  2.89  3.57   3.77   4.85   5.32   7.82   \n",
      "2017-08-01         1.00  2.26  3.07  3.82  4.12   4.33   4.96   6.15   6.43   \n",
      "2017-09-01         0.90  2.43  4.37  7.58  8.53    9.1  12.09  15.43  21.98   \n",
      "2017-10-01         1.05  1.85  3.12  3.55  4.34  15.78  15.91   16.3          \n",
      "2017-11-01         0.79  1.39  1.88  2.68  3.59   3.76   4.01                 \n",
      "2017-12-01         0.70   1.4  1.93  3.47  3.58   4.32                        \n",
      "2018-01-01         0.41  0.86  2.21  2.32  2.63                               \n",
      "2018-02-01         0.73  1.71  2.07                                           \n",
      "2018-03-01         0.88  1.08   1.6                                           \n",
      "2018-04-01         0.59   1.9                                                 \n",
      "2018-05-01         0.62                                                       \n",
      "\n",
      "month_age             9      10  \n",
      "first_order_month                \n",
      "2017-06-01         11.32  11.96  \n",
      "2017-07-01          7.96   8.28  \n",
      "2017-08-01          6.94         \n",
      "2017-09-01                       \n",
      "2017-10-01                       \n",
      "2017-11-01                       \n",
      "2017-12-01                       \n",
      "2018-01-01                       \n",
      "2018-02-01                       \n",
      "2018-03-01                       \n",
      "2018-04-01                       \n",
      "2018-05-01                       \n",
      "\n",
      "==================================================\n",
      "\n"
     ]
    }
   ],
   "source": [
    "source_ids = report_['source_id'].unique()\n",
    "\n",
    "for source in source_ids:\n",
    "    source_data = report_[report_['source_id'] == source]\n",
    "    romi_by_source = source_data.pivot_table(\n",
    "        index='first_order_month',        \n",
    "        columns='month_age',       \n",
    "        values='romi',         \n",
    "        aggfunc='mean'         \n",
    "    )\n",
    "    \n",
    "    romi_by_source = romi_by_source.cumsum(axis=1).round(2).fillna('')\n",
    "    \n",
    "    # Mostrar la tabla de ROMI para cada source_id\n",
    "    print(f\"ROMI para source_id: {source}\")\n",
    "    print(romi_by_source)\n",
    "    print(\"\\n\" + \"=\"*50 + \"\\n\")\n"
   ]
  },
  {
   "cell_type": "code",
   "execution_count": 70,
   "metadata": {},
   "outputs": [
    {
     "name": "stdout",
     "output_type": "stream",
     "text": [
      "   source_id      romi\n",
      "0          1  1.285635\n",
      "1          2  0.943978\n",
      "2          3  0.351434\n",
      "3          4  0.874787\n",
      "4          5  0.934642\n",
      "5          9  0.852880\n",
      "6         10  0.787722\n"
     ]
    }
   ],
   "source": [
    "romi_mean_by_source = report_.groupby('source_id')['romi'].mean().reset_index()\n",
    "print(romi_mean_by_source)"
   ]
  },
  {
   "cell_type": "markdown",
   "metadata": {},
   "source": [
    "Por lo anterior podemos observar que la fuente que genera un mayor ingreso fue la número 1. "
   ]
  },
  {
   "cell_type": "markdown",
   "metadata": {},
   "source": [
    "<div class=\"alert alert-block alert-danger\">\n",
    "<b>Comentario del revisor (1ra Iteración)</b> <a class=“tocSkip”></a>\n",
    "    \n",
    "Para esta última parte fue mucho más complicado indentificar que sección de código está dando respuesta a cada pregunta. Debes tener en cuenta los siguiente para cada pregunta:\n",
    "    \n",
    "    \n",
    "*¿Cuánto dinero se gastó? (Total/por fuente de adquisición/a lo largo del tiempo)*\n",
    "    \n",
    "Debes calcular el **valor total** para el registro de compra de los usuarios, pero también cuando se habla de *a lo largo del tiempo* puedes hacer el cáluculo por mes, y moestratlo en una gráfica. Por otro lado, debes considerar las fuentes de adquisición que corresponde a `source_id` del dataset de **visits**, recuerda que esta columna corresponde al identificador de la fuente de anuncios de la que proviene el usuario.\n",
    "    \n",
    "    \n",
    "    \n",
    "*¿Cuál fue el costo de adquisición de clientes de cada una de las fuentes?*\n",
    "\n",
    "Para esta pregunta, tu lógica es valida pero, debes mostrar la información de todos los `source_id`, y dado el contexto del proyecto es mejor ver cómo varian mes a mes, para esto puedes usar una gráfica. \n",
    " \n",
    "    \n",
    "*¿Cuán rentables eran las inversiones? (ROMI)*    \n",
    "    \n",
    "La información de `ltv_table` es correcta. Pero ahora lo que debes hacer es discretizar esa información por `source_id` y mosrtar la información del *ROMI by source*, con una estructura similar a la tabla del LVT   \n",
    "\n",
    "</div>"
   ]
  },
  {
   "cell_type": "markdown",
   "metadata": {},
   "source": [
    "<div class=\"alert alert-block alert-danger\">\n",
    "<b>Comentario del revisor (2da Iteración)</b> <a class=“tocSkip”></a>\n",
    "    \n",
    "Ya estás más cerca del resultado deseado, pero acá estás combinando información, por eso la tabla final no tiene mucho sentido.\n",
    "Para mostrar la información de manera correcta tu **output** debe tener las filas con los meses del `first_order_month`, en las columnas `age` y los valors serían el `romi`. De hecho, tu lo describres así en el comentario antes de crear el **output**, pero ya en el código lo haces diferente.\n",
    "    \n",
    "    \n",
    "</div>"
   ]
  },
  {
   "cell_type": "markdown",
   "metadata": {},
   "source": [
    "<div class=\"alert alert-block alert-danger\">\n",
    "<b>Comentario del revisor (3ra Iteración)</b> <a class=“tocSkip”></a>\n",
    "    \n",
    "Pablo ahora el proceso de cálculo del ROMI es correcto, pero si te das cuenta aún falta algo para lograr responder la pregunta *¿Cuán rentables eran las inversiones?*. Si queremos darle respuesta debemos comparar el comportamiento del **output** pero de forma independiente para cada `source_id`. \n",
    "    \n",
    "    \n",
    "    \n",
    "Para lograr esto lo que puedes hacer es un *for loop* donde filtres el **output** por cada `source_id` y muestres la tabla de ROMI para cada `source_id` de forma independiente. **De esa forma tendrás una tabla por cada `source_id`, lo que te permitirá comparar la rentabilidad de cada fuente de inversión por separado** , lo cual es una información clave para determinar cuál de éstas fuentes tiene un mayor impacto en el área de marketing.\n",
    "    \n",
    "    \n",
    "    \n",
    "Con este ajuste tu proyecto quedará perfecto 🦾\n",
    "    \n",
    "</div>"
   ]
  },
  {
   "cell_type": "markdown",
   "metadata": {},
   "source": [
    "-----"
   ]
  },
  {
   "cell_type": "markdown",
   "metadata": {},
   "source": [
    "<div class=\"alert alert-block alert-danger\">\n",
    "<b>Comentario General del revisor (1ra Iteración)</b> <a class=“tocSkip”></a>\n",
    "    \n",
    "Pablo, tu desempeño en este proyecto muestra un gran potencial como analista de datos. Tu análisis exploratorio de datos y los ajustes realizados fueron muy buenos, demostrando una sólida comprensión de los conceptos fundamentales. Es especialmente destacable tu excelente trabajo en la sección de \"Visitas\", aunque te animo a revisar y completar la pregunta que quedó sin responder. En la sección de \"Ventas\", tu análisis fue igualmente impresionante, pero te sugiero mejorar la organización para que sea más fácil identificar qué parte del código corresponde a cada pregunta. En cuanto a la sección de \"Marketing\", es importante que reorientes tu enfoque para mostrar la información por mes y por source_id, lo cual proporcionará insights más valiosos. En general, te recomiendo ajustar la estructura de tu notebook para mejorar su claridad y organización. Esto no solo hará que tu trabajo sea más fácil de seguir, sino que también resaltará la calidad de tus análisis. También es importante incluir tus apreciaciones en cada pregunta, esto permitirá que desarrolles tus habilidades de análisis de datos. Con estos ajustes en la presentación y organización, tu proyecto reflejará aún mejor tu capacidad analítica. Confío en que puedes implementar estas mejoras y llevar tu trabajo al siguiente nivel. Estaré atente a tu próxima iteración 👀\n",
    "    \n",
    "</div>\n",
    "\n"
   ]
  },
  {
   "cell_type": "markdown",
   "metadata": {},
   "source": [
    "<div class=\"alert alert-block alert-warning\">\n",
    "<b>Comentario General del revisor (2da Iteración)</b> <a class=“tocSkip”></a>\n",
    "    \n",
    "Pablo has hecho varios de los ajustes necesarios para tu proyecto. Solo te resta revisar la última pregunta relacionada con el ROMI\n",
    "    \n",
    "    \n",
    "</div>"
   ]
  },
  {
   "cell_type": "markdown",
   "metadata": {},
   "source": [
    "<div class=\"alert alert-block alert-success\">\n",
    "<b>Comentario General del revisor (4ta Iteración)</b> <a class=“tocSkip”></a>\n",
    "    \n",
    "Pablo has realizado todos los ajustes necesarios y ahora tu proyecto cumple con los objetivos propuestos. Muy buen trabajo. Estoy seguro que lo que has aprendido acá te servirá en futuros proyectos. Éxitos en tu próximo sprint 🚀\n",
    "    \n",
    "    \n",
    "</div>"
   ]
  }
 ],
 "metadata": {
  "ExecuteTimeLog": [
   {
    "duration": 2192,
    "start_time": "2024-09-25T20:26:30.389Z"
   },
   {
    "duration": 522,
    "start_time": "2024-09-25T20:29:34.103Z"
   },
   {
    "duration": 3,
    "start_time": "2024-09-25T20:30:16.293Z"
   },
   {
    "duration": 57,
    "start_time": "2024-09-25T20:30:17.141Z"
   },
   {
    "duration": 461,
    "start_time": "2024-09-25T20:30:42.389Z"
   },
   {
    "duration": 426,
    "start_time": "2024-09-25T20:31:08.341Z"
   },
   {
    "duration": 2121,
    "start_time": "2024-09-25T22:04:39.864Z"
   },
   {
    "duration": 453,
    "start_time": "2024-09-25T22:04:41.987Z"
   },
   {
    "duration": 5,
    "start_time": "2024-09-25T22:04:42.443Z"
   },
   {
    "duration": 4,
    "start_time": "2024-09-25T22:04:50.846Z"
   },
   {
    "duration": 166,
    "start_time": "2024-09-26T01:23:50.468Z"
   },
   {
    "duration": 2147,
    "start_time": "2024-09-26T01:24:03.562Z"
   },
   {
    "duration": 428,
    "start_time": "2024-09-26T01:24:05.711Z"
   },
   {
    "duration": 4,
    "start_time": "2024-09-26T01:24:06.141Z"
   },
   {
    "duration": 4,
    "start_time": "2024-09-26T01:24:06.147Z"
   },
   {
    "duration": 3,
    "start_time": "2024-09-26T01:24:06.154Z"
   },
   {
    "duration": 4,
    "start_time": "2024-09-26T01:24:56.338Z"
   },
   {
    "duration": 2285,
    "start_time": "2024-09-26T02:08:33.997Z"
   },
   {
    "duration": 530,
    "start_time": "2024-09-26T02:08:36.284Z"
   },
   {
    "duration": 5,
    "start_time": "2024-09-26T02:08:36.816Z"
   },
   {
    "duration": 6,
    "start_time": "2024-09-26T02:08:36.822Z"
   },
   {
    "duration": 3,
    "start_time": "2024-09-26T02:08:36.831Z"
   },
   {
    "duration": 4,
    "start_time": "2024-09-26T02:08:36.837Z"
   },
   {
    "duration": 9,
    "start_time": "2024-09-26T02:08:43.465Z"
   },
   {
    "duration": 8,
    "start_time": "2024-09-26T02:08:50.145Z"
   },
   {
    "duration": 206,
    "start_time": "2024-09-26T02:08:59.312Z"
   },
   {
    "duration": 17,
    "start_time": "2024-09-26T02:10:54.752Z"
   },
   {
    "duration": 7,
    "start_time": "2024-09-26T02:11:04.238Z"
   },
   {
    "duration": 16,
    "start_time": "2024-09-26T02:11:32.648Z"
   },
   {
    "duration": 7,
    "start_time": "2024-09-26T02:11:42.318Z"
   },
   {
    "duration": 13,
    "start_time": "2024-09-26T02:11:58.478Z"
   },
   {
    "duration": 6,
    "start_time": "2024-09-26T02:12:09.804Z"
   },
   {
    "duration": 5,
    "start_time": "2024-09-26T02:12:21.862Z"
   },
   {
    "duration": 7,
    "start_time": "2024-09-26T02:12:40.819Z"
   },
   {
    "duration": 5,
    "start_time": "2024-09-26T02:12:59.980Z"
   },
   {
    "duration": 144,
    "start_time": "2024-09-26T02:17:53.307Z"
   },
   {
    "duration": 6,
    "start_time": "2024-09-26T02:18:09.410Z"
   },
   {
    "duration": 8,
    "start_time": "2024-09-26T02:18:35.044Z"
   },
   {
    "duration": 16,
    "start_time": "2024-09-26T02:19:39.265Z"
   },
   {
    "duration": 2125,
    "start_time": "2024-09-26T03:19:55.033Z"
   },
   {
    "duration": 469,
    "start_time": "2024-09-26T03:19:57.161Z"
   },
   {
    "duration": 4,
    "start_time": "2024-09-26T03:19:57.632Z"
   },
   {
    "duration": 10,
    "start_time": "2024-09-26T03:19:57.639Z"
   },
   {
    "duration": 7,
    "start_time": "2024-09-26T03:19:57.650Z"
   },
   {
    "duration": 6,
    "start_time": "2024-09-26T03:19:57.659Z"
   },
   {
    "duration": 5,
    "start_time": "2024-09-26T03:19:57.666Z"
   },
   {
    "duration": 128,
    "start_time": "2024-09-26T03:19:57.673Z"
   },
   {
    "duration": 4,
    "start_time": "2024-09-26T03:19:57.803Z"
   },
   {
    "duration": 18,
    "start_time": "2024-09-26T03:20:07.013Z"
   },
   {
    "duration": 19,
    "start_time": "2024-09-26T03:20:32.059Z"
   },
   {
    "duration": 67,
    "start_time": "2024-09-26T03:21:16.613Z"
   },
   {
    "duration": 68,
    "start_time": "2024-09-26T03:22:08.236Z"
   },
   {
    "duration": 10,
    "start_time": "2024-09-26T22:53:18.459Z"
   },
   {
    "duration": 6,
    "start_time": "2024-09-26T22:53:45.468Z"
   },
   {
    "duration": 163,
    "start_time": "2024-09-26T22:58:27.526Z"
   },
   {
    "duration": 2130,
    "start_time": "2024-09-26T22:58:38.248Z"
   },
   {
    "duration": 463,
    "start_time": "2024-09-26T22:58:40.380Z"
   },
   {
    "duration": 5,
    "start_time": "2024-09-26T22:58:40.845Z"
   },
   {
    "duration": 10,
    "start_time": "2024-09-26T22:58:40.851Z"
   },
   {
    "duration": 6,
    "start_time": "2024-09-26T22:58:40.863Z"
   },
   {
    "duration": 6,
    "start_time": "2024-09-26T22:58:40.871Z"
   },
   {
    "duration": 5,
    "start_time": "2024-09-26T22:58:40.878Z"
   },
   {
    "duration": 140,
    "start_time": "2024-09-26T22:58:40.885Z"
   },
   {
    "duration": 17,
    "start_time": "2024-09-26T22:58:41.027Z"
   },
   {
    "duration": 82,
    "start_time": "2024-09-26T22:58:41.046Z"
   },
   {
    "duration": 128,
    "start_time": "2024-09-26T22:58:41.130Z"
   },
   {
    "duration": 7,
    "start_time": "2024-09-26T23:04:13.561Z"
   },
   {
    "duration": 9,
    "start_time": "2024-09-26T23:04:37.517Z"
   },
   {
    "duration": 2132,
    "start_time": "2024-10-01T15:34:59.982Z"
   },
   {
    "duration": 471,
    "start_time": "2024-10-01T15:35:02.117Z"
   },
   {
    "duration": 4,
    "start_time": "2024-10-01T15:35:02.590Z"
   },
   {
    "duration": 9,
    "start_time": "2024-10-01T15:35:02.597Z"
   },
   {
    "duration": 6,
    "start_time": "2024-10-01T15:35:02.607Z"
   },
   {
    "duration": 6,
    "start_time": "2024-10-01T15:35:02.616Z"
   },
   {
    "duration": 6,
    "start_time": "2024-10-01T15:35:02.623Z"
   },
   {
    "duration": 139,
    "start_time": "2024-10-01T15:35:02.631Z"
   },
   {
    "duration": 17,
    "start_time": "2024-10-01T15:35:02.771Z"
   },
   {
    "duration": 80,
    "start_time": "2024-10-01T15:35:02.791Z"
   },
   {
    "duration": 130,
    "start_time": "2024-10-01T15:35:02.873Z"
   },
   {
    "duration": 8,
    "start_time": "2024-10-01T15:35:03.005Z"
   },
   {
    "duration": 9,
    "start_time": "2024-10-01T15:35:03.014Z"
   },
   {
    "duration": 59,
    "start_time": "2024-10-01T15:50:32.963Z"
   },
   {
    "duration": 60,
    "start_time": "2024-10-01T15:50:40.645Z"
   },
   {
    "duration": 60,
    "start_time": "2024-10-01T15:50:49.318Z"
   },
   {
    "duration": 5,
    "start_time": "2024-10-01T15:51:35.381Z"
   },
   {
    "duration": 55,
    "start_time": "2024-10-01T15:51:40.076Z"
   },
   {
    "duration": 51,
    "start_time": "2024-10-01T15:51:55.478Z"
   },
   {
    "duration": 53,
    "start_time": "2024-10-01T15:52:38.447Z"
   },
   {
    "duration": 8,
    "start_time": "2024-10-01T16:11:29.299Z"
   },
   {
    "duration": 221,
    "start_time": "2024-10-01T16:16:35.919Z"
   },
   {
    "duration": 66,
    "start_time": "2024-10-01T16:16:46.586Z"
   },
   {
    "duration": 68,
    "start_time": "2024-10-01T16:18:50.898Z"
   },
   {
    "duration": 116,
    "start_time": "2024-10-01T16:19:42.578Z"
   },
   {
    "duration": 118,
    "start_time": "2024-10-01T16:20:57.473Z"
   },
   {
    "duration": 158,
    "start_time": "2024-10-01T16:21:47.260Z"
   },
   {
    "duration": 149,
    "start_time": "2024-10-01T16:22:28.302Z"
   },
   {
    "duration": 155,
    "start_time": "2024-10-01T16:22:45.846Z"
   },
   {
    "duration": 2198,
    "start_time": "2024-10-01T21:11:59.867Z"
   },
   {
    "duration": 448,
    "start_time": "2024-10-01T21:12:02.068Z"
   },
   {
    "duration": 5,
    "start_time": "2024-10-01T21:12:02.517Z"
   },
   {
    "duration": 9,
    "start_time": "2024-10-01T21:12:02.524Z"
   },
   {
    "duration": 5,
    "start_time": "2024-10-01T21:12:02.535Z"
   },
   {
    "duration": 6,
    "start_time": "2024-10-01T21:12:02.542Z"
   },
   {
    "duration": 5,
    "start_time": "2024-10-01T21:12:02.549Z"
   },
   {
    "duration": 133,
    "start_time": "2024-10-01T21:12:02.556Z"
   },
   {
    "duration": 17,
    "start_time": "2024-10-01T21:12:02.691Z"
   },
   {
    "duration": 78,
    "start_time": "2024-10-01T21:12:02.709Z"
   },
   {
    "duration": 135,
    "start_time": "2024-10-01T21:12:02.789Z"
   },
   {
    "duration": 8,
    "start_time": "2024-10-01T21:12:02.925Z"
   },
   {
    "duration": 65,
    "start_time": "2024-10-01T21:12:02.935Z"
   },
   {
    "duration": 135,
    "start_time": "2024-10-01T21:12:03.004Z"
   },
   {
    "duration": 145,
    "start_time": "2024-10-01T21:12:03.141Z"
   },
   {
    "duration": 159,
    "start_time": "2024-10-01T21:12:03.289Z"
   },
   {
    "duration": 52,
    "start_time": "2024-10-01T21:12:03.450Z"
   },
   {
    "duration": 20,
    "start_time": "2024-10-01T21:12:03.504Z"
   },
   {
    "duration": 6,
    "start_time": "2024-10-01T21:12:03.526Z"
   },
   {
    "duration": 9,
    "start_time": "2024-10-01T21:13:14.231Z"
   },
   {
    "duration": 12,
    "start_time": "2024-10-01T21:13:34.397Z"
   },
   {
    "duration": 21,
    "start_time": "2024-10-01T21:13:47.629Z"
   },
   {
    "duration": 18,
    "start_time": "2024-10-01T21:15:45.752Z"
   },
   {
    "duration": 151,
    "start_time": "2024-10-01T21:24:07.306Z"
   },
   {
    "duration": 685,
    "start_time": "2024-10-01T21:26:13.870Z"
   },
   {
    "duration": 150,
    "start_time": "2024-10-01T21:27:29.958Z"
   },
   {
    "duration": 124,
    "start_time": "2024-10-01T21:31:52.229Z"
   },
   {
    "duration": 127,
    "start_time": "2024-10-01T21:37:08.674Z"
   },
   {
    "duration": 560,
    "start_time": "2024-10-01T21:38:46.919Z"
   },
   {
    "duration": 199,
    "start_time": "2024-10-01T21:39:02.854Z"
   },
   {
    "duration": 86,
    "start_time": "2024-10-01T21:39:12.471Z"
   },
   {
    "duration": 38,
    "start_time": "2024-10-01T21:39:19.341Z"
   },
   {
    "duration": 88,
    "start_time": "2024-10-01T21:39:23.097Z"
   },
   {
    "duration": 90,
    "start_time": "2024-10-01T21:45:42.832Z"
   },
   {
    "duration": 129,
    "start_time": "2024-10-01T21:46:50.571Z"
   },
   {
    "duration": 128,
    "start_time": "2024-10-01T21:50:13.986Z"
   },
   {
    "duration": 135,
    "start_time": "2024-10-01T21:54:56.175Z"
   },
   {
    "duration": 129,
    "start_time": "2024-10-01T21:55:05.177Z"
   },
   {
    "duration": 113,
    "start_time": "2024-10-01T21:55:08.237Z"
   },
   {
    "duration": 124,
    "start_time": "2024-10-01T21:55:23.799Z"
   },
   {
    "duration": 118,
    "start_time": "2024-10-01T21:57:52.578Z"
   },
   {
    "duration": 2307,
    "start_time": "2024-10-01T22:33:26.257Z"
   },
   {
    "duration": 519,
    "start_time": "2024-10-01T22:33:28.566Z"
   },
   {
    "duration": 4,
    "start_time": "2024-10-01T22:33:29.087Z"
   },
   {
    "duration": 9,
    "start_time": "2024-10-01T22:33:29.095Z"
   },
   {
    "duration": 5,
    "start_time": "2024-10-01T22:33:29.106Z"
   },
   {
    "duration": 5,
    "start_time": "2024-10-01T22:33:29.114Z"
   },
   {
    "duration": 6,
    "start_time": "2024-10-01T22:33:29.120Z"
   },
   {
    "duration": 127,
    "start_time": "2024-10-01T22:33:29.127Z"
   },
   {
    "duration": 17,
    "start_time": "2024-10-01T22:33:29.256Z"
   },
   {
    "duration": 88,
    "start_time": "2024-10-01T22:33:29.277Z"
   },
   {
    "duration": 125,
    "start_time": "2024-10-01T22:33:29.367Z"
   },
   {
    "duration": 8,
    "start_time": "2024-10-01T22:33:29.493Z"
   },
   {
    "duration": 86,
    "start_time": "2024-10-01T22:33:29.503Z"
   },
   {
    "duration": 127,
    "start_time": "2024-10-01T22:33:29.590Z"
   },
   {
    "duration": 126,
    "start_time": "2024-10-01T22:33:29.719Z"
   },
   {
    "duration": 166,
    "start_time": "2024-10-01T22:33:29.847Z"
   },
   {
    "duration": 67,
    "start_time": "2024-10-01T22:33:30.015Z"
   },
   {
    "duration": 7,
    "start_time": "2024-10-01T22:33:30.083Z"
   },
   {
    "duration": 20,
    "start_time": "2024-10-01T22:33:30.092Z"
   },
   {
    "duration": 248,
    "start_time": "2024-10-01T22:33:30.114Z"
   },
   {
    "duration": 150,
    "start_time": "2024-10-01T22:33:30.364Z"
   },
   {
    "duration": 708,
    "start_time": "2024-10-01T22:33:30.516Z"
   },
   {
    "duration": 224,
    "start_time": "2024-10-01T22:33:59.090Z"
   },
   {
    "duration": 128,
    "start_time": "2024-10-01T22:35:57.644Z"
   },
   {
    "duration": 104,
    "start_time": "2024-10-01T22:36:32.111Z"
   },
   {
    "duration": 452,
    "start_time": "2024-10-01T22:51:09.572Z"
   },
   {
    "duration": 14,
    "start_time": "2024-10-01T22:51:28.237Z"
   },
   {
    "duration": 433,
    "start_time": "2024-10-01T22:54:32.421Z"
   },
   {
    "duration": 363,
    "start_time": "2024-10-01T22:55:43.897Z"
   },
   {
    "duration": 301,
    "start_time": "2024-10-01T22:56:47.422Z"
   },
   {
    "duration": 291,
    "start_time": "2024-10-01T22:58:02.278Z"
   },
   {
    "duration": 100,
    "start_time": "2024-10-01T22:59:27.321Z"
   },
   {
    "duration": 105,
    "start_time": "2024-10-01T22:59:42.258Z"
   },
   {
    "duration": 128,
    "start_time": "2024-10-01T23:02:05.869Z"
   },
   {
    "duration": 202,
    "start_time": "2024-10-01T23:02:20.604Z"
   },
   {
    "duration": 126,
    "start_time": "2024-10-01T23:05:04.999Z"
   },
   {
    "duration": 65,
    "start_time": "2024-10-01T23:05:06.086Z"
   },
   {
    "duration": 2220,
    "start_time": "2024-10-02T03:07:01.017Z"
   },
   {
    "duration": 465,
    "start_time": "2024-10-02T03:07:03.239Z"
   },
   {
    "duration": 4,
    "start_time": "2024-10-02T03:07:03.706Z"
   },
   {
    "duration": 9,
    "start_time": "2024-10-02T03:07:03.712Z"
   },
   {
    "duration": 6,
    "start_time": "2024-10-02T03:07:03.723Z"
   },
   {
    "duration": 6,
    "start_time": "2024-10-02T03:07:03.731Z"
   },
   {
    "duration": 6,
    "start_time": "2024-10-02T03:07:03.739Z"
   },
   {
    "duration": 141,
    "start_time": "2024-10-02T03:07:03.746Z"
   },
   {
    "duration": 19,
    "start_time": "2024-10-02T03:07:03.889Z"
   },
   {
    "duration": 99,
    "start_time": "2024-10-02T03:07:03.909Z"
   },
   {
    "duration": 133,
    "start_time": "2024-10-02T03:07:04.010Z"
   },
   {
    "duration": 9,
    "start_time": "2024-10-02T03:07:04.144Z"
   },
   {
    "duration": 78,
    "start_time": "2024-10-02T03:07:04.154Z"
   },
   {
    "duration": 128,
    "start_time": "2024-10-02T03:07:04.237Z"
   },
   {
    "duration": 126,
    "start_time": "2024-10-02T03:07:04.367Z"
   },
   {
    "duration": 219,
    "start_time": "2024-10-02T03:07:04.495Z"
   },
   {
    "duration": 63,
    "start_time": "2024-10-02T03:07:04.716Z"
   },
   {
    "duration": 8,
    "start_time": "2024-10-02T03:07:04.781Z"
   },
   {
    "duration": 20,
    "start_time": "2024-10-02T03:07:04.790Z"
   },
   {
    "duration": 191,
    "start_time": "2024-10-02T03:07:04.812Z"
   },
   {
    "duration": 151,
    "start_time": "2024-10-02T03:07:05.005Z"
   },
   {
    "duration": 725,
    "start_time": "2024-10-02T03:07:05.159Z"
   },
   {
    "duration": 1,
    "start_time": "2024-10-02T03:07:05.885Z"
   },
   {
    "duration": 129,
    "start_time": "2024-10-02T03:07:54.223Z"
   },
   {
    "duration": 100,
    "start_time": "2024-10-02T03:08:10.024Z"
   },
   {
    "duration": 316,
    "start_time": "2024-10-02T03:09:53.121Z"
   },
   {
    "duration": 311,
    "start_time": "2024-10-02T03:12:08.392Z"
   },
   {
    "duration": 57,
    "start_time": "2024-10-02T03:14:48.987Z"
   },
   {
    "duration": 60,
    "start_time": "2024-10-02T03:17:42.957Z"
   },
   {
    "duration": 60,
    "start_time": "2024-10-02T03:20:14.459Z"
   },
   {
    "duration": 105,
    "start_time": "2024-10-02T03:34:01.936Z"
   },
   {
    "duration": 65,
    "start_time": "2024-10-02T03:34:07.799Z"
   },
   {
    "duration": 62,
    "start_time": "2024-10-02T03:34:21.947Z"
   },
   {
    "duration": 55,
    "start_time": "2024-10-02T03:34:36.012Z"
   },
   {
    "duration": 14,
    "start_time": "2024-10-02T03:38:36.148Z"
   },
   {
    "duration": 59,
    "start_time": "2024-10-02T03:38:53.123Z"
   },
   {
    "duration": 54,
    "start_time": "2024-10-02T03:39:11.593Z"
   },
   {
    "duration": 8,
    "start_time": "2024-10-02T03:43:26.200Z"
   },
   {
    "duration": 148,
    "start_time": "2024-10-02T03:45:39.375Z"
   },
   {
    "duration": 6,
    "start_time": "2024-10-02T03:45:54.294Z"
   },
   {
    "duration": 147,
    "start_time": "2024-10-02T03:46:37.079Z"
   },
   {
    "duration": 9,
    "start_time": "2024-10-02T03:46:43.175Z"
   },
   {
    "duration": 69,
    "start_time": "2024-10-02T03:47:18.955Z"
   },
   {
    "duration": 60,
    "start_time": "2024-10-02T03:47:48.429Z"
   },
   {
    "duration": 8,
    "start_time": "2024-10-02T04:04:21.855Z"
   },
   {
    "duration": 15,
    "start_time": "2024-10-02T04:04:55.739Z"
   },
   {
    "duration": 4,
    "start_time": "2024-10-02T04:06:21.761Z"
   },
   {
    "duration": 16,
    "start_time": "2024-10-02T04:09:13.062Z"
   },
   {
    "duration": 99,
    "start_time": "2024-10-02T04:09:19.119Z"
   },
   {
    "duration": 7,
    "start_time": "2024-10-02T04:09:39.496Z"
   },
   {
    "duration": 5,
    "start_time": "2024-10-02T04:09:52.938Z"
   },
   {
    "duration": 2131,
    "start_time": "2024-10-02T14:57:04.540Z"
   },
   {
    "duration": 445,
    "start_time": "2024-10-02T14:57:06.673Z"
   },
   {
    "duration": 4,
    "start_time": "2024-10-02T14:57:07.120Z"
   },
   {
    "duration": 10,
    "start_time": "2024-10-02T14:57:07.126Z"
   },
   {
    "duration": 6,
    "start_time": "2024-10-02T14:57:07.138Z"
   },
   {
    "duration": 5,
    "start_time": "2024-10-02T14:57:07.146Z"
   },
   {
    "duration": 6,
    "start_time": "2024-10-02T14:57:07.153Z"
   },
   {
    "duration": 136,
    "start_time": "2024-10-02T14:57:07.160Z"
   },
   {
    "duration": 17,
    "start_time": "2024-10-02T14:57:07.304Z"
   },
   {
    "duration": 66,
    "start_time": "2024-10-02T14:57:07.324Z"
   },
   {
    "duration": 134,
    "start_time": "2024-10-02T14:57:07.391Z"
   },
   {
    "duration": 8,
    "start_time": "2024-10-02T14:57:07.527Z"
   },
   {
    "duration": 75,
    "start_time": "2024-10-02T14:57:07.537Z"
   },
   {
    "duration": 123,
    "start_time": "2024-10-02T14:57:07.614Z"
   },
   {
    "duration": 125,
    "start_time": "2024-10-02T14:57:07.739Z"
   },
   {
    "duration": 161,
    "start_time": "2024-10-02T14:57:07.865Z"
   },
   {
    "duration": 50,
    "start_time": "2024-10-02T14:57:08.027Z"
   },
   {
    "duration": 7,
    "start_time": "2024-10-02T14:57:08.079Z"
   },
   {
    "duration": 35,
    "start_time": "2024-10-02T14:57:08.088Z"
   },
   {
    "duration": 211,
    "start_time": "2024-10-02T14:57:08.125Z"
   },
   {
    "duration": 155,
    "start_time": "2024-10-02T14:57:08.338Z"
   },
   {
    "duration": 172,
    "start_time": "2024-10-02T14:57:08.495Z"
   },
   {
    "duration": 7,
    "start_time": "2024-10-02T14:57:08.669Z"
   },
   {
    "duration": 88,
    "start_time": "2024-10-02T14:57:08.677Z"
   },
   {
    "duration": 6,
    "start_time": "2024-10-02T14:57:08.767Z"
   },
   {
    "duration": 13,
    "start_time": "2024-10-02T14:57:08.775Z"
   },
   {
    "duration": 16,
    "start_time": "2024-10-02T14:57:08.790Z"
   },
   {
    "duration": 4,
    "start_time": "2024-10-02T14:57:08.810Z"
   },
   {
    "duration": 119,
    "start_time": "2024-10-02T14:57:08.816Z"
   },
   {
    "duration": 15,
    "start_time": "2024-10-02T15:19:03.703Z"
   },
   {
    "duration": 8,
    "start_time": "2024-10-02T15:19:05.610Z"
   },
   {
    "duration": 14,
    "start_time": "2024-10-02T15:23:26.720Z"
   },
   {
    "duration": 4,
    "start_time": "2024-10-02T15:31:07.222Z"
   },
   {
    "duration": 7,
    "start_time": "2024-10-02T15:31:53.952Z"
   },
   {
    "duration": 3,
    "start_time": "2024-10-02T15:33:18.247Z"
   },
   {
    "duration": 31,
    "start_time": "2024-10-02T15:33:24.875Z"
   },
   {
    "duration": 35,
    "start_time": "2024-10-02T15:34:27.967Z"
   },
   {
    "duration": 40,
    "start_time": "2024-10-02T15:37:09.203Z"
   },
   {
    "duration": 39,
    "start_time": "2024-10-02T15:38:08.310Z"
   },
   {
    "duration": 39,
    "start_time": "2024-10-02T15:38:54.369Z"
   },
   {
    "duration": 2,
    "start_time": "2024-10-02T16:20:28.306Z"
   },
   {
    "duration": 3,
    "start_time": "2024-10-02T16:25:02.253Z"
   },
   {
    "duration": 4,
    "start_time": "2024-10-02T16:25:34.266Z"
   },
   {
    "duration": 3,
    "start_time": "2024-10-02T16:25:44.392Z"
   },
   {
    "duration": 5,
    "start_time": "2024-10-02T16:25:49.117Z"
   },
   {
    "duration": 19,
    "start_time": "2024-10-02T16:32:42.764Z"
   },
   {
    "duration": 4,
    "start_time": "2024-10-02T16:39:36.737Z"
   },
   {
    "duration": 16,
    "start_time": "2024-10-02T16:39:42.471Z"
   },
   {
    "duration": 15,
    "start_time": "2024-10-02T16:40:20.366Z"
   },
   {
    "duration": 18,
    "start_time": "2024-10-02T16:40:49.615Z"
   },
   {
    "duration": 17,
    "start_time": "2024-10-02T16:41:05.072Z"
   },
   {
    "duration": 19,
    "start_time": "2024-10-02T16:44:03.338Z"
   },
   {
    "duration": 20,
    "start_time": "2024-10-02T16:45:06.721Z"
   },
   {
    "duration": 112,
    "start_time": "2024-10-02T16:47:23.824Z"
   },
   {
    "duration": 169,
    "start_time": "2024-10-02T16:47:39.622Z"
   },
   {
    "duration": 117,
    "start_time": "2024-10-02T16:47:52.543Z"
   },
   {
    "duration": 97,
    "start_time": "2024-10-02T16:47:58.665Z"
   },
   {
    "duration": 96,
    "start_time": "2024-10-02T16:48:04.628Z"
   },
   {
    "duration": 2260,
    "start_time": "2024-10-02T20:57:23.109Z"
   },
   {
    "duration": 510,
    "start_time": "2024-10-02T20:57:25.371Z"
   },
   {
    "duration": 4,
    "start_time": "2024-10-02T20:57:25.883Z"
   },
   {
    "duration": 9,
    "start_time": "2024-10-02T20:57:25.888Z"
   },
   {
    "duration": 5,
    "start_time": "2024-10-02T20:57:25.900Z"
   },
   {
    "duration": 7,
    "start_time": "2024-10-02T20:57:25.907Z"
   },
   {
    "duration": 6,
    "start_time": "2024-10-02T20:57:25.916Z"
   },
   {
    "duration": 129,
    "start_time": "2024-10-02T20:57:25.923Z"
   },
   {
    "duration": 24,
    "start_time": "2024-10-02T20:57:26.054Z"
   },
   {
    "duration": 86,
    "start_time": "2024-10-02T20:57:26.081Z"
   },
   {
    "duration": 131,
    "start_time": "2024-10-02T20:57:26.169Z"
   },
   {
    "duration": 9,
    "start_time": "2024-10-02T20:57:26.302Z"
   },
   {
    "duration": 77,
    "start_time": "2024-10-02T20:57:26.313Z"
   },
   {
    "duration": 132,
    "start_time": "2024-10-02T20:57:26.395Z"
   },
   {
    "duration": 210,
    "start_time": "2024-10-02T20:57:26.530Z"
   },
   {
    "duration": 185,
    "start_time": "2024-10-02T20:57:26.742Z"
   },
   {
    "duration": 53,
    "start_time": "2024-10-02T20:57:26.932Z"
   },
   {
    "duration": 8,
    "start_time": "2024-10-02T20:57:26.988Z"
   },
   {
    "duration": 42,
    "start_time": "2024-10-02T20:57:26.997Z"
   },
   {
    "duration": 201,
    "start_time": "2024-10-02T20:57:27.040Z"
   },
   {
    "duration": 145,
    "start_time": "2024-10-02T20:57:27.245Z"
   },
   {
    "duration": 220,
    "start_time": "2024-10-02T20:57:27.392Z"
   },
   {
    "duration": 9,
    "start_time": "2024-10-02T20:57:27.613Z"
   },
   {
    "duration": 128,
    "start_time": "2024-10-02T20:57:27.624Z"
   },
   {
    "duration": 14,
    "start_time": "2024-10-02T20:57:27.755Z"
   },
   {
    "duration": 27,
    "start_time": "2024-10-02T20:57:27.774Z"
   },
   {
    "duration": 7,
    "start_time": "2024-10-02T20:57:27.803Z"
   },
   {
    "duration": 7,
    "start_time": "2024-10-02T20:57:27.813Z"
   },
   {
    "duration": 179,
    "start_time": "2024-10-02T20:57:27.824Z"
   },
   {
    "duration": 22,
    "start_time": "2024-10-02T20:57:28.006Z"
   },
   {
    "duration": 6,
    "start_time": "2024-10-02T20:57:28.033Z"
   },
   {
    "duration": 64,
    "start_time": "2024-10-02T20:57:28.043Z"
   },
   {
    "duration": 20,
    "start_time": "2024-10-02T20:57:28.111Z"
   },
   {
    "duration": 142,
    "start_time": "2024-10-02T20:57:28.138Z"
   },
   {
    "duration": 104,
    "start_time": "2024-10-02T21:03:26.166Z"
   },
   {
    "duration": 106,
    "start_time": "2024-10-02T21:03:45.701Z"
   },
   {
    "duration": 107,
    "start_time": "2024-10-02T21:09:52.168Z"
   },
   {
    "duration": 144,
    "start_time": "2024-10-02T21:10:16.920Z"
   },
   {
    "duration": 107,
    "start_time": "2024-10-02T21:10:52.446Z"
   },
   {
    "duration": 170,
    "start_time": "2024-10-02T21:11:48.795Z"
   },
   {
    "duration": 102,
    "start_time": "2024-10-02T21:11:57.161Z"
   },
   {
    "duration": 105,
    "start_time": "2024-10-02T21:12:16.791Z"
   },
   {
    "duration": 108,
    "start_time": "2024-10-02T21:14:36.290Z"
   },
   {
    "duration": 261,
    "start_time": "2024-10-02T21:15:08.545Z"
   },
   {
    "duration": 17,
    "start_time": "2024-10-02T21:15:19.080Z"
   },
   {
    "duration": 7,
    "start_time": "2024-10-02T21:15:46.435Z"
   },
   {
    "duration": 6,
    "start_time": "2024-10-02T21:16:40.158Z"
   },
   {
    "duration": 14,
    "start_time": "2024-10-02T21:17:04.015Z"
   },
   {
    "duration": 16,
    "start_time": "2024-10-02T21:17:21.723Z"
   },
   {
    "duration": 5,
    "start_time": "2024-10-02T21:17:59.551Z"
   },
   {
    "duration": 5,
    "start_time": "2024-10-02T21:20:22.209Z"
   },
   {
    "duration": 5,
    "start_time": "2024-10-02T21:20:46.760Z"
   },
   {
    "duration": 6,
    "start_time": "2024-10-02T21:26:55.258Z"
   },
   {
    "duration": 8,
    "start_time": "2024-10-02T21:28:12.584Z"
   },
   {
    "duration": 118,
    "start_time": "2024-10-02T21:29:40.054Z"
   },
   {
    "duration": 129,
    "start_time": "2024-10-02T21:30:15.633Z"
   },
   {
    "duration": 103,
    "start_time": "2024-10-02T21:30:26.619Z"
   },
   {
    "duration": 158,
    "start_time": "2024-10-03T01:28:29.090Z"
   },
   {
    "duration": 2186,
    "start_time": "2024-10-03T01:28:36.151Z"
   },
   {
    "duration": 492,
    "start_time": "2024-10-03T01:28:38.340Z"
   },
   {
    "duration": 6,
    "start_time": "2024-10-03T01:28:38.834Z"
   },
   {
    "duration": 9,
    "start_time": "2024-10-03T01:28:38.843Z"
   },
   {
    "duration": 5,
    "start_time": "2024-10-03T01:28:38.854Z"
   },
   {
    "duration": 6,
    "start_time": "2024-10-03T01:28:38.861Z"
   },
   {
    "duration": 5,
    "start_time": "2024-10-03T01:28:38.869Z"
   },
   {
    "duration": 136,
    "start_time": "2024-10-03T01:28:38.875Z"
   },
   {
    "duration": 19,
    "start_time": "2024-10-03T01:28:39.012Z"
   },
   {
    "duration": 86,
    "start_time": "2024-10-03T01:28:39.032Z"
   },
   {
    "duration": 131,
    "start_time": "2024-10-03T01:28:39.121Z"
   },
   {
    "duration": 18,
    "start_time": "2024-10-03T01:28:39.254Z"
   },
   {
    "duration": 66,
    "start_time": "2024-10-03T01:28:39.274Z"
   },
   {
    "duration": 133,
    "start_time": "2024-10-03T01:28:39.343Z"
   },
   {
    "duration": 128,
    "start_time": "2024-10-03T01:28:39.478Z"
   },
   {
    "duration": 170,
    "start_time": "2024-10-03T01:28:39.608Z"
   },
   {
    "duration": 52,
    "start_time": "2024-10-03T01:28:39.782Z"
   },
   {
    "duration": 7,
    "start_time": "2024-10-03T01:28:39.835Z"
   },
   {
    "duration": 35,
    "start_time": "2024-10-03T01:28:39.844Z"
   },
   {
    "duration": 213,
    "start_time": "2024-10-03T01:28:39.881Z"
   },
   {
    "duration": 156,
    "start_time": "2024-10-03T01:28:40.095Z"
   },
   {
    "duration": 167,
    "start_time": "2024-10-03T01:28:40.254Z"
   },
   {
    "duration": 6,
    "start_time": "2024-10-03T01:28:40.423Z"
   },
   {
    "duration": 87,
    "start_time": "2024-10-03T01:28:40.431Z"
   },
   {
    "duration": 6,
    "start_time": "2024-10-03T01:28:40.519Z"
   },
   {
    "duration": 66,
    "start_time": "2024-10-03T01:28:40.527Z"
   },
   {
    "duration": 15,
    "start_time": "2024-10-03T01:28:40.595Z"
   },
   {
    "duration": 4,
    "start_time": "2024-10-03T01:28:40.611Z"
   },
   {
    "duration": 4,
    "start_time": "2024-10-03T01:28:40.617Z"
   },
   {
    "duration": 123,
    "start_time": "2024-10-03T01:28:40.623Z"
   },
   {
    "duration": 27,
    "start_time": "2024-10-03T01:28:40.748Z"
   },
   {
    "duration": 4,
    "start_time": "2024-10-03T01:28:40.777Z"
   },
   {
    "duration": 38,
    "start_time": "2024-10-03T01:28:40.783Z"
   },
   {
    "duration": 19,
    "start_time": "2024-10-03T01:28:40.823Z"
   },
   {
    "duration": 126,
    "start_time": "2024-10-03T01:28:40.844Z"
   },
   {
    "duration": 4,
    "start_time": "2024-10-03T01:28:40.972Z"
   },
   {
    "duration": 4,
    "start_time": "2024-10-03T01:28:40.979Z"
   },
   {
    "duration": 4,
    "start_time": "2024-10-03T01:28:40.985Z"
   },
   {
    "duration": 132,
    "start_time": "2024-10-03T01:28:40.991Z"
   },
   {
    "duration": 109,
    "start_time": "2024-10-03T01:28:41.125Z"
   },
   {
    "duration": 961,
    "start_time": "2024-10-03T01:28:41.239Z"
   },
   {
    "duration": 29,
    "start_time": "2024-10-03T01:29:59.802Z"
   },
   {
    "duration": 29,
    "start_time": "2024-10-03T01:30:34.202Z"
   },
   {
    "duration": 84,
    "start_time": "2024-10-03T01:37:41.862Z"
   },
   {
    "duration": 87,
    "start_time": "2024-10-03T01:37:47.179Z"
   },
   {
    "duration": 8,
    "start_time": "2024-10-03T01:39:30.849Z"
   },
   {
    "duration": 7,
    "start_time": "2024-10-03T01:40:25.531Z"
   },
   {
    "duration": 113,
    "start_time": "2024-10-03T01:41:43.696Z"
   },
   {
    "duration": 81,
    "start_time": "2024-10-03T01:42:18.631Z"
   },
   {
    "duration": 85,
    "start_time": "2024-10-03T01:42:31.938Z"
   },
   {
    "duration": 87,
    "start_time": "2024-10-03T01:43:04.665Z"
   },
   {
    "duration": 84,
    "start_time": "2024-10-03T01:43:38.182Z"
   },
   {
    "duration": 100,
    "start_time": "2024-10-03T01:43:47.148Z"
   },
   {
    "duration": 88,
    "start_time": "2024-10-03T01:43:56.279Z"
   },
   {
    "duration": 117,
    "start_time": "2024-10-03T01:45:55.058Z"
   },
   {
    "duration": 80,
    "start_time": "2024-10-03T01:46:05.350Z"
   },
   {
    "duration": 8,
    "start_time": "2024-10-03T01:47:09.843Z"
   },
   {
    "duration": 9,
    "start_time": "2024-10-03T16:19:13.298Z"
   },
   {
    "duration": 164,
    "start_time": "2024-10-03T16:20:41.965Z"
   },
   {
    "duration": 2300,
    "start_time": "2024-10-03T16:20:57.448Z"
   },
   {
    "duration": 493,
    "start_time": "2024-10-03T16:20:59.750Z"
   },
   {
    "duration": 5,
    "start_time": "2024-10-03T16:21:00.245Z"
   },
   {
    "duration": 10,
    "start_time": "2024-10-03T16:21:00.253Z"
   },
   {
    "duration": 7,
    "start_time": "2024-10-03T16:21:00.265Z"
   },
   {
    "duration": 7,
    "start_time": "2024-10-03T16:21:00.274Z"
   },
   {
    "duration": 6,
    "start_time": "2024-10-03T16:21:00.284Z"
   },
   {
    "duration": 192,
    "start_time": "2024-10-03T16:21:00.291Z"
   },
   {
    "duration": 22,
    "start_time": "2024-10-03T16:21:00.485Z"
   },
   {
    "duration": 86,
    "start_time": "2024-10-03T16:21:00.512Z"
   },
   {
    "duration": 131,
    "start_time": "2024-10-03T16:21:00.600Z"
   },
   {
    "duration": 9,
    "start_time": "2024-10-03T16:21:00.733Z"
   },
   {
    "duration": 73,
    "start_time": "2024-10-03T16:21:00.744Z"
   },
   {
    "duration": 131,
    "start_time": "2024-10-03T16:21:00.830Z"
   },
   {
    "duration": 145,
    "start_time": "2024-10-03T16:21:00.963Z"
   },
   {
    "duration": 172,
    "start_time": "2024-10-03T16:21:01.110Z"
   },
   {
    "duration": 62,
    "start_time": "2024-10-03T16:21:01.283Z"
   },
   {
    "duration": 7,
    "start_time": "2024-10-03T16:21:01.347Z"
   },
   {
    "duration": 26,
    "start_time": "2024-10-03T16:21:01.357Z"
   },
   {
    "duration": 251,
    "start_time": "2024-10-03T16:21:01.385Z"
   },
   {
    "duration": 150,
    "start_time": "2024-10-03T16:21:01.638Z"
   },
   {
    "duration": 170,
    "start_time": "2024-10-03T16:21:01.791Z"
   },
   {
    "duration": 8,
    "start_time": "2024-10-03T16:21:01.962Z"
   },
   {
    "duration": 77,
    "start_time": "2024-10-03T16:21:01.976Z"
   },
   {
    "duration": 8,
    "start_time": "2024-10-03T16:21:02.055Z"
   },
   {
    "duration": 75,
    "start_time": "2024-10-03T16:21:02.064Z"
   },
   {
    "duration": 15,
    "start_time": "2024-10-03T16:21:02.141Z"
   },
   {
    "duration": 5,
    "start_time": "2024-10-03T16:21:02.162Z"
   },
   {
    "duration": 6,
    "start_time": "2024-10-03T16:21:02.169Z"
   },
   {
    "duration": 131,
    "start_time": "2024-10-03T16:21:02.179Z"
   },
   {
    "duration": 22,
    "start_time": "2024-10-03T16:21:02.312Z"
   },
   {
    "duration": 6,
    "start_time": "2024-10-03T16:21:02.336Z"
   },
   {
    "duration": 42,
    "start_time": "2024-10-03T16:21:02.343Z"
   },
   {
    "duration": 21,
    "start_time": "2024-10-03T16:21:02.387Z"
   },
   {
    "duration": 128,
    "start_time": "2024-10-03T16:21:02.410Z"
   },
   {
    "duration": 113,
    "start_time": "2024-10-03T16:21:02.540Z"
   },
   {
    "duration": 94,
    "start_time": "2024-10-03T16:21:02.655Z"
   },
   {
    "duration": 85,
    "start_time": "2024-10-03T16:21:02.750Z"
   },
   {
    "duration": 82,
    "start_time": "2024-10-03T16:21:02.837Z"
   },
   {
    "duration": 16,
    "start_time": "2024-10-03T16:21:02.920Z"
   },
   {
    "duration": 82,
    "start_time": "2024-10-03T16:22:14.837Z"
   },
   {
    "duration": 240,
    "start_time": "2024-10-03T16:22:29.181Z"
   },
   {
    "duration": 80,
    "start_time": "2024-10-03T16:23:17.529Z"
   },
   {
    "duration": 9,
    "start_time": "2024-10-03T16:23:55.774Z"
   },
   {
    "duration": 84,
    "start_time": "2024-10-03T16:24:36.613Z"
   },
   {
    "duration": 6,
    "start_time": "2024-10-03T16:25:01.251Z"
   },
   {
    "duration": 7,
    "start_time": "2024-10-03T16:25:27.209Z"
   },
   {
    "duration": 89,
    "start_time": "2024-10-03T16:29:09.239Z"
   },
   {
    "duration": 8,
    "start_time": "2024-10-03T16:35:50.453Z"
   },
   {
    "duration": 86,
    "start_time": "2024-10-03T16:36:09.852Z"
   },
   {
    "duration": 54,
    "start_time": "2024-10-03T17:08:33.225Z"
   },
   {
    "duration": 8,
    "start_time": "2024-10-03T20:01:55.328Z"
   },
   {
    "duration": 157,
    "start_time": "2024-10-03T20:02:25.844Z"
   },
   {
    "duration": 2129,
    "start_time": "2024-10-03T20:02:32.548Z"
   },
   {
    "duration": 456,
    "start_time": "2024-10-03T20:02:34.680Z"
   },
   {
    "duration": 6,
    "start_time": "2024-10-03T20:02:35.138Z"
   },
   {
    "duration": 9,
    "start_time": "2024-10-03T20:02:35.147Z"
   },
   {
    "duration": 6,
    "start_time": "2024-10-03T20:02:35.157Z"
   },
   {
    "duration": 6,
    "start_time": "2024-10-03T20:02:35.165Z"
   },
   {
    "duration": 5,
    "start_time": "2024-10-03T20:02:35.173Z"
   },
   {
    "duration": 150,
    "start_time": "2024-10-03T20:02:35.179Z"
   },
   {
    "duration": 17,
    "start_time": "2024-10-03T20:02:35.330Z"
   },
   {
    "duration": 85,
    "start_time": "2024-10-03T20:02:35.350Z"
   },
   {
    "duration": 125,
    "start_time": "2024-10-03T20:02:35.438Z"
   },
   {
    "duration": 10,
    "start_time": "2024-10-03T20:02:35.565Z"
   },
   {
    "duration": 77,
    "start_time": "2024-10-03T20:02:35.577Z"
   },
   {
    "duration": 122,
    "start_time": "2024-10-03T20:02:35.656Z"
   },
   {
    "duration": 129,
    "start_time": "2024-10-03T20:02:35.780Z"
   },
   {
    "duration": 208,
    "start_time": "2024-10-03T20:02:35.910Z"
   },
   {
    "duration": 55,
    "start_time": "2024-10-03T20:02:36.120Z"
   },
   {
    "duration": 9,
    "start_time": "2024-10-03T20:02:36.177Z"
   },
   {
    "duration": 31,
    "start_time": "2024-10-03T20:02:36.187Z"
   },
   {
    "duration": 183,
    "start_time": "2024-10-03T20:02:36.220Z"
   },
   {
    "duration": 140,
    "start_time": "2024-10-03T20:02:36.405Z"
   },
   {
    "duration": 163,
    "start_time": "2024-10-03T20:02:36.547Z"
   },
   {
    "duration": 7,
    "start_time": "2024-10-03T20:02:36.712Z"
   },
   {
    "duration": 69,
    "start_time": "2024-10-03T20:02:36.720Z"
   },
   {
    "duration": 6,
    "start_time": "2024-10-03T20:02:36.808Z"
   },
   {
    "duration": 55,
    "start_time": "2024-10-03T20:02:36.816Z"
   },
   {
    "duration": 14,
    "start_time": "2024-10-03T20:02:36.874Z"
   },
   {
    "duration": 4,
    "start_time": "2024-10-03T20:02:36.910Z"
   },
   {
    "duration": 6,
    "start_time": "2024-10-03T20:02:36.915Z"
   },
   {
    "duration": 118,
    "start_time": "2024-10-03T20:02:36.922Z"
   },
   {
    "duration": 14,
    "start_time": "2024-10-03T20:02:37.042Z"
   },
   {
    "duration": 4,
    "start_time": "2024-10-03T20:02:37.058Z"
   },
   {
    "duration": 56,
    "start_time": "2024-10-03T20:02:37.064Z"
   },
   {
    "duration": 20,
    "start_time": "2024-10-03T20:02:37.122Z"
   },
   {
    "duration": 121,
    "start_time": "2024-10-03T20:02:37.143Z"
   },
   {
    "duration": 8,
    "start_time": "2024-10-03T20:02:37.267Z"
   },
   {
    "duration": 111,
    "start_time": "2024-10-03T20:02:37.277Z"
   },
   {
    "duration": 20,
    "start_time": "2024-10-03T20:02:37.390Z"
   },
   {
    "duration": 84,
    "start_time": "2024-10-03T20:02:37.413Z"
   },
   {
    "duration": 8,
    "start_time": "2024-10-03T20:02:37.510Z"
   },
   {
    "duration": 95,
    "start_time": "2024-10-03T20:02:37.520Z"
   },
   {
    "duration": 80,
    "start_time": "2024-10-03T20:02:37.617Z"
   },
   {
    "duration": 9,
    "start_time": "2024-10-03T20:02:37.709Z"
   },
   {
    "duration": 27,
    "start_time": "2024-10-03T20:02:37.720Z"
   },
   {
    "duration": 102,
    "start_time": "2024-10-03T20:02:37.751Z"
   },
   {
    "duration": 8,
    "start_time": "2024-10-03T20:47:12.446Z"
   },
   {
    "duration": 8,
    "start_time": "2024-10-04T03:29:49.263Z"
   },
   {
    "duration": 183,
    "start_time": "2024-10-04T03:30:19.731Z"
   },
   {
    "duration": 2277,
    "start_time": "2024-10-04T03:30:25.409Z"
   },
   {
    "duration": 564,
    "start_time": "2024-10-04T03:30:27.688Z"
   },
   {
    "duration": 4,
    "start_time": "2024-10-04T03:30:28.254Z"
   },
   {
    "duration": 12,
    "start_time": "2024-10-04T03:30:28.260Z"
   },
   {
    "duration": 8,
    "start_time": "2024-10-04T03:30:28.273Z"
   },
   {
    "duration": 6,
    "start_time": "2024-10-04T03:30:28.282Z"
   },
   {
    "duration": 6,
    "start_time": "2024-10-04T03:30:28.290Z"
   },
   {
    "duration": 122,
    "start_time": "2024-10-04T03:30:28.298Z"
   },
   {
    "duration": 17,
    "start_time": "2024-10-04T03:30:28.424Z"
   },
   {
    "duration": 93,
    "start_time": "2024-10-04T03:30:28.445Z"
   },
   {
    "duration": 124,
    "start_time": "2024-10-04T03:30:28.540Z"
   },
   {
    "duration": 8,
    "start_time": "2024-10-04T03:30:28.666Z"
   },
   {
    "duration": 77,
    "start_time": "2024-10-04T03:30:28.676Z"
   },
   {
    "duration": 128,
    "start_time": "2024-10-04T03:30:28.755Z"
   },
   {
    "duration": 138,
    "start_time": "2024-10-04T03:30:28.886Z"
   },
   {
    "duration": 157,
    "start_time": "2024-10-04T03:30:29.026Z"
   },
   {
    "duration": 60,
    "start_time": "2024-10-04T03:30:29.185Z"
   },
   {
    "duration": 7,
    "start_time": "2024-10-04T03:30:29.247Z"
   },
   {
    "duration": 20,
    "start_time": "2024-10-04T03:30:29.255Z"
   },
   {
    "duration": 183,
    "start_time": "2024-10-04T03:30:29.278Z"
   },
   {
    "duration": 159,
    "start_time": "2024-10-04T03:30:29.462Z"
   },
   {
    "duration": 275,
    "start_time": "2024-10-04T03:30:29.623Z"
   },
   {
    "duration": 8,
    "start_time": "2024-10-04T03:30:29.900Z"
   },
   {
    "duration": 100,
    "start_time": "2024-10-04T03:30:29.910Z"
   },
   {
    "duration": 8,
    "start_time": "2024-10-04T03:30:30.012Z"
   },
   {
    "duration": 66,
    "start_time": "2024-10-04T03:30:30.022Z"
   },
   {
    "duration": 31,
    "start_time": "2024-10-04T03:30:30.090Z"
   },
   {
    "duration": 4,
    "start_time": "2024-10-04T03:30:30.125Z"
   },
   {
    "duration": 4,
    "start_time": "2024-10-04T03:30:30.131Z"
   },
   {
    "duration": 124,
    "start_time": "2024-10-04T03:30:30.137Z"
   },
   {
    "duration": 17,
    "start_time": "2024-10-04T03:30:30.263Z"
   },
   {
    "duration": 4,
    "start_time": "2024-10-04T03:30:30.282Z"
   },
   {
    "duration": 61,
    "start_time": "2024-10-04T03:30:30.288Z"
   },
   {
    "duration": 24,
    "start_time": "2024-10-04T03:30:30.352Z"
   },
   {
    "duration": 130,
    "start_time": "2024-10-04T03:30:30.380Z"
   },
   {
    "duration": 9,
    "start_time": "2024-10-04T03:30:30.512Z"
   },
   {
    "duration": 127,
    "start_time": "2024-10-04T03:30:30.523Z"
   },
   {
    "duration": 8,
    "start_time": "2024-10-04T03:30:30.652Z"
   },
   {
    "duration": 100,
    "start_time": "2024-10-04T03:30:30.661Z"
   },
   {
    "duration": 7,
    "start_time": "2024-10-04T03:30:30.763Z"
   },
   {
    "duration": 97,
    "start_time": "2024-10-04T03:30:30.772Z"
   },
   {
    "duration": 87,
    "start_time": "2024-10-04T03:30:30.871Z"
   },
   {
    "duration": 9,
    "start_time": "2024-10-04T03:30:30.959Z"
   },
   {
    "duration": 19,
    "start_time": "2024-10-04T03:30:30.970Z"
   },
   {
    "duration": 308,
    "start_time": "2024-10-04T03:30:30.991Z"
   },
   {
    "duration": 0,
    "start_time": "2024-10-04T03:30:31.301Z"
   },
   {
    "duration": 0,
    "start_time": "2024-10-04T03:30:31.303Z"
   },
   {
    "duration": 14,
    "start_time": "2024-10-04T03:33:09.615Z"
   },
   {
    "duration": 65,
    "start_time": "2024-10-04T03:33:33.737Z"
   },
   {
    "duration": 11,
    "start_time": "2024-10-04T03:33:39.138Z"
   },
   {
    "duration": 14,
    "start_time": "2024-10-04T03:33:42.839Z"
   },
   {
    "duration": 10,
    "start_time": "2024-10-04T03:34:00.296Z"
   },
   {
    "duration": 15,
    "start_time": "2024-10-04T03:34:07.406Z"
   },
   {
    "duration": 12,
    "start_time": "2024-10-04T03:34:19.826Z"
   },
   {
    "duration": 35,
    "start_time": "2024-10-04T03:43:21.914Z"
   },
   {
    "duration": 5,
    "start_time": "2024-10-04T03:58:39.697Z"
   },
   {
    "duration": 5,
    "start_time": "2024-10-04T03:58:53.059Z"
   },
   {
    "duration": 3,
    "start_time": "2024-10-04T03:58:58.107Z"
   },
   {
    "duration": 13,
    "start_time": "2024-10-04T03:59:13.975Z"
   },
   {
    "duration": 11,
    "start_time": "2024-10-04T04:01:52.790Z"
   },
   {
    "duration": 63,
    "start_time": "2024-10-04T04:25:52.057Z"
   },
   {
    "duration": 155,
    "start_time": "2024-10-05T02:31:26.468Z"
   },
   {
    "duration": 2128,
    "start_time": "2024-10-05T02:31:37.121Z"
   },
   {
    "duration": 437,
    "start_time": "2024-10-05T02:31:39.251Z"
   },
   {
    "duration": 6,
    "start_time": "2024-10-05T02:31:39.690Z"
   },
   {
    "duration": 11,
    "start_time": "2024-10-05T02:31:39.698Z"
   },
   {
    "duration": 6,
    "start_time": "2024-10-05T02:31:39.711Z"
   },
   {
    "duration": 7,
    "start_time": "2024-10-05T02:31:39.718Z"
   },
   {
    "duration": 5,
    "start_time": "2024-10-05T02:31:39.726Z"
   },
   {
    "duration": 127,
    "start_time": "2024-10-05T02:31:39.733Z"
   },
   {
    "duration": 16,
    "start_time": "2024-10-05T02:31:39.862Z"
   },
   {
    "duration": 75,
    "start_time": "2024-10-05T02:31:39.881Z"
   },
   {
    "duration": 124,
    "start_time": "2024-10-05T02:31:39.958Z"
   },
   {
    "duration": 9,
    "start_time": "2024-10-05T02:31:40.084Z"
   },
   {
    "duration": 75,
    "start_time": "2024-10-05T02:31:40.094Z"
   },
   {
    "duration": 126,
    "start_time": "2024-10-05T02:31:40.171Z"
   },
   {
    "duration": 122,
    "start_time": "2024-10-05T02:31:40.299Z"
   },
   {
    "duration": 155,
    "start_time": "2024-10-05T02:31:40.425Z"
   },
   {
    "duration": 149,
    "start_time": "2024-10-05T02:31:40.582Z"
   },
   {
    "duration": 8,
    "start_time": "2024-10-05T02:31:40.733Z"
   },
   {
    "duration": 18,
    "start_time": "2024-10-05T02:31:40.743Z"
   },
   {
    "duration": 207,
    "start_time": "2024-10-05T02:31:40.763Z"
   },
   {
    "duration": 143,
    "start_time": "2024-10-05T02:31:40.971Z"
   },
   {
    "duration": 159,
    "start_time": "2024-10-05T02:31:41.116Z"
   },
   {
    "duration": 6,
    "start_time": "2024-10-05T02:31:41.276Z"
   },
   {
    "duration": 83,
    "start_time": "2024-10-05T02:31:41.283Z"
   },
   {
    "duration": 7,
    "start_time": "2024-10-05T02:31:41.367Z"
   },
   {
    "duration": 68,
    "start_time": "2024-10-05T02:31:41.376Z"
   },
   {
    "duration": 14,
    "start_time": "2024-10-05T02:31:41.446Z"
   },
   {
    "duration": 3,
    "start_time": "2024-10-05T02:31:41.465Z"
   },
   {
    "duration": 5,
    "start_time": "2024-10-05T02:31:41.469Z"
   },
   {
    "duration": 119,
    "start_time": "2024-10-05T02:31:41.476Z"
   },
   {
    "duration": 15,
    "start_time": "2024-10-05T02:31:41.596Z"
   },
   {
    "duration": 14,
    "start_time": "2024-10-05T02:31:41.612Z"
   },
   {
    "duration": 38,
    "start_time": "2024-10-05T02:31:41.628Z"
   },
   {
    "duration": 18,
    "start_time": "2024-10-05T02:31:41.668Z"
   },
   {
    "duration": 116,
    "start_time": "2024-10-05T02:31:41.687Z"
   },
   {
    "duration": 8,
    "start_time": "2024-10-05T02:31:41.804Z"
   },
   {
    "duration": 84,
    "start_time": "2024-10-05T02:31:41.824Z"
   },
   {
    "duration": 18,
    "start_time": "2024-10-05T02:31:41.910Z"
   },
   {
    "duration": 82,
    "start_time": "2024-10-05T02:31:41.929Z"
   },
   {
    "duration": 8,
    "start_time": "2024-10-05T02:31:42.024Z"
   },
   {
    "duration": 91,
    "start_time": "2024-10-05T02:31:42.034Z"
   },
   {
    "duration": 77,
    "start_time": "2024-10-05T02:31:42.126Z"
   },
   {
    "duration": 8,
    "start_time": "2024-10-05T02:31:42.204Z"
   },
   {
    "duration": 19,
    "start_time": "2024-10-05T02:31:42.223Z"
   },
   {
    "duration": 64,
    "start_time": "2024-10-05T02:31:42.244Z"
   },
   {
    "duration": 20,
    "start_time": "2024-10-05T02:31:42.309Z"
   },
   {
    "duration": 9,
    "start_time": "2024-10-05T02:31:42.331Z"
   },
   {
    "duration": 4,
    "start_time": "2024-10-05T02:31:42.342Z"
   },
   {
    "duration": 0,
    "start_time": "2024-10-05T02:31:42.348Z"
   },
   {
    "duration": 1,
    "start_time": "2024-10-05T02:31:42.349Z"
   },
   {
    "duration": 2145,
    "start_time": "2024-10-06T20:36:13.073Z"
   },
   {
    "duration": 444,
    "start_time": "2024-10-06T20:36:15.220Z"
   },
   {
    "duration": 4,
    "start_time": "2024-10-06T20:36:15.666Z"
   },
   {
    "duration": 8,
    "start_time": "2024-10-06T20:36:15.672Z"
   },
   {
    "duration": 6,
    "start_time": "2024-10-06T20:36:15.682Z"
   },
   {
    "duration": 6,
    "start_time": "2024-10-06T20:36:15.689Z"
   },
   {
    "duration": 5,
    "start_time": "2024-10-06T20:36:15.697Z"
   },
   {
    "duration": 142,
    "start_time": "2024-10-06T20:36:15.704Z"
   },
   {
    "duration": 25,
    "start_time": "2024-10-06T20:36:15.848Z"
   },
   {
    "duration": 67,
    "start_time": "2024-10-06T20:36:15.875Z"
   },
   {
    "duration": 128,
    "start_time": "2024-10-06T20:36:15.944Z"
   },
   {
    "duration": 8,
    "start_time": "2024-10-06T20:36:16.074Z"
   },
   {
    "duration": 64,
    "start_time": "2024-10-06T20:36:16.084Z"
   },
   {
    "duration": 121,
    "start_time": "2024-10-06T20:36:16.169Z"
   },
   {
    "duration": 137,
    "start_time": "2024-10-06T20:36:16.292Z"
   },
   {
    "duration": 181,
    "start_time": "2024-10-06T20:36:16.431Z"
   },
   {
    "duration": 156,
    "start_time": "2024-10-06T20:36:16.615Z"
   },
   {
    "duration": 23,
    "start_time": "2024-10-06T20:36:16.773Z"
   },
   {
    "duration": 212,
    "start_time": "2024-10-06T20:36:16.798Z"
   },
   {
    "duration": 141,
    "start_time": "2024-10-06T20:36:17.012Z"
   },
   {
    "duration": 165,
    "start_time": "2024-10-06T20:36:17.155Z"
   },
   {
    "duration": 7,
    "start_time": "2024-10-06T20:36:17.322Z"
   },
   {
    "duration": 86,
    "start_time": "2024-10-06T20:36:17.330Z"
   },
   {
    "duration": 5,
    "start_time": "2024-10-06T20:36:17.418Z"
   },
   {
    "duration": 66,
    "start_time": "2024-10-06T20:36:17.425Z"
   },
   {
    "duration": 15,
    "start_time": "2024-10-06T20:36:17.492Z"
   },
   {
    "duration": 5,
    "start_time": "2024-10-06T20:36:17.509Z"
   },
   {
    "duration": 6,
    "start_time": "2024-10-06T20:36:17.516Z"
   },
   {
    "duration": 128,
    "start_time": "2024-10-06T20:36:17.524Z"
   },
   {
    "duration": 26,
    "start_time": "2024-10-06T20:36:17.654Z"
   },
   {
    "duration": 4,
    "start_time": "2024-10-06T20:36:17.682Z"
   },
   {
    "duration": 40,
    "start_time": "2024-10-06T20:36:17.687Z"
   },
   {
    "duration": 19,
    "start_time": "2024-10-06T20:36:17.729Z"
   },
   {
    "duration": 120,
    "start_time": "2024-10-06T20:36:17.750Z"
   },
   {
    "duration": 7,
    "start_time": "2024-10-06T20:36:17.872Z"
   },
   {
    "duration": 101,
    "start_time": "2024-10-06T20:36:17.881Z"
   },
   {
    "duration": 8,
    "start_time": "2024-10-06T20:36:17.983Z"
   },
   {
    "duration": 94,
    "start_time": "2024-10-06T20:36:17.993Z"
   },
   {
    "duration": 8,
    "start_time": "2024-10-06T20:36:18.089Z"
   },
   {
    "duration": 101,
    "start_time": "2024-10-06T20:36:18.098Z"
   },
   {
    "duration": 83,
    "start_time": "2024-10-06T20:36:18.203Z"
   },
   {
    "duration": 8,
    "start_time": "2024-10-06T20:36:18.288Z"
   },
   {
    "duration": 19,
    "start_time": "2024-10-06T20:36:18.298Z"
   },
   {
    "duration": 88,
    "start_time": "2024-10-06T20:36:18.318Z"
   },
   {
    "duration": 8,
    "start_time": "2024-10-06T20:36:18.407Z"
   },
   {
    "duration": 9,
    "start_time": "2024-10-06T20:36:18.416Z"
   },
   {
    "duration": 5,
    "start_time": "2024-10-06T20:36:18.426Z"
   },
   {
    "duration": 0,
    "start_time": "2024-10-06T20:36:18.432Z"
   },
   {
    "duration": 0,
    "start_time": "2024-10-06T20:36:18.434Z"
   },
   {
    "duration": 41,
    "start_time": "2024-10-06T20:36:49.620Z"
   },
   {
    "duration": 3,
    "start_time": "2024-10-06T20:39:31.576Z"
   },
   {
    "duration": 4,
    "start_time": "2024-10-06T20:43:07.685Z"
   },
   {
    "duration": 1335,
    "start_time": "2024-10-06T20:47:36.560Z"
   },
   {
    "duration": 148,
    "start_time": "2024-10-06T20:48:13.286Z"
   },
   {
    "duration": 7,
    "start_time": "2024-10-06T20:48:17.433Z"
   },
   {
    "duration": 647,
    "start_time": "2024-10-06T20:48:42.083Z"
   },
   {
    "duration": 61,
    "start_time": "2024-10-06T20:48:54.472Z"
   },
   {
    "duration": 7,
    "start_time": "2024-10-06T20:49:01.702Z"
   },
   {
    "duration": 28,
    "start_time": "2024-10-06T20:49:06.018Z"
   },
   {
    "duration": 15,
    "start_time": "2024-10-06T20:49:13.735Z"
   },
   {
    "duration": 4,
    "start_time": "2024-10-06T20:49:16.349Z"
   },
   {
    "duration": 5,
    "start_time": "2024-10-06T20:49:19.957Z"
   },
   {
    "duration": 97,
    "start_time": "2024-10-06T20:49:21.127Z"
   },
   {
    "duration": 4,
    "start_time": "2024-10-06T20:54:31.541Z"
   },
   {
    "duration": 234,
    "start_time": "2024-10-06T20:55:50.131Z"
   },
   {
    "duration": 4,
    "start_time": "2024-10-06T20:55:58.507Z"
   },
   {
    "duration": 34,
    "start_time": "2024-10-06T20:56:04.238Z"
   },
   {
    "duration": 121,
    "start_time": "2024-10-06T20:57:16.023Z"
   },
   {
    "duration": 33,
    "start_time": "2024-10-06T21:03:10.822Z"
   },
   {
    "duration": 20,
    "start_time": "2024-10-06T21:09:05.965Z"
   },
   {
    "duration": 2149,
    "start_time": "2024-10-07T16:09:07.875Z"
   },
   {
    "duration": 507,
    "start_time": "2024-10-07T16:09:10.027Z"
   },
   {
    "duration": 5,
    "start_time": "2024-10-07T16:09:10.536Z"
   },
   {
    "duration": 8,
    "start_time": "2024-10-07T16:09:10.544Z"
   },
   {
    "duration": 6,
    "start_time": "2024-10-07T16:09:10.554Z"
   },
   {
    "duration": 6,
    "start_time": "2024-10-07T16:09:10.561Z"
   },
   {
    "duration": 5,
    "start_time": "2024-10-07T16:09:10.568Z"
   },
   {
    "duration": 150,
    "start_time": "2024-10-07T16:09:10.575Z"
   },
   {
    "duration": 18,
    "start_time": "2024-10-07T16:09:10.727Z"
   },
   {
    "duration": 79,
    "start_time": "2024-10-07T16:09:10.749Z"
   },
   {
    "duration": 125,
    "start_time": "2024-10-07T16:09:10.830Z"
   },
   {
    "duration": 8,
    "start_time": "2024-10-07T16:09:10.957Z"
   },
   {
    "duration": 81,
    "start_time": "2024-10-07T16:09:10.967Z"
   },
   {
    "duration": 123,
    "start_time": "2024-10-07T16:09:11.050Z"
   },
   {
    "duration": 128,
    "start_time": "2024-10-07T16:09:11.174Z"
   },
   {
    "duration": 197,
    "start_time": "2024-10-07T16:09:11.303Z"
   },
   {
    "duration": 149,
    "start_time": "2024-10-07T16:09:11.502Z"
   },
   {
    "duration": 21,
    "start_time": "2024-10-07T16:09:11.653Z"
   },
   {
    "duration": 181,
    "start_time": "2024-10-07T16:09:11.687Z"
   },
   {
    "duration": 1304,
    "start_time": "2024-10-07T16:09:11.870Z"
   },
   {
    "duration": 156,
    "start_time": "2024-10-07T16:09:13.176Z"
   },
   {
    "duration": 6,
    "start_time": "2024-10-07T16:09:13.333Z"
   },
   {
    "duration": 87,
    "start_time": "2024-10-07T16:09:13.341Z"
   },
   {
    "duration": 6,
    "start_time": "2024-10-07T16:09:13.430Z"
   },
   {
    "duration": 66,
    "start_time": "2024-10-07T16:09:13.437Z"
   },
   {
    "duration": 15,
    "start_time": "2024-10-07T16:09:13.505Z"
   },
   {
    "duration": 4,
    "start_time": "2024-10-07T16:09:13.521Z"
   },
   {
    "duration": 5,
    "start_time": "2024-10-07T16:09:13.529Z"
   },
   {
    "duration": 129,
    "start_time": "2024-10-07T16:09:13.536Z"
   },
   {
    "duration": 4,
    "start_time": "2024-10-07T16:09:13.667Z"
   },
   {
    "duration": 231,
    "start_time": "2024-10-07T16:09:13.673Z"
   },
   {
    "duration": 4,
    "start_time": "2024-10-07T16:09:13.907Z"
   },
   {
    "duration": 35,
    "start_time": "2024-10-07T16:09:13.914Z"
   },
   {
    "duration": 80,
    "start_time": "2024-10-07T16:09:13.951Z"
   },
   {
    "duration": 197,
    "start_time": "2024-10-07T16:09:14.033Z"
   },
   {
    "duration": 0,
    "start_time": "2024-10-07T16:09:14.232Z"
   },
   {
    "duration": 0,
    "start_time": "2024-10-07T16:09:14.234Z"
   },
   {
    "duration": 0,
    "start_time": "2024-10-07T16:09:14.235Z"
   },
   {
    "duration": 0,
    "start_time": "2024-10-07T16:09:14.237Z"
   },
   {
    "duration": 0,
    "start_time": "2024-10-07T16:09:14.238Z"
   },
   {
    "duration": 0,
    "start_time": "2024-10-07T16:09:14.240Z"
   },
   {
    "duration": 0,
    "start_time": "2024-10-07T16:09:14.241Z"
   },
   {
    "duration": 0,
    "start_time": "2024-10-07T16:09:14.243Z"
   },
   {
    "duration": 0,
    "start_time": "2024-10-07T16:09:14.244Z"
   },
   {
    "duration": 0,
    "start_time": "2024-10-07T16:09:14.246Z"
   },
   {
    "duration": 0,
    "start_time": "2024-10-07T16:09:14.247Z"
   },
   {
    "duration": 0,
    "start_time": "2024-10-07T16:09:14.249Z"
   },
   {
    "duration": 0,
    "start_time": "2024-10-07T16:09:14.250Z"
   },
   {
    "duration": 0,
    "start_time": "2024-10-07T16:09:14.286Z"
   },
   {
    "duration": 0,
    "start_time": "2024-10-07T16:09:14.287Z"
   },
   {
    "duration": 0,
    "start_time": "2024-10-07T16:09:14.289Z"
   },
   {
    "duration": 116,
    "start_time": "2024-10-07T16:10:46.608Z"
   },
   {
    "duration": 14,
    "start_time": "2024-10-07T16:14:27.107Z"
   },
   {
    "duration": 1406,
    "start_time": "2024-10-07T16:15:05.210Z"
   },
   {
    "duration": 1381,
    "start_time": "2024-10-07T16:18:58.203Z"
   },
   {
    "duration": 36,
    "start_time": "2024-10-07T16:25:26.714Z"
   },
   {
    "duration": 443,
    "start_time": "2024-10-07T16:26:32.345Z"
   },
   {
    "duration": 44,
    "start_time": "2024-10-07T16:27:01.482Z"
   },
   {
    "duration": 20,
    "start_time": "2024-10-07T16:27:13.963Z"
   },
   {
    "duration": 97,
    "start_time": "2024-10-07T16:27:19.371Z"
   },
   {
    "duration": 7,
    "start_time": "2024-10-07T16:27:21.844Z"
   },
   {
    "duration": 89,
    "start_time": "2024-10-07T16:27:24.353Z"
   },
   {
    "duration": 8,
    "start_time": "2024-10-07T16:27:25.919Z"
   },
   {
    "duration": 86,
    "start_time": "2024-10-07T16:27:26.576Z"
   },
   {
    "duration": 8,
    "start_time": "2024-10-07T16:27:27.139Z"
   },
   {
    "duration": 81,
    "start_time": "2024-10-07T16:27:27.751Z"
   },
   {
    "duration": 78,
    "start_time": "2024-10-07T16:27:28.339Z"
   },
   {
    "duration": 9,
    "start_time": "2024-10-07T16:27:28.979Z"
   },
   {
    "duration": 21,
    "start_time": "2024-10-07T16:27:29.593Z"
   },
   {
    "duration": 230,
    "start_time": "2024-10-07T16:27:30.139Z"
   },
   {
    "duration": 439,
    "start_time": "2024-10-07T16:31:43.140Z"
   },
   {
    "duration": 402,
    "start_time": "2024-10-07T16:31:43.581Z"
   },
   {
    "duration": 5,
    "start_time": "2024-10-07T16:31:43.985Z"
   },
   {
    "duration": 11,
    "start_time": "2024-10-07T16:31:43.993Z"
   },
   {
    "duration": 6,
    "start_time": "2024-10-07T16:31:44.006Z"
   },
   {
    "duration": 6,
    "start_time": "2024-10-07T16:31:44.013Z"
   },
   {
    "duration": 6,
    "start_time": "2024-10-07T16:31:44.021Z"
   },
   {
    "duration": 145,
    "start_time": "2024-10-07T16:31:44.029Z"
   },
   {
    "duration": 22,
    "start_time": "2024-10-07T16:31:44.175Z"
   },
   {
    "duration": 68,
    "start_time": "2024-10-07T16:31:44.200Z"
   },
   {
    "duration": 135,
    "start_time": "2024-10-07T16:31:44.270Z"
   },
   {
    "duration": 8,
    "start_time": "2024-10-07T16:31:44.406Z"
   },
   {
    "duration": 76,
    "start_time": "2024-10-07T16:31:44.416Z"
   },
   {
    "duration": 121,
    "start_time": "2024-10-07T16:31:44.495Z"
   },
   {
    "duration": 127,
    "start_time": "2024-10-07T16:31:44.618Z"
   },
   {
    "duration": 161,
    "start_time": "2024-10-07T16:31:44.747Z"
   },
   {
    "duration": 158,
    "start_time": "2024-10-07T16:31:44.910Z"
   },
   {
    "duration": 34,
    "start_time": "2024-10-07T16:31:45.070Z"
   },
   {
    "duration": 167,
    "start_time": "2024-10-07T16:31:45.106Z"
   },
   {
    "duration": 1349,
    "start_time": "2024-10-07T16:31:45.275Z"
   },
   {
    "duration": 154,
    "start_time": "2024-10-07T16:31:46.625Z"
   },
   {
    "duration": 10,
    "start_time": "2024-10-07T16:31:46.781Z"
   },
   {
    "duration": 69,
    "start_time": "2024-10-07T16:31:46.793Z"
   },
   {
    "duration": 6,
    "start_time": "2024-10-07T16:31:46.863Z"
   },
   {
    "duration": 52,
    "start_time": "2024-10-07T16:31:46.886Z"
   },
   {
    "duration": 15,
    "start_time": "2024-10-07T16:31:46.940Z"
   },
   {
    "duration": 4,
    "start_time": "2024-10-07T16:31:46.956Z"
   },
   {
    "duration": 5,
    "start_time": "2024-10-07T16:31:46.986Z"
   },
   {
    "duration": 166,
    "start_time": "2024-10-07T16:31:46.992Z"
   },
   {
    "duration": 4,
    "start_time": "2024-10-07T16:31:47.160Z"
   },
   {
    "duration": 227,
    "start_time": "2024-10-07T16:31:47.166Z"
   },
   {
    "duration": 4,
    "start_time": "2024-10-07T16:31:47.395Z"
   },
   {
    "duration": 39,
    "start_time": "2024-10-07T16:31:47.401Z"
   },
   {
    "duration": 19,
    "start_time": "2024-10-07T16:31:47.442Z"
   },
   {
    "duration": 122,
    "start_time": "2024-10-07T16:31:47.464Z"
   },
   {
    "duration": 8,
    "start_time": "2024-10-07T16:31:47.588Z"
   },
   {
    "duration": 98,
    "start_time": "2024-10-07T16:31:47.597Z"
   },
   {
    "duration": 7,
    "start_time": "2024-10-07T16:31:47.697Z"
   },
   {
    "duration": 98,
    "start_time": "2024-10-07T16:31:47.705Z"
   },
   {
    "duration": 7,
    "start_time": "2024-10-07T16:31:47.805Z"
   },
   {
    "duration": 101,
    "start_time": "2024-10-07T16:31:47.814Z"
   },
   {
    "duration": 88,
    "start_time": "2024-10-07T16:31:47.917Z"
   },
   {
    "duration": 8,
    "start_time": "2024-10-07T16:31:48.007Z"
   },
   {
    "duration": 20,
    "start_time": "2024-10-07T16:31:48.016Z"
   },
   {
    "duration": 539,
    "start_time": "2024-10-07T16:31:48.038Z"
   },
   {
    "duration": 0,
    "start_time": "2024-10-07T16:31:48.587Z"
   },
   {
    "duration": 0,
    "start_time": "2024-10-07T16:31:48.589Z"
   },
   {
    "duration": 0,
    "start_time": "2024-10-07T16:31:48.590Z"
   },
   {
    "duration": 0,
    "start_time": "2024-10-07T16:31:48.592Z"
   },
   {
    "duration": 0,
    "start_time": "2024-10-07T16:31:48.593Z"
   },
   {
    "duration": 35,
    "start_time": "2024-10-07T16:33:19.221Z"
   },
   {
    "duration": 43,
    "start_time": "2024-10-07T16:36:53.860Z"
   },
   {
    "duration": 34,
    "start_time": "2024-10-07T16:37:06.795Z"
   },
   {
    "duration": 14,
    "start_time": "2024-10-07T16:37:15.276Z"
   },
   {
    "duration": 129,
    "start_time": "2024-10-07T16:37:50.710Z"
   },
   {
    "duration": 39,
    "start_time": "2024-10-07T16:38:18.629Z"
   },
   {
    "duration": 35,
    "start_time": "2024-10-07T16:38:26.843Z"
   },
   {
    "duration": 36,
    "start_time": "2024-10-07T16:38:44.450Z"
   },
   {
    "duration": 36,
    "start_time": "2024-10-07T16:41:44.118Z"
   },
   {
    "duration": 5,
    "start_time": "2024-10-07T16:57:39.048Z"
   },
   {
    "duration": 210,
    "start_time": "2024-10-07T16:58:01.634Z"
   },
   {
    "duration": 40,
    "start_time": "2024-10-07T16:58:30.655Z"
   },
   {
    "duration": 4,
    "start_time": "2024-10-07T17:00:06.510Z"
   },
   {
    "duration": 48,
    "start_time": "2024-10-07T17:00:17.824Z"
   },
   {
    "duration": 4,
    "start_time": "2024-10-07T17:04:09.687Z"
   },
   {
    "duration": 21,
    "start_time": "2024-10-07T17:04:25.621Z"
   },
   {
    "duration": 21,
    "start_time": "2024-10-07T17:06:27.605Z"
   },
   {
    "duration": 17,
    "start_time": "2024-10-07T17:08:17.582Z"
   },
   {
    "duration": 68,
    "start_time": "2024-10-07T17:15:35.519Z"
   },
   {
    "duration": 8,
    "start_time": "2024-10-07T17:33:57.479Z"
   },
   {
    "duration": 10,
    "start_time": "2024-10-07T17:34:01.294Z"
   },
   {
    "duration": 8,
    "start_time": "2024-10-07T17:34:25.450Z"
   },
   {
    "duration": 10,
    "start_time": "2024-10-07T17:34:26.114Z"
   },
   {
    "duration": 4,
    "start_time": "2024-10-07T17:34:37.070Z"
   },
   {
    "duration": 35,
    "start_time": "2024-10-07T17:46:04.512Z"
   },
   {
    "duration": 42,
    "start_time": "2024-10-07T17:46:08.873Z"
   },
   {
    "duration": 13,
    "start_time": "2024-10-07T17:46:43.957Z"
   },
   {
    "duration": 20,
    "start_time": "2024-10-07T17:46:55.178Z"
   },
   {
    "duration": 20,
    "start_time": "2024-10-07T17:47:29.401Z"
   },
   {
    "duration": 34,
    "start_time": "2024-10-07T17:50:29.820Z"
   },
   {
    "duration": 42,
    "start_time": "2024-10-07T17:50:51.978Z"
   },
   {
    "duration": 14,
    "start_time": "2024-10-07T17:51:12.764Z"
   },
   {
    "duration": 18,
    "start_time": "2024-10-07T17:51:56.707Z"
   },
   {
    "duration": 20,
    "start_time": "2024-10-07T17:52:55.758Z"
   },
   {
    "duration": 19,
    "start_time": "2024-10-07T17:53:06.446Z"
   },
   {
    "duration": 9,
    "start_time": "2024-10-07T17:58:01.912Z"
   },
   {
    "duration": 2171,
    "start_time": "2024-10-07T18:28:07.366Z"
   },
   {
    "duration": 474,
    "start_time": "2024-10-07T18:28:09.540Z"
   },
   {
    "duration": 5,
    "start_time": "2024-10-07T18:28:10.016Z"
   },
   {
    "duration": 9,
    "start_time": "2024-10-07T18:28:10.023Z"
   },
   {
    "duration": 5,
    "start_time": "2024-10-07T18:28:10.035Z"
   },
   {
    "duration": 6,
    "start_time": "2024-10-07T18:28:10.042Z"
   },
   {
    "duration": 5,
    "start_time": "2024-10-07T18:28:10.050Z"
   },
   {
    "duration": 140,
    "start_time": "2024-10-07T18:28:10.057Z"
   },
   {
    "duration": 18,
    "start_time": "2024-10-07T18:28:10.198Z"
   },
   {
    "duration": 81,
    "start_time": "2024-10-07T18:28:10.218Z"
   },
   {
    "duration": 125,
    "start_time": "2024-10-07T18:28:10.301Z"
   },
   {
    "duration": 8,
    "start_time": "2024-10-07T18:28:10.428Z"
   },
   {
    "duration": 74,
    "start_time": "2024-10-07T18:28:10.443Z"
   },
   {
    "duration": 139,
    "start_time": "2024-10-07T18:28:10.522Z"
   },
   {
    "duration": 136,
    "start_time": "2024-10-07T18:28:10.663Z"
   },
   {
    "duration": 167,
    "start_time": "2024-10-07T18:28:10.801Z"
   },
   {
    "duration": 199,
    "start_time": "2024-10-07T18:28:10.970Z"
   },
   {
    "duration": 21,
    "start_time": "2024-10-07T18:28:11.171Z"
   },
   {
    "duration": 182,
    "start_time": "2024-10-07T18:28:11.194Z"
   },
   {
    "duration": 1308,
    "start_time": "2024-10-07T18:28:11.378Z"
   },
   {
    "duration": 148,
    "start_time": "2024-10-07T18:28:12.688Z"
   },
   {
    "duration": 5,
    "start_time": "2024-10-07T18:28:12.838Z"
   },
   {
    "duration": 75,
    "start_time": "2024-10-07T18:28:12.848Z"
   },
   {
    "duration": 18,
    "start_time": "2024-10-07T18:28:12.924Z"
   },
   {
    "duration": 73,
    "start_time": "2024-10-07T18:28:12.944Z"
   },
   {
    "duration": 14,
    "start_time": "2024-10-07T18:28:13.019Z"
   },
   {
    "duration": 14,
    "start_time": "2024-10-07T18:28:13.035Z"
   },
   {
    "duration": 5,
    "start_time": "2024-10-07T18:28:13.050Z"
   },
   {
    "duration": 113,
    "start_time": "2024-10-07T18:28:13.058Z"
   },
   {
    "duration": 4,
    "start_time": "2024-10-07T18:28:13.173Z"
   },
   {
    "duration": 220,
    "start_time": "2024-10-07T18:28:13.178Z"
   },
   {
    "duration": 4,
    "start_time": "2024-10-07T18:28:13.401Z"
   },
   {
    "duration": 52,
    "start_time": "2024-10-07T18:28:13.407Z"
   },
   {
    "duration": 21,
    "start_time": "2024-10-07T18:28:13.461Z"
   },
   {
    "duration": 111,
    "start_time": "2024-10-07T18:28:13.484Z"
   },
   {
    "duration": 8,
    "start_time": "2024-10-07T18:28:13.597Z"
   },
   {
    "duration": 103,
    "start_time": "2024-10-07T18:28:13.607Z"
   },
   {
    "duration": 8,
    "start_time": "2024-10-07T18:28:13.712Z"
   },
   {
    "duration": 154,
    "start_time": "2024-10-07T18:28:13.721Z"
   },
   {
    "duration": 8,
    "start_time": "2024-10-07T18:28:13.877Z"
   },
   {
    "duration": 116,
    "start_time": "2024-10-07T18:28:13.889Z"
   },
   {
    "duration": 91,
    "start_time": "2024-10-07T18:28:14.008Z"
   },
   {
    "duration": 7,
    "start_time": "2024-10-07T18:28:14.101Z"
   },
   {
    "duration": 53,
    "start_time": "2024-10-07T18:28:14.110Z"
   },
   {
    "duration": 21,
    "start_time": "2024-10-07T18:28:14.165Z"
   },
   {
    "duration": 17,
    "start_time": "2024-10-07T18:28:14.187Z"
   },
   {
    "duration": 80,
    "start_time": "2024-10-07T18:28:14.206Z"
   },
   {
    "duration": 8,
    "start_time": "2024-10-07T18:28:14.287Z"
   },
   {
    "duration": 9,
    "start_time": "2024-10-07T18:28:14.297Z"
   },
   {
    "duration": 56,
    "start_time": "2024-10-07T18:28:14.308Z"
   },
   {
    "duration": 14,
    "start_time": "2024-10-07T18:28:14.366Z"
   },
   {
    "duration": 116,
    "start_time": "2024-10-07T18:28:14.381Z"
   },
   {
    "duration": 20,
    "start_time": "2024-10-07T18:33:23.222Z"
   },
   {
    "duration": 45,
    "start_time": "2024-10-07T18:34:22.719Z"
   },
   {
    "duration": 2199,
    "start_time": "2024-10-07T22:45:47.816Z"
   },
   {
    "duration": 445,
    "start_time": "2024-10-07T22:45:50.017Z"
   },
   {
    "duration": 4,
    "start_time": "2024-10-07T22:45:50.464Z"
   },
   {
    "duration": 8,
    "start_time": "2024-10-07T22:45:50.470Z"
   },
   {
    "duration": 5,
    "start_time": "2024-10-07T22:45:50.482Z"
   },
   {
    "duration": 6,
    "start_time": "2024-10-07T22:45:50.489Z"
   },
   {
    "duration": 6,
    "start_time": "2024-10-07T22:45:50.496Z"
   },
   {
    "duration": 144,
    "start_time": "2024-10-07T22:45:50.504Z"
   },
   {
    "duration": 21,
    "start_time": "2024-10-07T22:45:50.649Z"
   },
   {
    "duration": 79,
    "start_time": "2024-10-07T22:45:50.672Z"
   },
   {
    "duration": 134,
    "start_time": "2024-10-07T22:45:50.753Z"
   },
   {
    "duration": 8,
    "start_time": "2024-10-07T22:45:50.889Z"
   },
   {
    "duration": 66,
    "start_time": "2024-10-07T22:45:50.899Z"
   },
   {
    "duration": 127,
    "start_time": "2024-10-07T22:45:50.986Z"
   },
   {
    "duration": 166,
    "start_time": "2024-10-07T22:45:51.115Z"
   },
   {
    "duration": 163,
    "start_time": "2024-10-07T22:45:51.287Z"
   },
   {
    "duration": 163,
    "start_time": "2024-10-07T22:45:51.452Z"
   },
   {
    "duration": 23,
    "start_time": "2024-10-07T22:45:51.617Z"
   },
   {
    "duration": 187,
    "start_time": "2024-10-07T22:45:51.643Z"
   },
   {
    "duration": 1368,
    "start_time": "2024-10-07T22:45:51.832Z"
   },
   {
    "duration": 159,
    "start_time": "2024-10-07T22:45:53.202Z"
   },
   {
    "duration": 7,
    "start_time": "2024-10-07T22:45:53.363Z"
   },
   {
    "duration": 84,
    "start_time": "2024-10-07T22:45:53.373Z"
   },
   {
    "duration": 6,
    "start_time": "2024-10-07T22:45:53.459Z"
   },
   {
    "duration": 83,
    "start_time": "2024-10-07T22:45:53.467Z"
   },
   {
    "duration": 16,
    "start_time": "2024-10-07T22:45:53.552Z"
   },
   {
    "duration": 18,
    "start_time": "2024-10-07T22:45:53.570Z"
   },
   {
    "duration": 8,
    "start_time": "2024-10-07T22:45:53.589Z"
   },
   {
    "duration": 120,
    "start_time": "2024-10-07T22:45:53.599Z"
   },
   {
    "duration": 4,
    "start_time": "2024-10-07T22:45:53.721Z"
   },
   {
    "duration": 238,
    "start_time": "2024-10-07T22:45:53.727Z"
   },
   {
    "duration": 4,
    "start_time": "2024-10-07T22:45:53.966Z"
   },
   {
    "duration": 41,
    "start_time": "2024-10-07T22:45:53.986Z"
   },
   {
    "duration": 19,
    "start_time": "2024-10-07T22:45:54.029Z"
   },
   {
    "duration": 167,
    "start_time": "2024-10-07T22:45:54.049Z"
   },
   {
    "duration": 8,
    "start_time": "2024-10-07T22:45:54.218Z"
   },
   {
    "duration": 105,
    "start_time": "2024-10-07T22:45:54.229Z"
   },
   {
    "duration": 8,
    "start_time": "2024-10-07T22:45:54.336Z"
   },
   {
    "duration": 100,
    "start_time": "2024-10-07T22:45:54.346Z"
   },
   {
    "duration": 8,
    "start_time": "2024-10-07T22:45:54.448Z"
   },
   {
    "duration": 93,
    "start_time": "2024-10-07T22:45:54.461Z"
   },
   {
    "duration": 91,
    "start_time": "2024-10-07T22:45:54.556Z"
   },
   {
    "duration": 8,
    "start_time": "2024-10-07T22:45:54.650Z"
   },
   {
    "duration": 47,
    "start_time": "2024-10-07T22:45:54.660Z"
   },
   {
    "duration": 21,
    "start_time": "2024-10-07T22:45:54.708Z"
   },
   {
    "duration": 16,
    "start_time": "2024-10-07T22:45:54.731Z"
   },
   {
    "duration": 92,
    "start_time": "2024-10-07T22:45:54.749Z"
   },
   {
    "duration": 9,
    "start_time": "2024-10-07T22:45:54.844Z"
   },
   {
    "duration": 12,
    "start_time": "2024-10-07T22:45:54.855Z"
   },
   {
    "duration": 47,
    "start_time": "2024-10-07T22:45:54.870Z"
   },
   {
    "duration": 13,
    "start_time": "2024-10-07T22:45:54.919Z"
   },
   {
    "duration": 122,
    "start_time": "2024-10-07T22:45:54.933Z"
   },
   {
    "duration": 152,
    "start_time": "2024-10-07T22:49:21.888Z"
   },
   {
    "duration": 143,
    "start_time": "2024-10-07T23:01:10.075Z"
   },
   {
    "duration": 2179,
    "start_time": "2024-10-08T15:57:41.636Z"
   },
   {
    "duration": 472,
    "start_time": "2024-10-08T15:57:43.817Z"
   },
   {
    "duration": 5,
    "start_time": "2024-10-08T15:57:44.291Z"
   },
   {
    "duration": 10,
    "start_time": "2024-10-08T15:57:44.299Z"
   },
   {
    "duration": 6,
    "start_time": "2024-10-08T15:57:44.311Z"
   },
   {
    "duration": 6,
    "start_time": "2024-10-08T15:57:44.319Z"
   },
   {
    "duration": 6,
    "start_time": "2024-10-08T15:57:44.327Z"
   },
   {
    "duration": 135,
    "start_time": "2024-10-08T15:57:44.335Z"
   },
   {
    "duration": 18,
    "start_time": "2024-10-08T15:57:44.472Z"
   },
   {
    "duration": 72,
    "start_time": "2024-10-08T15:57:44.508Z"
   },
   {
    "duration": 132,
    "start_time": "2024-10-08T15:57:44.581Z"
   },
   {
    "duration": 9,
    "start_time": "2024-10-08T15:57:44.715Z"
   },
   {
    "duration": 83,
    "start_time": "2024-10-08T15:57:44.726Z"
   },
   {
    "duration": 131,
    "start_time": "2024-10-08T15:57:44.811Z"
   },
   {
    "duration": 133,
    "start_time": "2024-10-08T15:57:44.943Z"
   },
   {
    "duration": 167,
    "start_time": "2024-10-08T15:57:45.079Z"
   },
   {
    "duration": 174,
    "start_time": "2024-10-08T15:57:45.248Z"
   },
   {
    "duration": 21,
    "start_time": "2024-10-08T15:57:45.425Z"
   },
   {
    "duration": 183,
    "start_time": "2024-10-08T15:57:45.447Z"
   },
   {
    "duration": 141,
    "start_time": "2024-10-08T15:57:45.632Z"
   },
   {
    "duration": 482,
    "start_time": "2024-10-08T15:57:45.774Z"
   },
   {
    "duration": 0,
    "start_time": "2024-10-08T15:57:46.259Z"
   },
   {
    "duration": 0,
    "start_time": "2024-10-08T15:57:46.260Z"
   },
   {
    "duration": 0,
    "start_time": "2024-10-08T15:57:46.261Z"
   },
   {
    "duration": 0,
    "start_time": "2024-10-08T15:57:46.263Z"
   },
   {
    "duration": 0,
    "start_time": "2024-10-08T15:57:46.264Z"
   },
   {
    "duration": 0,
    "start_time": "2024-10-08T15:57:46.265Z"
   },
   {
    "duration": 0,
    "start_time": "2024-10-08T15:57:46.266Z"
   },
   {
    "duration": 0,
    "start_time": "2024-10-08T15:57:46.267Z"
   },
   {
    "duration": 0,
    "start_time": "2024-10-08T15:57:46.268Z"
   },
   {
    "duration": 0,
    "start_time": "2024-10-08T15:57:46.269Z"
   },
   {
    "duration": 0,
    "start_time": "2024-10-08T15:57:46.270Z"
   },
   {
    "duration": 0,
    "start_time": "2024-10-08T15:57:46.270Z"
   },
   {
    "duration": 0,
    "start_time": "2024-10-08T15:57:46.272Z"
   },
   {
    "duration": 0,
    "start_time": "2024-10-08T15:57:46.272Z"
   },
   {
    "duration": 0,
    "start_time": "2024-10-08T15:57:46.274Z"
   },
   {
    "duration": 0,
    "start_time": "2024-10-08T15:57:46.275Z"
   },
   {
    "duration": 0,
    "start_time": "2024-10-08T15:57:46.276Z"
   },
   {
    "duration": 0,
    "start_time": "2024-10-08T15:57:46.309Z"
   },
   {
    "duration": 0,
    "start_time": "2024-10-08T15:57:46.312Z"
   },
   {
    "duration": 0,
    "start_time": "2024-10-08T15:57:46.313Z"
   },
   {
    "duration": 0,
    "start_time": "2024-10-08T15:57:46.314Z"
   },
   {
    "duration": 0,
    "start_time": "2024-10-08T15:57:46.315Z"
   },
   {
    "duration": 0,
    "start_time": "2024-10-08T15:57:46.317Z"
   },
   {
    "duration": 0,
    "start_time": "2024-10-08T15:57:46.318Z"
   },
   {
    "duration": 0,
    "start_time": "2024-10-08T15:57:46.319Z"
   },
   {
    "duration": 0,
    "start_time": "2024-10-08T15:57:46.321Z"
   },
   {
    "duration": 0,
    "start_time": "2024-10-08T15:57:46.322Z"
   },
   {
    "duration": 0,
    "start_time": "2024-10-08T15:57:46.323Z"
   },
   {
    "duration": 0,
    "start_time": "2024-10-08T15:57:46.325Z"
   },
   {
    "duration": 0,
    "start_time": "2024-10-08T15:57:46.325Z"
   },
   {
    "duration": 0,
    "start_time": "2024-10-08T15:57:46.326Z"
   },
   {
    "duration": 158,
    "start_time": "2024-10-08T16:05:31.943Z"
   },
   {
    "duration": 7,
    "start_time": "2024-10-08T16:05:41.541Z"
   },
   {
    "duration": 303,
    "start_time": "2024-10-08T16:05:48.327Z"
   },
   {
    "duration": 71,
    "start_time": "2024-10-08T16:05:57.306Z"
   },
   {
    "duration": 7,
    "start_time": "2024-10-08T16:06:03.818Z"
   },
   {
    "duration": 64,
    "start_time": "2024-10-08T16:06:06.538Z"
   },
   {
    "duration": 16,
    "start_time": "2024-10-08T16:06:13.475Z"
   },
   {
    "duration": 5,
    "start_time": "2024-10-08T16:06:46.517Z"
   },
   {
    "duration": 6,
    "start_time": "2024-10-08T16:06:48.137Z"
   },
   {
    "duration": 97,
    "start_time": "2024-10-08T16:06:49.205Z"
   },
   {
    "duration": 14,
    "start_time": "2024-10-08T16:06:57.273Z"
   },
   {
    "duration": 238,
    "start_time": "2024-10-08T16:06:59.589Z"
   },
   {
    "duration": 20,
    "start_time": "2024-10-08T16:14:11.916Z"
   },
   {
    "duration": 4,
    "start_time": "2024-10-08T16:14:48.638Z"
   },
   {
    "duration": 36,
    "start_time": "2024-10-08T16:14:50.305Z"
   },
   {
    "duration": 349,
    "start_time": "2024-10-08T16:15:44.229Z"
   },
   {
    "duration": 40,
    "start_time": "2024-10-08T16:16:12.900Z"
   },
   {
    "duration": 20,
    "start_time": "2024-10-08T16:16:22.519Z"
   },
   {
    "duration": 98,
    "start_time": "2024-10-08T16:16:26.262Z"
   },
   {
    "duration": 8,
    "start_time": "2024-10-08T16:16:28.390Z"
   },
   {
    "duration": 87,
    "start_time": "2024-10-08T16:16:31.076Z"
   },
   {
    "duration": 9,
    "start_time": "2024-10-08T16:16:31.717Z"
   },
   {
    "duration": 104,
    "start_time": "2024-10-08T16:16:32.408Z"
   },
   {
    "duration": 9,
    "start_time": "2024-10-08T16:16:33.160Z"
   },
   {
    "duration": 83,
    "start_time": "2024-10-08T16:16:34.021Z"
   },
   {
    "duration": 82,
    "start_time": "2024-10-08T16:16:34.794Z"
   },
   {
    "duration": 8,
    "start_time": "2024-10-08T16:16:35.675Z"
   },
   {
    "duration": 68,
    "start_time": "2024-10-08T16:16:36.451Z"
   },
   {
    "duration": 43,
    "start_time": "2024-10-08T16:17:26.082Z"
   },
   {
    "duration": 27,
    "start_time": "2024-10-08T16:17:37.858Z"
   },
   {
    "duration": 25,
    "start_time": "2024-10-08T16:17:47.008Z"
   },
   {
    "duration": 64,
    "start_time": "2024-10-08T16:17:59.116Z"
   },
   {
    "duration": 9,
    "start_time": "2024-10-08T16:23:22.637Z"
   },
   {
    "duration": 21,
    "start_time": "2024-10-08T16:26:28.911Z"
   },
   {
    "duration": 64,
    "start_time": "2024-10-08T16:27:00.596Z"
   },
   {
    "duration": 68,
    "start_time": "2024-10-08T16:27:09.316Z"
   },
   {
    "duration": 8,
    "start_time": "2024-10-08T16:27:16.327Z"
   },
   {
    "duration": 11,
    "start_time": "2024-10-08T16:27:19.947Z"
   },
   {
    "duration": 38,
    "start_time": "2024-10-08T16:27:21.228Z"
   },
   {
    "duration": 44,
    "start_time": "2024-10-08T16:27:22.226Z"
   },
   {
    "duration": 15,
    "start_time": "2024-10-08T16:27:22.717Z"
   },
   {
    "duration": 37,
    "start_time": "2024-10-08T16:41:04.692Z"
   },
   {
    "duration": 14,
    "start_time": "2024-10-08T16:45:31.150Z"
   },
   {
    "duration": 13,
    "start_time": "2024-10-08T16:45:35.951Z"
   },
   {
    "duration": 5,
    "start_time": "2024-10-08T16:49:05.442Z"
   },
   {
    "duration": 78,
    "start_time": "2024-10-08T16:59:26.019Z"
   },
   {
    "duration": 6,
    "start_time": "2024-10-08T16:59:59.809Z"
   },
   {
    "duration": 66,
    "start_time": "2024-10-08T17:01:58.530Z"
   },
   {
    "duration": 6,
    "start_time": "2024-10-08T17:02:34.326Z"
   },
   {
    "duration": 5,
    "start_time": "2024-10-08T17:02:45.761Z"
   },
   {
    "duration": 4,
    "start_time": "2024-10-08T17:05:53.580Z"
   },
   {
    "duration": 6,
    "start_time": "2024-10-08T17:06:20.143Z"
   },
   {
    "duration": 9,
    "start_time": "2024-10-08T17:07:30.035Z"
   },
   {
    "duration": 12,
    "start_time": "2024-10-08T17:07:44.524Z"
   },
   {
    "duration": 4,
    "start_time": "2024-10-08T17:08:03.840Z"
   },
   {
    "duration": 5,
    "start_time": "2024-10-08T17:09:35.241Z"
   },
   {
    "duration": 3,
    "start_time": "2024-10-08T17:09:50.676Z"
   },
   {
    "duration": 5,
    "start_time": "2024-10-08T17:10:00.374Z"
   },
   {
    "duration": 9,
    "start_time": "2024-10-09T12:55:49.469Z"
   },
   {
    "duration": 2155,
    "start_time": "2024-10-09T12:55:57.819Z"
   },
   {
    "duration": 451,
    "start_time": "2024-10-09T12:55:59.977Z"
   },
   {
    "duration": 4,
    "start_time": "2024-10-09T12:56:00.430Z"
   },
   {
    "duration": 10,
    "start_time": "2024-10-09T12:56:00.435Z"
   },
   {
    "duration": 6,
    "start_time": "2024-10-09T12:56:00.448Z"
   },
   {
    "duration": 6,
    "start_time": "2024-10-09T12:56:00.456Z"
   },
   {
    "duration": 6,
    "start_time": "2024-10-09T12:56:00.463Z"
   },
   {
    "duration": 131,
    "start_time": "2024-10-09T12:56:00.471Z"
   },
   {
    "duration": 21,
    "start_time": "2024-10-09T12:56:00.604Z"
   },
   {
    "duration": 83,
    "start_time": "2024-10-09T12:56:00.627Z"
   },
   {
    "duration": 123,
    "start_time": "2024-10-09T12:56:00.711Z"
   },
   {
    "duration": 8,
    "start_time": "2024-10-09T12:56:00.836Z"
   },
   {
    "duration": 78,
    "start_time": "2024-10-09T12:56:00.846Z"
   },
   {
    "duration": 129,
    "start_time": "2024-10-09T12:56:00.928Z"
   },
   {
    "duration": 123,
    "start_time": "2024-10-09T12:56:01.059Z"
   },
   {
    "duration": 168,
    "start_time": "2024-10-09T12:56:01.184Z"
   },
   {
    "duration": 157,
    "start_time": "2024-10-09T12:56:01.354Z"
   },
   {
    "duration": 22,
    "start_time": "2024-10-09T12:56:01.513Z"
   },
   {
    "duration": 225,
    "start_time": "2024-10-09T12:56:01.537Z"
   },
   {
    "duration": 141,
    "start_time": "2024-10-09T12:56:01.764Z"
   },
   {
    "duration": 154,
    "start_time": "2024-10-09T12:56:01.909Z"
   },
   {
    "duration": 6,
    "start_time": "2024-10-09T12:56:02.065Z"
   },
   {
    "duration": 92,
    "start_time": "2024-10-09T12:56:02.073Z"
   },
   {
    "duration": 7,
    "start_time": "2024-10-09T12:56:02.167Z"
   },
   {
    "duration": 71,
    "start_time": "2024-10-09T12:56:02.176Z"
   },
   {
    "duration": 5,
    "start_time": "2024-10-09T12:56:02.249Z"
   },
   {
    "duration": 6,
    "start_time": "2024-10-09T12:56:02.256Z"
   },
   {
    "duration": 125,
    "start_time": "2024-10-09T12:56:02.263Z"
   },
   {
    "duration": 4,
    "start_time": "2024-10-09T12:56:02.390Z"
   },
   {
    "duration": 23,
    "start_time": "2024-10-09T12:56:02.396Z"
   },
   {
    "duration": 4,
    "start_time": "2024-10-09T12:56:02.420Z"
   },
   {
    "duration": 39,
    "start_time": "2024-10-09T12:56:02.425Z"
   },
   {
    "duration": 46,
    "start_time": "2024-10-09T12:56:02.466Z"
   },
   {
    "duration": 108,
    "start_time": "2024-10-09T12:56:02.514Z"
   },
   {
    "duration": 9,
    "start_time": "2024-10-09T12:56:02.624Z"
   },
   {
    "duration": 104,
    "start_time": "2024-10-09T12:56:02.635Z"
   },
   {
    "duration": 7,
    "start_time": "2024-10-09T12:56:02.741Z"
   },
   {
    "duration": 100,
    "start_time": "2024-10-09T12:56:02.750Z"
   },
   {
    "duration": 7,
    "start_time": "2024-10-09T12:56:02.852Z"
   },
   {
    "duration": 97,
    "start_time": "2024-10-09T12:56:02.861Z"
   },
   {
    "duration": 84,
    "start_time": "2024-10-09T12:56:02.962Z"
   },
   {
    "duration": 8,
    "start_time": "2024-10-09T12:56:03.048Z"
   },
   {
    "duration": 20,
    "start_time": "2024-10-09T12:56:03.058Z"
   },
   {
    "duration": 45,
    "start_time": "2024-10-09T12:56:03.080Z"
   },
   {
    "duration": 65,
    "start_time": "2024-10-09T12:56:03.127Z"
   },
   {
    "duration": 16,
    "start_time": "2024-10-09T12:56:03.194Z"
   },
   {
    "duration": 8,
    "start_time": "2024-10-09T12:56:03.211Z"
   },
   {
    "duration": 9,
    "start_time": "2024-10-09T12:56:03.221Z"
   },
   {
    "duration": 35,
    "start_time": "2024-10-09T12:56:03.231Z"
   },
   {
    "duration": 11,
    "start_time": "2024-10-09T12:56:03.268Z"
   },
   {
    "duration": 11,
    "start_time": "2024-10-09T12:56:03.309Z"
   },
   {
    "duration": 3,
    "start_time": "2024-10-09T12:56:03.322Z"
   },
   {
    "duration": 2,
    "start_time": "2024-10-09T12:56:03.327Z"
   },
   {
    "duration": 159,
    "start_time": "2024-10-09T22:10:06.469Z"
   },
   {
    "duration": 4,
    "start_time": "2024-10-09T22:21:11.903Z"
   },
   {
    "duration": 2272,
    "start_time": "2024-10-09T22:21:32.944Z"
   },
   {
    "duration": 470,
    "start_time": "2024-10-09T22:21:35.219Z"
   },
   {
    "duration": 6,
    "start_time": "2024-10-09T22:21:35.694Z"
   },
   {
    "duration": 12,
    "start_time": "2024-10-09T22:21:35.704Z"
   },
   {
    "duration": 10,
    "start_time": "2024-10-09T22:21:35.718Z"
   },
   {
    "duration": 6,
    "start_time": "2024-10-09T22:21:35.729Z"
   },
   {
    "duration": 6,
    "start_time": "2024-10-09T22:21:35.737Z"
   },
   {
    "duration": 152,
    "start_time": "2024-10-09T22:21:35.745Z"
   },
   {
    "duration": 23,
    "start_time": "2024-10-09T22:21:35.899Z"
   },
   {
    "duration": 81,
    "start_time": "2024-10-09T22:21:35.925Z"
   },
   {
    "duration": 137,
    "start_time": "2024-10-09T22:21:36.008Z"
   },
   {
    "duration": 7,
    "start_time": "2024-10-09T22:21:36.147Z"
   },
   {
    "duration": 92,
    "start_time": "2024-10-09T22:21:36.156Z"
   },
   {
    "duration": 131,
    "start_time": "2024-10-09T22:21:36.254Z"
   },
   {
    "duration": 138,
    "start_time": "2024-10-09T22:21:36.387Z"
   },
   {
    "duration": 200,
    "start_time": "2024-10-09T22:21:36.527Z"
   },
   {
    "duration": 162,
    "start_time": "2024-10-09T22:21:36.728Z"
   },
   {
    "duration": 20,
    "start_time": "2024-10-09T22:21:36.891Z"
   },
   {
    "duration": 191,
    "start_time": "2024-10-09T22:21:36.913Z"
   },
   {
    "duration": 147,
    "start_time": "2024-10-09T22:21:37.106Z"
   },
   {
    "duration": 179,
    "start_time": "2024-10-09T22:21:37.254Z"
   },
   {
    "duration": 6,
    "start_time": "2024-10-09T22:21:37.435Z"
   },
   {
    "duration": 85,
    "start_time": "2024-10-09T22:21:37.443Z"
   },
   {
    "duration": 7,
    "start_time": "2024-10-09T22:21:37.530Z"
   },
   {
    "duration": 69,
    "start_time": "2024-10-09T22:21:37.538Z"
   },
   {
    "duration": 4,
    "start_time": "2024-10-09T22:21:37.609Z"
   },
   {
    "duration": 11,
    "start_time": "2024-10-09T22:21:37.615Z"
   },
   {
    "duration": 130,
    "start_time": "2024-10-09T22:21:37.628Z"
   },
   {
    "duration": 4,
    "start_time": "2024-10-09T22:21:37.760Z"
   },
   {
    "duration": 20,
    "start_time": "2024-10-09T22:21:37.766Z"
   },
   {
    "duration": 4,
    "start_time": "2024-10-09T22:21:37.787Z"
   },
   {
    "duration": 45,
    "start_time": "2024-10-09T22:21:37.793Z"
   },
   {
    "duration": 23,
    "start_time": "2024-10-09T22:21:37.840Z"
   },
   {
    "duration": 133,
    "start_time": "2024-10-09T22:21:37.865Z"
   },
   {
    "duration": 12,
    "start_time": "2024-10-09T22:21:38.001Z"
   },
   {
    "duration": 95,
    "start_time": "2024-10-09T22:21:38.015Z"
   },
   {
    "duration": 12,
    "start_time": "2024-10-09T22:21:38.111Z"
   },
   {
    "duration": 104,
    "start_time": "2024-10-09T22:21:38.128Z"
   },
   {
    "duration": 7,
    "start_time": "2024-10-09T22:21:38.234Z"
   },
   {
    "duration": 98,
    "start_time": "2024-10-09T22:21:38.243Z"
   },
   {
    "duration": 98,
    "start_time": "2024-10-09T22:21:38.345Z"
   },
   {
    "duration": 9,
    "start_time": "2024-10-09T22:21:38.446Z"
   },
   {
    "duration": 35,
    "start_time": "2024-10-09T22:21:38.459Z"
   },
   {
    "duration": 25,
    "start_time": "2024-10-09T22:21:38.496Z"
   },
   {
    "duration": 123,
    "start_time": "2024-10-09T22:21:38.523Z"
   },
   {
    "duration": 4,
    "start_time": "2024-10-09T22:21:38.648Z"
   },
   {
    "duration": 9,
    "start_time": "2024-10-09T22:21:38.653Z"
   },
   {
    "duration": 9,
    "start_time": "2024-10-09T22:21:38.663Z"
   },
   {
    "duration": 61,
    "start_time": "2024-10-09T22:21:38.673Z"
   },
   {
    "duration": 12,
    "start_time": "2024-10-09T22:21:38.735Z"
   },
   {
    "duration": 11,
    "start_time": "2024-10-09T22:21:38.748Z"
   },
   {
    "duration": 2,
    "start_time": "2024-10-09T22:21:38.761Z"
   },
   {
    "duration": 5,
    "start_time": "2024-10-09T22:21:38.765Z"
   },
   {
    "duration": 57,
    "start_time": "2024-10-09T22:25:28.175Z"
   },
   {
    "duration": 59,
    "start_time": "2024-10-09T22:25:36.224Z"
   },
   {
    "duration": 118,
    "start_time": "2024-10-09T22:26:29.864Z"
   },
   {
    "duration": 290,
    "start_time": "2024-10-09T22:33:06.060Z"
   },
   {
    "duration": 6,
    "start_time": "2024-10-09T22:33:47.242Z"
   },
   {
    "duration": 114,
    "start_time": "2024-10-09T22:34:01.141Z"
   },
   {
    "duration": 115,
    "start_time": "2024-10-09T22:34:55.549Z"
   },
   {
    "duration": 150,
    "start_time": "2024-10-09T22:35:37.640Z"
   },
   {
    "duration": 145,
    "start_time": "2024-10-09T22:36:01.072Z"
   },
   {
    "duration": 118,
    "start_time": "2024-10-09T22:39:01.517Z"
   },
   {
    "duration": 7,
    "start_time": "2024-10-09T22:42:01.615Z"
   },
   {
    "duration": 387,
    "start_time": "2024-10-09T23:06:30.965Z"
   },
   {
    "duration": 400,
    "start_time": "2024-10-09T23:06:31.355Z"
   },
   {
    "duration": 5,
    "start_time": "2024-10-09T23:06:31.757Z"
   },
   {
    "duration": 9,
    "start_time": "2024-10-09T23:06:31.765Z"
   },
   {
    "duration": 7,
    "start_time": "2024-10-09T23:06:31.788Z"
   },
   {
    "duration": 7,
    "start_time": "2024-10-09T23:06:31.797Z"
   },
   {
    "duration": 5,
    "start_time": "2024-10-09T23:06:31.805Z"
   },
   {
    "duration": 132,
    "start_time": "2024-10-09T23:06:31.811Z"
   },
   {
    "duration": 17,
    "start_time": "2024-10-09T23:06:31.945Z"
   },
   {
    "duration": 77,
    "start_time": "2024-10-09T23:06:31.964Z"
   },
   {
    "duration": 129,
    "start_time": "2024-10-09T23:06:32.042Z"
   },
   {
    "duration": 8,
    "start_time": "2024-10-09T23:06:32.173Z"
   },
   {
    "duration": 62,
    "start_time": "2024-10-09T23:06:32.187Z"
   },
   {
    "duration": 132,
    "start_time": "2024-10-09T23:06:32.252Z"
   },
   {
    "duration": 157,
    "start_time": "2024-10-09T23:06:32.387Z"
   },
   {
    "duration": 158,
    "start_time": "2024-10-09T23:06:32.546Z"
   },
   {
    "duration": 129,
    "start_time": "2024-10-09T23:06:32.707Z"
   },
   {
    "duration": 7,
    "start_time": "2024-10-09T23:06:32.838Z"
   },
   {
    "duration": 21,
    "start_time": "2024-10-09T23:06:32.847Z"
   },
   {
    "duration": 162,
    "start_time": "2024-10-09T23:06:32.886Z"
   },
   {
    "duration": 149,
    "start_time": "2024-10-09T23:06:33.049Z"
   },
   {
    "duration": 157,
    "start_time": "2024-10-09T23:06:33.201Z"
   },
   {
    "duration": 6,
    "start_time": "2024-10-09T23:06:33.359Z"
   },
   {
    "duration": 85,
    "start_time": "2024-10-09T23:06:33.366Z"
   },
   {
    "duration": 7,
    "start_time": "2024-10-09T23:06:33.453Z"
   },
   {
    "duration": 61,
    "start_time": "2024-10-09T23:06:33.462Z"
   },
   {
    "duration": 4,
    "start_time": "2024-10-09T23:06:33.525Z"
   },
   {
    "duration": 5,
    "start_time": "2024-10-09T23:06:33.530Z"
   },
   {
    "duration": 122,
    "start_time": "2024-10-09T23:06:33.536Z"
   },
   {
    "duration": 3,
    "start_time": "2024-10-09T23:06:33.662Z"
   },
   {
    "duration": 30,
    "start_time": "2024-10-09T23:06:33.667Z"
   },
   {
    "duration": 3,
    "start_time": "2024-10-09T23:06:33.699Z"
   },
   {
    "duration": 38,
    "start_time": "2024-10-09T23:06:33.705Z"
   },
   {
    "duration": 43,
    "start_time": "2024-10-09T23:06:33.745Z"
   },
   {
    "duration": 102,
    "start_time": "2024-10-09T23:06:33.789Z"
   },
   {
    "duration": 8,
    "start_time": "2024-10-09T23:06:33.893Z"
   },
   {
    "duration": 122,
    "start_time": "2024-10-09T23:06:33.903Z"
   },
   {
    "duration": 7,
    "start_time": "2024-10-09T23:06:34.027Z"
   },
   {
    "duration": 134,
    "start_time": "2024-10-09T23:06:34.036Z"
   },
   {
    "duration": 15,
    "start_time": "2024-10-09T23:06:34.172Z"
   },
   {
    "duration": 78,
    "start_time": "2024-10-09T23:06:34.192Z"
   },
   {
    "duration": 94,
    "start_time": "2024-10-09T23:06:34.271Z"
   },
   {
    "duration": 24,
    "start_time": "2024-10-09T23:06:34.367Z"
   },
   {
    "duration": 20,
    "start_time": "2024-10-09T23:06:34.392Z"
   },
   {
    "duration": 20,
    "start_time": "2024-10-09T23:06:34.413Z"
   },
   {
    "duration": 79,
    "start_time": "2024-10-09T23:06:34.435Z"
   },
   {
    "duration": 3,
    "start_time": "2024-10-09T23:06:34.516Z"
   },
   {
    "duration": 7,
    "start_time": "2024-10-09T23:06:34.521Z"
   },
   {
    "duration": 8,
    "start_time": "2024-10-09T23:06:34.530Z"
   },
   {
    "duration": 59,
    "start_time": "2024-10-09T23:06:34.540Z"
   },
   {
    "duration": 12,
    "start_time": "2024-10-09T23:06:34.601Z"
   },
   {
    "duration": 10,
    "start_time": "2024-10-09T23:06:34.614Z"
   },
   {
    "duration": 3,
    "start_time": "2024-10-09T23:06:34.625Z"
   },
   {
    "duration": 3,
    "start_time": "2024-10-09T23:06:34.629Z"
   },
   {
    "duration": 6,
    "start_time": "2024-10-09T23:07:10.427Z"
   },
   {
    "duration": 88,
    "start_time": "2024-10-09T23:07:58.369Z"
   },
   {
    "duration": 390,
    "start_time": "2024-10-09T23:14:59.856Z"
   },
   {
    "duration": 370,
    "start_time": "2024-10-09T23:15:00.248Z"
   },
   {
    "duration": 4,
    "start_time": "2024-10-09T23:15:00.620Z"
   },
   {
    "duration": 8,
    "start_time": "2024-10-09T23:15:00.626Z"
   },
   {
    "duration": 5,
    "start_time": "2024-10-09T23:15:00.636Z"
   },
   {
    "duration": 5,
    "start_time": "2024-10-09T23:15:00.643Z"
   },
   {
    "duration": 5,
    "start_time": "2024-10-09T23:15:00.650Z"
   },
   {
    "duration": 149,
    "start_time": "2024-10-09T23:15:00.657Z"
   },
   {
    "duration": 17,
    "start_time": "2024-10-09T23:15:00.808Z"
   },
   {
    "duration": 79,
    "start_time": "2024-10-09T23:15:00.827Z"
   },
   {
    "duration": 127,
    "start_time": "2024-10-09T23:15:00.908Z"
   },
   {
    "duration": 8,
    "start_time": "2024-10-09T23:15:01.036Z"
   },
   {
    "duration": 75,
    "start_time": "2024-10-09T23:15:01.046Z"
   },
   {
    "duration": 133,
    "start_time": "2024-10-09T23:15:01.123Z"
   },
   {
    "duration": 162,
    "start_time": "2024-10-09T23:15:01.258Z"
   },
   {
    "duration": 166,
    "start_time": "2024-10-09T23:15:01.422Z"
   },
   {
    "duration": 132,
    "start_time": "2024-10-09T23:15:01.590Z"
   },
   {
    "duration": 10,
    "start_time": "2024-10-09T23:15:01.724Z"
   },
   {
    "duration": 111,
    "start_time": "2024-10-09T23:15:01.736Z"
   },
   {
    "duration": 20,
    "start_time": "2024-10-09T23:15:01.849Z"
   },
   {
    "duration": 163,
    "start_time": "2024-10-09T23:15:01.871Z"
   },
   {
    "duration": 141,
    "start_time": "2024-10-09T23:15:02.035Z"
   },
   {
    "duration": 155,
    "start_time": "2024-10-09T23:15:02.177Z"
   },
   {
    "duration": 6,
    "start_time": "2024-10-09T23:15:02.334Z"
   },
   {
    "duration": 84,
    "start_time": "2024-10-09T23:15:02.341Z"
   },
   {
    "duration": 5,
    "start_time": "2024-10-09T23:15:02.427Z"
   },
   {
    "duration": 61,
    "start_time": "2024-10-09T23:15:02.434Z"
   },
   {
    "duration": 4,
    "start_time": "2024-10-09T23:15:02.500Z"
   },
   {
    "duration": 4,
    "start_time": "2024-10-09T23:15:02.506Z"
   },
   {
    "duration": 116,
    "start_time": "2024-10-09T23:15:02.512Z"
   },
   {
    "duration": 3,
    "start_time": "2024-10-09T23:15:02.630Z"
   },
   {
    "duration": 19,
    "start_time": "2024-10-09T23:15:02.635Z"
   },
   {
    "duration": 5,
    "start_time": "2024-10-09T23:15:02.656Z"
   },
   {
    "duration": 60,
    "start_time": "2024-10-09T23:15:02.663Z"
   },
   {
    "duration": 18,
    "start_time": "2024-10-09T23:15:02.725Z"
   },
   {
    "duration": 109,
    "start_time": "2024-10-09T23:15:02.745Z"
   },
   {
    "duration": 11,
    "start_time": "2024-10-09T23:15:02.856Z"
   },
   {
    "duration": 103,
    "start_time": "2024-10-09T23:15:02.869Z"
   },
   {
    "duration": 6,
    "start_time": "2024-10-09T23:15:02.974Z"
   },
   {
    "duration": 135,
    "start_time": "2024-10-09T23:15:02.986Z"
   },
   {
    "duration": 8,
    "start_time": "2024-10-09T23:15:03.122Z"
   },
   {
    "duration": 108,
    "start_time": "2024-10-09T23:15:03.132Z"
   },
   {
    "duration": 91,
    "start_time": "2024-10-09T23:15:03.242Z"
   },
   {
    "duration": 8,
    "start_time": "2024-10-09T23:15:03.335Z"
   },
   {
    "duration": 19,
    "start_time": "2024-10-09T23:15:03.344Z"
   },
   {
    "duration": 42,
    "start_time": "2024-10-09T23:15:03.365Z"
   },
   {
    "duration": 64,
    "start_time": "2024-10-09T23:15:03.409Z"
   },
   {
    "duration": 14,
    "start_time": "2024-10-09T23:15:03.475Z"
   },
   {
    "duration": 7,
    "start_time": "2024-10-09T23:15:03.491Z"
   },
   {
    "duration": 8,
    "start_time": "2024-10-09T23:15:03.500Z"
   },
   {
    "duration": 34,
    "start_time": "2024-10-09T23:15:03.510Z"
   },
   {
    "duration": 40,
    "start_time": "2024-10-09T23:15:03.546Z"
   },
   {
    "duration": 13,
    "start_time": "2024-10-09T23:15:03.588Z"
   },
   {
    "duration": 4,
    "start_time": "2024-10-09T23:15:03.602Z"
   },
   {
    "duration": 3,
    "start_time": "2024-10-09T23:15:03.607Z"
   },
   {
    "duration": 7,
    "start_time": "2024-10-09T23:44:24.591Z"
   },
   {
    "duration": 2236,
    "start_time": "2024-10-10T01:03:42.476Z"
   },
   {
    "duration": 447,
    "start_time": "2024-10-10T01:03:44.715Z"
   },
   {
    "duration": 6,
    "start_time": "2024-10-10T01:03:45.163Z"
   },
   {
    "duration": 9,
    "start_time": "2024-10-10T01:03:45.171Z"
   },
   {
    "duration": 6,
    "start_time": "2024-10-10T01:03:45.182Z"
   },
   {
    "duration": 5,
    "start_time": "2024-10-10T01:03:45.190Z"
   },
   {
    "duration": 5,
    "start_time": "2024-10-10T01:03:45.197Z"
   },
   {
    "duration": 137,
    "start_time": "2024-10-10T01:03:45.204Z"
   },
   {
    "duration": 19,
    "start_time": "2024-10-10T01:03:45.343Z"
   },
   {
    "duration": 81,
    "start_time": "2024-10-10T01:03:45.364Z"
   },
   {
    "duration": 125,
    "start_time": "2024-10-10T01:03:45.447Z"
   },
   {
    "duration": 8,
    "start_time": "2024-10-10T01:03:45.575Z"
   },
   {
    "duration": 79,
    "start_time": "2024-10-10T01:03:45.584Z"
   },
   {
    "duration": 126,
    "start_time": "2024-10-10T01:03:45.667Z"
   },
   {
    "duration": 6,
    "start_time": "2024-10-10T01:03:45.794Z"
   },
   {
    "duration": 160,
    "start_time": "2024-10-10T01:03:45.812Z"
   },
   {
    "duration": 197,
    "start_time": "2024-10-10T01:03:45.974Z"
   },
   {
    "duration": 133,
    "start_time": "2024-10-10T01:03:46.173Z"
   },
   {
    "duration": 6,
    "start_time": "2024-10-10T01:03:46.308Z"
   },
   {
    "duration": 118,
    "start_time": "2024-10-10T01:03:46.315Z"
   },
   {
    "duration": 21,
    "start_time": "2024-10-10T01:03:46.435Z"
   },
   {
    "duration": 173,
    "start_time": "2024-10-10T01:03:46.458Z"
   },
   {
    "duration": 143,
    "start_time": "2024-10-10T01:03:46.633Z"
   },
   {
    "duration": 161,
    "start_time": "2024-10-10T01:03:46.778Z"
   },
   {
    "duration": 6,
    "start_time": "2024-10-10T01:03:46.940Z"
   },
   {
    "duration": 84,
    "start_time": "2024-10-10T01:03:46.948Z"
   },
   {
    "duration": 6,
    "start_time": "2024-10-10T01:03:47.033Z"
   },
   {
    "duration": 52,
    "start_time": "2024-10-10T01:03:47.041Z"
   },
   {
    "duration": 21,
    "start_time": "2024-10-10T01:03:47.094Z"
   },
   {
    "duration": 5,
    "start_time": "2024-10-10T01:03:47.117Z"
   },
   {
    "duration": 116,
    "start_time": "2024-10-10T01:03:47.123Z"
   },
   {
    "duration": 3,
    "start_time": "2024-10-10T01:03:47.241Z"
   },
   {
    "duration": 20,
    "start_time": "2024-10-10T01:03:47.246Z"
   },
   {
    "duration": 4,
    "start_time": "2024-10-10T01:03:47.267Z"
   },
   {
    "duration": 67,
    "start_time": "2024-10-10T01:03:47.272Z"
   },
   {
    "duration": 18,
    "start_time": "2024-10-10T01:03:47.341Z"
   },
   {
    "duration": 111,
    "start_time": "2024-10-10T01:03:47.361Z"
   },
   {
    "duration": 7,
    "start_time": "2024-10-10T01:03:47.474Z"
   },
   {
    "duration": 97,
    "start_time": "2024-10-10T01:03:47.482Z"
   },
   {
    "duration": 7,
    "start_time": "2024-10-10T01:03:47.581Z"
   },
   {
    "duration": 94,
    "start_time": "2024-10-10T01:03:47.593Z"
   },
   {
    "duration": 24,
    "start_time": "2024-10-10T01:03:47.689Z"
   },
   {
    "duration": 79,
    "start_time": "2024-10-10T01:03:47.714Z"
   },
   {
    "duration": 90,
    "start_time": "2024-10-10T01:03:47.795Z"
   },
   {
    "duration": 8,
    "start_time": "2024-10-10T01:03:47.887Z"
   },
   {
    "duration": 29,
    "start_time": "2024-10-10T01:03:47.896Z"
   },
   {
    "duration": 19,
    "start_time": "2024-10-10T01:03:47.927Z"
   },
   {
    "duration": 125,
    "start_time": "2024-10-10T01:03:47.948Z"
   },
   {
    "duration": 4,
    "start_time": "2024-10-10T01:03:48.074Z"
   },
   {
    "duration": 9,
    "start_time": "2024-10-10T01:03:48.080Z"
   },
   {
    "duration": 22,
    "start_time": "2024-10-10T01:03:48.091Z"
   },
   {
    "duration": 35,
    "start_time": "2024-10-10T01:03:48.114Z"
   },
   {
    "duration": 11,
    "start_time": "2024-10-10T01:03:48.151Z"
   },
   {
    "duration": 11,
    "start_time": "2024-10-10T01:03:48.164Z"
   },
   {
    "duration": 2,
    "start_time": "2024-10-10T01:03:48.177Z"
   },
   {
    "duration": 31,
    "start_time": "2024-10-10T01:03:48.181Z"
   },
   {
    "duration": 146,
    "start_time": "2024-10-10T02:29:49.141Z"
   },
   {
    "duration": 148,
    "start_time": "2024-10-10T02:30:22.956Z"
   },
   {
    "duration": 4,
    "start_time": "2024-10-10T02:35:53.471Z"
   },
   {
    "duration": 168,
    "start_time": "2024-10-10T02:37:06.487Z"
   },
   {
    "duration": 189,
    "start_time": "2024-10-10T02:43:11.514Z"
   },
   {
    "duration": 155,
    "start_time": "2024-10-10T02:50:06.514Z"
   },
   {
    "duration": 146,
    "start_time": "2024-10-10T02:50:50.652Z"
   },
   {
    "duration": 148,
    "start_time": "2024-10-10T02:52:50.293Z"
   },
   {
    "duration": 153,
    "start_time": "2024-10-10T02:52:54.349Z"
   },
   {
    "duration": 8,
    "start_time": "2024-10-10T02:52:59.495Z"
   },
   {
    "duration": 96,
    "start_time": "2024-10-10T02:53:04.685Z"
   },
   {
    "duration": 6,
    "start_time": "2024-10-10T02:53:05.648Z"
   },
   {
    "duration": 188,
    "start_time": "2024-10-10T02:53:46.927Z"
   },
   {
    "duration": 35,
    "start_time": "2024-10-10T02:53:58.039Z"
   },
   {
    "duration": 16,
    "start_time": "2024-10-10T02:54:09.657Z"
   },
   {
    "duration": 30,
    "start_time": "2024-10-10T02:54:14.548Z"
   },
   {
    "duration": 6,
    "start_time": "2024-10-10T03:18:55.055Z"
   },
   {
    "duration": 158,
    "start_time": "2024-10-10T16:09:08.153Z"
   },
   {
    "duration": 2184,
    "start_time": "2024-10-10T16:09:19.162Z"
   },
   {
    "duration": 496,
    "start_time": "2024-10-10T16:09:21.349Z"
   },
   {
    "duration": 5,
    "start_time": "2024-10-10T16:09:21.847Z"
   },
   {
    "duration": 10,
    "start_time": "2024-10-10T16:09:21.853Z"
   },
   {
    "duration": 6,
    "start_time": "2024-10-10T16:09:21.866Z"
   },
   {
    "duration": 6,
    "start_time": "2024-10-10T16:09:21.874Z"
   },
   {
    "duration": 7,
    "start_time": "2024-10-10T16:09:21.882Z"
   },
   {
    "duration": 130,
    "start_time": "2024-10-10T16:09:21.890Z"
   },
   {
    "duration": 18,
    "start_time": "2024-10-10T16:09:22.022Z"
   },
   {
    "duration": 85,
    "start_time": "2024-10-10T16:09:22.041Z"
   },
   {
    "duration": 134,
    "start_time": "2024-10-10T16:09:22.128Z"
   },
   {
    "duration": 9,
    "start_time": "2024-10-10T16:09:22.264Z"
   },
   {
    "duration": 81,
    "start_time": "2024-10-10T16:09:22.275Z"
   },
   {
    "duration": 147,
    "start_time": "2024-10-10T16:09:22.361Z"
   },
   {
    "duration": 9,
    "start_time": "2024-10-10T16:09:22.510Z"
   },
   {
    "duration": 186,
    "start_time": "2024-10-10T16:09:22.521Z"
   },
   {
    "duration": 177,
    "start_time": "2024-10-10T16:09:22.708Z"
   },
   {
    "duration": 178,
    "start_time": "2024-10-10T16:09:22.887Z"
   },
   {
    "duration": 6,
    "start_time": "2024-10-10T16:09:23.067Z"
   },
   {
    "duration": 113,
    "start_time": "2024-10-10T16:09:23.075Z"
   },
   {
    "duration": 31,
    "start_time": "2024-10-10T16:09:23.190Z"
   },
   {
    "duration": 176,
    "start_time": "2024-10-10T16:09:23.223Z"
   },
   {
    "duration": 141,
    "start_time": "2024-10-10T16:09:23.401Z"
   },
   {
    "duration": 162,
    "start_time": "2024-10-10T16:09:23.544Z"
   },
   {
    "duration": 6,
    "start_time": "2024-10-10T16:09:23.707Z"
   },
   {
    "duration": 68,
    "start_time": "2024-10-10T16:09:23.715Z"
   },
   {
    "duration": 23,
    "start_time": "2024-10-10T16:09:23.785Z"
   },
   {
    "duration": 57,
    "start_time": "2024-10-10T16:09:23.809Z"
   },
   {
    "duration": 4,
    "start_time": "2024-10-10T16:09:23.868Z"
   },
   {
    "duration": 5,
    "start_time": "2024-10-10T16:09:23.874Z"
   },
   {
    "duration": 107,
    "start_time": "2024-10-10T16:09:23.906Z"
   },
   {
    "duration": 4,
    "start_time": "2024-10-10T16:09:24.015Z"
   },
   {
    "duration": 20,
    "start_time": "2024-10-10T16:09:24.021Z"
   },
   {
    "duration": 4,
    "start_time": "2024-10-10T16:09:24.042Z"
   },
   {
    "duration": 65,
    "start_time": "2024-10-10T16:09:24.048Z"
   },
   {
    "duration": 497,
    "start_time": "2024-10-10T16:09:24.115Z"
   },
   {
    "duration": 0,
    "start_time": "2024-10-10T16:09:24.615Z"
   },
   {
    "duration": 0,
    "start_time": "2024-10-10T16:09:24.617Z"
   },
   {
    "duration": 0,
    "start_time": "2024-10-10T16:09:24.621Z"
   },
   {
    "duration": 0,
    "start_time": "2024-10-10T16:09:24.622Z"
   },
   {
    "duration": 0,
    "start_time": "2024-10-10T16:09:24.623Z"
   },
   {
    "duration": 0,
    "start_time": "2024-10-10T16:09:24.624Z"
   },
   {
    "duration": 0,
    "start_time": "2024-10-10T16:09:24.625Z"
   },
   {
    "duration": 0,
    "start_time": "2024-10-10T16:09:24.627Z"
   },
   {
    "duration": 0,
    "start_time": "2024-10-10T16:09:24.628Z"
   },
   {
    "duration": 0,
    "start_time": "2024-10-10T16:09:24.629Z"
   },
   {
    "duration": 0,
    "start_time": "2024-10-10T16:09:24.630Z"
   },
   {
    "duration": 0,
    "start_time": "2024-10-10T16:09:24.631Z"
   },
   {
    "duration": 0,
    "start_time": "2024-10-10T16:09:24.632Z"
   },
   {
    "duration": 0,
    "start_time": "2024-10-10T16:09:24.633Z"
   },
   {
    "duration": 0,
    "start_time": "2024-10-10T16:09:24.634Z"
   },
   {
    "duration": 0,
    "start_time": "2024-10-10T16:09:24.636Z"
   },
   {
    "duration": 0,
    "start_time": "2024-10-10T16:09:24.637Z"
   },
   {
    "duration": 0,
    "start_time": "2024-10-10T16:09:24.638Z"
   },
   {
    "duration": 0,
    "start_time": "2024-10-10T16:09:24.639Z"
   },
   {
    "duration": 0,
    "start_time": "2024-10-10T16:09:24.640Z"
   },
   {
    "duration": 38,
    "start_time": "2024-10-10T16:10:27.861Z"
   },
   {
    "duration": 19,
    "start_time": "2024-10-10T16:10:33.668Z"
   },
   {
    "duration": 99,
    "start_time": "2024-10-10T16:10:45.819Z"
   },
   {
    "duration": 8,
    "start_time": "2024-10-10T16:18:06.117Z"
   },
   {
    "duration": 103,
    "start_time": "2024-10-10T16:37:48.279Z"
   },
   {
    "duration": 461,
    "start_time": "2024-10-10T16:44:12.461Z"
   },
   {
    "duration": 439,
    "start_time": "2024-10-10T16:44:12.925Z"
   },
   {
    "duration": 5,
    "start_time": "2024-10-10T16:44:13.366Z"
   },
   {
    "duration": 8,
    "start_time": "2024-10-10T16:44:13.373Z"
   },
   {
    "duration": 6,
    "start_time": "2024-10-10T16:44:13.384Z"
   },
   {
    "duration": 16,
    "start_time": "2024-10-10T16:44:13.392Z"
   },
   {
    "duration": 5,
    "start_time": "2024-10-10T16:44:13.410Z"
   },
   {
    "duration": 134,
    "start_time": "2024-10-10T16:44:13.416Z"
   },
   {
    "duration": 18,
    "start_time": "2024-10-10T16:44:13.552Z"
   },
   {
    "duration": 84,
    "start_time": "2024-10-10T16:44:13.572Z"
   },
   {
    "duration": 127,
    "start_time": "2024-10-10T16:44:13.659Z"
   },
   {
    "duration": 10,
    "start_time": "2024-10-10T16:44:13.787Z"
   },
   {
    "duration": 68,
    "start_time": "2024-10-10T16:44:13.804Z"
   },
   {
    "duration": 138,
    "start_time": "2024-10-10T16:44:13.877Z"
   },
   {
    "duration": 7,
    "start_time": "2024-10-10T16:44:14.017Z"
   },
   {
    "duration": 184,
    "start_time": "2024-10-10T16:44:14.026Z"
   },
   {
    "duration": 164,
    "start_time": "2024-10-10T16:44:14.212Z"
   },
   {
    "duration": 131,
    "start_time": "2024-10-10T16:44:14.378Z"
   },
   {
    "duration": 8,
    "start_time": "2024-10-10T16:44:14.511Z"
   },
   {
    "duration": 109,
    "start_time": "2024-10-10T16:44:14.521Z"
   },
   {
    "duration": 22,
    "start_time": "2024-10-10T16:44:14.632Z"
   },
   {
    "duration": 181,
    "start_time": "2024-10-10T16:44:14.656Z"
   },
   {
    "duration": 148,
    "start_time": "2024-10-10T16:44:14.839Z"
   },
   {
    "duration": 158,
    "start_time": "2024-10-10T16:44:14.989Z"
   },
   {
    "duration": 7,
    "start_time": "2024-10-10T16:44:15.149Z"
   },
   {
    "duration": 84,
    "start_time": "2024-10-10T16:44:15.157Z"
   },
   {
    "duration": 6,
    "start_time": "2024-10-10T16:44:15.243Z"
   },
   {
    "duration": 74,
    "start_time": "2024-10-10T16:44:15.251Z"
   },
   {
    "duration": 4,
    "start_time": "2024-10-10T16:44:15.327Z"
   },
   {
    "duration": 5,
    "start_time": "2024-10-10T16:44:15.333Z"
   },
   {
    "duration": 123,
    "start_time": "2024-10-10T16:44:15.340Z"
   },
   {
    "duration": 5,
    "start_time": "2024-10-10T16:44:15.464Z"
   },
   {
    "duration": 36,
    "start_time": "2024-10-10T16:44:15.470Z"
   },
   {
    "duration": 4,
    "start_time": "2024-10-10T16:44:15.508Z"
   },
   {
    "duration": 43,
    "start_time": "2024-10-10T16:44:15.513Z"
   },
   {
    "duration": 7,
    "start_time": "2024-10-10T16:44:15.558Z"
   },
   {
    "duration": 45,
    "start_time": "2024-10-10T16:44:15.567Z"
   },
   {
    "duration": 116,
    "start_time": "2024-10-10T16:44:15.614Z"
   },
   {
    "duration": 8,
    "start_time": "2024-10-10T16:44:15.732Z"
   },
   {
    "duration": 105,
    "start_time": "2024-10-10T16:44:15.741Z"
   },
   {
    "duration": 7,
    "start_time": "2024-10-10T16:44:15.851Z"
   },
   {
    "duration": 155,
    "start_time": "2024-10-10T16:44:15.860Z"
   },
   {
    "duration": 7,
    "start_time": "2024-10-10T16:44:16.017Z"
   },
   {
    "duration": 99,
    "start_time": "2024-10-10T16:44:16.026Z"
   },
   {
    "duration": 89,
    "start_time": "2024-10-10T16:44:16.127Z"
   },
   {
    "duration": 8,
    "start_time": "2024-10-10T16:44:16.218Z"
   },
   {
    "duration": 20,
    "start_time": "2024-10-10T16:44:16.229Z"
   },
   {
    "duration": 22,
    "start_time": "2024-10-10T16:44:16.251Z"
   },
   {
    "duration": 93,
    "start_time": "2024-10-10T16:44:16.274Z"
   },
   {
    "duration": 4,
    "start_time": "2024-10-10T16:44:16.369Z"
   },
   {
    "duration": 8,
    "start_time": "2024-10-10T16:44:16.374Z"
   },
   {
    "duration": 29,
    "start_time": "2024-10-10T16:44:16.384Z"
   },
   {
    "duration": 37,
    "start_time": "2024-10-10T16:44:16.414Z"
   },
   {
    "duration": 12,
    "start_time": "2024-10-10T16:44:16.454Z"
   },
   {
    "duration": 10,
    "start_time": "2024-10-10T16:44:16.468Z"
   },
   {
    "duration": 25,
    "start_time": "2024-10-10T16:44:16.480Z"
   },
   {
    "duration": 3,
    "start_time": "2024-10-10T16:44:16.508Z"
   },
   {
    "duration": 7,
    "start_time": "2024-10-10T16:52:56.156Z"
   },
   {
    "duration": 86,
    "start_time": "2024-10-10T16:52:58.602Z"
   },
   {
    "duration": 458,
    "start_time": "2024-10-10T17:49:37.447Z"
   },
   {
    "duration": 399,
    "start_time": "2024-10-10T17:49:37.907Z"
   },
   {
    "duration": 4,
    "start_time": "2024-10-10T17:49:38.308Z"
   },
   {
    "duration": 9,
    "start_time": "2024-10-10T17:49:38.315Z"
   },
   {
    "duration": 6,
    "start_time": "2024-10-10T17:49:38.325Z"
   },
   {
    "duration": 6,
    "start_time": "2024-10-10T17:49:38.334Z"
   },
   {
    "duration": 6,
    "start_time": "2024-10-10T17:49:38.341Z"
   },
   {
    "duration": 150,
    "start_time": "2024-10-10T17:49:38.349Z"
   },
   {
    "duration": 21,
    "start_time": "2024-10-10T17:49:38.501Z"
   },
   {
    "duration": 110,
    "start_time": "2024-10-10T17:49:38.526Z"
   },
   {
    "duration": 129,
    "start_time": "2024-10-10T17:49:38.638Z"
   },
   {
    "duration": 8,
    "start_time": "2024-10-10T17:49:38.769Z"
   },
   {
    "duration": 84,
    "start_time": "2024-10-10T17:49:38.779Z"
   },
   {
    "duration": 140,
    "start_time": "2024-10-10T17:49:38.865Z"
   },
   {
    "duration": 7,
    "start_time": "2024-10-10T17:49:39.008Z"
   },
   {
    "duration": 178,
    "start_time": "2024-10-10T17:49:39.017Z"
   },
   {
    "duration": 162,
    "start_time": "2024-10-10T17:49:39.197Z"
   },
   {
    "duration": 126,
    "start_time": "2024-10-10T17:49:39.360Z"
   },
   {
    "duration": 7,
    "start_time": "2024-10-10T17:49:39.487Z"
   },
   {
    "duration": 112,
    "start_time": "2024-10-10T17:49:39.495Z"
   },
   {
    "duration": 21,
    "start_time": "2024-10-10T17:49:39.609Z"
   },
   {
    "duration": 177,
    "start_time": "2024-10-10T17:49:39.632Z"
   },
   {
    "duration": 149,
    "start_time": "2024-10-10T17:49:39.811Z"
   },
   {
    "duration": 162,
    "start_time": "2024-10-10T17:49:39.962Z"
   },
   {
    "duration": 7,
    "start_time": "2024-10-10T17:49:40.126Z"
   },
   {
    "duration": 89,
    "start_time": "2024-10-10T17:49:40.135Z"
   },
   {
    "duration": 5,
    "start_time": "2024-10-10T17:49:40.226Z"
   },
   {
    "duration": 53,
    "start_time": "2024-10-10T17:49:40.236Z"
   },
   {
    "duration": 17,
    "start_time": "2024-10-10T17:49:40.291Z"
   },
   {
    "duration": 6,
    "start_time": "2024-10-10T17:49:40.310Z"
   },
   {
    "duration": 126,
    "start_time": "2024-10-10T17:49:40.317Z"
   },
   {
    "duration": 5,
    "start_time": "2024-10-10T17:49:40.445Z"
   },
   {
    "duration": 21,
    "start_time": "2024-10-10T17:49:40.451Z"
   },
   {
    "duration": 4,
    "start_time": "2024-10-10T17:49:40.473Z"
   },
   {
    "duration": 62,
    "start_time": "2024-10-10T17:49:40.479Z"
   },
   {
    "duration": 8,
    "start_time": "2024-10-10T17:49:40.542Z"
   },
   {
    "duration": 19,
    "start_time": "2024-10-10T17:49:40.552Z"
   },
   {
    "duration": 127,
    "start_time": "2024-10-10T17:49:40.573Z"
   },
   {
    "duration": 9,
    "start_time": "2024-10-10T17:49:40.701Z"
   },
   {
    "duration": 104,
    "start_time": "2024-10-10T17:49:40.712Z"
   },
   {
    "duration": 9,
    "start_time": "2024-10-10T17:49:40.818Z"
   },
   {
    "duration": 158,
    "start_time": "2024-10-10T17:49:40.828Z"
   },
   {
    "duration": 17,
    "start_time": "2024-10-10T17:49:40.988Z"
   },
   {
    "duration": 85,
    "start_time": "2024-10-10T17:49:41.007Z"
   },
   {
    "duration": 84,
    "start_time": "2024-10-10T17:49:41.106Z"
   },
   {
    "duration": 19,
    "start_time": "2024-10-10T17:49:41.192Z"
   },
   {
    "duration": 22,
    "start_time": "2024-10-10T17:49:41.213Z"
   },
   {
    "duration": 5,
    "start_time": "2024-10-10T17:49:41.236Z"
   },
   {
    "duration": 0,
    "start_time": "2024-10-10T17:49:41.243Z"
   },
   {
    "duration": 0,
    "start_time": "2024-10-10T17:49:41.244Z"
   },
   {
    "duration": 0,
    "start_time": "2024-10-10T17:49:41.245Z"
   },
   {
    "duration": 0,
    "start_time": "2024-10-10T17:49:41.246Z"
   },
   {
    "duration": 0,
    "start_time": "2024-10-10T17:49:41.248Z"
   },
   {
    "duration": 0,
    "start_time": "2024-10-10T17:49:41.249Z"
   },
   {
    "duration": 0,
    "start_time": "2024-10-10T17:49:41.251Z"
   },
   {
    "duration": 0,
    "start_time": "2024-10-10T17:49:41.252Z"
   },
   {
    "duration": 0,
    "start_time": "2024-10-10T17:49:41.254Z"
   },
   {
    "duration": 424,
    "start_time": "2024-10-10T17:49:54.070Z"
   },
   {
    "duration": 402,
    "start_time": "2024-10-10T17:49:54.497Z"
   },
   {
    "duration": 5,
    "start_time": "2024-10-10T17:49:54.901Z"
   },
   {
    "duration": 9,
    "start_time": "2024-10-10T17:49:54.907Z"
   },
   {
    "duration": 6,
    "start_time": "2024-10-10T17:49:54.919Z"
   },
   {
    "duration": 7,
    "start_time": "2024-10-10T17:49:54.927Z"
   },
   {
    "duration": 5,
    "start_time": "2024-10-10T17:49:54.936Z"
   },
   {
    "duration": 149,
    "start_time": "2024-10-10T17:49:54.943Z"
   },
   {
    "duration": 27,
    "start_time": "2024-10-10T17:49:55.093Z"
   },
   {
    "duration": 71,
    "start_time": "2024-10-10T17:49:55.122Z"
   },
   {
    "duration": 127,
    "start_time": "2024-10-10T17:49:55.204Z"
   },
   {
    "duration": 9,
    "start_time": "2024-10-10T17:49:55.333Z"
   },
   {
    "duration": 76,
    "start_time": "2024-10-10T17:49:55.344Z"
   },
   {
    "duration": 136,
    "start_time": "2024-10-10T17:49:55.425Z"
   },
   {
    "duration": 7,
    "start_time": "2024-10-10T17:49:55.563Z"
   },
   {
    "duration": 173,
    "start_time": "2024-10-10T17:49:55.571Z"
   },
   {
    "duration": 167,
    "start_time": "2024-10-10T17:49:55.746Z"
   },
   {
    "duration": 136,
    "start_time": "2024-10-10T17:49:55.915Z"
   },
   {
    "duration": 6,
    "start_time": "2024-10-10T17:49:56.054Z"
   },
   {
    "duration": 105,
    "start_time": "2024-10-10T17:49:56.062Z"
   },
   {
    "duration": 35,
    "start_time": "2024-10-10T17:49:56.170Z"
   },
   {
    "duration": 169,
    "start_time": "2024-10-10T17:49:56.207Z"
   },
   {
    "duration": 144,
    "start_time": "2024-10-10T17:49:56.377Z"
   },
   {
    "duration": 161,
    "start_time": "2024-10-10T17:49:56.523Z"
   },
   {
    "duration": 6,
    "start_time": "2024-10-10T17:49:56.685Z"
   },
   {
    "duration": 81,
    "start_time": "2024-10-10T17:49:56.693Z"
   },
   {
    "duration": 6,
    "start_time": "2024-10-10T17:49:56.776Z"
   },
   {
    "duration": 72,
    "start_time": "2024-10-10T17:49:56.786Z"
   },
   {
    "duration": 4,
    "start_time": "2024-10-10T17:49:56.859Z"
   },
   {
    "duration": 5,
    "start_time": "2024-10-10T17:49:56.865Z"
   },
   {
    "duration": 138,
    "start_time": "2024-10-10T17:49:56.872Z"
   },
   {
    "duration": 4,
    "start_time": "2024-10-10T17:49:57.013Z"
   },
   {
    "duration": 21,
    "start_time": "2024-10-10T17:49:57.019Z"
   },
   {
    "duration": 4,
    "start_time": "2024-10-10T17:49:57.042Z"
   },
   {
    "duration": 64,
    "start_time": "2024-10-10T17:49:57.048Z"
   },
   {
    "duration": 8,
    "start_time": "2024-10-10T17:49:57.113Z"
   },
   {
    "duration": 20,
    "start_time": "2024-10-10T17:49:57.123Z"
   },
   {
    "duration": 130,
    "start_time": "2024-10-10T17:49:57.145Z"
   },
   {
    "duration": 8,
    "start_time": "2024-10-10T17:49:57.277Z"
   },
   {
    "duration": 104,
    "start_time": "2024-10-10T17:49:57.287Z"
   },
   {
    "duration": 8,
    "start_time": "2024-10-10T17:49:57.408Z"
   },
   {
    "duration": 161,
    "start_time": "2024-10-10T17:49:57.418Z"
   },
   {
    "duration": 8,
    "start_time": "2024-10-10T17:49:57.581Z"
   },
   {
    "duration": 98,
    "start_time": "2024-10-10T17:49:57.590Z"
   },
   {
    "duration": 90,
    "start_time": "2024-10-10T17:49:57.689Z"
   },
   {
    "duration": 25,
    "start_time": "2024-10-10T17:49:57.781Z"
   },
   {
    "duration": 22,
    "start_time": "2024-10-10T17:49:57.808Z"
   },
   {
    "duration": 77,
    "start_time": "2024-10-10T17:49:57.831Z"
   },
   {
    "duration": 4,
    "start_time": "2024-10-10T17:49:57.910Z"
   },
   {
    "duration": 12,
    "start_time": "2024-10-10T17:49:57.916Z"
   },
   {
    "duration": 10,
    "start_time": "2024-10-10T17:49:57.929Z"
   },
   {
    "duration": 36,
    "start_time": "2024-10-10T17:49:57.941Z"
   },
   {
    "duration": 39,
    "start_time": "2024-10-10T17:49:57.979Z"
   },
   {
    "duration": 13,
    "start_time": "2024-10-10T17:49:58.020Z"
   },
   {
    "duration": 4,
    "start_time": "2024-10-10T17:49:58.036Z"
   },
   {
    "duration": 4,
    "start_time": "2024-10-10T17:49:58.042Z"
   },
   {
    "duration": 2250,
    "start_time": "2024-10-10T18:32:45.410Z"
   },
   {
    "duration": 527,
    "start_time": "2024-10-10T18:32:47.663Z"
   },
   {
    "duration": 5,
    "start_time": "2024-10-10T18:32:48.192Z"
   },
   {
    "duration": 9,
    "start_time": "2024-10-10T18:32:48.198Z"
   },
   {
    "duration": 7,
    "start_time": "2024-10-10T18:32:48.209Z"
   },
   {
    "duration": 6,
    "start_time": "2024-10-10T18:32:48.218Z"
   },
   {
    "duration": 7,
    "start_time": "2024-10-10T18:32:48.225Z"
   },
   {
    "duration": 136,
    "start_time": "2024-10-10T18:32:48.233Z"
   },
   {
    "duration": 19,
    "start_time": "2024-10-10T18:32:48.371Z"
   },
   {
    "duration": 87,
    "start_time": "2024-10-10T18:32:48.392Z"
   },
   {
    "duration": 133,
    "start_time": "2024-10-10T18:32:48.481Z"
   },
   {
    "duration": 8,
    "start_time": "2024-10-10T18:32:48.616Z"
   },
   {
    "duration": 68,
    "start_time": "2024-10-10T18:32:48.631Z"
   },
   {
    "duration": 139,
    "start_time": "2024-10-10T18:32:48.704Z"
   },
   {
    "duration": 7,
    "start_time": "2024-10-10T18:32:48.846Z"
   },
   {
    "duration": 179,
    "start_time": "2024-10-10T18:32:48.854Z"
   },
   {
    "duration": 162,
    "start_time": "2024-10-10T18:32:49.035Z"
   },
   {
    "duration": 132,
    "start_time": "2024-10-10T18:32:49.199Z"
   },
   {
    "duration": 7,
    "start_time": "2024-10-10T18:32:49.333Z"
   },
   {
    "duration": 114,
    "start_time": "2024-10-10T18:32:49.341Z"
   },
   {
    "duration": 24,
    "start_time": "2024-10-10T18:32:49.457Z"
   },
   {
    "duration": 255,
    "start_time": "2024-10-10T18:32:49.483Z"
   },
   {
    "duration": 158,
    "start_time": "2024-10-10T18:32:49.740Z"
   },
   {
    "duration": 175,
    "start_time": "2024-10-10T18:32:49.900Z"
   },
   {
    "duration": 6,
    "start_time": "2024-10-10T18:32:50.078Z"
   },
   {
    "duration": 84,
    "start_time": "2024-10-10T18:32:50.086Z"
   },
   {
    "duration": 7,
    "start_time": "2024-10-10T18:32:50.172Z"
   },
   {
    "duration": 67,
    "start_time": "2024-10-10T18:32:50.180Z"
   },
   {
    "duration": 5,
    "start_time": "2024-10-10T18:32:50.249Z"
   },
   {
    "duration": 4,
    "start_time": "2024-10-10T18:32:50.256Z"
   },
   {
    "duration": 120,
    "start_time": "2024-10-10T18:32:50.261Z"
   },
   {
    "duration": 5,
    "start_time": "2024-10-10T18:32:50.383Z"
   },
   {
    "duration": 23,
    "start_time": "2024-10-10T18:32:50.390Z"
   },
   {
    "duration": 18,
    "start_time": "2024-10-10T18:32:50.415Z"
   },
   {
    "duration": 42,
    "start_time": "2024-10-10T18:32:50.435Z"
   },
   {
    "duration": 8,
    "start_time": "2024-10-10T18:32:50.478Z"
   },
   {
    "duration": 44,
    "start_time": "2024-10-10T18:32:50.487Z"
   },
   {
    "duration": 113,
    "start_time": "2024-10-10T18:32:50.533Z"
   },
   {
    "duration": 9,
    "start_time": "2024-10-10T18:32:50.648Z"
   },
   {
    "duration": 112,
    "start_time": "2024-10-10T18:32:50.659Z"
   },
   {
    "duration": 8,
    "start_time": "2024-10-10T18:32:50.776Z"
   },
   {
    "duration": 101,
    "start_time": "2024-10-10T18:32:50.785Z"
   },
   {
    "duration": 7,
    "start_time": "2024-10-10T18:32:50.888Z"
   },
   {
    "duration": 94,
    "start_time": "2024-10-10T18:32:50.897Z"
   },
   {
    "duration": 93,
    "start_time": "2024-10-10T18:32:50.993Z"
   },
   {
    "duration": 8,
    "start_time": "2024-10-10T18:32:51.088Z"
   },
   {
    "duration": 35,
    "start_time": "2024-10-10T18:32:51.097Z"
   },
   {
    "duration": 21,
    "start_time": "2024-10-10T18:32:51.134Z"
   },
   {
    "duration": 78,
    "start_time": "2024-10-10T18:32:51.157Z"
   },
   {
    "duration": 5,
    "start_time": "2024-10-10T18:32:51.237Z"
   },
   {
    "duration": 9,
    "start_time": "2024-10-10T18:32:51.243Z"
   },
   {
    "duration": 9,
    "start_time": "2024-10-10T18:32:51.254Z"
   },
   {
    "duration": 38,
    "start_time": "2024-10-10T18:32:51.265Z"
   },
   {
    "duration": 38,
    "start_time": "2024-10-10T18:32:51.304Z"
   },
   {
    "duration": 13,
    "start_time": "2024-10-10T18:32:51.344Z"
   },
   {
    "duration": 2,
    "start_time": "2024-10-10T18:32:51.359Z"
   },
   {
    "duration": 3,
    "start_time": "2024-10-10T18:32:51.363Z"
   },
   {
    "duration": 461,
    "start_time": "2024-10-10T18:33:59.233Z"
   },
   {
    "duration": 431,
    "start_time": "2024-10-10T18:33:59.697Z"
   },
   {
    "duration": 4,
    "start_time": "2024-10-10T18:34:00.130Z"
   },
   {
    "duration": 11,
    "start_time": "2024-10-10T18:34:00.138Z"
   },
   {
    "duration": 6,
    "start_time": "2024-10-10T18:34:00.150Z"
   },
   {
    "duration": 6,
    "start_time": "2024-10-10T18:34:00.158Z"
   },
   {
    "duration": 6,
    "start_time": "2024-10-10T18:34:00.165Z"
   },
   {
    "duration": 144,
    "start_time": "2024-10-10T18:34:00.173Z"
   },
   {
    "duration": 26,
    "start_time": "2024-10-10T18:34:00.319Z"
   },
   {
    "duration": 87,
    "start_time": "2024-10-10T18:34:00.349Z"
   },
   {
    "duration": 132,
    "start_time": "2024-10-10T18:34:00.438Z"
   },
   {
    "duration": 9,
    "start_time": "2024-10-10T18:34:00.572Z"
   },
   {
    "duration": 78,
    "start_time": "2024-10-10T18:34:00.583Z"
   },
   {
    "duration": 139,
    "start_time": "2024-10-10T18:34:00.663Z"
   },
   {
    "duration": 7,
    "start_time": "2024-10-10T18:34:00.804Z"
   },
   {
    "duration": 181,
    "start_time": "2024-10-10T18:34:00.813Z"
   },
   {
    "duration": 165,
    "start_time": "2024-10-10T18:34:00.996Z"
   },
   {
    "duration": 129,
    "start_time": "2024-10-10T18:34:01.162Z"
   },
   {
    "duration": 6,
    "start_time": "2024-10-10T18:34:01.293Z"
   },
   {
    "duration": 102,
    "start_time": "2024-10-10T18:34:01.301Z"
   },
   {
    "duration": 30,
    "start_time": "2024-10-10T18:34:01.404Z"
   },
   {
    "duration": 197,
    "start_time": "2024-10-10T18:34:01.436Z"
   },
   {
    "duration": 145,
    "start_time": "2024-10-10T18:34:01.635Z"
   },
   {
    "duration": 168,
    "start_time": "2024-10-10T18:34:01.782Z"
   },
   {
    "duration": 8,
    "start_time": "2024-10-10T18:34:01.953Z"
   },
   {
    "duration": 89,
    "start_time": "2024-10-10T18:34:01.963Z"
   },
   {
    "duration": 7,
    "start_time": "2024-10-10T18:34:02.054Z"
   },
   {
    "duration": 67,
    "start_time": "2024-10-10T18:34:02.065Z"
   },
   {
    "duration": 5,
    "start_time": "2024-10-10T18:34:02.134Z"
   },
   {
    "duration": 5,
    "start_time": "2024-10-10T18:34:02.141Z"
   },
   {
    "duration": 120,
    "start_time": "2024-10-10T18:34:02.147Z"
   },
   {
    "duration": 4,
    "start_time": "2024-10-10T18:34:02.269Z"
   },
   {
    "duration": 21,
    "start_time": "2024-10-10T18:34:02.274Z"
   },
   {
    "duration": 4,
    "start_time": "2024-10-10T18:34:02.297Z"
   },
   {
    "duration": 65,
    "start_time": "2024-10-10T18:34:02.303Z"
   },
   {
    "duration": 8,
    "start_time": "2024-10-10T18:34:02.370Z"
   },
   {
    "duration": 19,
    "start_time": "2024-10-10T18:34:02.380Z"
   },
   {
    "duration": 130,
    "start_time": "2024-10-10T18:34:02.401Z"
   },
   {
    "duration": 8,
    "start_time": "2024-10-10T18:34:02.533Z"
   },
   {
    "duration": 105,
    "start_time": "2024-10-10T18:34:02.543Z"
   },
   {
    "duration": 8,
    "start_time": "2024-10-10T18:34:02.651Z"
   },
   {
    "duration": 163,
    "start_time": "2024-10-10T18:34:02.662Z"
   },
   {
    "duration": 9,
    "start_time": "2024-10-10T18:34:02.831Z"
   },
   {
    "duration": 100,
    "start_time": "2024-10-10T18:34:02.842Z"
   },
   {
    "duration": 89,
    "start_time": "2024-10-10T18:34:02.944Z"
   },
   {
    "duration": 10,
    "start_time": "2024-10-10T18:34:03.035Z"
   },
   {
    "duration": 20,
    "start_time": "2024-10-10T18:34:03.048Z"
   },
   {
    "duration": 83,
    "start_time": "2024-10-10T18:34:03.070Z"
   },
   {
    "duration": 4,
    "start_time": "2024-10-10T18:34:03.155Z"
   },
   {
    "duration": 7,
    "start_time": "2024-10-10T18:34:03.161Z"
   },
   {
    "duration": 10,
    "start_time": "2024-10-10T18:34:03.170Z"
   },
   {
    "duration": 60,
    "start_time": "2024-10-10T18:34:03.182Z"
   },
   {
    "duration": 11,
    "start_time": "2024-10-10T18:34:03.244Z"
   },
   {
    "duration": 11,
    "start_time": "2024-10-10T18:34:03.257Z"
   },
   {
    "duration": 2,
    "start_time": "2024-10-10T18:34:03.270Z"
   },
   {
    "duration": 4,
    "start_time": "2024-10-10T18:34:03.274Z"
   },
   {
    "duration": 9,
    "start_time": "2024-10-10T19:00:03.138Z"
   },
   {
    "duration": 111,
    "start_time": "2024-10-10T19:03:41.428Z"
   },
   {
    "duration": 291,
    "start_time": "2024-10-10T19:04:17.198Z"
   },
   {
    "duration": 13,
    "start_time": "2024-10-10T19:05:22.315Z"
   },
   {
    "duration": 430,
    "start_time": "2024-10-10T19:05:29.807Z"
   },
   {
    "duration": 417,
    "start_time": "2024-10-10T19:05:30.239Z"
   },
   {
    "duration": 4,
    "start_time": "2024-10-10T19:05:30.658Z"
   },
   {
    "duration": 8,
    "start_time": "2024-10-10T19:05:30.665Z"
   },
   {
    "duration": 6,
    "start_time": "2024-10-10T19:05:30.674Z"
   },
   {
    "duration": 5,
    "start_time": "2024-10-10T19:05:30.682Z"
   },
   {
    "duration": 5,
    "start_time": "2024-10-10T19:05:30.688Z"
   },
   {
    "duration": 149,
    "start_time": "2024-10-10T19:05:30.695Z"
   },
   {
    "duration": 18,
    "start_time": "2024-10-10T19:05:30.846Z"
   },
   {
    "duration": 85,
    "start_time": "2024-10-10T19:05:30.867Z"
   },
   {
    "duration": 128,
    "start_time": "2024-10-10T19:05:30.954Z"
   },
   {
    "duration": 8,
    "start_time": "2024-10-10T19:05:31.084Z"
   },
   {
    "duration": 79,
    "start_time": "2024-10-10T19:05:31.094Z"
   },
   {
    "duration": 133,
    "start_time": "2024-10-10T19:05:31.175Z"
   },
   {
    "duration": 21,
    "start_time": "2024-10-10T19:05:31.310Z"
   },
   {
    "duration": 170,
    "start_time": "2024-10-10T19:05:31.334Z"
   },
   {
    "duration": 166,
    "start_time": "2024-10-10T19:05:31.507Z"
   },
   {
    "duration": 140,
    "start_time": "2024-10-10T19:05:31.675Z"
   },
   {
    "duration": 14,
    "start_time": "2024-10-10T19:05:31.818Z"
   },
   {
    "duration": 105,
    "start_time": "2024-10-10T19:05:31.835Z"
   },
   {
    "duration": 26,
    "start_time": "2024-10-10T19:05:31.942Z"
   },
   {
    "duration": 182,
    "start_time": "2024-10-10T19:05:31.970Z"
   },
   {
    "duration": 153,
    "start_time": "2024-10-10T19:05:32.155Z"
   },
   {
    "duration": 169,
    "start_time": "2024-10-10T19:05:32.310Z"
   },
   {
    "duration": 8,
    "start_time": "2024-10-10T19:05:32.481Z"
   },
   {
    "duration": 88,
    "start_time": "2024-10-10T19:05:32.490Z"
   },
   {
    "duration": 6,
    "start_time": "2024-10-10T19:05:32.580Z"
   },
   {
    "duration": 74,
    "start_time": "2024-10-10T19:05:32.591Z"
   },
   {
    "duration": 4,
    "start_time": "2024-10-10T19:05:32.667Z"
   },
   {
    "duration": 5,
    "start_time": "2024-10-10T19:05:32.673Z"
   },
   {
    "duration": 127,
    "start_time": "2024-10-10T19:05:32.681Z"
   },
   {
    "duration": 5,
    "start_time": "2024-10-10T19:05:32.809Z"
   },
   {
    "duration": 34,
    "start_time": "2024-10-10T19:05:32.815Z"
   },
   {
    "duration": 5,
    "start_time": "2024-10-10T19:05:32.851Z"
   },
   {
    "duration": 43,
    "start_time": "2024-10-10T19:05:32.857Z"
   },
   {
    "duration": 8,
    "start_time": "2024-10-10T19:05:32.902Z"
   },
   {
    "duration": 19,
    "start_time": "2024-10-10T19:05:32.932Z"
   },
   {
    "duration": 123,
    "start_time": "2024-10-10T19:05:32.953Z"
   },
   {
    "duration": 8,
    "start_time": "2024-10-10T19:05:33.078Z"
   },
   {
    "duration": 111,
    "start_time": "2024-10-10T19:05:33.088Z"
   },
   {
    "duration": 7,
    "start_time": "2024-10-10T19:05:33.202Z"
   },
   {
    "duration": 170,
    "start_time": "2024-10-10T19:05:33.211Z"
   },
   {
    "duration": 9,
    "start_time": "2024-10-10T19:05:33.383Z"
   },
   {
    "duration": 99,
    "start_time": "2024-10-10T19:05:33.393Z"
   },
   {
    "duration": 91,
    "start_time": "2024-10-10T19:05:33.495Z"
   },
   {
    "duration": 8,
    "start_time": "2024-10-10T19:05:33.588Z"
   },
   {
    "duration": 34,
    "start_time": "2024-10-10T19:05:33.598Z"
   },
   {
    "duration": 67,
    "start_time": "2024-10-10T19:05:33.634Z"
   },
   {
    "duration": 4,
    "start_time": "2024-10-10T19:05:33.703Z"
   },
   {
    "duration": 28,
    "start_time": "2024-10-10T19:05:33.708Z"
   },
   {
    "duration": 9,
    "start_time": "2024-10-10T19:05:33.738Z"
   },
   {
    "duration": 35,
    "start_time": "2024-10-10T19:05:33.749Z"
   },
   {
    "duration": 12,
    "start_time": "2024-10-10T19:05:33.785Z"
   },
   {
    "duration": 34,
    "start_time": "2024-10-10T19:05:33.798Z"
   },
   {
    "duration": 200,
    "start_time": "2024-10-10T19:05:33.834Z"
   },
   {
    "duration": 0,
    "start_time": "2024-10-10T19:05:34.035Z"
   },
   {
    "duration": 0,
    "start_time": "2024-10-10T19:05:34.037Z"
   },
   {
    "duration": 15,
    "start_time": "2024-10-10T19:10:50.527Z"
   },
   {
    "duration": 111,
    "start_time": "2024-10-10T19:11:56.089Z"
   },
   {
    "duration": 9,
    "start_time": "2024-10-10T19:13:40.372Z"
   },
   {
    "duration": 103,
    "start_time": "2024-10-10T19:13:44.371Z"
   },
   {
    "duration": 3,
    "start_time": "2024-10-10T19:13:49.688Z"
   },
   {
    "duration": 3,
    "start_time": "2024-10-10T19:13:50.800Z"
   },
   {
    "duration": 2172,
    "start_time": "2024-10-10T21:29:48.831Z"
   },
   {
    "duration": 470,
    "start_time": "2024-10-10T21:29:51.005Z"
   },
   {
    "duration": 4,
    "start_time": "2024-10-10T21:29:51.477Z"
   },
   {
    "duration": 9,
    "start_time": "2024-10-10T21:29:51.484Z"
   },
   {
    "duration": 6,
    "start_time": "2024-10-10T21:29:51.495Z"
   },
   {
    "duration": 6,
    "start_time": "2024-10-10T21:29:51.503Z"
   },
   {
    "duration": 8,
    "start_time": "2024-10-10T21:29:51.511Z"
   },
   {
    "duration": 128,
    "start_time": "2024-10-10T21:29:51.521Z"
   },
   {
    "duration": 18,
    "start_time": "2024-10-10T21:29:51.651Z"
   },
   {
    "duration": 67,
    "start_time": "2024-10-10T21:29:51.686Z"
   },
   {
    "duration": 131,
    "start_time": "2024-10-10T21:29:51.755Z"
   },
   {
    "duration": 8,
    "start_time": "2024-10-10T21:29:51.888Z"
   },
   {
    "duration": 72,
    "start_time": "2024-10-10T21:29:51.897Z"
   },
   {
    "duration": 143,
    "start_time": "2024-10-10T21:29:51.971Z"
   },
   {
    "duration": 7,
    "start_time": "2024-10-10T21:29:52.116Z"
   },
   {
    "duration": 175,
    "start_time": "2024-10-10T21:29:52.125Z"
   },
   {
    "duration": 158,
    "start_time": "2024-10-10T21:29:52.302Z"
   },
   {
    "duration": 135,
    "start_time": "2024-10-10T21:29:52.462Z"
   },
   {
    "duration": 8,
    "start_time": "2024-10-10T21:29:52.599Z"
   },
   {
    "duration": 107,
    "start_time": "2024-10-10T21:29:52.609Z"
   },
   {
    "duration": 20,
    "start_time": "2024-10-10T21:29:52.718Z"
   },
   {
    "duration": 229,
    "start_time": "2024-10-10T21:29:52.740Z"
   },
   {
    "duration": 150,
    "start_time": "2024-10-10T21:29:52.971Z"
   },
   {
    "duration": 179,
    "start_time": "2024-10-10T21:29:53.123Z"
   },
   {
    "duration": 6,
    "start_time": "2024-10-10T21:29:53.305Z"
   },
   {
    "duration": 77,
    "start_time": "2024-10-10T21:29:53.313Z"
   },
   {
    "duration": 6,
    "start_time": "2024-10-10T21:29:53.392Z"
   },
   {
    "duration": 55,
    "start_time": "2024-10-10T21:29:53.404Z"
   },
   {
    "duration": 25,
    "start_time": "2024-10-10T21:29:53.461Z"
   },
   {
    "duration": 6,
    "start_time": "2024-10-10T21:29:53.488Z"
   },
   {
    "duration": 114,
    "start_time": "2024-10-10T21:29:53.496Z"
   },
   {
    "duration": 4,
    "start_time": "2024-10-10T21:29:53.612Z"
   },
   {
    "duration": 25,
    "start_time": "2024-10-10T21:29:53.618Z"
   },
   {
    "duration": 4,
    "start_time": "2024-10-10T21:29:53.646Z"
   },
   {
    "duration": 67,
    "start_time": "2024-10-10T21:29:53.653Z"
   },
   {
    "duration": 7,
    "start_time": "2024-10-10T21:29:53.722Z"
   },
   {
    "duration": 18,
    "start_time": "2024-10-10T21:29:53.731Z"
   },
   {
    "duration": 124,
    "start_time": "2024-10-10T21:29:53.751Z"
   },
   {
    "duration": 17,
    "start_time": "2024-10-10T21:29:53.877Z"
   },
   {
    "duration": 100,
    "start_time": "2024-10-10T21:29:53.896Z"
   },
   {
    "duration": 7,
    "start_time": "2024-10-10T21:29:53.998Z"
   },
   {
    "duration": 105,
    "start_time": "2024-10-10T21:29:54.007Z"
   },
   {
    "duration": 8,
    "start_time": "2024-10-10T21:29:54.114Z"
   },
   {
    "duration": 97,
    "start_time": "2024-10-10T21:29:54.124Z"
   },
   {
    "duration": 91,
    "start_time": "2024-10-10T21:29:54.223Z"
   },
   {
    "duration": 8,
    "start_time": "2024-10-10T21:29:54.316Z"
   },
   {
    "duration": 20,
    "start_time": "2024-10-10T21:29:54.325Z"
   },
   {
    "duration": 79,
    "start_time": "2024-10-10T21:29:54.347Z"
   },
   {
    "duration": 3,
    "start_time": "2024-10-10T21:29:54.429Z"
   },
   {
    "duration": 8,
    "start_time": "2024-10-10T21:29:54.434Z"
   },
   {
    "duration": 9,
    "start_time": "2024-10-10T21:29:54.443Z"
   },
   {
    "duration": 65,
    "start_time": "2024-10-10T21:29:54.454Z"
   },
   {
    "duration": 11,
    "start_time": "2024-10-10T21:29:54.521Z"
   },
   {
    "duration": 9,
    "start_time": "2024-10-10T21:29:54.534Z"
   },
   {
    "duration": 127,
    "start_time": "2024-10-10T21:29:54.545Z"
   },
   {
    "duration": 3,
    "start_time": "2024-10-10T21:29:54.674Z"
   },
   {
    "duration": 10,
    "start_time": "2024-10-10T21:29:54.679Z"
   },
   {
    "duration": 108,
    "start_time": "2024-10-10T21:30:46.217Z"
   },
   {
    "duration": 9,
    "start_time": "2024-10-10T21:30:51.438Z"
   },
   {
    "duration": 10,
    "start_time": "2024-10-10T21:31:45.727Z"
   },
   {
    "duration": 4,
    "start_time": "2024-10-10T21:32:19.210Z"
   },
   {
    "duration": 3,
    "start_time": "2024-10-10T21:42:13.972Z"
   },
   {
    "duration": 4,
    "start_time": "2024-10-10T21:42:28.116Z"
   },
   {
    "duration": 3,
    "start_time": "2024-10-10T21:43:00.285Z"
   },
   {
    "duration": 7,
    "start_time": "2024-10-10T21:46:13.714Z"
   },
   {
    "duration": 126,
    "start_time": "2024-10-10T21:48:05.386Z"
   },
   {
    "duration": 355,
    "start_time": "2024-10-10T21:48:51.816Z"
   },
   {
    "duration": 105,
    "start_time": "2024-10-10T21:49:10.109Z"
   },
   {
    "duration": 113,
    "start_time": "2024-10-10T21:49:18.381Z"
   },
   {
    "duration": 661,
    "start_time": "2024-10-10T21:49:35.418Z"
   },
   {
    "duration": 111,
    "start_time": "2024-10-10T21:51:04.994Z"
   },
   {
    "duration": 7,
    "start_time": "2024-10-10T21:53:24.032Z"
   },
   {
    "duration": 225,
    "start_time": "2024-10-10T21:53:38.981Z"
   },
   {
    "duration": 132,
    "start_time": "2024-10-10T21:54:20.795Z"
   },
   {
    "duration": 130,
    "start_time": "2024-10-10T21:55:04.714Z"
   },
   {
    "duration": 129,
    "start_time": "2024-10-10T21:55:16.471Z"
   },
   {
    "duration": 10,
    "start_time": "2024-10-10T21:55:32.382Z"
   },
   {
    "duration": 43,
    "start_time": "2024-10-10T21:55:41.002Z"
   },
   {
    "duration": 13,
    "start_time": "2024-10-10T21:55:45.926Z"
   },
   {
    "duration": 2154,
    "start_time": "2024-10-10T22:31:06.056Z"
   },
   {
    "duration": 460,
    "start_time": "2024-10-10T22:31:08.212Z"
   },
   {
    "duration": 5,
    "start_time": "2024-10-10T22:31:08.673Z"
   },
   {
    "duration": 9,
    "start_time": "2024-10-10T22:31:08.681Z"
   },
   {
    "duration": 6,
    "start_time": "2024-10-10T22:31:08.691Z"
   },
   {
    "duration": 6,
    "start_time": "2024-10-10T22:31:08.699Z"
   },
   {
    "duration": 6,
    "start_time": "2024-10-10T22:31:08.706Z"
   },
   {
    "duration": 135,
    "start_time": "2024-10-10T22:31:08.713Z"
   },
   {
    "duration": 19,
    "start_time": "2024-10-10T22:31:08.850Z"
   },
   {
    "duration": 76,
    "start_time": "2024-10-10T22:31:08.871Z"
   },
   {
    "duration": 133,
    "start_time": "2024-10-10T22:31:08.948Z"
   },
   {
    "duration": 9,
    "start_time": "2024-10-10T22:31:09.083Z"
   },
   {
    "duration": 65,
    "start_time": "2024-10-10T22:31:09.094Z"
   },
   {
    "duration": 140,
    "start_time": "2024-10-10T22:31:09.161Z"
   },
   {
    "duration": 6,
    "start_time": "2024-10-10T22:31:09.303Z"
   },
   {
    "duration": 177,
    "start_time": "2024-10-10T22:31:09.311Z"
   },
   {
    "duration": 155,
    "start_time": "2024-10-10T22:31:09.490Z"
   },
   {
    "duration": 128,
    "start_time": "2024-10-10T22:31:09.646Z"
   },
   {
    "duration": 12,
    "start_time": "2024-10-10T22:31:09.776Z"
   },
   {
    "duration": 141,
    "start_time": "2024-10-10T22:31:09.789Z"
   },
   {
    "duration": 19,
    "start_time": "2024-10-10T22:31:09.931Z"
   },
   {
    "duration": 175,
    "start_time": "2024-10-10T22:31:09.952Z"
   },
   {
    "duration": 144,
    "start_time": "2024-10-10T22:31:10.129Z"
   },
   {
    "duration": 159,
    "start_time": "2024-10-10T22:31:10.275Z"
   },
   {
    "duration": 6,
    "start_time": "2024-10-10T22:31:10.436Z"
   },
   {
    "duration": 85,
    "start_time": "2024-10-10T22:31:10.444Z"
   },
   {
    "duration": 7,
    "start_time": "2024-10-10T22:31:10.530Z"
   },
   {
    "duration": 65,
    "start_time": "2024-10-10T22:31:10.542Z"
   },
   {
    "duration": 5,
    "start_time": "2024-10-10T22:31:10.609Z"
   },
   {
    "duration": 5,
    "start_time": "2024-10-10T22:31:10.615Z"
   },
   {
    "duration": 124,
    "start_time": "2024-10-10T22:31:10.622Z"
   },
   {
    "duration": 4,
    "start_time": "2024-10-10T22:31:10.748Z"
   },
   {
    "duration": 21,
    "start_time": "2024-10-10T22:31:10.753Z"
   },
   {
    "duration": 4,
    "start_time": "2024-10-10T22:31:10.787Z"
   },
   {
    "duration": 39,
    "start_time": "2024-10-10T22:31:10.793Z"
   },
   {
    "duration": 7,
    "start_time": "2024-10-10T22:31:10.834Z"
   },
   {
    "duration": 47,
    "start_time": "2024-10-10T22:31:10.842Z"
   },
   {
    "duration": 107,
    "start_time": "2024-10-10T22:31:10.891Z"
   },
   {
    "duration": 7,
    "start_time": "2024-10-10T22:31:11.000Z"
   },
   {
    "duration": 101,
    "start_time": "2024-10-10T22:31:11.009Z"
   },
   {
    "duration": 7,
    "start_time": "2024-10-10T22:31:11.111Z"
   },
   {
    "duration": 99,
    "start_time": "2024-10-10T22:31:11.120Z"
   },
   {
    "duration": 7,
    "start_time": "2024-10-10T22:31:11.220Z"
   },
   {
    "duration": 98,
    "start_time": "2024-10-10T22:31:11.228Z"
   },
   {
    "duration": 84,
    "start_time": "2024-10-10T22:31:11.328Z"
   },
   {
    "duration": 8,
    "start_time": "2024-10-10T22:31:11.414Z"
   },
   {
    "duration": 19,
    "start_time": "2024-10-10T22:31:11.423Z"
   },
   {
    "duration": 83,
    "start_time": "2024-10-10T22:31:11.443Z"
   },
   {
    "duration": 4,
    "start_time": "2024-10-10T22:31:11.528Z"
   },
   {
    "duration": 7,
    "start_time": "2024-10-10T22:31:11.533Z"
   },
   {
    "duration": 3,
    "start_time": "2024-10-10T22:31:11.542Z"
   },
   {
    "duration": 6,
    "start_time": "2024-10-10T22:31:11.546Z"
   },
   {
    "duration": 134,
    "start_time": "2024-10-10T22:31:11.554Z"
   },
   {
    "duration": 10,
    "start_time": "2024-10-10T22:31:11.690Z"
   },
   {
    "duration": 140,
    "start_time": "2024-10-10T22:31:11.701Z"
   },
   {
    "duration": 9,
    "start_time": "2024-10-10T22:31:11.843Z"
   },
   {
    "duration": 48,
    "start_time": "2024-10-10T22:31:11.854Z"
   },
   {
    "duration": 12,
    "start_time": "2024-10-10T22:31:11.904Z"
   },
   {
    "duration": 9,
    "start_time": "2024-10-10T22:31:11.917Z"
   },
   {
    "duration": 172,
    "start_time": "2024-10-10T22:31:11.928Z"
   },
   {
    "duration": 307,
    "start_time": "2024-10-10T22:31:12.102Z"
   },
   {
    "duration": 3,
    "start_time": "2024-10-10T22:31:12.411Z"
   },
   {
    "duration": 3,
    "start_time": "2024-10-10T22:31:12.415Z"
   },
   {
    "duration": 13,
    "start_time": "2024-10-10T22:39:56.846Z"
   },
   {
    "duration": 521,
    "start_time": "2024-10-10T22:42:21.473Z"
   },
   {
    "duration": 13,
    "start_time": "2024-10-10T22:43:33.593Z"
   },
   {
    "duration": 22,
    "start_time": "2024-10-10T22:46:16.176Z"
   },
   {
    "duration": 13,
    "start_time": "2024-10-10T22:52:11.272Z"
   },
   {
    "duration": 10,
    "start_time": "2024-10-10T22:52:16.255Z"
   },
   {
    "duration": 10,
    "start_time": "2024-10-10T22:52:17.059Z"
   },
   {
    "duration": 124,
    "start_time": "2024-10-10T22:52:43.100Z"
   },
   {
    "duration": 3,
    "start_time": "2024-10-10T22:54:26.074Z"
   },
   {
    "duration": 9,
    "start_time": "2024-10-10T22:54:26.692Z"
   },
   {
    "duration": 108,
    "start_time": "2024-10-10T22:54:28.061Z"
   },
   {
    "duration": 37,
    "start_time": "2024-10-10T22:55:26.806Z"
   },
   {
    "duration": 12,
    "start_time": "2024-10-10T22:55:33.781Z"
   },
   {
    "duration": 10,
    "start_time": "2024-10-10T22:55:51.373Z"
   },
   {
    "duration": 102,
    "start_time": "2024-10-10T22:55:54.843Z"
   },
   {
    "duration": 3,
    "start_time": "2024-10-10T22:56:04.127Z"
   },
   {
    "duration": 3,
    "start_time": "2024-10-10T22:56:05.161Z"
   },
   {
    "duration": 225,
    "start_time": "2024-10-10T23:01:56.537Z"
   },
   {
    "duration": 278,
    "start_time": "2024-10-10T23:03:51.510Z"
   },
   {
    "duration": 230,
    "start_time": "2024-10-10T23:04:24.003Z"
   },
   {
    "duration": 2119,
    "start_time": "2024-10-11T15:20:46.803Z"
   },
   {
    "duration": 494,
    "start_time": "2024-10-11T15:20:48.924Z"
   },
   {
    "duration": 4,
    "start_time": "2024-10-11T15:20:49.420Z"
   },
   {
    "duration": 10,
    "start_time": "2024-10-11T15:20:49.426Z"
   },
   {
    "duration": 7,
    "start_time": "2024-10-11T15:20:49.438Z"
   },
   {
    "duration": 8,
    "start_time": "2024-10-11T15:20:49.446Z"
   },
   {
    "duration": 7,
    "start_time": "2024-10-11T15:20:49.455Z"
   },
   {
    "duration": 137,
    "start_time": "2024-10-11T15:20:49.464Z"
   },
   {
    "duration": 18,
    "start_time": "2024-10-11T15:20:49.602Z"
   },
   {
    "duration": 79,
    "start_time": "2024-10-11T15:20:49.621Z"
   },
   {
    "duration": 124,
    "start_time": "2024-10-11T15:20:49.702Z"
   },
   {
    "duration": 16,
    "start_time": "2024-10-11T15:20:49.828Z"
   },
   {
    "duration": 65,
    "start_time": "2024-10-11T15:20:49.845Z"
   },
   {
    "duration": 139,
    "start_time": "2024-10-11T15:20:49.914Z"
   },
   {
    "duration": 7,
    "start_time": "2024-10-11T15:20:50.055Z"
   },
   {
    "duration": 176,
    "start_time": "2024-10-11T15:20:50.063Z"
   },
   {
    "duration": 163,
    "start_time": "2024-10-11T15:20:50.242Z"
   },
   {
    "duration": 144,
    "start_time": "2024-10-11T15:20:50.406Z"
   },
   {
    "duration": 9,
    "start_time": "2024-10-11T15:20:50.552Z"
   },
   {
    "duration": 113,
    "start_time": "2024-10-11T15:20:50.562Z"
   },
   {
    "duration": 21,
    "start_time": "2024-10-11T15:20:50.677Z"
   },
   {
    "duration": 184,
    "start_time": "2024-10-11T15:20:50.700Z"
   },
   {
    "duration": 145,
    "start_time": "2024-10-11T15:20:50.885Z"
   },
   {
    "duration": 202,
    "start_time": "2024-10-11T15:20:51.032Z"
   },
   {
    "duration": 11,
    "start_time": "2024-10-11T15:20:51.236Z"
   },
   {
    "duration": 71,
    "start_time": "2024-10-11T15:20:51.249Z"
   },
   {
    "duration": 21,
    "start_time": "2024-10-11T15:20:51.322Z"
   },
   {
    "duration": 53,
    "start_time": "2024-10-11T15:20:51.345Z"
   },
   {
    "duration": 5,
    "start_time": "2024-10-11T15:20:51.400Z"
   },
   {
    "duration": 5,
    "start_time": "2024-10-11T15:20:51.407Z"
   },
   {
    "duration": 119,
    "start_time": "2024-10-11T15:20:51.414Z"
   },
   {
    "duration": 4,
    "start_time": "2024-10-11T15:20:51.542Z"
   },
   {
    "duration": 21,
    "start_time": "2024-10-11T15:20:51.548Z"
   },
   {
    "duration": 4,
    "start_time": "2024-10-11T15:20:51.571Z"
   },
   {
    "duration": 42,
    "start_time": "2024-10-11T15:20:51.577Z"
   },
   {
    "duration": 8,
    "start_time": "2024-10-11T15:20:51.643Z"
   },
   {
    "duration": 19,
    "start_time": "2024-10-11T15:20:51.652Z"
   },
   {
    "duration": 126,
    "start_time": "2024-10-11T15:20:51.672Z"
   },
   {
    "duration": 7,
    "start_time": "2024-10-11T15:20:51.800Z"
   },
   {
    "duration": 105,
    "start_time": "2024-10-11T15:20:51.809Z"
   },
   {
    "duration": 7,
    "start_time": "2024-10-11T15:20:51.919Z"
   },
   {
    "duration": 94,
    "start_time": "2024-10-11T15:20:51.929Z"
   },
   {
    "duration": 20,
    "start_time": "2024-10-11T15:20:52.024Z"
   },
   {
    "duration": 81,
    "start_time": "2024-10-11T15:20:52.045Z"
   },
   {
    "duration": 91,
    "start_time": "2024-10-11T15:20:52.128Z"
   },
   {
    "duration": 7,
    "start_time": "2024-10-11T15:20:52.221Z"
   },
   {
    "duration": 21,
    "start_time": "2024-10-11T15:20:52.243Z"
   },
   {
    "duration": 77,
    "start_time": "2024-10-11T15:20:52.266Z"
   },
   {
    "duration": 4,
    "start_time": "2024-10-11T15:20:52.346Z"
   },
   {
    "duration": 8,
    "start_time": "2024-10-11T15:20:52.352Z"
   },
   {
    "duration": 4,
    "start_time": "2024-10-11T15:20:52.361Z"
   },
   {
    "duration": 6,
    "start_time": "2024-10-11T15:20:52.366Z"
   },
   {
    "duration": 131,
    "start_time": "2024-10-11T15:20:52.373Z"
   },
   {
    "duration": 7,
    "start_time": "2024-10-11T15:20:52.506Z"
   },
   {
    "duration": 146,
    "start_time": "2024-10-11T15:20:52.514Z"
   },
   {
    "duration": 11,
    "start_time": "2024-10-11T15:20:52.662Z"
   },
   {
    "duration": 35,
    "start_time": "2024-10-11T15:20:52.675Z"
   },
   {
    "duration": 36,
    "start_time": "2024-10-11T15:20:52.712Z"
   },
   {
    "duration": 10,
    "start_time": "2024-10-11T15:20:52.749Z"
   },
   {
    "duration": 260,
    "start_time": "2024-10-11T15:20:52.761Z"
   },
   {
    "duration": 0,
    "start_time": "2024-10-11T15:20:53.023Z"
   },
   {
    "duration": 0,
    "start_time": "2024-10-11T15:20:53.025Z"
   },
   {
    "duration": 234,
    "start_time": "2024-10-11T15:22:03.077Z"
   },
   {
    "duration": 3,
    "start_time": "2024-10-11T15:23:57.970Z"
   },
   {
    "duration": 3,
    "start_time": "2024-10-11T15:24:00.917Z"
   },
   {
    "duration": 513,
    "start_time": "2024-10-11T16:05:26.490Z"
   },
   {
    "duration": 9,
    "start_time": "2024-10-11T16:07:10.076Z"
   },
   {
    "duration": 9,
    "start_time": "2024-10-11T16:09:46.488Z"
   },
   {
    "duration": 9,
    "start_time": "2024-10-11T16:10:39.413Z"
   },
   {
    "duration": 14,
    "start_time": "2024-10-11T16:11:11.300Z"
   },
   {
    "duration": 202,
    "start_time": "2024-10-11T16:11:54.360Z"
   },
   {
    "duration": 15,
    "start_time": "2024-10-11T16:39:18.122Z"
   },
   {
    "duration": 225,
    "start_time": "2024-10-11T16:49:39.664Z"
   },
   {
    "duration": 23,
    "start_time": "2024-10-11T16:55:13.588Z"
   },
   {
    "duration": 9,
    "start_time": "2024-10-11T17:21:17.042Z"
   },
   {
    "duration": 3,
    "start_time": "2024-10-11T17:21:18.820Z"
   },
   {
    "duration": 162,
    "start_time": "2024-10-12T01:32:45.700Z"
   },
   {
    "duration": 2213,
    "start_time": "2024-10-12T01:32:52.575Z"
   },
   {
    "duration": 498,
    "start_time": "2024-10-12T01:32:54.791Z"
   },
   {
    "duration": 4,
    "start_time": "2024-10-12T01:32:55.291Z"
   },
   {
    "duration": 10,
    "start_time": "2024-10-12T01:32:55.298Z"
   },
   {
    "duration": 9,
    "start_time": "2024-10-12T01:32:55.310Z"
   },
   {
    "duration": 6,
    "start_time": "2024-10-12T01:32:55.320Z"
   },
   {
    "duration": 6,
    "start_time": "2024-10-12T01:32:55.328Z"
   },
   {
    "duration": 141,
    "start_time": "2024-10-12T01:32:55.336Z"
   },
   {
    "duration": 18,
    "start_time": "2024-10-12T01:32:55.479Z"
   },
   {
    "duration": 90,
    "start_time": "2024-10-12T01:32:55.501Z"
   },
   {
    "duration": 128,
    "start_time": "2024-10-12T01:32:55.592Z"
   },
   {
    "duration": 8,
    "start_time": "2024-10-12T01:32:55.722Z"
   },
   {
    "duration": 84,
    "start_time": "2024-10-12T01:32:55.732Z"
   },
   {
    "duration": 238,
    "start_time": "2024-10-12T01:32:55.817Z"
   },
   {
    "duration": 0,
    "start_time": "2024-10-12T01:32:56.059Z"
   },
   {
    "duration": 0,
    "start_time": "2024-10-12T01:32:56.060Z"
   },
   {
    "duration": 0,
    "start_time": "2024-10-12T01:32:56.061Z"
   },
   {
    "duration": 0,
    "start_time": "2024-10-12T01:32:56.070Z"
   },
   {
    "duration": 0,
    "start_time": "2024-10-12T01:32:56.071Z"
   },
   {
    "duration": 0,
    "start_time": "2024-10-12T01:32:56.073Z"
   },
   {
    "duration": 0,
    "start_time": "2024-10-12T01:32:56.075Z"
   },
   {
    "duration": 0,
    "start_time": "2024-10-12T01:32:56.076Z"
   },
   {
    "duration": 0,
    "start_time": "2024-10-12T01:32:56.077Z"
   },
   {
    "duration": 0,
    "start_time": "2024-10-12T01:32:56.079Z"
   },
   {
    "duration": 0,
    "start_time": "2024-10-12T01:32:56.081Z"
   },
   {
    "duration": 0,
    "start_time": "2024-10-12T01:32:56.082Z"
   },
   {
    "duration": 0,
    "start_time": "2024-10-12T01:32:56.085Z"
   },
   {
    "duration": 0,
    "start_time": "2024-10-12T01:32:56.086Z"
   },
   {
    "duration": 0,
    "start_time": "2024-10-12T01:32:56.088Z"
   },
   {
    "duration": 0,
    "start_time": "2024-10-12T01:32:56.089Z"
   },
   {
    "duration": 0,
    "start_time": "2024-10-12T01:32:56.091Z"
   },
   {
    "duration": 0,
    "start_time": "2024-10-12T01:32:56.093Z"
   },
   {
    "duration": 0,
    "start_time": "2024-10-12T01:32:56.094Z"
   },
   {
    "duration": 0,
    "start_time": "2024-10-12T01:32:56.096Z"
   },
   {
    "duration": 0,
    "start_time": "2024-10-12T01:32:56.097Z"
   },
   {
    "duration": 0,
    "start_time": "2024-10-12T01:32:56.099Z"
   },
   {
    "duration": 0,
    "start_time": "2024-10-12T01:32:56.101Z"
   },
   {
    "duration": 0,
    "start_time": "2024-10-12T01:32:56.101Z"
   },
   {
    "duration": 0,
    "start_time": "2024-10-12T01:32:56.103Z"
   },
   {
    "duration": 0,
    "start_time": "2024-10-12T01:32:56.104Z"
   },
   {
    "duration": 0,
    "start_time": "2024-10-12T01:32:56.105Z"
   },
   {
    "duration": 1,
    "start_time": "2024-10-12T01:32:56.107Z"
   },
   {
    "duration": 0,
    "start_time": "2024-10-12T01:32:56.109Z"
   },
   {
    "duration": 0,
    "start_time": "2024-10-12T01:32:56.111Z"
   },
   {
    "duration": 0,
    "start_time": "2024-10-12T01:32:56.113Z"
   },
   {
    "duration": 0,
    "start_time": "2024-10-12T01:32:56.171Z"
   },
   {
    "duration": 0,
    "start_time": "2024-10-12T01:32:56.173Z"
   },
   {
    "duration": 0,
    "start_time": "2024-10-12T01:32:56.174Z"
   },
   {
    "duration": 0,
    "start_time": "2024-10-12T01:32:56.176Z"
   },
   {
    "duration": 0,
    "start_time": "2024-10-12T01:32:56.178Z"
   },
   {
    "duration": 0,
    "start_time": "2024-10-12T01:32:56.179Z"
   },
   {
    "duration": 0,
    "start_time": "2024-10-12T01:32:56.180Z"
   },
   {
    "duration": 0,
    "start_time": "2024-10-12T01:32:56.182Z"
   },
   {
    "duration": 0,
    "start_time": "2024-10-12T01:32:56.183Z"
   },
   {
    "duration": 0,
    "start_time": "2024-10-12T01:32:56.185Z"
   },
   {
    "duration": 0,
    "start_time": "2024-10-12T01:32:56.187Z"
   },
   {
    "duration": 0,
    "start_time": "2024-10-12T01:32:56.188Z"
   },
   {
    "duration": 0,
    "start_time": "2024-10-12T01:32:56.189Z"
   },
   {
    "duration": 0,
    "start_time": "2024-10-12T01:32:56.191Z"
   },
   {
    "duration": 0,
    "start_time": "2024-10-12T01:32:56.192Z"
   },
   {
    "duration": 0,
    "start_time": "2024-10-12T01:32:56.193Z"
   },
   {
    "duration": 0,
    "start_time": "2024-10-12T01:32:56.195Z"
   },
   {
    "duration": 0,
    "start_time": "2024-10-12T01:32:56.197Z"
   },
   {
    "duration": 12,
    "start_time": "2024-10-12T01:33:21.042Z"
   },
   {
    "duration": 8,
    "start_time": "2024-10-12T01:33:46.769Z"
   },
   {
    "duration": 433,
    "start_time": "2024-10-12T01:36:46.410Z"
   },
   {
    "duration": 426,
    "start_time": "2024-10-12T01:36:46.846Z"
   },
   {
    "duration": 4,
    "start_time": "2024-10-12T01:36:47.274Z"
   },
   {
    "duration": 9,
    "start_time": "2024-10-12T01:36:47.281Z"
   },
   {
    "duration": 6,
    "start_time": "2024-10-12T01:36:47.292Z"
   },
   {
    "duration": 7,
    "start_time": "2024-10-12T01:36:47.300Z"
   },
   {
    "duration": 5,
    "start_time": "2024-10-12T01:36:47.308Z"
   },
   {
    "duration": 147,
    "start_time": "2024-10-12T01:36:47.315Z"
   },
   {
    "duration": 17,
    "start_time": "2024-10-12T01:36:47.464Z"
   },
   {
    "duration": 90,
    "start_time": "2024-10-12T01:36:47.485Z"
   },
   {
    "duration": 122,
    "start_time": "2024-10-12T01:36:47.577Z"
   },
   {
    "duration": 9,
    "start_time": "2024-10-12T01:36:47.701Z"
   },
   {
    "duration": 79,
    "start_time": "2024-10-12T01:36:47.712Z"
   },
   {
    "duration": 7,
    "start_time": "2024-10-12T01:36:47.792Z"
   },
   {
    "duration": 136,
    "start_time": "2024-10-12T01:36:47.800Z"
   },
   {
    "duration": 7,
    "start_time": "2024-10-12T01:36:47.938Z"
   },
   {
    "duration": 170,
    "start_time": "2024-10-12T01:36:47.947Z"
   },
   {
    "duration": 161,
    "start_time": "2024-10-12T01:36:48.118Z"
   },
   {
    "duration": 130,
    "start_time": "2024-10-12T01:36:48.281Z"
   },
   {
    "duration": 7,
    "start_time": "2024-10-12T01:36:48.413Z"
   },
   {
    "duration": 108,
    "start_time": "2024-10-12T01:36:48.421Z"
   },
   {
    "duration": 22,
    "start_time": "2024-10-12T01:36:48.531Z"
   },
   {
    "duration": 178,
    "start_time": "2024-10-12T01:36:48.555Z"
   },
   {
    "duration": 146,
    "start_time": "2024-10-12T01:36:48.735Z"
   },
   {
    "duration": 166,
    "start_time": "2024-10-12T01:36:48.882Z"
   },
   {
    "duration": 6,
    "start_time": "2024-10-12T01:36:49.049Z"
   },
   {
    "duration": 77,
    "start_time": "2024-10-12T01:36:49.057Z"
   },
   {
    "duration": 7,
    "start_time": "2024-10-12T01:36:49.138Z"
   },
   {
    "duration": 71,
    "start_time": "2024-10-12T01:36:49.146Z"
   },
   {
    "duration": 4,
    "start_time": "2024-10-12T01:36:49.219Z"
   },
   {
    "duration": 6,
    "start_time": "2024-10-12T01:36:49.225Z"
   },
   {
    "duration": 120,
    "start_time": "2024-10-12T01:36:49.232Z"
   },
   {
    "duration": 5,
    "start_time": "2024-10-12T01:36:49.354Z"
   },
   {
    "duration": 28,
    "start_time": "2024-10-12T01:36:49.360Z"
   },
   {
    "duration": 5,
    "start_time": "2024-10-12T01:36:49.391Z"
   },
   {
    "duration": 39,
    "start_time": "2024-10-12T01:36:49.397Z"
   },
   {
    "duration": 7,
    "start_time": "2024-10-12T01:36:49.438Z"
   },
   {
    "duration": 41,
    "start_time": "2024-10-12T01:36:49.447Z"
   },
   {
    "duration": 120,
    "start_time": "2024-10-12T01:36:49.490Z"
   },
   {
    "duration": 8,
    "start_time": "2024-10-12T01:36:49.612Z"
   },
   {
    "duration": 103,
    "start_time": "2024-10-12T01:36:49.621Z"
   },
   {
    "duration": 8,
    "start_time": "2024-10-12T01:36:49.725Z"
   },
   {
    "duration": 159,
    "start_time": "2024-10-12T01:36:49.735Z"
   },
   {
    "duration": 8,
    "start_time": "2024-10-12T01:36:49.896Z"
   },
   {
    "duration": 108,
    "start_time": "2024-10-12T01:36:49.905Z"
   },
   {
    "duration": 90,
    "start_time": "2024-10-12T01:36:50.015Z"
   },
   {
    "duration": 8,
    "start_time": "2024-10-12T01:36:50.107Z"
   },
   {
    "duration": 20,
    "start_time": "2024-10-12T01:36:50.117Z"
   },
   {
    "duration": 85,
    "start_time": "2024-10-12T01:36:50.139Z"
   },
   {
    "duration": 4,
    "start_time": "2024-10-12T01:36:50.226Z"
   },
   {
    "duration": 8,
    "start_time": "2024-10-12T01:36:50.231Z"
   },
   {
    "duration": 3,
    "start_time": "2024-10-12T01:36:50.241Z"
   },
   {
    "duration": 28,
    "start_time": "2024-10-12T01:36:50.246Z"
   },
   {
    "duration": 115,
    "start_time": "2024-10-12T01:36:50.277Z"
   },
   {
    "duration": 7,
    "start_time": "2024-10-12T01:36:50.394Z"
   },
   {
    "duration": 144,
    "start_time": "2024-10-12T01:36:50.403Z"
   },
   {
    "duration": 22,
    "start_time": "2024-10-12T01:36:50.549Z"
   },
   {
    "duration": 37,
    "start_time": "2024-10-12T01:36:50.572Z"
   },
   {
    "duration": 13,
    "start_time": "2024-10-12T01:36:50.611Z"
   },
   {
    "duration": 9,
    "start_time": "2024-10-12T01:36:50.626Z"
   },
   {
    "duration": 257,
    "start_time": "2024-10-12T01:36:50.637Z"
   },
   {
    "duration": 8,
    "start_time": "2024-10-12T01:36:50.897Z"
   },
   {
    "duration": 24,
    "start_time": "2024-10-12T01:36:50.907Z"
   },
   {
    "duration": 6,
    "start_time": "2024-10-12T01:38:57.332Z"
   },
   {
    "duration": 113,
    "start_time": "2024-10-12T01:41:29.863Z"
   },
   {
    "duration": 6,
    "start_time": "2024-10-12T02:23:57.455Z"
   },
   {
    "duration": 147,
    "start_time": "2024-10-12T02:39:40.383Z"
   },
   {
    "duration": 6,
    "start_time": "2024-10-12T02:39:44.309Z"
   },
   {
    "duration": 141,
    "start_time": "2024-10-12T02:39:51.222Z"
   },
   {
    "duration": 6,
    "start_time": "2024-10-12T02:39:54.712Z"
   },
   {
    "duration": 154,
    "start_time": "2024-10-12T02:40:05.588Z"
   },
   {
    "duration": 190,
    "start_time": "2024-10-12T02:41:19.592Z"
   },
   {
    "duration": 4,
    "start_time": "2024-10-12T02:41:23.181Z"
   },
   {
    "duration": 142,
    "start_time": "2024-10-12T02:47:35.315Z"
   },
   {
    "duration": 3,
    "start_time": "2024-10-12T02:47:39.667Z"
   },
   {
    "duration": 7,
    "start_time": "2024-10-12T02:47:40.626Z"
   },
   {
    "duration": 64,
    "start_time": "2024-10-12T02:47:50.842Z"
   },
   {
    "duration": 5107,
    "start_time": "2024-10-12T02:49:52.199Z"
   },
   {
    "duration": 0,
    "start_time": "2024-10-12T02:49:57.308Z"
   },
   {
    "duration": 0,
    "start_time": "2024-10-12T02:49:57.309Z"
   },
   {
    "duration": 82,
    "start_time": "2024-10-12T02:51:08.909Z"
   },
   {
    "duration": 138,
    "start_time": "2024-10-12T02:51:34.085Z"
   },
   {
    "duration": 6,
    "start_time": "2024-10-12T02:51:40.677Z"
   },
   {
    "duration": 65,
    "start_time": "2024-10-12T02:51:45.076Z"
   },
   {
    "duration": 178,
    "start_time": "2024-10-18T02:35:59.405Z"
   },
   {
    "duration": 2173,
    "start_time": "2024-10-18T02:36:09.878Z"
   },
   {
    "duration": 448,
    "start_time": "2024-10-18T02:36:12.054Z"
   },
   {
    "duration": 4,
    "start_time": "2024-10-18T02:36:12.504Z"
   },
   {
    "duration": 9,
    "start_time": "2024-10-18T02:36:12.510Z"
   },
   {
    "duration": 5,
    "start_time": "2024-10-18T02:36:12.522Z"
   },
   {
    "duration": 6,
    "start_time": "2024-10-18T02:36:12.529Z"
   },
   {
    "duration": 6,
    "start_time": "2024-10-18T02:36:12.537Z"
   },
   {
    "duration": 139,
    "start_time": "2024-10-18T02:36:12.546Z"
   },
   {
    "duration": 18,
    "start_time": "2024-10-18T02:36:12.686Z"
   },
   {
    "duration": 105,
    "start_time": "2024-10-18T02:36:12.706Z"
   },
   {
    "duration": 133,
    "start_time": "2024-10-18T02:36:12.812Z"
   },
   {
    "duration": 9,
    "start_time": "2024-10-18T02:36:12.946Z"
   },
   {
    "duration": 70,
    "start_time": "2024-10-18T02:36:12.957Z"
   },
   {
    "duration": 154,
    "start_time": "2024-10-18T02:36:13.032Z"
   },
   {
    "duration": 8,
    "start_time": "2024-10-18T02:36:13.188Z"
   },
   {
    "duration": 197,
    "start_time": "2024-10-18T02:36:13.198Z"
   },
   {
    "duration": 173,
    "start_time": "2024-10-18T02:36:13.397Z"
   },
   {
    "duration": 137,
    "start_time": "2024-10-18T02:36:13.572Z"
   },
   {
    "duration": 14,
    "start_time": "2024-10-18T02:36:13.711Z"
   },
   {
    "duration": 5,
    "start_time": "2024-10-18T02:36:13.727Z"
   },
   {
    "duration": 142,
    "start_time": "2024-10-18T02:36:13.735Z"
   },
   {
    "duration": 26,
    "start_time": "2024-10-18T02:36:13.881Z"
   },
   {
    "duration": 133,
    "start_time": "2024-10-18T02:36:13.908Z"
   },
   {
    "duration": 182,
    "start_time": "2024-10-18T02:36:14.043Z"
   },
   {
    "duration": 157,
    "start_time": "2024-10-18T02:36:14.227Z"
   },
   {
    "duration": 153,
    "start_time": "2024-10-18T02:36:14.386Z"
   },
   {
    "duration": 7,
    "start_time": "2024-10-18T02:36:14.541Z"
   },
   {
    "duration": 81,
    "start_time": "2024-10-18T02:36:14.549Z"
   },
   {
    "duration": 6,
    "start_time": "2024-10-18T02:36:14.631Z"
   },
   {
    "duration": 53,
    "start_time": "2024-10-18T02:36:14.638Z"
   },
   {
    "duration": 4,
    "start_time": "2024-10-18T02:36:14.693Z"
   },
   {
    "duration": 27,
    "start_time": "2024-10-18T02:36:14.698Z"
   },
   {
    "duration": 112,
    "start_time": "2024-10-18T02:36:14.726Z"
   },
   {
    "duration": 3,
    "start_time": "2024-10-18T02:36:14.839Z"
   },
   {
    "duration": 20,
    "start_time": "2024-10-18T02:36:14.844Z"
   },
   {
    "duration": 4,
    "start_time": "2024-10-18T02:36:14.866Z"
   },
   {
    "duration": 70,
    "start_time": "2024-10-18T02:36:14.872Z"
   },
   {
    "duration": 7,
    "start_time": "2024-10-18T02:36:14.944Z"
   },
   {
    "duration": 19,
    "start_time": "2024-10-18T02:36:14.952Z"
   },
   {
    "duration": 133,
    "start_time": "2024-10-18T02:36:14.973Z"
   },
   {
    "duration": 14,
    "start_time": "2024-10-18T02:36:15.111Z"
   },
   {
    "duration": 111,
    "start_time": "2024-10-18T02:36:15.129Z"
   },
   {
    "duration": 8,
    "start_time": "2024-10-18T02:36:15.242Z"
   },
   {
    "duration": 110,
    "start_time": "2024-10-18T02:36:15.252Z"
   },
   {
    "duration": 9,
    "start_time": "2024-10-18T02:36:15.367Z"
   },
   {
    "duration": 103,
    "start_time": "2024-10-18T02:36:15.378Z"
   },
   {
    "duration": 88,
    "start_time": "2024-10-18T02:36:15.482Z"
   },
   {
    "duration": 9,
    "start_time": "2024-10-18T02:36:15.572Z"
   },
   {
    "duration": 24,
    "start_time": "2024-10-18T02:36:15.582Z"
   },
   {
    "duration": 83,
    "start_time": "2024-10-18T02:36:15.608Z"
   },
   {
    "duration": 6,
    "start_time": "2024-10-18T02:36:15.693Z"
   },
   {
    "duration": 7,
    "start_time": "2024-10-18T02:36:15.701Z"
   },
   {
    "duration": 4,
    "start_time": "2024-10-18T02:36:15.723Z"
   },
   {
    "duration": 8,
    "start_time": "2024-10-18T02:36:15.728Z"
   },
   {
    "duration": 126,
    "start_time": "2024-10-18T02:36:15.737Z"
   },
   {
    "duration": 7,
    "start_time": "2024-10-18T02:36:15.865Z"
   },
   {
    "duration": 183,
    "start_time": "2024-10-18T02:36:15.874Z"
   },
   {
    "duration": 9,
    "start_time": "2024-10-18T02:36:16.059Z"
   },
   {
    "duration": 34,
    "start_time": "2024-10-18T02:36:16.070Z"
   },
   {
    "duration": 28,
    "start_time": "2024-10-18T02:36:16.105Z"
   },
   {
    "duration": 8,
    "start_time": "2024-10-18T02:36:16.135Z"
   },
   {
    "duration": 251,
    "start_time": "2024-10-18T02:36:16.145Z"
   },
   {
    "duration": 9,
    "start_time": "2024-10-18T02:36:16.398Z"
   },
   {
    "duration": 621,
    "start_time": "2024-10-18T02:36:16.409Z"
   },
   {
    "duration": 15,
    "start_time": "2024-10-18T02:37:50.758Z"
   },
   {
    "duration": 24,
    "start_time": "2024-10-18T02:38:30.902Z"
   },
   {
    "duration": 368,
    "start_time": "2024-10-18T02:39:49.474Z"
   },
   {
    "duration": 98,
    "start_time": "2024-10-18T02:43:31.360Z"
   },
   {
    "duration": 159,
    "start_time": "2024-10-18T15:44:18.786Z"
   },
   {
    "duration": 2294,
    "start_time": "2024-10-18T15:44:25.789Z"
   },
   {
    "duration": 513,
    "start_time": "2024-10-18T15:44:28.086Z"
   },
   {
    "duration": 4,
    "start_time": "2024-10-18T15:44:28.604Z"
   },
   {
    "duration": 11,
    "start_time": "2024-10-18T15:44:28.610Z"
   },
   {
    "duration": 7,
    "start_time": "2024-10-18T15:44:28.624Z"
   },
   {
    "duration": 8,
    "start_time": "2024-10-18T15:44:28.633Z"
   },
   {
    "duration": 6,
    "start_time": "2024-10-18T15:44:28.645Z"
   },
   {
    "duration": 143,
    "start_time": "2024-10-18T15:44:28.652Z"
   },
   {
    "duration": 27,
    "start_time": "2024-10-18T15:44:28.797Z"
   },
   {
    "duration": 68,
    "start_time": "2024-10-18T15:44:28.825Z"
   },
   {
    "duration": 136,
    "start_time": "2024-10-18T15:44:28.894Z"
   },
   {
    "duration": 8,
    "start_time": "2024-10-18T15:44:29.032Z"
   },
   {
    "duration": 79,
    "start_time": "2024-10-18T15:44:29.042Z"
   },
   {
    "duration": 133,
    "start_time": "2024-10-18T15:44:29.126Z"
   },
   {
    "duration": 7,
    "start_time": "2024-10-18T15:44:29.260Z"
   },
   {
    "duration": 208,
    "start_time": "2024-10-18T15:44:29.269Z"
   },
   {
    "duration": 171,
    "start_time": "2024-10-18T15:44:29.480Z"
   },
   {
    "duration": 142,
    "start_time": "2024-10-18T15:44:29.653Z"
   },
   {
    "duration": 15,
    "start_time": "2024-10-18T15:44:29.797Z"
   },
   {
    "duration": 8,
    "start_time": "2024-10-18T15:44:29.814Z"
   },
   {
    "duration": 108,
    "start_time": "2024-10-18T15:44:29.824Z"
   },
   {
    "duration": 21,
    "start_time": "2024-10-18T15:44:29.934Z"
   },
   {
    "duration": 247,
    "start_time": "2024-10-18T15:44:29.957Z"
   },
   {
    "duration": 187,
    "start_time": "2024-10-18T15:44:30.206Z"
   },
   {
    "duration": 149,
    "start_time": "2024-10-18T15:44:30.397Z"
   },
   {
    "duration": 190,
    "start_time": "2024-10-18T15:44:30.549Z"
   },
   {
    "duration": 6,
    "start_time": "2024-10-18T15:44:30.741Z"
   },
   {
    "duration": 85,
    "start_time": "2024-10-18T15:44:30.749Z"
   },
   {
    "duration": 7,
    "start_time": "2024-10-18T15:44:30.836Z"
   },
   {
    "duration": 97,
    "start_time": "2024-10-18T15:44:30.846Z"
   },
   {
    "duration": 5,
    "start_time": "2024-10-18T15:44:30.945Z"
   },
   {
    "duration": 5,
    "start_time": "2024-10-18T15:44:30.952Z"
   },
   {
    "duration": 127,
    "start_time": "2024-10-18T15:44:30.959Z"
   },
   {
    "duration": 4,
    "start_time": "2024-10-18T15:44:31.087Z"
   },
   {
    "duration": 33,
    "start_time": "2024-10-18T15:44:31.093Z"
   },
   {
    "duration": 4,
    "start_time": "2024-10-18T15:44:31.128Z"
   },
   {
    "duration": 41,
    "start_time": "2024-10-18T15:44:31.133Z"
   },
   {
    "duration": 7,
    "start_time": "2024-10-18T15:44:31.176Z"
   },
   {
    "duration": 39,
    "start_time": "2024-10-18T15:44:31.185Z"
   },
   {
    "duration": 119,
    "start_time": "2024-10-18T15:44:31.226Z"
   },
   {
    "duration": 9,
    "start_time": "2024-10-18T15:44:31.351Z"
   },
   {
    "duration": 103,
    "start_time": "2024-10-18T15:44:31.361Z"
   },
   {
    "duration": 8,
    "start_time": "2024-10-18T15:44:31.466Z"
   },
   {
    "duration": 96,
    "start_time": "2024-10-18T15:44:31.475Z"
   },
   {
    "duration": 8,
    "start_time": "2024-10-18T15:44:31.573Z"
   },
   {
    "duration": 101,
    "start_time": "2024-10-18T15:44:31.583Z"
   },
   {
    "duration": 93,
    "start_time": "2024-10-18T15:44:31.686Z"
   },
   {
    "duration": 8,
    "start_time": "2024-10-18T15:44:31.782Z"
   },
   {
    "duration": 35,
    "start_time": "2024-10-18T15:44:31.791Z"
   },
   {
    "duration": 64,
    "start_time": "2024-10-18T15:44:31.828Z"
   },
   {
    "duration": 17,
    "start_time": "2024-10-18T15:44:31.893Z"
   },
   {
    "duration": 8,
    "start_time": "2024-10-18T15:44:31.912Z"
   },
   {
    "duration": 4,
    "start_time": "2024-10-18T15:44:31.921Z"
   },
   {
    "duration": 6,
    "start_time": "2024-10-18T15:44:31.926Z"
   },
   {
    "duration": 128,
    "start_time": "2024-10-18T15:44:31.934Z"
   },
   {
    "duration": 7,
    "start_time": "2024-10-18T15:44:32.064Z"
   },
   {
    "duration": 158,
    "start_time": "2024-10-18T15:44:32.072Z"
   },
   {
    "duration": 10,
    "start_time": "2024-10-18T15:44:32.232Z"
   },
   {
    "duration": 39,
    "start_time": "2024-10-18T15:44:32.244Z"
   },
   {
    "duration": 38,
    "start_time": "2024-10-18T15:44:32.285Z"
   },
   {
    "duration": 11,
    "start_time": "2024-10-18T15:44:32.325Z"
   },
   {
    "duration": 340,
    "start_time": "2024-10-18T15:44:32.338Z"
   },
   {
    "duration": 9,
    "start_time": "2024-10-18T15:44:32.681Z"
   },
   {
    "duration": 18,
    "start_time": "2024-10-18T15:44:32.692Z"
   },
   {
    "duration": 6,
    "start_time": "2024-10-18T15:44:32.712Z"
   },
   {
    "duration": 0,
    "start_time": "2024-10-18T15:44:32.719Z"
   },
   {
    "duration": 4,
    "start_time": "2024-10-18T15:44:42.766Z"
   },
   {
    "duration": 22,
    "start_time": "2024-10-18T15:44:51.636Z"
   },
   {
    "duration": 587,
    "start_time": "2024-10-18T15:44:55.294Z"
   },
   {
    "duration": 16,
    "start_time": "2024-10-18T16:01:52.374Z"
   },
   {
    "duration": 10,
    "start_time": "2024-10-18T16:05:50.695Z"
   },
   {
    "duration": 7,
    "start_time": "2024-10-18T16:12:40.228Z"
   },
   {
    "duration": 39,
    "start_time": "2024-10-18T16:14:51.213Z"
   },
   {
    "duration": 99,
    "start_time": "2024-10-18T16:30:58.406Z"
   },
   {
    "duration": 101,
    "start_time": "2024-10-18T16:47:20.347Z"
   },
   {
    "duration": 748,
    "start_time": "2024-10-18T17:02:06.701Z"
   },
   {
    "duration": 7,
    "start_time": "2024-10-18T17:02:27.747Z"
   },
   {
    "duration": 85,
    "start_time": "2024-10-18T17:02:35.694Z"
   },
   {
    "duration": 462,
    "start_time": "2024-10-18T17:02:50.828Z"
   },
   {
    "duration": 407,
    "start_time": "2024-10-18T17:02:51.292Z"
   },
   {
    "duration": 4,
    "start_time": "2024-10-18T17:02:51.701Z"
   },
   {
    "duration": 9,
    "start_time": "2024-10-18T17:02:51.708Z"
   },
   {
    "duration": 9,
    "start_time": "2024-10-18T17:02:51.718Z"
   },
   {
    "duration": 6,
    "start_time": "2024-10-18T17:02:51.728Z"
   },
   {
    "duration": 5,
    "start_time": "2024-10-18T17:02:51.736Z"
   },
   {
    "duration": 141,
    "start_time": "2024-10-18T17:02:51.743Z"
   },
   {
    "duration": 27,
    "start_time": "2024-10-18T17:02:51.886Z"
   },
   {
    "duration": 67,
    "start_time": "2024-10-18T17:02:51.916Z"
   },
   {
    "duration": 134,
    "start_time": "2024-10-18T17:02:51.985Z"
   },
   {
    "duration": 9,
    "start_time": "2024-10-18T17:02:52.121Z"
   },
   {
    "duration": 77,
    "start_time": "2024-10-18T17:02:52.131Z"
   },
   {
    "duration": 131,
    "start_time": "2024-10-18T17:02:52.210Z"
   },
   {
    "duration": 6,
    "start_time": "2024-10-18T17:02:52.343Z"
   },
   {
    "duration": 169,
    "start_time": "2024-10-18T17:02:52.351Z"
   },
   {
    "duration": 155,
    "start_time": "2024-10-18T17:02:52.522Z"
   },
   {
    "duration": 131,
    "start_time": "2024-10-18T17:02:52.679Z"
   },
   {
    "duration": 6,
    "start_time": "2024-10-18T17:02:52.812Z"
   },
   {
    "duration": 6,
    "start_time": "2024-10-18T17:02:52.820Z"
   },
   {
    "duration": 109,
    "start_time": "2024-10-18T17:02:52.827Z"
   },
   {
    "duration": 21,
    "start_time": "2024-10-18T17:02:52.938Z"
   },
   {
    "duration": 129,
    "start_time": "2024-10-18T17:02:52.961Z"
   },
   {
    "duration": 180,
    "start_time": "2024-10-18T17:02:53.092Z"
   },
   {
    "duration": 144,
    "start_time": "2024-10-18T17:02:53.274Z"
   },
   {
    "duration": 159,
    "start_time": "2024-10-18T17:02:53.420Z"
   },
   {
    "duration": 6,
    "start_time": "2024-10-18T17:02:53.580Z"
   },
   {
    "duration": 85,
    "start_time": "2024-10-18T17:02:53.591Z"
   },
   {
    "duration": 6,
    "start_time": "2024-10-18T17:02:53.677Z"
   },
   {
    "duration": 66,
    "start_time": "2024-10-18T17:02:53.685Z"
   },
   {
    "duration": 5,
    "start_time": "2024-10-18T17:02:53.753Z"
   },
   {
    "duration": 5,
    "start_time": "2024-10-18T17:02:53.759Z"
   },
   {
    "duration": 120,
    "start_time": "2024-10-18T17:02:53.766Z"
   },
   {
    "duration": 4,
    "start_time": "2024-10-18T17:02:53.888Z"
   },
   {
    "duration": 32,
    "start_time": "2024-10-18T17:02:53.894Z"
   },
   {
    "duration": 3,
    "start_time": "2024-10-18T17:02:53.928Z"
   },
   {
    "duration": 40,
    "start_time": "2024-10-18T17:02:53.932Z"
   },
   {
    "duration": 7,
    "start_time": "2024-10-18T17:02:53.973Z"
   },
   {
    "duration": 41,
    "start_time": "2024-10-18T17:02:53.982Z"
   },
   {
    "duration": 117,
    "start_time": "2024-10-18T17:02:54.025Z"
   },
   {
    "duration": 7,
    "start_time": "2024-10-18T17:02:54.145Z"
   },
   {
    "duration": 156,
    "start_time": "2024-10-18T17:02:54.154Z"
   },
   {
    "duration": 7,
    "start_time": "2024-10-18T17:02:54.312Z"
   },
   {
    "duration": 95,
    "start_time": "2024-10-18T17:02:54.321Z"
   },
   {
    "duration": 8,
    "start_time": "2024-10-18T17:02:54.417Z"
   },
   {
    "duration": 105,
    "start_time": "2024-10-18T17:02:54.426Z"
   },
   {
    "duration": 87,
    "start_time": "2024-10-18T17:02:54.533Z"
   },
   {
    "duration": 8,
    "start_time": "2024-10-18T17:02:54.622Z"
   },
   {
    "duration": 21,
    "start_time": "2024-10-18T17:02:54.631Z"
   },
   {
    "duration": 83,
    "start_time": "2024-10-18T17:02:54.654Z"
   },
   {
    "duration": 3,
    "start_time": "2024-10-18T17:02:54.739Z"
   },
   {
    "duration": 8,
    "start_time": "2024-10-18T17:02:54.744Z"
   },
   {
    "duration": 3,
    "start_time": "2024-10-18T17:02:54.753Z"
   },
   {
    "duration": 6,
    "start_time": "2024-10-18T17:02:54.758Z"
   },
   {
    "duration": 132,
    "start_time": "2024-10-18T17:02:54.766Z"
   },
   {
    "duration": 16,
    "start_time": "2024-10-18T17:02:54.899Z"
   },
   {
    "duration": 143,
    "start_time": "2024-10-18T17:02:54.917Z"
   },
   {
    "duration": 10,
    "start_time": "2024-10-18T17:02:55.061Z"
   },
   {
    "duration": 47,
    "start_time": "2024-10-18T17:02:55.073Z"
   },
   {
    "duration": 12,
    "start_time": "2024-10-18T17:02:55.122Z"
   },
   {
    "duration": 9,
    "start_time": "2024-10-18T17:02:55.135Z"
   },
   {
    "duration": 276,
    "start_time": "2024-10-18T17:02:55.146Z"
   },
   {
    "duration": 8,
    "start_time": "2024-10-18T17:02:55.423Z"
   },
   {
    "duration": 14,
    "start_time": "2024-10-18T17:02:55.433Z"
   },
   {
    "duration": 19,
    "start_time": "2024-10-18T17:02:55.449Z"
   },
   {
    "duration": 9,
    "start_time": "2024-10-18T17:02:55.470Z"
   },
   {
    "duration": 5,
    "start_time": "2024-10-18T17:02:55.481Z"
   },
   {
    "duration": 218,
    "start_time": "2024-10-18T17:02:55.487Z"
   },
   {
    "duration": 97,
    "start_time": "2024-10-18T17:03:08.886Z"
   },
   {
    "duration": 98,
    "start_time": "2024-10-18T17:03:29.631Z"
   },
   {
    "duration": 6,
    "start_time": "2024-10-18T17:05:50.311Z"
   },
   {
    "duration": 98,
    "start_time": "2024-10-18T17:08:30.208Z"
   },
   {
    "duration": 10,
    "start_time": "2024-10-18T17:33:37.699Z"
   },
   {
    "duration": 2141,
    "start_time": "2024-10-18T18:20:03.434Z"
   },
   {
    "duration": 409,
    "start_time": "2024-10-18T18:20:05.577Z"
   },
   {
    "duration": 5,
    "start_time": "2024-10-18T18:20:05.987Z"
   },
   {
    "duration": 9,
    "start_time": "2024-10-18T18:20:05.995Z"
   },
   {
    "duration": 6,
    "start_time": "2024-10-18T18:20:06.006Z"
   },
   {
    "duration": 6,
    "start_time": "2024-10-18T18:20:06.014Z"
   },
   {
    "duration": 6,
    "start_time": "2024-10-18T18:20:06.021Z"
   },
   {
    "duration": 121,
    "start_time": "2024-10-18T18:20:06.029Z"
   },
   {
    "duration": 18,
    "start_time": "2024-10-18T18:20:06.151Z"
   },
   {
    "duration": 78,
    "start_time": "2024-10-18T18:20:06.173Z"
   },
   {
    "duration": 125,
    "start_time": "2024-10-18T18:20:06.253Z"
   },
   {
    "duration": 8,
    "start_time": "2024-10-18T18:20:06.380Z"
   },
   {
    "duration": 77,
    "start_time": "2024-10-18T18:20:06.390Z"
   },
   {
    "duration": 123,
    "start_time": "2024-10-18T18:20:06.469Z"
   },
   {
    "duration": 6,
    "start_time": "2024-10-18T18:20:06.594Z"
   },
   {
    "duration": 169,
    "start_time": "2024-10-18T18:20:06.601Z"
   },
   {
    "duration": 155,
    "start_time": "2024-10-18T18:20:06.771Z"
   },
   {
    "duration": 131,
    "start_time": "2024-10-18T18:20:06.927Z"
   },
   {
    "duration": 7,
    "start_time": "2024-10-18T18:20:07.060Z"
   },
   {
    "duration": 6,
    "start_time": "2024-10-18T18:20:07.068Z"
   },
   {
    "duration": 105,
    "start_time": "2024-10-18T18:20:07.075Z"
   },
   {
    "duration": 20,
    "start_time": "2024-10-18T18:20:07.181Z"
   },
   {
    "duration": 132,
    "start_time": "2024-10-18T18:20:07.202Z"
   },
   {
    "duration": 166,
    "start_time": "2024-10-18T18:20:07.336Z"
   },
   {
    "duration": 154,
    "start_time": "2024-10-18T18:20:07.504Z"
   },
   {
    "duration": 197,
    "start_time": "2024-10-18T18:20:07.660Z"
   },
   {
    "duration": 6,
    "start_time": "2024-10-18T18:20:07.858Z"
   },
   {
    "duration": 82,
    "start_time": "2024-10-18T18:20:07.868Z"
   },
   {
    "duration": 6,
    "start_time": "2024-10-18T18:20:07.952Z"
   },
   {
    "duration": 65,
    "start_time": "2024-10-18T18:20:07.959Z"
   },
   {
    "duration": 5,
    "start_time": "2024-10-18T18:20:08.026Z"
   },
   {
    "duration": 6,
    "start_time": "2024-10-18T18:20:08.033Z"
   },
   {
    "duration": 116,
    "start_time": "2024-10-18T18:20:08.040Z"
   },
   {
    "duration": 5,
    "start_time": "2024-10-18T18:20:08.157Z"
   },
   {
    "duration": 20,
    "start_time": "2024-10-18T18:20:08.163Z"
   },
   {
    "duration": 4,
    "start_time": "2024-10-18T18:20:08.184Z"
   },
   {
    "duration": 63,
    "start_time": "2024-10-18T18:20:08.189Z"
   },
   {
    "duration": 6,
    "start_time": "2024-10-18T18:20:08.254Z"
   },
   {
    "duration": 19,
    "start_time": "2024-10-18T18:20:08.262Z"
   },
   {
    "duration": 120,
    "start_time": "2024-10-18T18:20:08.283Z"
   },
   {
    "duration": 7,
    "start_time": "2024-10-18T18:20:08.405Z"
   },
   {
    "duration": 97,
    "start_time": "2024-10-18T18:20:08.414Z"
   },
   {
    "duration": 9,
    "start_time": "2024-10-18T18:20:08.524Z"
   },
   {
    "duration": 95,
    "start_time": "2024-10-18T18:20:08.535Z"
   },
   {
    "duration": 7,
    "start_time": "2024-10-18T18:20:08.632Z"
   },
   {
    "duration": 95,
    "start_time": "2024-10-18T18:20:08.640Z"
   },
   {
    "duration": 75,
    "start_time": "2024-10-18T18:20:08.736Z"
   },
   {
    "duration": 18,
    "start_time": "2024-10-18T18:20:08.812Z"
   },
   {
    "duration": 20,
    "start_time": "2024-10-18T18:20:08.831Z"
   },
   {
    "duration": 79,
    "start_time": "2024-10-18T18:20:08.852Z"
   },
   {
    "duration": 4,
    "start_time": "2024-10-18T18:20:08.933Z"
   },
   {
    "duration": 7,
    "start_time": "2024-10-18T18:20:08.939Z"
   },
   {
    "duration": 3,
    "start_time": "2024-10-18T18:20:08.947Z"
   },
   {
    "duration": 6,
    "start_time": "2024-10-18T18:20:08.951Z"
   },
   {
    "duration": 130,
    "start_time": "2024-10-18T18:20:08.958Z"
   },
   {
    "duration": 7,
    "start_time": "2024-10-18T18:20:09.090Z"
   },
   {
    "duration": 138,
    "start_time": "2024-10-18T18:20:09.100Z"
   },
   {
    "duration": 9,
    "start_time": "2024-10-18T18:20:09.240Z"
   },
   {
    "duration": 34,
    "start_time": "2024-10-18T18:20:09.250Z"
   },
   {
    "duration": 12,
    "start_time": "2024-10-18T18:20:09.286Z"
   },
   {
    "duration": 31,
    "start_time": "2024-10-18T18:20:09.300Z"
   },
   {
    "duration": 246,
    "start_time": "2024-10-18T18:20:09.332Z"
   },
   {
    "duration": 10,
    "start_time": "2024-10-18T18:20:09.580Z"
   },
   {
    "duration": 16,
    "start_time": "2024-10-18T18:20:09.592Z"
   },
   {
    "duration": 20,
    "start_time": "2024-10-18T18:20:09.610Z"
   },
   {
    "duration": 9,
    "start_time": "2024-10-18T18:20:09.632Z"
   },
   {
    "duration": 7,
    "start_time": "2024-10-18T18:20:09.643Z"
   },
   {
    "duration": 114,
    "start_time": "2024-10-18T18:20:09.652Z"
   },
   {
    "duration": 6,
    "start_time": "2024-10-18T18:20:09.767Z"
   },
   {
    "duration": 4,
    "start_time": "2024-10-18T18:21:46.424Z"
   },
   {
    "duration": 100,
    "start_time": "2024-10-18T18:22:06.956Z"
   },
   {
    "duration": 248,
    "start_time": "2024-10-18T18:22:32.702Z"
   },
   {
    "duration": 95,
    "start_time": "2024-10-18T18:22:38.679Z"
   },
   {
    "duration": 2173,
    "start_time": "2024-10-18T18:25:24.240Z"
   },
   {
    "duration": 531,
    "start_time": "2024-10-18T18:25:26.415Z"
   },
   {
    "duration": 6,
    "start_time": "2024-10-18T18:25:26.947Z"
   },
   {
    "duration": 10,
    "start_time": "2024-10-18T18:25:26.954Z"
   },
   {
    "duration": 7,
    "start_time": "2024-10-18T18:25:26.966Z"
   },
   {
    "duration": 6,
    "start_time": "2024-10-18T18:25:26.976Z"
   },
   {
    "duration": 6,
    "start_time": "2024-10-18T18:25:26.983Z"
   },
   {
    "duration": 135,
    "start_time": "2024-10-18T18:25:26.991Z"
   },
   {
    "duration": 18,
    "start_time": "2024-10-18T18:25:27.127Z"
   },
   {
    "duration": 86,
    "start_time": "2024-10-18T18:25:27.146Z"
   },
   {
    "duration": 128,
    "start_time": "2024-10-18T18:25:27.233Z"
   },
   {
    "duration": 12,
    "start_time": "2024-10-18T18:25:27.363Z"
   },
   {
    "duration": 67,
    "start_time": "2024-10-18T18:25:27.376Z"
   },
   {
    "duration": 177,
    "start_time": "2024-10-18T18:25:27.447Z"
   },
   {
    "duration": 8,
    "start_time": "2024-10-18T18:25:27.626Z"
   },
   {
    "duration": 252,
    "start_time": "2024-10-18T18:25:27.636Z"
   },
   {
    "duration": 165,
    "start_time": "2024-10-18T18:25:27.891Z"
   },
   {
    "duration": 174,
    "start_time": "2024-10-18T18:25:28.062Z"
   },
   {
    "duration": 10,
    "start_time": "2024-10-18T18:25:28.238Z"
   },
   {
    "duration": 23,
    "start_time": "2024-10-18T18:25:28.250Z"
   },
   {
    "duration": 139,
    "start_time": "2024-10-18T18:25:28.275Z"
   },
   {
    "duration": 22,
    "start_time": "2024-10-18T18:25:28.416Z"
   },
   {
    "duration": 165,
    "start_time": "2024-10-18T18:25:28.440Z"
   },
   {
    "duration": 205,
    "start_time": "2024-10-18T18:25:28.607Z"
   },
   {
    "duration": 151,
    "start_time": "2024-10-18T18:25:28.815Z"
   },
   {
    "duration": 159,
    "start_time": "2024-10-18T18:25:28.971Z"
   },
   {
    "duration": 7,
    "start_time": "2024-10-18T18:25:29.132Z"
   },
   {
    "duration": 88,
    "start_time": "2024-10-18T18:25:29.141Z"
   },
   {
    "duration": 7,
    "start_time": "2024-10-18T18:25:29.231Z"
   },
   {
    "duration": 66,
    "start_time": "2024-10-18T18:25:29.240Z"
   },
   {
    "duration": 4,
    "start_time": "2024-10-18T18:25:29.308Z"
   },
   {
    "duration": 4,
    "start_time": "2024-10-18T18:25:29.314Z"
   },
   {
    "duration": 123,
    "start_time": "2024-10-18T18:25:29.320Z"
   },
   {
    "duration": 4,
    "start_time": "2024-10-18T18:25:29.445Z"
   },
   {
    "duration": 27,
    "start_time": "2024-10-18T18:25:29.451Z"
   },
   {
    "duration": 4,
    "start_time": "2024-10-18T18:25:29.480Z"
   },
   {
    "duration": 39,
    "start_time": "2024-10-18T18:25:29.486Z"
   },
   {
    "duration": 7,
    "start_time": "2024-10-18T18:25:29.529Z"
   },
   {
    "duration": 44,
    "start_time": "2024-10-18T18:25:29.538Z"
   },
   {
    "duration": 114,
    "start_time": "2024-10-18T18:25:29.584Z"
   },
   {
    "duration": 8,
    "start_time": "2024-10-18T18:25:29.703Z"
   },
   {
    "duration": 104,
    "start_time": "2024-10-18T18:25:29.712Z"
   },
   {
    "duration": 8,
    "start_time": "2024-10-18T18:25:29.818Z"
   },
   {
    "duration": 103,
    "start_time": "2024-10-18T18:25:29.827Z"
   },
   {
    "duration": 8,
    "start_time": "2024-10-18T18:25:29.932Z"
   },
   {
    "duration": 96,
    "start_time": "2024-10-18T18:25:29.941Z"
   },
   {
    "duration": 88,
    "start_time": "2024-10-18T18:25:30.040Z"
   },
   {
    "duration": 7,
    "start_time": "2024-10-18T18:25:30.131Z"
   },
   {
    "duration": 33,
    "start_time": "2024-10-18T18:25:30.140Z"
   },
   {
    "duration": 123,
    "start_time": "2024-10-18T18:25:30.175Z"
   },
   {
    "duration": 4,
    "start_time": "2024-10-18T18:25:30.300Z"
   },
   {
    "duration": 8,
    "start_time": "2024-10-18T18:25:30.307Z"
   },
   {
    "duration": 3,
    "start_time": "2024-10-18T18:25:30.317Z"
   },
   {
    "duration": 6,
    "start_time": "2024-10-18T18:25:30.321Z"
   },
   {
    "duration": 137,
    "start_time": "2024-10-18T18:25:30.328Z"
   },
   {
    "duration": 8,
    "start_time": "2024-10-18T18:25:30.471Z"
   },
   {
    "duration": 175,
    "start_time": "2024-10-18T18:25:30.481Z"
   },
   {
    "duration": 18,
    "start_time": "2024-10-18T18:25:30.657Z"
   },
   {
    "duration": 37,
    "start_time": "2024-10-18T18:25:30.677Z"
   },
   {
    "duration": 12,
    "start_time": "2024-10-18T18:25:30.716Z"
   },
   {
    "duration": 10,
    "start_time": "2024-10-18T18:25:30.729Z"
   },
   {
    "duration": 290,
    "start_time": "2024-10-18T18:25:30.741Z"
   },
   {
    "duration": 8,
    "start_time": "2024-10-18T18:25:31.033Z"
   },
   {
    "duration": 15,
    "start_time": "2024-10-18T18:25:31.043Z"
   },
   {
    "duration": 20,
    "start_time": "2024-10-18T18:25:31.061Z"
   },
   {
    "duration": 10,
    "start_time": "2024-10-18T18:25:31.083Z"
   },
   {
    "duration": 7,
    "start_time": "2024-10-18T18:25:31.095Z"
   },
   {
    "duration": 4,
    "start_time": "2024-10-18T18:25:31.104Z"
   },
   {
    "duration": 128,
    "start_time": "2024-10-18T18:25:31.110Z"
   },
   {
    "duration": 5,
    "start_time": "2024-10-18T18:25:31.240Z"
   }
  ],
  "kernelspec": {
   "display_name": "Python 3 (ipykernel)",
   "language": "python",
   "name": "python3"
  },
  "language_info": {
   "codemirror_mode": {
    "name": "ipython",
    "version": 3
   },
   "file_extension": ".py",
   "mimetype": "text/x-python",
   "name": "python",
   "nbconvert_exporter": "python",
   "pygments_lexer": "ipython3",
   "version": "3.9.19"
  },
  "toc": {
   "base_numbering": 1,
   "nav_menu": {},
   "number_sections": true,
   "sideBar": true,
   "skip_h1_title": true,
   "title_cell": "Table of Contents",
   "title_sidebar": "Contents",
   "toc_cell": false,
   "toc_position": {},
   "toc_section_display": true,
   "toc_window_display": false
  }
 },
 "nbformat": 4,
 "nbformat_minor": 2
}
